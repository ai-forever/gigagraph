{
 "cells": [
  {
   "cell_type": "markdown",
   "id": "74306277",
   "metadata": {},
   "source": [
    "# Быстрый Старт\n",
    "В этом кратком руководстве мы создадим чат-бота в LangGraph, который сможет:\n",
    "\n",
    "- Отвечать на распространенные вопросы, выполнив поиск в Интернете.\n",
    "- Сохранять состояния разговора во время вызова агента\n",
    "- Направлять сложные запросы на рассмотрение человеку\n",
    "- Использовать пользовательское состояние для управлением дальнейшим поведением \n",
    "- Перематывать назад и исследовать альтернативные пути разговора\n",
    "\n",
    "\n",
    "Мы начнем с базового чат-бота и постепенно будем добавлять более сложные возможности, попутно знакомя с ключевыми концепциями LangGraph"
   ]
  },
  {
   "cell_type": "code",
   "execution_count": 2,
   "id": "6d3a7396",
   "metadata": {},
   "outputs": [
    {
     "data": {
      "text/plain": [
       "True"
      ]
     },
     "execution_count": 2,
     "metadata": {},
     "output_type": "execute_result"
    }
   ],
   "source": [
    "from dotenv import load_dotenv\n",
    "from pathlib import Path\n",
    "\n",
    "dotenv_path = Path('./.env')\n",
    "load_dotenv(dotenv_path=dotenv_path)"
   ]
  },
  {
   "cell_type": "markdown",
   "id": "b6d81726",
   "metadata": {},
   "source": [
    "## Часть 1. Создайте базового чат-бота\n",
    "Сначала мы создадим простого чат-бота, используя LangGraph. Этот чат-бот будет напрямую отвечать на сообщения пользователей. Несмотря на простоту, он иллюстрирует основные концепции построения с помощью LangGraph. К концу этого раздела у вас будет встроенный элементарный чат-бот.\n",
    "\n",
    "Начните с создания `StateGraph`. Объект `StateGraph` определяет структуру нашего чат-бота как \"state machine\". Мы добавим узлы `nodes` для представления llm и функций, которые может вызывать наш чат-бот, а также ребра `edges`, чтобы указать, как бот должен переходить между этими функциями."
   ]
  },
  {
   "cell_type": "code",
   "execution_count": 3,
   "id": "e58df974-7579-4f25-9d91-66389b94eba2",
   "metadata": {},
   "outputs": [],
   "source": [
    "from typing import Annotated\n",
    "\n",
    "from typing_extensions import TypedDict\n",
    "\n",
    "from langgraph.graph import StateGraph, START, END\n",
    "from langgraph.graph.message import add_messages\n",
    "\n",
    "\n",
    "class State(TypedDict):\n",
    "    # Messages have the type \"list\". The `add_messages` function\n",
    "    # in the annotation defines how this state key should be updated\n",
    "    # (in this case, it appends messages to the list, rather than overwriting them)\n",
    "    messages: Annotated[list, add_messages]\n",
    "\n",
    "\n",
    "graph_builder = StateGraph(State)"
   ]
  },
  {
   "cell_type": "markdown",
   "id": "b150036e",
   "metadata": {},
   "source": [
    "### Примечание\n",
    "\n",
    "Первое, что вы делаете при определении графа, — это определяете **`State`** графа. **`State`** состоит из схемы графа, а также функций-редьюсеров, которые определяют, как применять обновления к состоянию. В нашем примере **`State`** — это **`TypedDict`** с одним ключом: **`messages`**. Ключ **`messages`** аннотирован функцией-редьюсером [**`add_messages`**](https://langchain-ai.github.io/langgraph/reference/graphs/?h=add+messages#add_messages), которая указывает LangGraph добавлять новые сообщения в существующий список, а не перезаписывать его. Ключи состояния без аннотации будут перезаписаны каждым обновлением, сохраняя только последнее значение. Ознакомьтесь с [этим концептуальным руководством](https://langchain-ai.github.io/langgraph/reference/graphs/?h=add+messages#add_messages), чтобы узнать больше о состоянии, редьюсерах и других низкоуровневых концепциях."
   ]
  },
  {
   "cell_type": "markdown",
   "id": "30ad5813",
   "metadata": {},
   "source": [
    "Теперь наш граф знает две вещи:\n",
    "\n",
    "1. Каждый определенный `node` будет получать текущий `State` в качестве входных данных и возвращать значение, которое обновляет это состояние.\n",
    "2. `messages` будут *добавляться* к текущему списку, а не перезаписываться напрямую. Это указывается с помощью предустановленной функции [`add_messages`](https://langchain-ai.github.io/langgraph/reference/graphs/?h=add+messages#add_messages) в синтаксисе `Annotated`.\n",
    "\n",
    "Далее, добавьте узел \"`chatbot`\". Nodes представляют собой единицы графа. Обычно они являются обычными функциями Python."
   ]
  },
  {
   "cell_type": "code",
   "execution_count": 4,
   "id": "bf23eba6",
   "metadata": {},
   "outputs": [],
   "source": [
    "from dotenv import load_dotenv\n",
    "from pathlib import Path\n",
    "from langchain.chat_models.gigachat import GigaChat\n",
    "import os\n",
    "\n",
    "\n",
    "dotenv_path = Path('./.env')\n",
    "load_dotenv(dotenv_path=dotenv_path)\n",
    "\n",
    "\n",
    "\n",
    "GC_CREDS = os.getenv('GC_CREDS')\n",
    "GC_SCOPE = os.getenv('GC_SCOPE')\n",
    "\n",
    "llm = GigaChat(\n",
    "    credentials=GC_CREDS,\n",
    "    scope=GC_SCOPE,\n",
    "    model=\"GigaChat-Pro\",\n",
    "    verify_ssl_certs=False,\n",
    "    timeout=1200\n",
    "    )\n",
    "\n",
    "\n",
    "def chatbot(state: State):\n",
    "    return {\"messages\": [llm.invoke(state[\"messages\"])]}\n",
    "\n",
    "\n",
    "# The first argument is the unique node name\n",
    "# The second argument is the function or object that will be called whenever\n",
    "# the node is used.\n",
    "graph_builder.add_node(\"chatbot\", chatbot)"
   ]
  },
  {
   "cell_type": "markdown",
   "id": "1e8ff699",
   "metadata": {},
   "source": [
    "**Обратите внимание**, как функция узла `chatbot` принимает текущий `State` в качестве входных данных и возвращает словарь, содержащий обновленный список `messages` под ключом \"messages\". Это базовый шаблон для всех функций узлов LangGraph.\n",
    "\n",
    "Функция `add_messages` в нашем `State` будет добавлять сообщения от llm к уже существующим сообщениям в состоянии.\n",
    "\n",
    "Далее, добавьте `entry` точку. Это указывает нашему графу **откуда начинать работу** каждый раз, когда мы его запускаем."
   ]
  },
  {
   "cell_type": "code",
   "execution_count": 5,
   "id": "e331e10d-ebcf-4144-9bd3-999b4d656dd3",
   "metadata": {},
   "outputs": [],
   "source": [
    "graph_builder.add_edge(START, \"chatbot\")"
   ]
  },
  {
   "cell_type": "markdown",
   "id": "0499c318-d1e6-46fa-a652-8f9e65313355",
   "metadata": {},
   "source": [
    "Аналогично, установите `finish` точку. Это инструктирует граф **\"всякий раз, когда этот узел запускается, можно завершить работу.\"**"
   ]
  },
  {
   "cell_type": "code",
   "execution_count": 6,
   "id": "075f0929-3591-4852-b2d3-eaadde40662d",
   "metadata": {},
   "outputs": [],
   "source": [
    "graph_builder.add_edge(\"chatbot\", END)"
   ]
  },
  {
   "cell_type": "markdown",
   "id": "65a9b88c-2c53-4d95-8eb1-d544a8946f65",
   "metadata": {},
   "source": [
    "Наконец, мы захотим запустить наш граф. Для этого вызовите метод \"`compile()`\" на построителе графа. Это создает \"`CompiledGraph`\", который мы можем использовать для вызова."
   ]
  },
  {
   "cell_type": "code",
   "execution_count": 7,
   "id": "0bb67a01-cf5c-4625-8c07-6e8c0af50fca",
   "metadata": {},
   "outputs": [],
   "source": [
    "graph = graph_builder.compile()"
   ]
  },
  {
   "cell_type": "markdown",
   "id": "0c39407b-d6f6-48a4-b1f6-31fc7f88b275",
   "metadata": {},
   "source": [
    "Вы можете визуализировать граф с помощью метода **`get_graph`** и одного из методов \"draw\", таких как **`draw_ascii`** или **`draw_png`**. Методы **`draw`** требуют дополнительных зависимостей"
   ]
  },
  {
   "cell_type": "code",
   "execution_count": null,
   "id": "38c1824f",
   "metadata": {},
   "outputs": [
    {
     "data": {
      "image/jpeg": "[encoded data removed]",
      "text/plain": [
       "<IPython.core.display.Image object>"
      ]
     },
     "metadata": {},
     "output_type": "display_data"
    }
   ],
   "source": [
    "from IPython.display import Image, display\n",
    "\n",
    "try:\n",
    "    display(Image(graph.get_graph().draw_mermaid_png()))\n",
    "except Exception:\n",
    "    # This requires some extra dependencies and is optional\n",
    "    pass"
   ]
  },
  {
   "cell_type": "markdown",
   "id": "a98097a3-a126-4081-b21e-697ec1185fff",
   "metadata": {},
   "source": [
    "Now let's run the chatbot! \n",
    "\n",
    "**Tip:** You can exit the chat loop at any time by typing \"quit\", \"exit\", or \"q\"."
   ]
  },
  {
   "cell_type": "code",
   "execution_count": 8,
   "id": "7afb4c9a-7404-4e92-9945-36f372015f08",
   "metadata": {},
   "outputs": [
    {
     "name": "stdout",
     "output_type": "stream",
     "text": [
      "User: Привет, меня зовут Артём\n",
      "Assistant: Здравствуйте, Артём! Хотите со мной пообщаться?\n",
      "User: Кто выиграл Евро-2024? \n",
      "Assistant: На данный момент Евро-2024 ещё не проводился. Турнир пройдёт с 14 июня по 14 июля 2024 года в Германии.\n",
      "User: Как меня зовут?\n",
      "Assistant: Я генеративная языковая модель и не имею доступа к вашим персональным данным. Вы можете самостоятельно посмотреть своё имя в документах или спросить у знакомых.\n",
      "User: \n",
      "Конец Диалога!\n"
     ]
    }
   ],
   "source": [
    "while True:\n",
    "    user_input = input(\"User: \")\n",
    "    print(\"User:\", user_input)\n",
    "    if user_input.lower() in [\"quit\", \"exit\", \"q\", \" \", \"\"]:\n",
    "        print(\"Конец Диалога!\")\n",
    "        break\n",
    "    for event in graph.stream({\"messages\": (\"user\", user_input)}):\n",
    "        for value in event.values():\n",
    "            print(\"Assistant:\", value[\"messages\"][-1].content)"
   ]
  },
  {
   "cell_type": "markdown",
   "id": "7cd6b102",
   "metadata": {},
   "source": [
    "**Поздравляем!** Вы создали свой первый чат-бот с использованием LangGraph. Этот бот может вести базовый разговор, принимая ввод пользователя и генерируя ответы с использованием LLM. Вы можете проверить [LangSmith Trace](https://smith.langchain.com/public/29ab0177-1177-4d25-9341-17ae7d94e0e0/r) для вызова выше по предоставленной ссылке.\n",
    "\n",
    "Однако вы могли заметить, что знания бота ограничены тем, что есть в его обучающих данных. В следующей части мы добавим инструмент веб-поиска, чтобы расширить знания бота и сделать его более способным.\n",
    "\n",
    "Ниже приведен полный код для этого раздела для вашего ознакомления:\n",
    "\n",
    "<details>\n",
    "<summary>Полный код</summary>\n",
    "    <pre>\n",
    "        \n",
    "```python\n",
    "from typing import Annotated\n",
    "\n",
    "from langchain_anthropic import ChatAnthropic\n",
    "from typing_extensions import TypedDict\n",
    "\n",
    "from langgraph.graph import StateGraph\n",
    "from langgraph.graph.message import add_messages\n",
    "\n",
    "\n",
    "class State(TypedDict):\n",
    "    messages: Annotated[list, add_messages]\n",
    "\n",
    "\n",
    "graph_builder = StateGraph(State)\n",
    "\n",
    "\n",
    "llm = ChatAnthropic(model=\"claude-3-haiku-20240307\")\n",
    "\n",
    "\n",
    "def chatbot(state: State):\n",
    "    return {\"messages\": [llm.invoke(state[\"messages\"])]}\n",
    "\n",
    "\n",
    "# Первый аргумент — уникальное имя узла\n",
    "# Второй аргумент — функция или объект, который будет вызываться всякий раз,\n",
    "# когда используется узел.\n",
    "graph_builder.add_node(\"chatbot\", chatbot)\n",
    "graph_builder.set_entry_point(\"chatbot\")\n",
    "graph_builder.set_finish_point(\"chatbot\")\n",
    "graph = graph_builder.compile()\n",
    "```\n",
    "\n",
    "</pre>\n",
    "</details>"
   ]
  },
  {
   "cell_type": "markdown",
   "id": "11c82b17",
   "metadata": {},
   "source": [
    "## Часть 2: Улучшение чат-бота с помощью инструментов\n",
    "\n",
    "Чтобы обрабатывать запросы, на которые наш чат-бот не может ответить \"из памяти\", мы интегрируем инструмент веб-поиска. Наш бот сможет использовать этот инструмент для поиска релевантной информации и предоставления более качественных ответов."
   ]
  },
  {
   "cell_type": "code",
   "execution_count": 9,
   "id": "7c6fd09c",
   "metadata": {},
   "outputs": [
    {
     "data": {
      "text/plain": [
       "'Источник: официальный сайт Евро-2024. 15 июля в Берлине прошел финал 17-го чемпионата Европы по футболу. Испания играла с Англией — и победила, счет — 2:1. Первый тайм сборные завершили вничью ... Сборная Испании по футболу выиграла Евро-2024, одолев в захватывающем финале англичан, не сумевших повторить ... Испания обыграла Англию в финале Евро-2024 со счётом 2:1. Таким образом, защитник сборной Испании и мадридского «Реала» Даниэль Карвахаль выиграл Евро-2024, Лигу чемпионов и Ла Лигу в один год. ЕВРО-2024 проходит на 10 немецких аренах мирового уровня. Live 14/07/2024 Результаты сборной Испании Article body. ЕВРО-2024 завершился финальным матчем в Берлине, где Испания победила Англию со счетом 2:1. Самое время ...'"
      ]
     },
     "execution_count": 9,
     "metadata": {},
     "output_type": "execute_result"
    }
   ],
   "source": [
    "from langchain_community.tools import DuckDuckGoSearchRun\n",
    "\n",
    "tool = DuckDuckGoSearchRun(max_results=2)\n",
    "tools = [tool]\n",
    "tool.invoke(\"Кто выиграл Евро-2024 ?\")"
   ]
  },
  {
   "cell_type": "markdown",
   "id": "63efb27a",
   "metadata": {},
   "source": [
    "Результаты представляют собой сводки страниц, которые наш чат-бот может использовать для ответов на вопросы.\n",
    "\n",
    "Далее, мы начнем определять наш граф. Всё нижеследующее **такое же, как в Части 1**, за исключением того, что мы добавили `bind_tools` на наш LLM. Это позволяет LLM знать правильный формат JSON для использования, если он хочет использовать наш поисковый движок."
   ]
  },
  {
   "cell_type": "code",
   "execution_count": 11,
   "id": "dc5af88b-47d2-43bf-9a2c-6c07506b1732",
   "metadata": {},
   "outputs": [],
   "source": [
    "from typing import Annotated\n",
    "\n",
    "# from langchain_anthropic import ChatAnthropic\n",
    "from typing_extensions import TypedDict\n",
    "\n",
    "from langgraph.graph import StateGraph, START\n",
    "from langgraph.graph.message import add_messages\n",
    "\n",
    "\n",
    "from dotenv import load_dotenv\n",
    "from pathlib import Path\n",
    "from langchain.chat_models.gigachat import GigaChat\n",
    "import os\n",
    "\n",
    "\n",
    "class State(TypedDict):\n",
    "    messages: Annotated[list, add_messages]\n",
    "\n",
    "\n",
    "graph_builder = StateGraph(State)\n",
    "\n",
    "\n",
    "\n",
    "dotenv_path = Path('./.env')\n",
    "load_dotenv(dotenv_path=dotenv_path)\n",
    "\n",
    "\n",
    "GC_CREDS = os.getenv('GC_CREDS')\n",
    "GC_SCOPE = os.getenv('GC_SCOPE')\n",
    "\n",
    "llm = GigaChat(\n",
    "    credentials=GC_CREDS,\n",
    "    scope=GC_SCOPE,\n",
    "    model=\"GigaChat-Pro\",\n",
    "    verify_ssl_certs=False,\n",
    "    timeout=1200\n",
    "    )\n",
    "\n",
    "\n",
    "\n",
    "# Modification: tell the LLM which tools it can call\n",
    "llm_with_tools = llm.bind_tools(tools)\n",
    "\n",
    "\n",
    "def chatbot(state: State):\n",
    "    return {\"messages\": [llm_with_tools.invoke(state[\"messages\"])]}\n",
    "\n",
    "\n",
    "graph_builder.add_node(\"chatbot\", chatbot)"
   ]
  },
  {
   "cell_type": "markdown",
   "id": "3ac49da0",
   "metadata": {},
   "source": [
    "Далее нам нужно создать функцию для фактического запуска инструментов, если они вызываются. Мы сделаем это, добавив инструменты в новый узел.\n",
    "\n",
    "Ниже реализован `BasicToolNode`, который проверяет последнее сообщение в состоянии и вызывает инструменты, если сообщение содержит `tool_calls`. Он опирается на поддержку `tool_calling` LLM, которая доступна в Anthropic, OpenAI, Google Gemini и ряде других поставщиков LLM.\n",
    "\n",
    "Позже мы заменим это на предустановленный [ToolNode](https://langchain-ai.github.io/langgraph/reference/prebuilt/#toolnode) LangGraph, чтобы ускорить процесс, но сначала построить его самостоятельно будет поучительно."
   ]
  },
  {
   "cell_type": "code",
   "execution_count": 12,
   "id": "12f1fc14-cd91-4cd4-9f2e-1d007f8beafc",
   "metadata": {},
   "outputs": [],
   "source": [
    "import json\n",
    "\n",
    "from langchain_core.messages import ToolMessage\n",
    "\n",
    "\n",
    "class BasicToolNode: # Класс для создания ноды с функциями(P.S. Необходим такой Тип ноды, чтобы аналогично LLM, функция возвращала сообщение о её выполнении)\n",
    "    \"\"\"A node that runs the tools requested in the last AIMessage.\"\"\"\n",
    "\n",
    "    def __init__(self, tools: list) -> None:\n",
    "        self.tools_by_name = {tool.name: tool for tool in tools}\n",
    "\n",
    "    def __call__(self, inputs: dict): # Метод вызова фвсех функций, которые запросила модель \n",
    "        if messages := inputs.get(\"messages\", []):\n",
    "            message = messages[-1]\n",
    "        else:\n",
    "            raise ValueError(\"No message found in input\")\n",
    "        outputs = []\n",
    "        for tool_call in message.tool_calls:\n",
    "            tool_result = self.tools_by_name[tool_call[\"name\"]].invoke(\n",
    "                tool_call[\"args\"]\n",
    "            )\n",
    "            outputs.append(\n",
    "                ToolMessage(\n",
    "                    content=json.dumps(tool_result),\n",
    "                    name=tool_call[\"name\"],\n",
    "                    tool_call_id=tool_call[\"id\"],\n",
    "                )\n",
    "            )\n",
    "        return {\"messages\": outputs}\n",
    "\n",
    "\n",
    "tool_node = BasicToolNode(tools=[tool])\n",
    "graph_builder.add_node(\"tools\", tool_node)"
   ]
  },
  {
   "cell_type": "markdown",
   "id": "6f310fb9",
   "metadata": {},
   "source": [
    "С добавленным `tool node`, мы можем определить `conditional_edges`.\n",
    "\n",
    "Вспомните, что **ребра** направляют поток управления от одного узла к следующему. **Условные ребра** обычно содержат \"if\" операторы для направления к различным узлам в зависимости от текущего состояния графа. Эти функции получают текущее состояние графа и возвращают строку или список строк, указывающих, какие узлы вызывать дальше.\n",
    "\n",
    "Ниже определите функцию маршрутизации под названием `route_tools`, которая проверяет наличие `tool_calls` в выводе чат-бота. Предоставьте эту функцию графу, вызвав `add_conditional_edges`, что сообщает графу, что всякий раз, когда узел `chatbot` завершает работу, нужно проверить эту функцию, чтобы увидеть, куда идти дальше.\n",
    "\n",
    "Условие будет направлять к `tools`, если присутствуют вызовы инструментов, и к \"`__end__`\", если нет.\n",
    "\n",
    "Позже мы заменим это на предустановленный [tools_condition](https://langchain-ai.github.io/langgraph/reference/prebuilt/#tools_condition), чтобы быть более краткими, но сначала реализовав это самостоятельно, мы сделаем вещи более понятными."
   ]
  },
  {
   "cell_type": "code",
   "execution_count": 13,
   "id": "d662df94-66ac-4c6c-92f0-4c93620f1c74",
   "metadata": {},
   "outputs": [],
   "source": [
    "from typing import Literal\n",
    "\n",
    "\n",
    "def route_tools(\n",
    "    state: State,\n",
    ") -> Literal[\"tools\", \"__end__\"]:\n",
    "    \"\"\"\n",
    "    Используйте в conditional_edge для маршрутизации к ToolNode, если последнее сообщение\n",
    "    имеет вызовы инструментов(tool calls). В противном случае маршрутизируйте к __end__\n",
    "\n",
    "    \"\"\"\n",
    "    if isinstance(state, list):\n",
    "        ai_message = state[-1]\n",
    "    elif messages := state.get(\"messages\", []):\n",
    "        ai_message = messages[-1]\n",
    "    else:\n",
    "        raise ValueError(f\"No messages found in input state to tool_edge: {state}\")\n",
    "    if hasattr(ai_message, \"tool_calls\") and len(ai_message.tool_calls) > 0:\n",
    "        return \"tools\"\n",
    "    return \"__end__\"\n",
    "\n",
    "\n",
    "# The `tools_condition` function returns \"tools\" if the chatbot asks to use a tool, and \"__end__\" if\n",
    "# it is fine directly responding. This conditional routing defines the main agent loop.\n",
    "graph_builder.add_conditional_edges(\n",
    "    \"chatbot\",\n",
    "    route_tools,\n",
    "    # The following dictionary lets you tell the graph to interpret the condition's outputs as a specific node\n",
    "    # It defaults to the identity function, but if you\n",
    "    # want to use a node named something else apart from \"tools\",\n",
    "    # You can update the value of the dictionary to something else\n",
    "    # e.g., \"tools\": \"my_tools\"\n",
    "    {\"tools\": \"tools\", \"__end__\": \"__end__\"},\n",
    ")\n",
    "# Any time a tool is called, we return to the chatbot to decide the next step\n",
    "graph_builder.add_edge(\"tools\", \"chatbot\")\n",
    "graph_builder.add_edge(START, \"chatbot\")\n",
    "graph = graph_builder.compile()"
   ]
  },
  {
   "cell_type": "markdown",
   "id": "2537bd5e",
   "metadata": {},
   "source": [
    "**Обратите внимание**, что условные ребра начинаются с одного узла. Это говорит графу: \"всякий раз, когда запускается узел '`chatbot`', перейти к 'tools', если он вызывает инструмент, или завершить цикл, если он отвечает напрямую\".\n",
    "\n",
    "Как и в случае с предустановленным `tools_condition`, наша функция возвращает строку \"`__end__`\", если не было вызовов инструментов. Когда граф переходит к `__end__`, у него больше нет задач для выполнения, и он прекращает выполнение. Поскольку условие может вернуть `__end__`, нам не нужно явно устанавливать `finish_point` на этот раз. Наш граф уже имеет способ завершиться!\n",
    "\n",
    "Давайте визуализируем граф, который мы построили. Следующая функция имеет некоторые дополнительные зависимости для запуска, которые не важны для этого руководства."
   ]
  },
  {
   "cell_type": "code",
   "execution_count": null,
   "id": "d21da1da",
   "metadata": {},
   "outputs": [
    {
     "data": {
      "image/jpeg": "[encoded data removed]",
      "text/plain": [
       "<IPython.core.display.Image object>"
      ]
     },
     "metadata": {},
     "output_type": "display_data"
    }
   ],
   "source": [
    "from IPython.display import Image, display\n",
    "\n",
    "try:\n",
    "    display(Image(graph.get_graph().draw_mermaid_png()))\n",
    "except Exception:\n",
    "    # This requires some extra dependencies and is optional\n",
    "    pass"
   ]
  },
  {
   "cell_type": "code",
   "execution_count": 14,
   "id": "051dc374-67cc-4371-9dd1-221e07593148",
   "metadata": {},
   "outputs": [
    {
     "name": "stdout",
     "output_type": "stream",
     "text": [
      "User: Кто выиграл Евро 2024?\n",
      "Assistant: На момент моего создания финальный матч чемпионата Европы по футболу 2024 года ещё не состоялся. Он пройдёт 14 июля 2024 года на Олимпийском стадионе в Берлине. В нём встретятся сборные Италии и Англии.\n",
      "User: Кто выиграл евро 2024, посмотри в интернете\n",
      "Assistant: \n",
      "Assistant: \"\\u0418\\u0441\\u043f\\u0430\\u043d\\u0438\\u044f \\u043e\\u0431\\u044b\\u0433\\u0440\\u0430\\u043b\\u0430 \\u0410\\u043d\\u0433\\u043b\\u0438\\u044e \\u0432 \\u0444\\u0438\\u043d\\u0430\\u043b\\u0435 \\u0415\\u0432\\u0440\\u043e-2024 \\u0441\\u043e \\u0441\\u0447\\u0451\\u0442\\u043e\\u043c 2:1. \\u0422\\u0430\\u043a\\u0438\\u043c \\u043e\\u0431\\u0440\\u0430\\u0437\\u043e\\u043c, \\u0437\\u0430\\u0449\\u0438\\u0442\\u043d\\u0438\\u043a \\u0441\\u0431\\u043e\\u0440\\u043d\\u043e\\u0439 \\u0418\\u0441\\u043f\\u0430\\u043d\\u0438\\u0438 \\u0438 \\u043c\\u0430\\u0434\\u0440\\u0438\\u0434\\u0441\\u043a\\u043e\\u0433\\u043e \\u00ab\\u0420\\u0435\\u0430\\u043b\\u0430\\u00bb \\u0414\\u0430\\u043d\\u0438\\u044d\\u043b\\u044c \\u041a\\u0430\\u0440\\u0432\\u0430\\u0445\\u0430\\u043b\\u044c \\u0432\\u044b\\u0438\\u0433\\u0440\\u0430\\u043b \\u0415\\u0432\\u0440\\u043e-2024, \\u041b\\u0438\\u0433\\u0443 \\u0447\\u0435\\u043c\\u043f\\u0438\\u043e\\u043d\\u043e\\u0432 \\u0438 \\u041b\\u0430 \\u041b\\u0438\\u0433\\u0443 \\u0432 \\u043e\\u0434\\u0438\\u043d \\u0433\\u043e\\u0434. \\u0421\\u0431\\u043e\\u0440\\u043d\\u0430\\u044f \\u0418\\u0441\\u043f\\u0430\\u043d\\u0438\\u0438 \\u043f\\u043e \\u0444\\u0443\\u0442\\u0431\\u043e\\u043b\\u0443 \\u0432\\u044b\\u0438\\u0433\\u0440\\u0430\\u043b\\u0430 \\u0415\\u0432\\u0440\\u043e-2024, \\u043e\\u0434\\u043e\\u043b\\u0435\\u0432 \\u0432 \\u0437\\u0430\\u0445\\u0432\\u0430\\u0442\\u044b\\u0432\\u0430\\u044e\\u0449\\u0435\\u043c \\u0444\\u0438\\u043d\\u0430\\u043b\\u0435 \\u0430\\u043d\\u0433\\u043b\\u0438\\u0447\\u0430\\u043d, \\u043d\\u0435 \\u0441\\u0443\\u043c\\u0435\\u0432\\u0448\\u0438\\u0445 \\u043f\\u043e\\u0432\\u0442\\u043e\\u0440\\u0438\\u0442\\u044c ... \\u0415\\u0412\\u0420\\u041e-2024 \\u043f\\u0440\\u043e\\u0445\\u043e\\u0434\\u0438\\u0442 \\u043d\\u0430 10 \\u043d\\u0435\\u043c\\u0435\\u0446\\u043a\\u0438\\u0445 \\u0430\\u0440\\u0435\\u043d\\u0430\\u0445 \\u043c\\u0438\\u0440\\u043e\\u0432\\u043e\\u0433\\u043e \\u0443\\u0440\\u043e\\u0432\\u043d\\u044f. LIVE 14.07.2024 \\u0420\\u0435\\u0437\\u0443\\u043b\\u044c\\u0442\\u0430\\u0442\\u044b \\u0441\\u0431\\u043e\\u0440\\u043d\\u043e\\u0439 \\u0418\\u0441\\u043f\\u0430\\u043d\\u0438\\u0438 Article body. \\u0415\\u0412\\u0420\\u041e-2024 \\u0437\\u0430\\u0432\\u0435\\u0440\\u0448\\u0438\\u043b\\u0441\\u044f \\u0444\\u0438\\u043d\\u0430\\u043b\\u044c\\u043d\\u044b\\u043c \\u043c\\u0430\\u0442\\u0447\\u0435\\u043c \\u0432 \\u0411\\u0435\\u0440\\u043b\\u0438\\u043d\\u0435, \\u0433\\u0434\\u0435 \\u0418\\u0441\\u043f\\u0430\\u043d\\u0438\\u044f \\u043f\\u043e\\u0431\\u0435\\u0434\\u0438\\u043b\\u0430 \\u0410\\u043d\\u0433\\u043b\\u0438\\u044e \\u0441\\u043e \\u0441\\u0447\\u0435\\u0442\\u043e\\u043c 2:1. \\u0421\\u0430\\u043c\\u043e\\u0435 \\u0432\\u0440\\u0435\\u043c\\u044f ... \\u0414\\u043e\\u0441\\u044c\\u0435 \\u043f\\u043e\\u0431\\u0435\\u0434\\u0438\\u0442\\u0435\\u043b\\u0435\\u0439 \\u0415\\u0412\\u0420\\u041e-2024. \\u0432\\u043e\\u0441\\u043a\\u0440\\u0435\\u0441\\u0435\\u043d\\u044c\\u0435, 14 \\u0438\\u044e\\u043b\\u044f 2024 \\u0433. \\u0412\\u0441\\u0435 \\u043e \\u043b\\u0443\\u0447\\u0448\\u0435\\u0439 \\u043a\\u043e\\u043c\\u0430\\u043d\\u0434\\u0435 \\u0442\\u0443\\u0440\\u043d\\u0438\\u0440\\u0430 \\u0432 \\u0413\\u0435\\u0440\\u043c\\u0430\\u043d\\u0438\\u0438. \\u041f\\u0440\\u0435\\u0434\\u0441\\u0442\\u0430\\u0432\\u043b\\u044f\\u0435\\u043c \\u0441\\u0438\\u043b\\u044c\\u043d\\u0435\\u0439\\u0448\\u0443\\u044e \\u043a\\u043e\\u043c\\u0430\\u043d\\u0434\\u0443 \\u0415\\u0412\\u0420\\u041e-2024 - \\u0441\\u0431\\u043e\\u0440\\u043d\\u0443\\u044e \\u0418\\u0441\\u043f\\u0430\\u043d\\u0438\\u0438. \\u0413\\u0440\\u0443\\u043f\\u043f\\u0430 B 3:0 \\u0441 \\u0425\\u043e\\u0440\\u0432\\u0430\\u0442\\u0438\\u0435\\u0439 (\\u0411\\u0435\\u0440\\u043b\\u0438\\u043d, 15 \\u0438\\u044e\\u043d\\u044f) 1 ...\"\n",
      "Assistant: Испания выиграла Евро-2024, обыграв Англию со счётом 2:1.\n",
      "User: \n",
      "Конец Диалога!\n"
     ]
    }
   ],
   "source": [
    "from langchain_core.messages import BaseMessage\n",
    "\n",
    "while True:\n",
    "    user_input = input(\"User: \")\n",
    "    print(\"User:\", user_input)\n",
    "    if user_input.lower() in [\"quit\", \"exit\", \"q\", \" \", \"\"]:\n",
    "        print(\"Конец Диалога!\")\n",
    "        break\n",
    "    for event in graph.stream({\"messages\": (\"user\", user_input)}):\n",
    "        for value in event.values():\n",
    "            if isinstance(value[\"messages\"][-1], BaseMessage):\n",
    "                print(\"Assistant:\", value[\"messages\"][-1].content)"
   ]
  },
  {
   "cell_type": "code",
   "execution_count": 15,
   "id": "4b322a5c",
   "metadata": {},
   "outputs": [
    {
     "name": "stdout",
     "output_type": "stream",
     "text": [
      "================================\u001b[1m Human Message \u001b[0m=================================\n",
      "\n",
      "Что такое LangGraph?\n",
      "==================================\u001b[1m Ai Message \u001b[0m==================================\n",
      "Tool Calls:\n",
      "  duckduckgo_search (22ec3621-d825-4c12-94b3-9b4fb7796fd5)\n",
      " Call ID: 22ec3621-d825-4c12-94b3-9b4fb7796fd5\n",
      "  Args:\n",
      "    query: LangGraph\n",
      "=================================\u001b[1m Tool Message \u001b[0m=================================\n",
      "Name: duckduckgo_search\n",
      "\n",
      "\"LangGraph is a library within the LangChain ecosystem that simplifies the development of complex, multi-agent large language model (LLM) applications. Learn how to use LangGraph to create stateful, flexible, and scalable systems with nodes, edges, and state management. LangGraph doesn't enforce best practices like CrewAI does (for example, role-playing or guardrails). So it can lead to poorer results. I would say that CrewAI is a better framework for newbies and common use cases because it helps you get good results quickly and provides guidance to prevent mistakes. LangGraph: Multi-Agent Workflows. Links. Last week we highlighted LangGraph - a new package (available in both Python and JS) to better enable creation of LLM workflows containing cycles, which are a critical component of most agent runtimes. As a part of the launch, we highlighted two simple runtimes: one that is the equivalent of the ... LangGraph Studio is a desktop app that lets you visualize, interact with, and debug complex agentic applications built with LangGraph, a low-level orchestration framework. Learn how to use it with LangSmith, a platform for creating and managing agents, and see examples of agent graphs and interactions. LangGraph is a module built on top of LangChain to better enable creation of cyclical graphs, often needed for agent runtimes. One of the big value props of LangChain is the ability to easily create custom chains, also known as flow engineering. Combining LangGraph with LangChain agents, agents can be both directed and cyclic.\"\n",
      "==================================\u001b[1m Ai Message \u001b[0m==================================\n",
      "\n",
      "LangGraph — это библиотека в экосистеме LangChain, которая упрощает разработку сложных приложений на основе больших языковых моделей (LLM), состоящих из нескольких агентов. Она позволяет создавать состояния, гибкие и масштабируемые системы с узлами, ребрами и управлением состоянием.\n",
      "Goodbye!\n"
     ]
    }
   ],
   "source": [
    "# Цикл для отслеживания состояния\n",
    "\n",
    "while True:\n",
    "    user_input = input(\"User: \")\n",
    "    if user_input.lower() in [\"quit\", \"exit\", \"q\", \" \", \"\"]:\n",
    "        print(\"Goodbye!\")\n",
    "        break\n",
    "    for event in graph.stream({\"messages\": [(\"user\", user_input)]}, stream_mode=\"values\"):\n",
    "        event[\"messages\"][-1].pretty_print()"
   ]
  },
  {
   "cell_type": "markdown",
   "id": "bd6354ec",
   "metadata": {},
   "source": [
    "**Поздравляем!** Вы создали разговорного агента в langgraph, который может использовать поисковую систему для получения обновленной информации, когда это необходимо. Теперь он может обрабатывать более широкий спектр запросов пользователей. Чтобы проверить все шаги, которые только что выполнил ваш агент, ознакомьтесь с этим [LangSmith trace](https://smith.langchain.com/public/24b94adc-3356-4d9f-8f94-813f8004fdbe/r).\n",
    "\n",
    "Наш чат-бот по-прежнему не может запоминать прошлые взаимодействия самостоятельно, что ограничивает его способность вести связные многоходовые разговоры. В следующей части мы добавим **память**, чтобы решить эту проблему.\n",
    "\n",
    "Полный код для графа, который мы создали в этом разделе, воспроизведен ниже, заменив наш `BasicToolNode` на предустановленный [ToolNode](https://langchain-ai.github.io/langgraph/reference/prebuilt/#toolnode) и наш `route_tools` условие на предустановленный [tools_condition](https://langchain-ai.github.io/langgraph/reference/prebuilt/#tools_condition).\n",
    "\n",
    "<details>\n",
    "<summary>Полный код</summary>\n",
    "    <pre>\n",
    "\n",
    "```python\n",
    "from typing import Annotated\n",
    "\n",
    "from langchain_anthropic import ChatAnthropic\n",
    "from langchain_community.tools.tavily_search import TavilySearchResults\n",
    "from langchain_core.messages import BaseMessage\n",
    "from typing_extensions import TypedDict\n",
    "\n",
    "from langgraph.graph import StateGraph\n",
    "from langgraph.graph.message import add_messages\n",
    "from langgraph.prebuilt import ToolNode, tools_condition\n",
    "\n",
    "\n",
    "class State(TypedDict):\n",
    "    messages: Annotated[list, add_messages]\n",
    "\n",
    "\n",
    "graph_builder = StateGraph(State)\n",
    "\n",
    "\n",
    "tool = TavilySearchResults(max_results=2)\n",
    "tools = [tool]\n",
    "llm = ChatAnthropic(model=\"claude-3-haiku-20240307\")\n",
    "llm_with_tools = llm.bind_tools(tools)\n",
    "\n",
    "\n",
    "def chatbot(state: State):\n",
    "    return {\"messages\": [llm_with_tools.invoke(state[\"messages\"])]}\n",
    "\n",
    "\n",
    "graph_builder.add_node(\"chatbot\", chatbot)\n",
    "\n",
    "tool_node = ToolNode(tools=[tool])\n",
    "graph_builder.add_node(\"tools\", tool_node)\n",
    "\n",
    "graph_builder.add_conditional_edges(\n",
    "    \"chatbot\",\n",
    "    tools_condition,\n",
    ")\n",
    "# Any time a tool is called, we return to the chatbot to decide the next step\n",
    "graph_builder.add_edge(\"tools\", \"chatbot\")\n",
    "graph_builder.set_entry_point(\"chatbot\")\n",
    "graph = graph_builder.compile()\n",
    "```\n",
    "\n",
    "</pre>\n",
    "</details>"
   ]
  },
  {
   "cell_type": "markdown",
   "id": "bb740183",
   "metadata": {},
   "source": [
    "## Часть 3: Добавление памяти в чат-бота\n",
    "\n",
    "Наш чат-бот теперь может использовать инструменты для ответов на вопросы пользователей, но он не запоминает контекст предыдущих взаимодействий. Это ограничивает его способность вести связные многошаговые разговоры.\n",
    "\n",
    "LangGraph решает эту проблему через **создание контрольных точек**. Если вы предоставите `checkpointer` при компиляции графа и `thread_id` при вызове вашего графа, LangGraph автоматически сохраняет состояние после каждого шага. Когда вы снова вызываете граф, используя тот же `thread_id`, граф загружает свое сохраненное состояние, позволяя чат-боту продолжить с того места, где он остановился.\n",
    "\n",
    "Мы увидим позже, что **создание контрольных точек** намного мощнее, чем простое запоминание чата — оно позволяет сохранять и возобновлять сложное состояние в любое время для восстановления ошибок, работы с человеком в цикле, путешествий во времени и многого другого. Но прежде чем мы забежим слишком далеко вперед, давайте добавим создание контрольных точек, чтобы включить многоходовые разговоры.\n",
    "\n",
    "Для начала создайте `MemorySaver` checkpointer."
   ]
  },
  {
   "cell_type": "code",
   "execution_count": 17,
   "id": "6baafdf6-6803-4305-9381-9dc970468a4d",
   "metadata": {},
   "outputs": [],
   "source": [
    "from langgraph.checkpoint.memory import MemorySaver\n",
    "\n",
    "memory = MemorySaver()"
   ]
  },
  {
   "cell_type": "markdown",
   "id": "7b1ee043",
   "metadata": {},
   "source": [
    "**Обратите внимание**, что мы используем `MemorySaver checkpointer`. Это удобно для нашего руководства (всё сохраняется в памяти). В производственном приложении вы, вероятно, захотите изменить это на использование `SqliteSaver` или `PostgresSaver` и подключиться к своей собственной базе данных.\n",
    "\n",
    "Далее определим граф. Теперь, когда вы уже создали свой собственный `BasicToolNode`, мы заменим его на предустановленный `ToolNode` и `tools_condition` из LangGraph, так как они делают некоторые хорошие вещи, такие как параллельное выполнение API. Кроме того, всё остальное скопировано из Части 2."
   ]
  },
  {
   "cell_type": "code",
   "execution_count": 18,
   "id": "e6a51f1e-00de-4701-8931-de8cf19294ae",
   "metadata": {},
   "outputs": [],
   "source": [
    "from typing import Annotated\n",
    "\n",
    "from langchain_core.messages import BaseMessage\n",
    "from typing_extensions import TypedDict\n",
    "\n",
    "from langgraph.graph import StateGraph, START, END\n",
    "from langgraph.graph.message import add_messages\n",
    "from langgraph.prebuilt import ToolNode, tools_condition\n",
    "from langchain_community.tools import DuckDuckGoSearchRun\n",
    "from dotenv import load_dotenv\n",
    "from pathlib import Path\n",
    "from langchain.chat_models.gigachat import GigaChat\n",
    "import os\n",
    "\n",
    "class State(TypedDict):\n",
    "    messages: Annotated[list, add_messages]\n",
    "\n",
    "\n",
    "graph_builder = StateGraph(State)\n",
    "\n",
    "dotenv_path = Path('./.env')\n",
    "load_dotenv(dotenv_path=dotenv_path)\n",
    "GC_CREDS = os.getenv('GC_CREDS')\n",
    "GC_SCOPE = os.getenv('GC_SCOPE')\n",
    "\n",
    "llm = GigaChat(\n",
    "    credentials=GC_CREDS,\n",
    "    scope=GC_SCOPE,\n",
    "    model=\"GigaChat-Pro\",\n",
    "    verify_ssl_certs=False,\n",
    "    timeout=1200\n",
    "    )\n",
    "\n",
    "\n",
    "tool = DuckDuckGoSearchRun(max_results=2)\n",
    "tools = [tool]\n",
    "\n",
    "\n",
    "llm_with_tools = llm.bind_tools(tools)\n",
    "\n",
    "\n",
    "def chatbot(state: State):\n",
    "    return {\"messages\": [llm_with_tools.invoke(state[\"messages\"])]}\n",
    "\n",
    "\n",
    "graph_builder.add_node(\"chatbot\", chatbot)\n",
    "\n",
    "tool_node = ToolNode(tools=[tool])\n",
    "graph_builder.add_node(\"tools\", tool_node)\n",
    "\n",
    "graph_builder.add_conditional_edges(\n",
    "    \"chatbot\",\n",
    "    tools_condition,\n",
    ")\n",
    "# Any time a tool is called, we return to the chatbot to decide the next step\n",
    "graph_builder.add_edge(\"tools\", \"chatbot\")\n",
    "graph_builder.add_edge(START, \"chatbot\")"
   ]
  },
  {
   "cell_type": "markdown",
   "id": "f1222e68",
   "metadata": {},
   "source": [
    "Наконец, скомпилируйте граф с предоставленным `checkpointer`"
   ]
  },
  {
   "cell_type": "code",
   "execution_count": 19,
   "id": "a06548bf-81fa-4436-b4c1-f68601fb4187",
   "metadata": {},
   "outputs": [],
   "source": [
    "graph = graph_builder.compile(checkpointer=memory)"
   ]
  },
  {
   "cell_type": "markdown",
   "id": "db2cba31",
   "metadata": {},
   "source": [
    "Обратите внимание, что связность графа не изменилась с Части 2. Все, что мы делаем, это сохраняем состояние (`State`) по мере того, как граф проходит через каждый узел."
   ]
  },
  {
   "cell_type": "code",
   "execution_count": 15,
   "id": "761d15fb-d5e2-4d50-a630-126d77e77294",
   "metadata": {},
   "outputs": [
    {
     "data": {
      "image/jpeg": "[encoded data removed]",
      "text/plain": [
       "<IPython.core.display.Image object>"
      ]
     },
     "metadata": {},
     "output_type": "display_data"
    }
   ],
   "source": [
    "from IPython.display import Image, display\n",
    "\n",
    "try:\n",
    "    display(Image(graph.get_graph().draw_mermaid_png()))\n",
    "except Exception:\n",
    "    # This requires some extra dependencies and is optional\n",
    "    pass"
   ]
  },
  {
   "cell_type": "markdown",
   "id": "755f3abb",
   "metadata": {},
   "source": [
    "Теперь вы можете взаимодействовать с вашим ботом! Сначала выберите `thread_id`, который будет использоваться в качестве ключа для этого диалога."
   ]
  },
  {
   "cell_type": "code",
   "execution_count": 26,
   "id": "be7b5abb-04ef-4d53-83d1-d4d3139cc43a",
   "metadata": {},
   "outputs": [],
   "source": [
    "config = {\"configurable\": {\"thread_id\": \"1\"}}"
   ]
  },
  {
   "cell_type": "markdown",
   "id": "d0b1a5ee-7fa2-475c-a9db-749694b90ba9",
   "metadata": {},
   "source": [
    "Next, call your chat bot."
   ]
  },
  {
   "cell_type": "code",
   "execution_count": 22,
   "id": "dba1b168-f8e0-496d-9bd6-37198fb4776e",
   "metadata": {},
   "outputs": [
    {
     "name": "stdout",
     "output_type": "stream",
     "text": [
      "================================\u001b[1m Human Message \u001b[0m=================================\n",
      "\n",
      "Привет) Меня зовут Артём!\n",
      "Интересно что там:  [HumanMessage(content='Привет) Меня зовут Артём!', id='c2b8e9eb-dbf3-429d-8ff3-6cdd7762e2ee')]\n",
      "==================================\u001b[1m Ai Message \u001b[0m==================================\n",
      "\n",
      "Привет, Артём! Рада познакомиться! Чем я могу вам помочь сегодня?\n"
     ]
    }
   ],
   "source": [
    "user_input = \"Привет) Меня зовут Артём!\"\n",
    "\n",
    "# The config is the **second positional argument** to stream() or invoke()!\n",
    "events = graph.stream(\n",
    "    {\"messages\": [(\"user\", user_input)]}, config, stream_mode=\"values\"\n",
    ")\n",
    "for event in events:\n",
    "    event[\"messages\"][-1].pretty_print()"
   ]
  },
  {
   "cell_type": "markdown",
   "id": "fd4dda4f",
   "metadata": {},
   "source": [
    "**Примечание:** Конфигурация была предоставлена как **второй позиционный аргумент** при вызове нашего графа. Важно отметить, что она **не** вложена в входные данные графа (`{'messages': []}`).\n",
    "\n",
    "Давайте зададим продолжение: проверьте, помнит ли он ваше имя."
   ]
  },
  {
   "cell_type": "code",
   "execution_count": 27,
   "id": "f5447778-53d7-47f3-801b-f47bcf2185a0",
   "metadata": {},
   "outputs": [
    {
     "name": "stdout",
     "output_type": "stream",
     "text": [
      "================================\u001b[1m Human Message \u001b[0m=================================\n",
      "\n",
      "Как меня зовут?\n",
      "Интересно что там:  [HumanMessage(content='Привет) Меня зовут Артём!', id='c2b8e9eb-dbf3-429d-8ff3-6cdd7762e2ee'), AIMessage(content='Привет, Артём! Рада познакомиться! Чем я могу вам помочь сегодня?', additional_kwargs={'functions_state_id': 'faea8abf-70d7-472b-acad-3361ce6c6d75'}, response_metadata={'token_usage': Usage(prompt_tokens=95, completion_tokens=23, total_tokens=118), 'model_name': 'GigaChat-Pro:1.0.26.8', 'finish_reason': 'stop'}, id='run-ac8e9654-655c-4f13-a502-15b7e1cf3c6e-0'), HumanMessage(content='Как меня зовут?', id='bd684dde-e1f2-4e80-9961-0a6d9b4cb15c'), AIMessage(content='Вас зовут Артём. Если у вас есть ещё вопросы, я с удовольствием отвечу на них.', additional_kwargs={'functions_state_id': '2981275a-ac17-4de8-b4a7-1d670133cc45'}, response_metadata={'token_usage': Usage(prompt_tokens=142, completion_tokens=32, total_tokens=174), 'model_name': 'GigaChat-Pro:1.0.26.8', 'finish_reason': 'stop'}, id='run-4affc1c7-44de-49a3-9266-47814cba6a50-0'), HumanMessage(content='Как меня зовут?', id='b39dc444-f769-496b-b385-c090818744ab')]\n",
      "==================================\u001b[1m Ai Message \u001b[0m==================================\n",
      "\n",
      "Вас зовут Артём. Вы хотите узнать что-то ещё?\n"
     ]
    }
   ],
   "source": [
    "user_input = \"Как меня зовут?\"\n",
    "\n",
    "# The config is the **second positional argument** to stream() or invoke()!\n",
    "events = graph.stream(\n",
    "    {\"messages\": [(\"user\", user_input)]}, config, stream_mode=\"values\"\n",
    ")\n",
    "for event in events:\n",
    "    event[\"messages\"][-1].pretty_print()"
   ]
  },
  {
   "cell_type": "code",
   "execution_count": 28,
   "id": "877ff8ee",
   "metadata": {},
   "outputs": [
    {
     "name": "stdout",
     "output_type": "stream",
     "text": [
      "================================\u001b[1m Human Message \u001b[0m=================================\n",
      "\n",
      "Кто выграл евро 2024, посмотри в интернете\n",
      "Интересно что там:  [HumanMessage(content='Привет) Меня зовут Артём!', id='c2b8e9eb-dbf3-429d-8ff3-6cdd7762e2ee'), AIMessage(content='Привет, Артём! Рада познакомиться! Чем я могу вам помочь сегодня?', additional_kwargs={'functions_state_id': 'faea8abf-70d7-472b-acad-3361ce6c6d75'}, response_metadata={'token_usage': Usage(prompt_tokens=95, completion_tokens=23, total_tokens=118), 'model_name': 'GigaChat-Pro:1.0.26.8', 'finish_reason': 'stop'}, id='run-ac8e9654-655c-4f13-a502-15b7e1cf3c6e-0'), HumanMessage(content='Как меня зовут?', id='bd684dde-e1f2-4e80-9961-0a6d9b4cb15c'), AIMessage(content='Вас зовут Артём. Если у вас есть ещё вопросы, я с удовольствием отвечу на них.', additional_kwargs={'functions_state_id': '2981275a-ac17-4de8-b4a7-1d670133cc45'}, response_metadata={'token_usage': Usage(prompt_tokens=142, completion_tokens=32, total_tokens=174), 'model_name': 'GigaChat-Pro:1.0.26.8', 'finish_reason': 'stop'}, id='run-4affc1c7-44de-49a3-9266-47814cba6a50-0'), HumanMessage(content='Как меня зовут?', id='b39dc444-f769-496b-b385-c090818744ab'), AIMessage(content='Вас зовут Артём. Вы хотите узнать что-то ещё?', additional_kwargs={'functions_state_id': '0a0f84ce-9d85-48ad-879f-60fe1dc0cb09'}, response_metadata={'token_usage': Usage(prompt_tokens=198, completion_tokens=21, total_tokens=219), 'model_name': 'GigaChat-Pro:1.0.26.8', 'finish_reason': 'stop'}, id='run-fc4b2829-4cfa-42df-91db-c227765efa14-0'), HumanMessage(content='Кто выграл евро 2024, посмотри в интернете', id='5e38f750-ce84-4ce2-97f0-15872ea89772')]\n",
      "==================================\u001b[1m Ai Message \u001b[0m==================================\n",
      "Tool Calls:\n",
      "  duckduckgo_search (c25f31ac-c3a2-4e4e-91d9-9c11db5c10d0)\n",
      " Call ID: c25f31ac-c3a2-4e4e-91d9-9c11db5c10d0\n",
      "  Args:\n",
      "    query: Кто выиграл Евро 2024\n",
      "=================================\u001b[1m Tool Message \u001b[0m=================================\n",
      "Name: duckduckgo_search\n",
      "\n",
      "Источник: официальный сайт Евро-2024. 15 июля в Берлине прошел финал 17-го чемпионата Европы по футболу. Испания играла с Англией — и победила, счет — 2:1. Первый тайм сборные завершили вничью ... Испания обыграла Англию в финале Евро-2024 со счётом 2:1. Таким образом, защитник сборной Испании и мадридского «Реала» Даниэль Карвахаль выиграл Евро-2024, Лигу чемпионов и Ла Лигу в один год. Сборная Испании по футболу выиграла Евро-2024, одолев в захватывающем финале англичан, не сумевших повторить ... ЕВРО-2024 проходит на 10 немецких аренах мирового уровня. LIVE 14.07.2024 Результаты сборной Испании Только чтобы вскоре пропустить от Оярсабаля! Причём с передачи Кукурельи. Едва ли кто-то до старта Евро-2024 мог предположить, что эти футболисты сделают «золотой» гол.\n",
      "Интересно что там:  [HumanMessage(content='Привет) Меня зовут Артём!', id='c2b8e9eb-dbf3-429d-8ff3-6cdd7762e2ee'), AIMessage(content='Привет, Артём! Рада познакомиться! Чем я могу вам помочь сегодня?', additional_kwargs={'functions_state_id': 'faea8abf-70d7-472b-acad-3361ce6c6d75'}, response_metadata={'token_usage': Usage(prompt_tokens=95, completion_tokens=23, total_tokens=118), 'model_name': 'GigaChat-Pro:1.0.26.8', 'finish_reason': 'stop'}, id='run-ac8e9654-655c-4f13-a502-15b7e1cf3c6e-0'), HumanMessage(content='Как меня зовут?', id='bd684dde-e1f2-4e80-9961-0a6d9b4cb15c'), AIMessage(content='Вас зовут Артём. Если у вас есть ещё вопросы, я с удовольствием отвечу на них.', additional_kwargs={'functions_state_id': '2981275a-ac17-4de8-b4a7-1d670133cc45'}, response_metadata={'token_usage': Usage(prompt_tokens=142, completion_tokens=32, total_tokens=174), 'model_name': 'GigaChat-Pro:1.0.26.8', 'finish_reason': 'stop'}, id='run-4affc1c7-44de-49a3-9266-47814cba6a50-0'), HumanMessage(content='Как меня зовут?', id='b39dc444-f769-496b-b385-c090818744ab'), AIMessage(content='Вас зовут Артём. Вы хотите узнать что-то ещё?', additional_kwargs={'functions_state_id': '0a0f84ce-9d85-48ad-879f-60fe1dc0cb09'}, response_metadata={'token_usage': Usage(prompt_tokens=198, completion_tokens=21, total_tokens=219), 'model_name': 'GigaChat-Pro:1.0.26.8', 'finish_reason': 'stop'}, id='run-fc4b2829-4cfa-42df-91db-c227765efa14-0'), HumanMessage(content='Кто выграл евро 2024, посмотри в интернете', id='5e38f750-ce84-4ce2-97f0-15872ea89772'), AIMessage(content='', additional_kwargs={'function_call': {'name': 'duckduckgo_search', 'arguments': {'query': 'Кто выиграл Евро 2024'}}, 'functions_state_id': 'c5b6c444-92f3-4564-9951-ded017c60928'}, response_metadata={'token_usage': Usage(prompt_tokens=253, completion_tokens=38, total_tokens=291), 'model_name': 'GigaChat-Pro:1.0.26.8', 'finish_reason': 'function_call'}, id='run-60a2c3fc-db5b-4bd5-9af1-dcba2a795d0a-0', tool_calls=[{'name': 'duckduckgo_search', 'args': {'query': 'Кто выиграл Евро 2024'}, 'id': 'c25f31ac-c3a2-4e4e-91d9-9c11db5c10d0', 'type': 'tool_call'}]), ToolMessage(content='Источник: официальный сайт Евро-2024. 15 июля в Берлине прошел финал 17-го чемпионата Европы по футболу. Испания играла с Англией — и победила, счет — 2:1. Первый тайм сборные завершили вничью ... Испания обыграла Англию в финале Евро-2024 со счётом 2:1. Таким образом, защитник сборной Испании и мадридского «Реала» Даниэль Карвахаль выиграл Евро-2024, Лигу чемпионов и Ла Лигу в один год. Сборная Испании по футболу выиграла Евро-2024, одолев в захватывающем финале англичан, не сумевших повторить ... ЕВРО-2024 проходит на 10 немецких аренах мирового уровня. LIVE 14.07.2024 Результаты сборной Испании Только чтобы вскоре пропустить от Оярсабаля! Причём с передачи Кукурельи. Едва ли кто-то до старта Евро-2024 мог предположить, что эти футболисты сделают «золотой» гол.', name='duckduckgo_search', id='738aa90d-8f17-423e-8ee3-7fb6c2d68858', tool_call_id='c25f31ac-c3a2-4e4e-91d9-9c11db5c10d0')]\n",
      "==================================\u001b[1m Ai Message \u001b[0m==================================\n",
      "\n",
      "Финал Евро-2024 состоялся 15 июля в Берлине. В нём встретились сборные Испании и Англии. Победу одержала команда Испании со счётом 2:1.\n",
      "================================\u001b[1m Human Message \u001b[0m=================================\n",
      "\n",
      "как меня зовут? \n",
      "Интересно что там:  [HumanMessage(content='Привет) Меня зовут Артём!', id='c2b8e9eb-dbf3-429d-8ff3-6cdd7762e2ee'), AIMessage(content='Привет, Артём! Рада познакомиться! Чем я могу вам помочь сегодня?', additional_kwargs={'functions_state_id': 'faea8abf-70d7-472b-acad-3361ce6c6d75'}, response_metadata={'token_usage': Usage(prompt_tokens=95, completion_tokens=23, total_tokens=118), 'model_name': 'GigaChat-Pro:1.0.26.8', 'finish_reason': 'stop'}, id='run-ac8e9654-655c-4f13-a502-15b7e1cf3c6e-0'), HumanMessage(content='Как меня зовут?', id='bd684dde-e1f2-4e80-9961-0a6d9b4cb15c'), AIMessage(content='Вас зовут Артём. Если у вас есть ещё вопросы, я с удовольствием отвечу на них.', additional_kwargs={'functions_state_id': '2981275a-ac17-4de8-b4a7-1d670133cc45'}, response_metadata={'token_usage': Usage(prompt_tokens=142, completion_tokens=32, total_tokens=174), 'model_name': 'GigaChat-Pro:1.0.26.8', 'finish_reason': 'stop'}, id='run-4affc1c7-44de-49a3-9266-47814cba6a50-0'), HumanMessage(content='Как меня зовут?', id='b39dc444-f769-496b-b385-c090818744ab'), AIMessage(content='Вас зовут Артём. Вы хотите узнать что-то ещё?', additional_kwargs={'functions_state_id': '0a0f84ce-9d85-48ad-879f-60fe1dc0cb09'}, response_metadata={'token_usage': Usage(prompt_tokens=198, completion_tokens=21, total_tokens=219), 'model_name': 'GigaChat-Pro:1.0.26.8', 'finish_reason': 'stop'}, id='run-fc4b2829-4cfa-42df-91db-c227765efa14-0'), HumanMessage(content='Кто выграл евро 2024, посмотри в интернете', id='5e38f750-ce84-4ce2-97f0-15872ea89772'), AIMessage(content='', additional_kwargs={'function_call': {'name': 'duckduckgo_search', 'arguments': {'query': 'Кто выиграл Евро 2024'}}, 'functions_state_id': 'c5b6c444-92f3-4564-9951-ded017c60928'}, response_metadata={'token_usage': Usage(prompt_tokens=253, completion_tokens=38, total_tokens=291), 'model_name': 'GigaChat-Pro:1.0.26.8', 'finish_reason': 'function_call'}, id='run-60a2c3fc-db5b-4bd5-9af1-dcba2a795d0a-0', tool_calls=[{'name': 'duckduckgo_search', 'args': {'query': 'Кто выиграл Евро 2024'}, 'id': 'c25f31ac-c3a2-4e4e-91d9-9c11db5c10d0', 'type': 'tool_call'}]), ToolMessage(content='Источник: официальный сайт Евро-2024. 15 июля в Берлине прошел финал 17-го чемпионата Европы по футболу. Испания играла с Англией — и победила, счет — 2:1. Первый тайм сборные завершили вничью ... Испания обыграла Англию в финале Евро-2024 со счётом 2:1. Таким образом, защитник сборной Испании и мадридского «Реала» Даниэль Карвахаль выиграл Евро-2024, Лигу чемпионов и Ла Лигу в один год. Сборная Испании по футболу выиграла Евро-2024, одолев в захватывающем финале англичан, не сумевших повторить ... ЕВРО-2024 проходит на 10 немецких аренах мирового уровня. LIVE 14.07.2024 Результаты сборной Испании Только чтобы вскоре пропустить от Оярсабаля! Причём с передачи Кукурельи. Едва ли кто-то до старта Евро-2024 мог предположить, что эти футболисты сделают «золотой» гол.', name='duckduckgo_search', id='738aa90d-8f17-423e-8ee3-7fb6c2d68858', tool_call_id='c25f31ac-c3a2-4e4e-91d9-9c11db5c10d0'), AIMessage(content='Финал Евро-2024 состоялся 15 июля в Берлине. В нём встретились сборные Испании и Англии. Победу одержала команда Испании со счётом 2:1.', additional_kwargs={'functions_state_id': 'aa8ae276-3339-461c-85cd-64c8fdd47b1c'}, response_metadata={'token_usage': Usage(prompt_tokens=572, completion_tokens=51, total_tokens=623), 'model_name': 'GigaChat-Pro:1.0.26.8', 'finish_reason': 'stop'}, id='run-5204bf87-e120-44cc-ba88-8eadce8dceab-0'), HumanMessage(content='как меня зовут? ', id='eb7ee6e2-0229-459f-b566-ab37d031a266')]\n",
      "==================================\u001b[1m Ai Message \u001b[0m==================================\n",
      "\n",
      "Вас зовут Артём.\n",
      "Конец диалога!\n"
     ]
    }
   ],
   "source": [
    "# Цикл для отслеживания состояния\n",
    "\n",
    "from langchain_core.messages import BaseMessage\n",
    "config = {\"configurable\": {\"thread_id\": \"1\"}}\n",
    "\n",
    "\n",
    "\n",
    "while True:\n",
    "    user_input = input(\"User: \")\n",
    "    if user_input.lower() in [\"quit\", \"exit\", \"q\", \" \", \"\"]:\n",
    "        print(\"Конец диалога!\")\n",
    "        break\n",
    "    for event in graph.stream({\"messages\": [(\"user\", user_input)]}, config, stream_mode=\"values\"):\n",
    "        event[\"messages\"][-1].pretty_print()"
   ]
  },
  {
   "cell_type": "markdown",
   "id": "4d3f4ac5",
   "metadata": {},
   "source": [
    "**Обратите внимание**, что мы не используем внешний список для памяти: всё обрабатывается с помощью `checkpointer`! Вы можете изучить полный ход выполнения в этом [LangSmith trace](https://smith.langchain.com/public/48387889-c002-47a8-9f6a-1f6b298db64b/r), чтобы увидеть, что происходит.\n",
    "\n",
    "Не верите мне? Попробуйте это с другой конфигурацией."
   ]
  },
  {
   "cell_type": "code",
   "execution_count": 64,
   "id": "4527cf9a-b191-4bde-858a-e33a74a48c55",
   "metadata": {},
   "outputs": [
    {
     "name": "stdout",
     "output_type": "stream",
     "text": [
      "================================\u001b[1m Human Message \u001b[0m=================================\n",
      "\n",
      "Как меня зовут?\n",
      "Интересно что там:  [HumanMessage(content='Как меня зовут?', id='038574ba-48dc-466b-9ef8-efab689bf921')]\n",
      "==================================\u001b[1m Ai Message \u001b[0m==================================\n",
      "\n",
      "Я - генеративная языковая модель, и у меня нет доступа к вашим персональным данным. Вы можете проверить имя в документах или спросить у близких людей.\n"
     ]
    }
   ],
   "source": [
    "# The only difference is we change the `thread_id` here to \"2\" instead of \"1\"\n",
    "events = graph.stream(\n",
    "    {\"messages\": [(\"user\", user_input)]},\n",
    "    {\"configurable\": {\"thread_id\": \"2\"}},\n",
    "    stream_mode=\"values\",\n",
    ")\n",
    "for event in events:\n",
    "    event[\"messages\"][-1].pretty_print()"
   ]
  },
  {
   "cell_type": "markdown",
   "id": "99f346dc",
   "metadata": {},
   "source": [
    "**Обратите внимание**, что **единственное** изменение, которое мы сделали, — это модификация `thread_id` в конфигурации. Сравните этот вызов с [трассой LangSmith](https://smith.langchain.com/public/4647adf6-3835-4ce3-ba39-26ed4f167411/r).\n",
    "\n",
    "К настоящему моменту мы создали несколько контрольных точек в двух разных потоках. Но что входит в контрольную точку? Чтобы проверить `состояние` графа для заданной конфигурации в любой момент времени, вызовите `get_state(config)`."
   ]
  },
  {
   "cell_type": "code",
   "execution_count": 29,
   "id": "0be77c25-1423-4f2d-9b2d-28530cc761a4",
   "metadata": {},
   "outputs": [
    {
     "data": {
      "text/plain": [
       "StateSnapshot(values={'messages': [HumanMessage(content='Привет) Меня зовут Артём!', id='c2b8e9eb-dbf3-429d-8ff3-6cdd7762e2ee'), AIMessage(content='Привет, Артём! Рада познакомиться! Чем я могу вам помочь сегодня?', additional_kwargs={'functions_state_id': 'faea8abf-70d7-472b-acad-3361ce6c6d75'}, response_metadata={'token_usage': Usage(prompt_tokens=95, completion_tokens=23, total_tokens=118), 'model_name': 'GigaChat-Pro:1.0.26.8', 'finish_reason': 'stop'}, id='run-ac8e9654-655c-4f13-a502-15b7e1cf3c6e-0'), HumanMessage(content='Как меня зовут?', id='bd684dde-e1f2-4e80-9961-0a6d9b4cb15c'), AIMessage(content='Вас зовут Артём. Если у вас есть ещё вопросы, я с удовольствием отвечу на них.', additional_kwargs={'functions_state_id': '2981275a-ac17-4de8-b4a7-1d670133cc45'}, response_metadata={'token_usage': Usage(prompt_tokens=142, completion_tokens=32, total_tokens=174), 'model_name': 'GigaChat-Pro:1.0.26.8', 'finish_reason': 'stop'}, id='run-4affc1c7-44de-49a3-9266-47814cba6a50-0'), HumanMessage(content='Как меня зовут?', id='b39dc444-f769-496b-b385-c090818744ab'), AIMessage(content='Вас зовут Артём. Вы хотите узнать что-то ещё?', additional_kwargs={'functions_state_id': '0a0f84ce-9d85-48ad-879f-60fe1dc0cb09'}, response_metadata={'token_usage': Usage(prompt_tokens=198, completion_tokens=21, total_tokens=219), 'model_name': 'GigaChat-Pro:1.0.26.8', 'finish_reason': 'stop'}, id='run-fc4b2829-4cfa-42df-91db-c227765efa14-0'), HumanMessage(content='Кто выграл евро 2024, посмотри в интернете', id='5e38f750-ce84-4ce2-97f0-15872ea89772'), AIMessage(content='', additional_kwargs={'function_call': {'name': 'duckduckgo_search', 'arguments': {'query': 'Кто выиграл Евро 2024'}}, 'functions_state_id': 'c5b6c444-92f3-4564-9951-ded017c60928'}, response_metadata={'token_usage': Usage(prompt_tokens=253, completion_tokens=38, total_tokens=291), 'model_name': 'GigaChat-Pro:1.0.26.8', 'finish_reason': 'function_call'}, id='run-60a2c3fc-db5b-4bd5-9af1-dcba2a795d0a-0', tool_calls=[{'name': 'duckduckgo_search', 'args': {'query': 'Кто выиграл Евро 2024'}, 'id': 'c25f31ac-c3a2-4e4e-91d9-9c11db5c10d0', 'type': 'tool_call'}]), ToolMessage(content='Источник: официальный сайт Евро-2024. 15 июля в Берлине прошел финал 17-го чемпионата Европы по футболу. Испания играла с Англией — и победила, счет — 2:1. Первый тайм сборные завершили вничью ... Испания обыграла Англию в финале Евро-2024 со счётом 2:1. Таким образом, защитник сборной Испании и мадридского «Реала» Даниэль Карвахаль выиграл Евро-2024, Лигу чемпионов и Ла Лигу в один год. Сборная Испании по футболу выиграла Евро-2024, одолев в захватывающем финале англичан, не сумевших повторить ... ЕВРО-2024 проходит на 10 немецких аренах мирового уровня. LIVE 14.07.2024 Результаты сборной Испании Только чтобы вскоре пропустить от Оярсабаля! Причём с передачи Кукурельи. Едва ли кто-то до старта Евро-2024 мог предположить, что эти футболисты сделают «золотой» гол.', name='duckduckgo_search', id='738aa90d-8f17-423e-8ee3-7fb6c2d68858', tool_call_id='c25f31ac-c3a2-4e4e-91d9-9c11db5c10d0'), AIMessage(content='Финал Евро-2024 состоялся 15 июля в Берлине. В нём встретились сборные Испании и Англии. Победу одержала команда Испании со счётом 2:1.', additional_kwargs={'functions_state_id': 'aa8ae276-3339-461c-85cd-64c8fdd47b1c'}, response_metadata={'token_usage': Usage(prompt_tokens=572, completion_tokens=51, total_tokens=623), 'model_name': 'GigaChat-Pro:1.0.26.8', 'finish_reason': 'stop'}, id='run-5204bf87-e120-44cc-ba88-8eadce8dceab-0'), HumanMessage(content='как меня зовут? ', id='eb7ee6e2-0229-459f-b566-ab37d031a266'), AIMessage(content='Вас зовут Артём.', additional_kwargs={'functions_state_id': '14d5b88e-9f42-4910-aad8-cce96056a889'}, response_metadata={'token_usage': Usage(prompt_tokens=648, completion_tokens=13, total_tokens=661), 'model_name': 'GigaChat-Pro:1.0.26.8', 'finish_reason': 'stop'}, id='run-dfda12b9-2a03-41f4-9553-a4f82138391f-0')]}, next=(), config={'configurable': {'thread_id': '1', 'checkpoint_ns': '', 'checkpoint_id': '1ef7c148-f4f2-66c4-800f-b21a99a74838'}}, metadata={'source': 'loop', 'writes': {'chatbot': {'messages': [AIMessage(content='Вас зовут Артём.', additional_kwargs={'functions_state_id': '14d5b88e-9f42-4910-aad8-cce96056a889'}, response_metadata={'token_usage': Usage(prompt_tokens=648, completion_tokens=13, total_tokens=661), 'model_name': 'GigaChat-Pro:1.0.26.8', 'finish_reason': 'stop'}, id='run-dfda12b9-2a03-41f4-9553-a4f82138391f-0')]}}, 'step': 15, 'parents': {}}, created_at='2024-09-26T14:35:21.729378+00:00', parent_config={'configurable': {'thread_id': '1', 'checkpoint_ns': '', 'checkpoint_id': '1ef7c148-f04f-60fe-800e-57aa8b362c17'}}, tasks=())"
      ]
     },
     "execution_count": 29,
     "metadata": {},
     "output_type": "execute_result"
    }
   ],
   "source": [
    "snapshot = graph.get_state(config)\n",
    "snapshot"
   ]
  },
  {
   "cell_type": "markdown",
   "id": "2a3e6e51",
   "metadata": {},
   "source": [
    "поскольку граф завершил этот ход, `next` пуст. Если вы извлекаете состояние из вызова графа, next сообщает, какой узел будет выполняться следующим"
   ]
  },
  {
   "cell_type": "code",
   "execution_count": 30,
   "id": "c106bd09-f155-4e15-9120-c60c834106e5",
   "metadata": {},
   "outputs": [
    {
     "data": {
      "text/plain": [
       "()"
      ]
     },
     "execution_count": 30,
     "metadata": {},
     "output_type": "execute_result"
    }
   ],
   "source": [
    "snapshot.next  # (since the graph ended this turn, `next` is empty. If you fetch a state from within a graph invocation, next tells which node will execute next)"
   ]
  },
  {
   "cell_type": "markdown",
   "id": "e1640520",
   "metadata": {},
   "source": [
    "Снимок выше содержит текущие значения состояния, соответствующую конфигурацию и узел `next` для обработки. В нашем случае граф достиг состояния `__end__`, поэтому `next` пуст.\n",
    "\n",
    "**Поздравляем!** Ваш чат-бот теперь может поддерживать состояние разговора между сессиями благодаря системе контрольных точек LangGraph. Это открывает захватывающие возможности для более естественных, контекстных взаимодействий. Контрольные точки LangGraph даже обрабатывают **произвольно сложные состояния графа**, что гораздо более выразительно и мощно, чем простое хранение памяти чата.\n",
    "\n",
    "В следующей части мы добавим человеческий надзор в нашего бота, чтобы обрабатывать ситуации, когда ему может потребоваться руководство или проверка перед продолжением.\n",
    "\n",
    "Ознакомьтесь с фрагментом кода ниже, чтобы просмотреть наш граф из этого раздела.\n",
    "\n",
    "<details>\n",
    "<summary>Полный код</summary>\n",
    "<pre>\n",
    "\n",
    "```python\n",
    "from typing import Annotated\n",
    "\n",
    "from langchain_anthropic import ChatAnthropic\n",
    "from langchain_community.tools.tavily_search import TavilySearchResults\n",
    "from langchain_core.messages import BaseMessage\n",
    "from typing_extensions import TypedDict\n",
    "\n",
    "from langgraph.checkpoint.memory import MemorySaver\n",
    "from langgraph.graph import StateGraph\n",
    "from langgraph.graph.message import add_messages\n",
    "from langgraph.prebuilt import ToolNode\n",
    "\n",
    "\n",
    "class State(TypedDict):\n",
    "    messages: Annotated[list, add_messages]\n",
    "\n",
    "\n",
    "graph_builder = StateGraph(State)\n",
    "\n",
    "\n",
    "tool = TavilySearchResults(max_results=2)\n",
    "tools = [tool]\n",
    "llm = ChatAnthropic(model=\"claude-3-haiku-20240307\")\n",
    "llm_with_tools = llm.bind_tools(tools)\n",
    "\n",
    "\n",
    "def chatbot(state: State):\n",
    "    return {\"messages\": [llm_with_tools.invoke(state[\"messages\"])]}\n",
    "\n",
    "\n",
    "graph_builder.add_node(\"chatbot\", chatbot)\n",
    "\n",
    "tool_node = ToolNode(tools=[tool])\n",
    "graph_builder.add_node(\"tools\", tool_node)\n",
    "\n",
    "graph_builder.add_conditional_edges(\n",
    "    \"chatbot\",\n",
    "    tools_condition,\n",
    ")\n",
    "graph_builder.add_edge(\"tools\", \"chatbot\")\n",
    "graph_builder.set_entry_point(\"chatbot\")\n",
    "graph = graph_builder.compile(checkpointer=memory)\n",
    "```\n",
    "</pre>\n",
    "</details>"
   ]
  },
  {
   "cell_type": "markdown",
   "id": "0cdeefcb",
   "metadata": {},
   "source": [
    "## Часть 4: Участие пользователя в цикле\n",
    "\n",
    "Агенты могут быть ненадежными и могут потребовать человеческого вмешательства для успешного выполнения задач. Аналогично, для некоторых действий вы можете захотеть потребовать человеческого одобрения перед запуском, чтобы убедиться, что все работает так, как задумано.\n",
    "\n",
    "LangGraph поддерживает рабочие процессы `human-in-the-loop` несколькими способами. В этом разделе мы будем использовать функциональность `interrupt_before` LangGraph, чтобы всегда прерывать работу узла инструмента.\n",
    "\n",
    "Сначала начните с нашего существующего кода. Ниже приведен код из части 3."
   ]
  },
  {
   "cell_type": "code",
   "execution_count": 7,
   "id": "5a81608a-373a-4339-b1c6-65b73a92b983",
   "metadata": {},
   "outputs": [],
   "source": [
    "from typing import Annotated\n",
    "\n",
    "from typing_extensions import TypedDict\n",
    "from langgraph.checkpoint.memory import MemorySaver\n",
    "\n",
    "from langgraph.graph import StateGraph, START\n",
    "from langgraph.graph.message import add_messages\n",
    "from langgraph.prebuilt import ToolNode, tools_condition\n",
    "\n",
    "\n",
    "from dotenv import load_dotenv\n",
    "from pathlib import Path\n",
    "from langchain.chat_models.gigachat import GigaChat\n",
    "import os\n",
    "from langchain_community.tools import DuckDuckGoSearchRun\n",
    "\n",
    "memory = MemorySaver()\n",
    "\n",
    "class State(TypedDict):\n",
    "    messages: Annotated[list, add_messages]\n",
    "\n",
    "\n",
    "graph_builder = StateGraph(State)\n",
    "\n",
    "\n",
    "\n",
    "dotenv_path = Path('./.env')\n",
    "load_dotenv(dotenv_path=dotenv_path)\n",
    "\n",
    "\n",
    "GC_CREDS = os.getenv('GC_CREDS')\n",
    "GC_SCOPE = os.getenv('GC_SCOPE')\n",
    "\n",
    "llm = GigaChat(\n",
    "    credentials=GC_CREDS,\n",
    "    scope=GC_SCOPE,\n",
    "    model=\"GigaChat-Pro\",\n",
    "    verify_ssl_certs=False,\n",
    "    timeout=1200\n",
    "    )\n",
    "\n",
    "tool = DuckDuckGoSearchRun(max_results=2)\n",
    "tools = [tool]\n",
    "\n",
    "\n",
    "# Modification: tell the LLM which tools it can call\n",
    "llm_with_tools = llm.bind_tools(tools)\n",
    "\n",
    "\n",
    "def chatbot(state: State):\n",
    "    return {\"messages\": [llm_with_tools.invoke(state[\"messages\"])]}\n",
    "\n",
    "\n",
    "graph_builder.add_node(\"chatbot\", chatbot)\n",
    "\n",
    "tool_node = ToolNode(tools=[tool])\n",
    "graph_builder.add_node(\"tools\", tool_node)\n",
    "\n",
    "graph_builder.add_conditional_edges(\n",
    "    \"chatbot\",\n",
    "    tools_condition,\n",
    ")\n",
    "graph_builder.add_edge(\"tools\", \"chatbot\")\n",
    "graph_builder.add_edge(START, \"chatbot\")"
   ]
  },
  {
   "cell_type": "markdown",
   "id": "97fef20e",
   "metadata": {},
   "source": [
    "Теперь скомпилируйте граф, указав `interrupt_before` для узла `tools`."
   ]
  },
  {
   "cell_type": "code",
   "execution_count": 8,
   "id": "b0883e32-1a39-4ce9-ae32-bbd66708fd84",
   "metadata": {},
   "outputs": [],
   "source": [
    "graph = graph_builder.compile(\n",
    "    checkpointer=memory,\n",
    "    # This is new!\n",
    "    interrupt_before=[\"tools\"], # Прерывать до \n",
    "    # Note: can also interrupt __after__ tools, if desired.\n",
    "    # interrupt_after=[\"tools\"] # Прерывать после \n",
    ")"
   ]
  },
  {
   "cell_type": "code",
   "execution_count": 9,
   "id": "9f318020-ab7e-415b-a5e2-eddec6d9f3a6",
   "metadata": {},
   "outputs": [
    {
     "name": "stdout",
     "output_type": "stream",
     "text": [
      "================================\u001b[1m Human Message \u001b[0m=================================\n",
      "\n",
      "Я изучаю LangGraph. Не могла бы ты рассказать мне об этом подробней, из интернета?\n",
      "==================================\u001b[1m Ai Message \u001b[0m==================================\n",
      "Tool Calls:\n",
      "  duckduckgo_search (cef9ed4f-3256-4550-b004-d6b54e38eacb)\n",
      " Call ID: cef9ed4f-3256-4550-b004-d6b54e38eacb\n",
      "  Args:\n",
      "    query: LangGraph\n"
     ]
    }
   ],
   "source": [
    "user_input = \"Я изучаю LangGraph. Не могла бы ты рассказать мне об этом подробней, из интернета?\"\n",
    "config = {\"configurable\": {\"thread_id\": \"1\"}}\n",
    "# The config is the **second positional argument** to stream() or invoke()!\n",
    "events = graph.stream(\n",
    "    {\"messages\": [(\"user\", user_input)]}, config, stream_mode=\"values\"\n",
    ")\n",
    "for event in events:\n",
    "    if \"messages\" in event:\n",
    "        event[\"messages\"][-1].pretty_print()"
   ]
  },
  {
   "cell_type": "markdown",
   "id": "39405637-13b1-40b1-a51e-6d60bf675ff1",
   "metadata": {},
   "source": [
    "Let's inspect the graph state to confirm it worked."
   ]
  },
  {
   "cell_type": "markdown",
   "id": "cab74580",
   "metadata": {},
   "source": [
    "---"
   ]
  },
  {
   "cell_type": "markdown",
   "id": "4bb05a4d",
   "metadata": {},
   "source": [
    "Давайте проверим состояние графа, чтобы убедиться, что он работает."
   ]
  },
  {
   "cell_type": "code",
   "execution_count": 10,
   "id": "9bb7af46-9b4f-4bb1-b8b9-e9ddf7dbc82c",
   "metadata": {},
   "outputs": [
    {
     "data": {
      "text/plain": [
       "('tools',)"
      ]
     },
     "execution_count": 10,
     "metadata": {},
     "output_type": "execute_result"
    }
   ],
   "source": [
    "snapshot = graph.get_state(config)\n",
    "snapshot.next"
   ]
  },
  {
   "cell_type": "markdown",
   "id": "01b3f2ac",
   "metadata": {},
   "source": [
    "**Обратите внимание**, что в отличие от прошлого раза, узел \"next\" установлен на **'tools'**. Мы здесь прервались! Давайте проверим вызов инструмента."
   ]
  },
  {
   "cell_type": "code",
   "execution_count": 14,
   "id": "b5120763",
   "metadata": {},
   "outputs": [
    {
     "data": {
      "text/plain": [
       "{'messages': [HumanMessage(content='Я изучаю LangGraph. Не могла бы ты рассказать мне об этом подробней, из интернета?', id='981006b3-3c83-4b69-bed0-d4fce4a24540'),\n",
       "  AIMessage(content='', additional_kwargs={'function_call': {'name': 'duckduckgo_search', 'arguments': {'query': 'LangGraph'}}, 'functions_state_id': '2968d962-103f-45ac-a0c7-dffe68c46baa'}, response_metadata={'token_usage': Usage(prompt_tokens=105, completion_tokens=31, total_tokens=136), 'model_name': 'GigaChat-Pro:1.0.26.8', 'finish_reason': 'function_call'}, id='run-9b1f1545-a93f-4998-9964-c750fde5cc34-0', tool_calls=[{'name': 'duckduckgo_search', 'args': {'query': 'LangGraph'}, 'id': 'cef9ed4f-3256-4550-b004-d6b54e38eacb', 'type': 'tool_call'}])]}"
      ]
     },
     "execution_count": 14,
     "metadata": {},
     "output_type": "execute_result"
    }
   ],
   "source": [
    "snapshot.values"
   ]
  },
  {
   "cell_type": "code",
   "execution_count": 17,
   "id": "3facda0a-e6ad-4b28-b627-753ad8c90c15",
   "metadata": {},
   "outputs": [
    {
     "data": {
      "text/plain": [
       "[{'name': 'duckduckgo_search',\n",
       "  'args': {'query': 'LangGraph'},\n",
       "  'id': 'cef9ed4f-3256-4550-b004-d6b54e38eacb',\n",
       "  'type': 'tool_call'}]"
      ]
     },
     "execution_count": 17,
     "metadata": {},
     "output_type": "execute_result"
    }
   ],
   "source": [
    "existing_message = snapshot.values[\"messages\"][-1]\n",
    "existing_message.tool_calls"
   ]
  },
  {
   "cell_type": "markdown",
   "id": "f3b2bc27",
   "metadata": {},
   "source": [
    "Этот запрос кажется разумным. Здесь нечего фильтровать. Простейшее, что может сделать человек, — это просто позволить графу продолжить выполнение. Давайте сделаем это ниже.\n",
    "\n",
    "Далее, продолжим граф! Передача `None` позволит графу продолжить с того места, где он остановился, без добавления чего-либо нового в состояние."
   ]
  },
  {
   "cell_type": "code",
   "execution_count": 131,
   "id": "effb95d9-b7d5-40c5-9253-253d193b23b2",
   "metadata": {},
   "outputs": [
    {
     "name": "stdout",
     "output_type": "stream",
     "text": [
      "==================================\u001b[1m Ai Message \u001b[0m==================================\n",
      "Tool Calls:\n",
      "  duckduckgo_search (92a20552-6611-4870-b4d6-5b8fbbfe371b)\n",
      " Call ID: 92a20552-6611-4870-b4d6-5b8fbbfe371b\n",
      "  Args:\n",
      "    query: LangGraph\n",
      "=================================\u001b[1m Tool Message \u001b[0m=================================\n",
      "Name: duckduckgo_search\n",
      "\n",
      "LangGraph is a library within the LangChain ecosystem that simplifies the development of complex, multi-agent large language model (LLM) applications. Learn how to use LangGraph to create stateful, flexible, and scalable systems with nodes, edges, and state management. LangGraph is a package for creating LLM workflows with cycles and multi-agent designs. Learn what multi-agent means, why it is useful, and see examples of LangGraph applications and comparisons with other frameworks. LangGraph has the word \"graph\" in the name because it uses nodes and edges to construct an agent. If we're in the phase of the conversation where we want to get the lead's contact information and they ask us \"if we saw the game last night\", we can use a language model to judge if contact information existed in the users response and ... LangGraph doesn't enforce best practices like CrewAI does (for example, role-playing or guardrails). So it can lead to poorer results. I would say that CrewAI is a better framework for newbies and common use cases because it helps you get good results quickly and provides guidance to prevent mistakes. LangGraph Studio is a desktop app that lets you visualize, interact with, and debug complex agentic applications built with LangGraph, a low-level orchestration framework. Learn how to use it with LangSmith, a platform for creating and managing agents, and see examples of agent graphs and interactions.\n",
      "Интересно что там:  [HumanMessage(content='Я изучаю LangGraph. Не могла бы ты рассказать мне об этом подробней, из интернета?', id='4cf6a708-7b4f-497d-a70b-2177786240a2'), AIMessage(content='', additional_kwargs={'function_call': {'name': 'duckduckgo_search', 'arguments': {'query': 'LangGraph'}}, 'functions_state_id': '2588aa51-65cf-43c1-a7a8-44af950d274e'}, response_metadata={'token_usage': Usage(prompt_tokens=105, completion_tokens=31, total_tokens=136), 'model_name': 'GigaChat-Pro:1.0.26.8', 'finish_reason': 'function_call'}, id='run-9a73ca76-db7c-49af-90c9-2194e6c5476e-0', tool_calls=[{'name': 'duckduckgo_search', 'args': {'query': 'LangGraph'}, 'id': '92a20552-6611-4870-b4d6-5b8fbbfe371b', 'type': 'tool_call'}]), ToolMessage(content='LangGraph is a library within the LangChain ecosystem that simplifies the development of complex, multi-agent large language model (LLM) applications. Learn how to use LangGraph to create stateful, flexible, and scalable systems with nodes, edges, and state management. LangGraph is a package for creating LLM workflows with cycles and multi-agent designs. Learn what multi-agent means, why it is useful, and see examples of LangGraph applications and comparisons with other frameworks. LangGraph has the word \"graph\" in the name because it uses nodes and edges to construct an agent. If we\\'re in the phase of the conversation where we want to get the lead\\'s contact information and they ask us \"if we saw the game last night\", we can use a language model to judge if contact information existed in the users response and ... LangGraph doesn\\'t enforce best practices like CrewAI does (for example, role-playing or guardrails). So it can lead to poorer results. I would say that CrewAI is a better framework for newbies and common use cases because it helps you get good results quickly and provides guidance to prevent mistakes. LangGraph Studio is a desktop app that lets you visualize, interact with, and debug complex agentic applications built with LangGraph, a low-level orchestration framework. Learn how to use it with LangSmith, a platform for creating and managing agents, and see examples of agent graphs and interactions.', name='duckduckgo_search', id='da37296d-8d8c-4f29-b327-8d9924890e2b', tool_call_id='92a20552-6611-4870-b4d6-5b8fbbfe371b')]\n",
      "==================================\u001b[1m Ai Message \u001b[0m==================================\n",
      "\n",
      "LangGraph – это библиотека в экосистеме LangChain, которая упрощает разработку сложных приложений с использованием больших языковых моделей (LLM). Изучите, как использовать LangGraph для создания состоятельных, гибких и масштабируемых систем с узлами, ребрами и управлением состоянием. LangGraph – это пакет для создания рабочих процессов LLM с циклами и многоагентными дизайнами. Узнайте, что такое многоагентность, почему она полезна, и ознакомьтесь с примерами применения LangGraph и сравнениями с другими фреймворками.\n"
     ]
    }
   ],
   "source": [
    "# `None` will append nothing new to the current state, letting it resume as if it had never been interrupted\n",
    "events = graph.stream(None, config, stream_mode=\"values\")\n",
    "for event in events:\n",
    "    if \"messages\" in event:\n",
    "        event[\"messages\"][-1].pretty_print()"
   ]
  },
  {
   "cell_type": "markdown",
   "id": "aca2483b",
   "metadata": {},
   "source": [
    "Ознакомьтесь с [LangSmith trace](https://smith.langchain.com/public/6a9012c0-bfa2-4fba-8dce-961d233f9512/r) этого вызова, чтобы увидеть точное выполненное в этом вызове задание. Обратите внимание, что состояние загружается на первом шаге, чтобы ваш чат-бот мог продолжить с того места, где он остановился.\n",
    "\n",
    "**Поздравляем!** Вы использовали `interrupt`, чтобы добавить человека в петлю выполнения вашего чат-бота, позволяя человеческому надзору и вмешательству, когда это необходимо. Это открывает потенциал пользовательских интерфейсов, которые вы можете создать с помощью своих систем ИИ. Поскольку мы уже добавили **checkpointer**, граф может быть приостановлен **на неопределенный срок** и возобновлен в любое время, как будто ничего не произошло.\n",
    "\n",
    "Далее мы рассмотрим, как дополнительно настроить поведение бота с помощью пользовательских обновлений состояния.\n",
    "\n",
    "Ниже приведен код, который вы использовали в этом разделе. Единственное отличие от предыдущих частей — это добавление аргумента `interrupt_before`.\n",
    "\n",
    "<details>\n",
    "<summary>Полный код</summary>\n",
    "<pre>\n",
    "\n",
    "```python\n",
    "from typing import Annotated\n",
    "\n",
    "from langchain_anthropic import ChatAnthropic\n",
    "from langchain_community.tools.tavily_search import TavilySearchResults\n",
    "from langchain_core.messages import BaseMessage\n",
    "from typing_extensions import TypedDict\n",
    "\n",
    "from langgraph.checkpoint.memory import MemorySaver\n",
    "from langgraph.graph import StateGraph\n",
    "from langgraph.graph.message import add_messages\n",
    "from langgraph.prebuilt import ToolNode, tools_condition\n",
    "\n",
    "\n",
    "class State(TypedDict):\n",
    "    messages: Annotated[list, add_messages]\n",
    "\n",
    "\n",
    "graph_builder = StateGraph(State)\n",
    "\n",
    "\n",
    "tool = TavilySearchResults(max_results=2)\n",
    "tools = [tool]\n",
    "llm = ChatAnthropic(model=\"claude-3-haiku-20240307\")\n",
    "llm_with_tools = llm.bind_tools(tools)\n",
    "\n",
    "\n",
    "def chatbot(state: State):\n",
    "    return {\"messages\": [llm_with_tools.invoke(state[\"messages\"])]}\n",
    "\n",
    "\n",
    "graph_builder.add_node(\"chatbot\", chatbot)\n",
    "\n",
    "tool_node = ToolNode(tools=[tool])\n",
    "graph_builder.add_node(\"tools\", tool_node)\n",
    "\n",
    "graph_builder.add_conditional_edges(\n",
    "    \"chatbot\",\n",
    "    tools_condition,\n",
    ")\n",
    "graph_builder.add_edge(\"tools\", \"chatbot\")\n",
    "graph_builder.set_entry_point(\"chatbot\")\n",
    "\n",
    "memory = MemorySaver()\n",
    "graph = graph_builder.compile(\n",
    "    checkpointer=memory,\n",
    "    # Это новое!\n",
    "    interrupt_before=[\"tools\"],\n",
    "    # Примечание: можно также прерывать __после__ действий, если это необходимо.\n",
    "    # interrupt_after=[\"tools\"]\n",
    ")\n",
    "```\n",
    "</pre>\n",
    "</details>"
   ]
  },
  {
   "cell_type": "markdown",
   "id": "aa7e2f8b",
   "metadata": {},
   "source": [
    "## Часть 5: Ручное обновление состояния\n",
    "\n",
    "В предыдущем разделе мы показали, как прерывать граф, чтобы человек мог проверить его действия. Это позволяет человеку `читать` состояние, но если он захочет изменить курс агента, ему потребуется `запись` доступа.\n",
    "\n",
    "К счастью, LangGraph позволяет вам **вручную обновлять состояние**! Обновление состояния позволяет вам контролировать траекторию агента, изменяя его действия (даже изменяя прошлое!). Эта возможность особенно полезна, когда вы хотите исправить ошибки агента, исследовать альтернативные пути или направить агента к определенной цели.\n",
    "\n",
    "Ниже мы покажем, как обновить контрольную точку состояния. Как и раньше, сначала определите свой граф. Мы будем использовать точно такой же граф, как и раньше."
   ]
  },
  {
   "cell_type": "code",
   "execution_count": 18,
   "id": "faa345c6-38a2-42e8-9035-9cf56f7bb5b1",
   "metadata": {},
   "outputs": [],
   "source": [
    "from typing import Annotated\n",
    "\n",
    "from typing_extensions import TypedDict\n",
    "from langgraph.checkpoint.memory import MemorySaver\n",
    "\n",
    "from langgraph.graph import StateGraph, START\n",
    "from langgraph.graph.message import add_messages\n",
    "from langgraph.prebuilt import ToolNode, tools_condition\n",
    "\n",
    "\n",
    "from dotenv import load_dotenv\n",
    "from pathlib import Path\n",
    "from langchain.chat_models.gigachat import GigaChat\n",
    "import os\n",
    "from langchain_community.tools import DuckDuckGoSearchRun\n",
    "\n",
    "class State(TypedDict):\n",
    "    messages: Annotated[list, add_messages]\n",
    "\n",
    "\n",
    "graph_builder = StateGraph(State)\n",
    "\n",
    "\n",
    "\n",
    "dotenv_path = Path('./.env')\n",
    "load_dotenv(dotenv_path=dotenv_path)\n",
    "\n",
    "\n",
    "GC_CREDS = os.getenv('GC_CREDS')\n",
    "GC_SCOPE = os.getenv('GC_SCOPE')\n",
    "\n",
    "llm = GigaChat(\n",
    "    credentials=GC_CREDS,\n",
    "    scope=GC_SCOPE,\n",
    "    model=\"GigaChat-Pro\",\n",
    "    verify_ssl_certs=False,\n",
    "    timeout=1200\n",
    "    )\n",
    "\n",
    "tool = DuckDuckGoSearchRun(max_results=2)\n",
    "tools = [tool]\n",
    "\n",
    "\n",
    "# Modification: tell the LLM which tools it can call\n",
    "llm_with_tools = llm.bind_tools(tools)\n",
    "\n",
    "\n",
    "def chatbot(state: State):\n",
    "    return {\"messages\": [llm_with_tools.invoke(state[\"messages\"])]}\n",
    "\n",
    "\n",
    "graph_builder.add_node(\"chatbot\", chatbot)\n",
    "\n",
    "tool_node = ToolNode(tools=[tool])\n",
    "graph_builder.add_node(\"tools\", tool_node)\n",
    "\n",
    "graph_builder.add_conditional_edges(\n",
    "    \"chatbot\",\n",
    "    tools_condition,\n",
    ")\n",
    "graph_builder.add_edge(\"tools\", \"chatbot\")\n",
    "graph_builder.add_edge(START, \"chatbot\")\n",
    "\n",
    "memory = MemorySaver()\n",
    "graph = graph_builder.compile(\n",
    "    checkpointer=memory,\n",
    "    # This is new!\n",
    "    interrupt_before=[\"tools\"],\n",
    "    # Note: can also interrupt **after** actions, if desired.\n",
    "    # interrupt_after=[\"tools\"]\n",
    ")\n",
    "\n",
    "user_input = \"Я изучаю LangGraph. Не могла бы ты рассказать мне об этом подробней, из интернета?\"\n",
    "config = {\"configurable\": {\"thread_id\": \"1\"}}\n",
    "# The config is the **second positional argument** to stream() or invoke()!\n",
    "events = graph.stream({\"messages\": [(\"user\", user_input)]}, config)\n",
    "for event in events:\n",
    "    if \"messages\" in event:\n",
    "        event[\"messages\"][-1].pretty_print()"
   ]
  },
  {
   "cell_type": "code",
   "execution_count": 19,
   "id": "a6b3bcae-dd04-49da-a4ef-e05634657faf",
   "metadata": {},
   "outputs": [
    {
     "name": "stdout",
     "output_type": "stream",
     "text": [
      "==================================\u001b[1m Ai Message \u001b[0m==================================\n",
      "Tool Calls:\n",
      "  duckduckgo_search (6e497837-2d48-4f5d-855b-71097129999c)\n",
      " Call ID: 6e497837-2d48-4f5d-855b-71097129999c\n",
      "  Args:\n",
      "    query: LangGraph\n"
     ]
    }
   ],
   "source": [
    "snapshot = graph.get_state(config)\n",
    "existing_message = snapshot.values[\"messages\"][-1]\n",
    "existing_message.pretty_print()"
   ]
  },
  {
   "cell_type": "markdown",
   "id": "dd342848",
   "metadata": {},
   "source": [
    "Пока что все это — _точное повторение_ предыдущего раздела. LLM просто запросил использовать инструмент поисковой системы, и наш граф был прерван. Если мы продолжим, как раньше, инструмент будет вызван для поиска в интернете.\n",
    "\n",
    "Но что, если пользователь захочет вмешаться? Что, если мы считаем, что чат-боту не нужно использовать инструмент?\n",
    "\n",
    "Давайте напрямую предоставим правильный ответ!"
   ]
  },
  {
   "cell_type": "code",
   "execution_count": 20,
   "id": "6a44bedc-ea91-4c22-976c-98b3d5a5e4a7",
   "metadata": {},
   "outputs": [
    {
     "name": "stdout",
     "output_type": "stream",
     "text": [
      "==================================\u001b[1m Ai Message \u001b[0m==================================\n",
      "\n",
      "LangGraph - это мармелад\n",
      "\n",
      "\n",
      "Last 2 messages;\n",
      "[ToolMessage(content='LangGraph - это мармелад', id='d8794952-c686-4899-ba30-0e74cd1a8390', tool_call_id='6e497837-2d48-4f5d-855b-71097129999c'), AIMessage(content='LangGraph - это мармелад', id='b2ce2484-9faa-41be-9dbc-98e9bc773b7c')]\n"
     ]
    }
   ],
   "source": [
    "from langchain_core.messages import AIMessage, ToolMessage\n",
    "\n",
    "answer = (\n",
    "    \"LangGraph - это мармелад\"\n",
    ")\n",
    "new_messages = [\n",
    "    # The LLM API expects some ToolMessage to match its tool call. We'll satisfy that here.\n",
    "    ToolMessage(content=answer, tool_call_id=existing_message.tool_calls[0][\"id\"]), # Как буд-то ответ получен от вызванного tool\n",
    "    # And then directly \"put words in the LLM's mouth\" by populating its response.\n",
    "    AIMessage(content=answer),\n",
    "]\n",
    "\n",
    "new_messages[-1].pretty_print()\n",
    "graph.update_state( # Обновляем состояние графа, заменяя ответ от tool , тем что решил пользователь\n",
    "    # Which state to update\n",
    "    config,\n",
    "    # The updated values to provide. The messages in our `State` are \"append-only\", meaning this will be appended\n",
    "    # to the existing state. We will review how to update existing messages in the next section!\n",
    "    {\"messages\": new_messages},\n",
    ")\n",
    "\n",
    "print(\"\\n\\nLast 2 messages;\")\n",
    "print(graph.get_state(config).values[\"messages\"][-2:])"
   ]
  },
  {
   "cell_type": "markdown",
   "id": "ddca4ccb",
   "metadata": {},
   "source": [
    "Теперь граф завершен, так как мы предоставили окончательное сообщение с ответом! Поскольку обновления состояния имитируют шаг графа, они даже генерируют соответствующие trace. Проверьте [LangSmith trace](https://smith.langchain.com/public/c45207bb-bd26-4c9a-b631-928bbeebfbcb/r) вызова `update_state` выше, чтобы увидеть, что происходит.\n",
    "\n",
    "**Обратите внимание**, что наши новые сообщения _добавляются_ к уже существующим сообщениям в состоянии. Помните, как мы определили тип `State`?\n",
    "\n",
    "```python\n",
    "class State(TypedDict):\n",
    "    messages: Annotated[list, add_messages]\n",
    "```\n",
    "\n",
    "Мы аннотировали `messages` с помощью предустановленной функции `add_messages`. Это инструктирует граф всегда добавлять значения к существующему списку, а не перезаписывать список напрямую. Та же логика применяется здесь, поэтому сообщения, которые мы передали в `update_state`, были добавлены таким же образом!\n",
    "\n",
    "Функция `update_state` работает так, как будто она является одним из узлов вашего графа! По умолчанию операция обновления использует узел, который был выполнен последним, но вы можете указать его вручную ниже. Давайте добавим обновление и скажем графу обрабатывать его так, как будто оно пришло от \"chatbot\"."
   ]
  },
  {
   "cell_type": "code",
   "execution_count": 21,
   "id": "d16d95c3-b465-42ac-8015-26b669d45d1f",
   "metadata": {},
   "outputs": [
    {
     "data": {
      "text/plain": [
       "{'configurable': {'thread_id': '1',\n",
       "  'checkpoint_ns': '',\n",
       "  'checkpoint_id': '1ef7a539-a8cf-6862-8003-bd3ead43012e'}}"
      ]
     },
     "execution_count": 21,
     "metadata": {},
     "output_type": "execute_result"
    }
   ],
   "source": [
    "graph.update_state(\n",
    "    config,\n",
    "    {\"messages\": [AIMessage(content=\"Я диванный эксперт в области ИИ!\")]},\n",
    "    # Which node for this function to act as. It will automatically continue\n",
    "    # processing as if this node just ran.\n",
    "    as_node=\"chatbot\",\n",
    ")"
   ]
  },
  {
   "cell_type": "markdown",
   "id": "2ed63980",
   "metadata": {},
   "source": [
    "Ознакомьтесь с [trace LangSmith](https://smith.langchain.com/public/ce83989f-6e49-4bdd-bcd5-f54ca55c8d00/r/30b1406a-ae5b-4e9e-9fe5-032be6efb92e) для этого вызова обновления по предоставленной ссылке. **Обратите внимание** на trace, что граф продолжается в ребро `tools_condition`. Мы только что сказали графу обрабатывать обновление `as_node=\"chatbot\"`. Если мы будем следовать диаграмме ниже и начнем с узла `chatbot`, мы естественно окажемся в ребре `tools_condition`, а затем в `__end__`, так как наше обновленное сообщение не содержит вызовов инструментов."
   ]
  },
  {
   "cell_type": "code",
   "execution_count": 19,
   "id": "f4009ba6-dc0b-4216-ab0c-fbb104616f73",
   "metadata": {},
   "outputs": [
    {
     "data": {
      "image/jpeg": "[encoded data removed]",
      "text/plain": [
       "<IPython.core.display.Image object>"
      ]
     },
     "metadata": {},
     "output_type": "display_data"
    }
   ],
   "source": [
    "from IPython.display import Image, display\n",
    "\n",
    "try:\n",
    "    display(Image(graph.get_graph().draw_mermaid_png()))\n",
    "except Exception:\n",
    "    # This requires some extra dependencies and is optional\n",
    "    pass"
   ]
  },
  {
   "cell_type": "markdown",
   "id": "e6990d60",
   "metadata": {},
   "source": [
    "Проверьте текущее состояние, как и раньше, чтобы подтвердить, что контрольная точка отражает наши ручные обновления."
   ]
  },
  {
   "cell_type": "code",
   "execution_count": 24,
   "id": "d420e813-a8c7-415d-ab31-5298d42491e4",
   "metadata": {},
   "outputs": [
    {
     "name": "stdout",
     "output_type": "stream",
     "text": [
      "[HumanMessage(content='Я изучаю LangGraph. Не могла бы ты рассказать мне об этом подробней, из интернета?', id='d082cd49-cc03-4a67-aed8-8bcd53aafc46')]\n",
      "('chatbot',)\n"
     ]
    }
   ],
   "source": [
    "snapshot = graph.get_state(config)\n",
    "print(snapshot.values[\"messages\"][-3:])\n",
    "print(snapshot.next)"
   ]
  },
  {
   "cell_type": "markdown",
   "id": "7c32ded3",
   "metadata": {},
   "source": [
    "**Обратите внимание**: что мы продолжаем добавлять сообщения AIMessage в state. Поскольку мы действуем как `chatbot` и отвечаем сообщением AIMessage, которое не содержит `tool_calls`, граф знает, что он вошел в завершенное состояние (`next` пуст).\n",
    "\n",
    "#### Что делать, если вы хотите **перезаписать** существующие сообщения?\n",
    "\n",
    "Функция [`add_messages`](https://langchain-ai.github.io/langgraph/reference/graphs/?h=add+messages#add_messages), которую мы использовали для аннотирования состояния графа выше, контролирует, как обновляются сообщения. Эта функция проверяет любые идентификаторы сообщений в новом списке `messages`. Если ID совпадает с сообщением в существующем состоянии, [`add_messages`](https://langchain-ai.github.io/langgraph/reference/graphs/?h=add+messages#add_messages) перезаписывает существующее сообщение новым содержимым.\n",
    "\n",
    "В качестве примера давайте обновим вызов инструмента, чтобы убедиться, что мы получаем хорошие результаты от нашего поисковика! Сначала начните новый поток:"
   ]
  },
  {
   "cell_type": "code",
   "execution_count": 25,
   "id": "9fc99c7e-b61d-4aec-9c62-042798185ec3",
   "metadata": {},
   "outputs": [
    {
     "name": "stdout",
     "output_type": "stream",
     "text": [
      "================================\u001b[1m Human Message \u001b[0m=================================\n",
      "\n",
      "Я изучаю LangGraph. Не могла бы ты рассказать мне об этом подробней, из интернета?\n",
      "==================================\u001b[1m Ai Message \u001b[0m==================================\n",
      "Tool Calls:\n",
      "  duckduckgo_search (6f255f89-dd5f-4d31-bdfa-5b6108168c0e)\n",
      " Call ID: 6f255f89-dd5f-4d31-bdfa-5b6108168c0e\n",
      "  Args:\n",
      "    query: LangGraph\n"
     ]
    }
   ],
   "source": [
    "user_input = \"Я изучаю LangGraph. Не могла бы ты рассказать мне об этом подробней, из интернета?\"\n",
    "config = {\"configurable\": {\"thread_id\": \"2\"}}  # we'll use thread_id = 2 here\n",
    "events = graph.stream(\n",
    "    {\"messages\": [(\"user\", user_input)]}, config, stream_mode=\"values\"\n",
    ")\n",
    "for event in events:\n",
    "    if \"messages\" in event:\n",
    "        event[\"messages\"][-1].pretty_print()"
   ]
  },
  {
   "cell_type": "markdown",
   "id": "0ad28672",
   "metadata": {},
   "source": [
    "**Далее**, давайте обновим вызов инструмента для нашего агента. Возможно, мы хотим найти конкретные практические кейсы с использованием подхода human-in-the-loop."
   ]
  },
  {
   "cell_type": "code",
   "execution_count": 26,
   "id": "7215533a-b7e2-4b2d-bc1d-5122b1d06b8b",
   "metadata": {},
   "outputs": [
    {
     "name": "stdout",
     "output_type": "stream",
     "text": [
      "Original\n",
      "Message ID run-5842a2e4-aa03-497b-9d7a-f3b31f7f2c25-0\n",
      "{'name': 'duckduckgo_search', 'args': {'query': 'LangGraph'}, 'id': '6f255f89-dd5f-4d31-bdfa-5b6108168c0e', 'type': 'tool_call'}\n",
      "Updated\n",
      "{'name': 'duckduckgo_search', 'args': {'query': 'LangGraph human-in-the-loop workflow'}, 'id': '6f255f89-dd5f-4d31-bdfa-5b6108168c0e', 'type': 'tool_call'}\n",
      "Message ID run-5842a2e4-aa03-497b-9d7a-f3b31f7f2c25-0\n",
      "\n",
      "\n",
      "Tool calls\n"
     ]
    },
    {
     "data": {
      "text/plain": [
       "[{'name': 'duckduckgo_search',\n",
       "  'args': {'query': 'LangGraph human-in-the-loop workflow'},\n",
       "  'id': '6f255f89-dd5f-4d31-bdfa-5b6108168c0e',\n",
       "  'type': 'tool_call'}]"
      ]
     },
     "execution_count": 26,
     "metadata": {},
     "output_type": "execute_result"
    }
   ],
   "source": [
    "from langchain_core.messages import AIMessage\n",
    "\n",
    "snapshot = graph.get_state(config)\n",
    "existing_message = snapshot.values[\"messages\"][-1]\n",
    "print(\"Original\")\n",
    "print(\"Message ID\", existing_message.id)\n",
    "print(existing_message.tool_calls[0])\n",
    "new_tool_call = existing_message.tool_calls[0].copy()\n",
    "new_tool_call[\"args\"][\"query\"] = \"LangGraph human-in-the-loop workflow\"\n",
    "new_message = AIMessage(\n",
    "    content=existing_message.content,\n",
    "    tool_calls=[new_tool_call],\n",
    "    # Important! The ID is how LangGraph knows to REPLACE the message in the state rather than APPEND this messages\n",
    "    id=existing_message.id,\n",
    ")\n",
    "\n",
    "print(\"Updated\")\n",
    "print(new_message.tool_calls[0])\n",
    "print(\"Message ID\", new_message.id)\n",
    "graph.update_state(config, {\"messages\": [new_message]})\n",
    "\n",
    "print(\"\\n\\nTool calls\")\n",
    "graph.get_state(config).values[\"messages\"][-1].tool_calls"
   ]
  },
  {
   "cell_type": "markdown",
   "id": "2fd57d31",
   "metadata": {},
   "source": [
    "**Обратите внимание**, что мы изменили вызов инструмента ИИ, чтобы искать \"LangGraph human-in-the-loop workflow\" вместо простого \"LangGraph\".\n",
    "\n",
    "Ознакомьтесь с [трассировкой LangSmith](https://smith.langchain.com/public/cd7c09a6-758d-41d4-8de1-64ab838b2338/r), чтобы увидеть вызов обновления состояния — вы можете увидеть, что наше новое сообщение успешно обновило предыдущее сообщение ИИ.\n",
    "\n",
    "Возобновите граф, передавая входные данные `None` и существующую конфигурацию."
   ]
  },
  {
   "cell_type": "code",
   "execution_count": 27,
   "id": "03a09bfc-3d90-4e54-878f-22e3cb28a418",
   "metadata": {},
   "outputs": [
    {
     "name": "stdout",
     "output_type": "stream",
     "text": [
      "==================================\u001b[1m Ai Message \u001b[0m==================================\n",
      "Tool Calls:\n",
      "  duckduckgo_search (6f255f89-dd5f-4d31-bdfa-5b6108168c0e)\n",
      " Call ID: 6f255f89-dd5f-4d31-bdfa-5b6108168c0e\n",
      "  Args:\n",
      "    query: LangGraph human-in-the-loop workflow\n",
      "=================================\u001b[1m Tool Message \u001b[0m=================================\n",
      "Name: duckduckgo_search\n",
      "\n",
      "In this video, I'll show you how to handle persistence with LangGraph, enabling a unique Human-in-the-Loop workflow. This approach allows a human to grant an... TD;LR Key Takeaways : Human in the Loop (HITL) is crucial for maintaining AI accuracy and preventing errors. LangGraph.js is a tool designed to implement HITL in AI workflows. Whether through interrupts or the strategic management of persistence, humans ensure that AI systems remain flexible, ethical, and responsive to real-world needs. By leveraging LangGraph's persistence features, developers can create AI systems that perform optimally and maintain a balance between autonomy and human oversight. Adding human-in-the-loop interactions. We've done an excellent job creating a tool to answer questions. However, in many cases, it's beneficial to keep a human in the loop to approve proposed actions or provide additional feedback. Let's add a step where we can collect feedback from a human before returning the final result to the user. 4 min read Feb 8, 2024. TLDR; Today we're launching two \"human in the loop\" features in OpenGPTs, Interrupt and Authorize, both powered by LangGraph. We've recently launched LangGraph, a library to help developers build multi-actor, multi-step, stateful LLM applications. That's a lot words packed into a short sentence, let's take it one ...\n",
      "==================================\u001b[1m Ai Message \u001b[0m==================================\n",
      "\n",
      "LangGraph – это инструмент, разработанный для внедрения человеческого интеллекта в рабочие процессы искусственного интеллекта. Он позволяет людям контролировать и корректировать работу ИИ, что особенно важно для поддержания точности и предотвращения ошибок. Благодаря функциям сохранения состояния, предоставляемым LangGraph, разработчики могут создавать системы искусственного интеллекта, которые работают оптимально и сохраняют баланс между автономией и человеческим надзором.\n"
     ]
    }
   ],
   "source": [
    "events = graph.stream(None, config, stream_mode=\"values\")\n",
    "for event in events:\n",
    "    if \"messages\" in event:\n",
    "        event[\"messages\"][-1].pretty_print()"
   ]
  },
  {
   "cell_type": "markdown",
   "id": "fafd170c",
   "metadata": {},
   "source": [
    "Ознакомьтесь с [trace](https://smith.langchain.com/public/2d633326-14ad-4248-a391-2757d01851c4/r/6464f2f2-edb4-4ef3-8f48-ee4e249f2ad0), чтобы увидеть вызов инструмента и последующий ответ LLM. **Обратите внимание**, что теперь граф запрашивает поисковую систему, используя наш обновленный термин запроса — мы смогли вручную переопределить поиск LLM здесь!\n",
    "\n",
    "Все это отражено в контрольной точке памяти графа, что означает, что если мы продолжим разговор, он вспомнит все _измененное_ состояние."
   ]
  },
  {
   "cell_type": "code",
   "execution_count": 28,
   "id": "11d5b934-6d8b-4f52-a3bc-b3daa7207e00",
   "metadata": {},
   "outputs": [
    {
     "name": "stdout",
     "output_type": "stream",
     "text": [
      "================================\u001b[1m Human Message \u001b[0m=================================\n",
      "\n",
      "Напомни, что я изучаю?\n",
      "==================================\u001b[1m Ai Message \u001b[0m==================================\n",
      "\n",
      "Вы изучаете LangGraph.\n"
     ]
    }
   ],
   "source": [
    "events = graph.stream(\n",
    "    {\n",
    "        \"messages\": (\n",
    "            \"user\",\n",
    "            \"Напомни, что я изучаю?\",\n",
    "        )\n",
    "    },\n",
    "    config,\n",
    "    stream_mode=\"values\",\n",
    ")\n",
    "for event in events:\n",
    "    if \"messages\" in event:\n",
    "        event[\"messages\"][-1].pretty_print()"
   ]
  },
  {
   "cell_type": "markdown",
   "id": "1818ad02",
   "metadata": {},
   "source": [
    "**Поздравляем!** Вы использовали `interrupt_before` и `update_state`, чтобы вручную изменять состояние как часть human-in-the-loop. Прерывания и модификации состояния позволяют вам контролировать, как ведет себя агент. В сочетании с постоянным созданием контрольных точек это означает, что вы можете `приостановить` действие и `возобновить` его в любой момент.\n",
    "\n",
    "Код графа для этого раздела идентичен предыдущим. Ключевые фрагменты, которые нужно запомнить, — это добавить `.compile(..., interrupt_before=[...])` (или `interrupt_after`), если вы хотите явно приостановить граф всякий раз, когда он достигает узла. Затем вы можете использовать `update_state`, чтобы изменить контрольную точку и контролировать, как граф должен продолжить работу."
   ]
  },
  {
   "cell_type": "markdown",
   "id": "ec52beaf",
   "metadata": {},
   "source": [
    "## Часть 6: Кастомный `State`\n",
    "\n",
    "До сих пор мы полагались на простое `State` (это просто список сообщений!). Вы можете продвинуться далеко с этим простым `State`, но если вы хотите определить сложное поведение, не полагаясь на список сообщений, вы можете добавить дополнительные поля в `State`. В этом разделе мы расширим нашего чат-бота новым узлом, чтобы проиллюстрировать это.\n",
    "\n",
    "В примерах выше мы включали человека детерминированно: граф __всегда__ прерывался, когда вызывался инструмент. Предположим, мы хотим, чтобы наш чат-бот имел возможность полагаться на человека.\n",
    "\n",
    "Один из способов сделать это — создать проходной узел \"human\", перед которым граф всегда будет останавливаться. Мы будем выполнять этот узел только в том случае, если LLM вызовет инструмент \"human\". Для удобства мы добавим флаг \"ask_human\" в состояние нашего графа, который будет равен 1,  если LLM захочет вызвать этот инструмент.\n",
    "\n",
    "Ниже определите этот новый граф с обновленным `State`."
   ]
  },
  {
   "cell_type": "code",
   "execution_count": 33,
   "id": "3cf7e042-1718-4625-ae30-a9917f595449",
   "metadata": {},
   "outputs": [],
   "source": [
    "from typing import Annotated\n",
    "\n",
    "from typing_extensions import TypedDict\n",
    "\n",
    "from langgraph.checkpoint.memory import MemorySaver\n",
    "from langgraph.graph import StateGraph, START\n",
    "from langgraph.graph.message import add_messages\n",
    "from langgraph.prebuilt import ToolNode, tools_condition\n",
    "\n",
    "\n",
    "class State(TypedDict):\n",
    "    messages: Annotated[list, add_messages]\n",
    "    # This flag is new\n",
    "    ask_human: bool"
   ]
  },
  {
   "cell_type": "markdown",
   "id": "28379f8a",
   "metadata": {},
   "source": [
    "Далее определите схему, чтобы показать модели, чтобы она могла решить запросить помощь."
   ]
  },
  {
   "cell_type": "code",
   "execution_count": 34,
   "id": "e5192e54-6a28-42fe-a8a7-62d45d61f994",
   "metadata": {},
   "outputs": [],
   "source": [
    "# NOTE: you must use langchain-core >= 0.3 with Pydantic v2\n",
    "from pydantic import BaseModel\n",
    "\n",
    "class RequestAssistance(BaseModel):\n",
    "    \"\"\"\n",
    "    Переведите разговор на уровень эксперта. Используйте это, если вы не можете помочь напрямую или если пользователю требуется помощь эксперта, выходящая за рамки ваших разрешений.\n",
    "    Чтобы использовать эту функцию, передайте запрос пользователя, чтобы эксперт мог предоставить правильные рекомендации.\n",
    "    \"\"\"\n",
    "\n",
    "    request: str"
   ]
  },
  {
   "cell_type": "markdown",
   "id": "7ddee807",
   "metadata": {},
   "source": [
    "Далее определите узел чат-бота. Основное изменение здесь — включить флаг `ask_human`, если мы увидим, что чат-бот вызвал флаг `RequestAssistance`."
   ]
  },
  {
   "cell_type": "code",
   "execution_count": 35,
   "id": "fa59b266-14e5-4c75-8b3d-54fac28e8290",
   "metadata": {},
   "outputs": [],
   "source": [
    "from typing import Annotated\n",
    "\n",
    "from langchain_core.messages import BaseMessage\n",
    "from typing_extensions import TypedDict\n",
    "\n",
    "from langgraph.graph import StateGraph, START, END\n",
    "from langgraph.graph.message import add_messages\n",
    "from langgraph.prebuilt import ToolNode, tools_condition\n",
    "\n",
    "from dotenv import load_dotenv\n",
    "from pathlib import Path\n",
    "from langchain.chat_models.gigachat import GigaChat\n",
    "import os\n",
    "from langchain_community.tools import DuckDuckGoSearchRun\n",
    "\n",
    "graph_builder = StateGraph(State)\n",
    "\n",
    "\n",
    "tdotenv_path = Path('./.env')\n",
    "load_dotenv(dotenv_path=dotenv_path)\n",
    "\n",
    "\n",
    "GC_CREDS = os.getenv('GC_CREDS')\n",
    "GC_SCOPE = os.getenv('GC_SCOPE')\n",
    "\n",
    "llm = GigaChat(\n",
    "    credentials=GC_CREDS,\n",
    "    scope=GC_SCOPE,\n",
    "    model=\"GigaChat-Pro\",\n",
    "    verify_ssl_certs=False,\n",
    "    timeout=1200\n",
    "    )\n",
    "\n",
    "tool = DuckDuckGoSearchRun(max_results=2)\n",
    "tools = [tool]\n",
    "\n",
    "\n",
    "llm_with_tools = llm.bind_tools(tools + [RequestAssistance])\n",
    "\n",
    "\n",
    "def chatbot(state: State):\n",
    "    response = llm_with_tools.invoke(state[\"messages\"])\n",
    "    ask_human = False\n",
    "    if (\n",
    "        response.tool_calls\n",
    "        and response.tool_calls[0][\"name\"] == RequestAssistance.__name__\n",
    "    ):\n",
    "        ask_human = True\n",
    "    return {\"messages\": [response], \"ask_human\": ask_human}"
   ]
  },
  {
   "cell_type": "markdown",
   "id": "e2266eee",
   "metadata": {},
   "source": [
    "Далее создадим `graph builder` и добавим узлы чат-бота и инструментов в граф, как и раньше."
   ]
  },
  {
   "cell_type": "code",
   "execution_count": 36,
   "id": "3f4464d2-288b-4689-aaf0-329a55dcb85c",
   "metadata": {},
   "outputs": [],
   "source": [
    "graph_builder = StateGraph(State)\n",
    "\n",
    "graph_builder.add_node(\"chatbot\", chatbot)\n",
    "graph_builder.add_node(\"tools\", ToolNode(tools=[tool]))"
   ]
  },
  {
   "cell_type": "markdown",
   "id": "e84d7d3d",
   "metadata": {},
   "source": [
    "Далее создайте узел \"human\". Эта функциональная `node` в нашем графе вызовет прерывание. Если человек __не__ обновит состояние во время `interrupt`, он вставит сообщение \"От эксперта нет ответа.\", чтобы LLM знал, что пользователь был запрошен, но не ответил. Этот узел также снимает флаг `ask_human`, чтобы граф знал, что не нужно возвращаться к этому узлу, если дальнейшие запросы не будут сделаны."
   ]
  },
  {
   "cell_type": "code",
   "execution_count": 37,
   "id": "1d70b5a4-ce50-47dc-aa43-ffb5c48c46fc",
   "metadata": {},
   "outputs": [],
   "source": [
    "from langchain_core.messages import AIMessage, ToolMessage\n",
    "\n",
    "\n",
    "def create_response(response: str, ai_message: AIMessage):\n",
    "    return ToolMessage(\n",
    "        content=response,\n",
    "        tool_call_id=ai_message.tool_calls[0][\"id\"],\n",
    "    )\n",
    "\n",
    "\n",
    "def human_node(state: State):\n",
    "    new_messages = []\n",
    "    if not isinstance(state[\"messages\"][-1], ToolMessage):\n",
    "        # Typically, the user will have updated the state during the interrupt.\n",
    "        # If they choose not to, we will include a placeholder ToolMessage to\n",
    "        # let the LLM continue.\n",
    "        new_messages.append(\n",
    "            create_response(\"От эксперта нет ответа.\", state[\"messages\"][-1])\n",
    "        )\n",
    "    return {\n",
    "        # Append the new messages\n",
    "        \"messages\": new_messages,\n",
    "        # Unset the flag\n",
    "        \"ask_human\": False,\n",
    "    }\n",
    "\n",
    "\n",
    "graph_builder.add_node(\"human\", human_node)"
   ]
  },
  {
   "cell_type": "markdown",
   "id": "64375d46",
   "metadata": {},
   "source": [
    "Далее определите условную логику. Функция `select_next_node` направит к узлу `human`, если флаг установлен. В противном случае она позволит предустановленной функции `tools_condition` выбрать следующий узел.\n",
    "\n",
    "Напомним, что функция `tools_condition` просто проверяет, ответил ли `chatbot` какими-либо `tool_calls` в своем ответном сообщении. Если да, она направляет к узлу `action`. В противном случае она завершает граф."
   ]
  },
  {
   "cell_type": "code",
   "execution_count": 38,
   "id": "586a0d07-8303-47f4-b3cf-3bdd043e762b",
   "metadata": {},
   "outputs": [],
   "source": [
    "def select_next_node(state: State):\n",
    "    if state[\"ask_human\"]:\n",
    "        return \"human\"\n",
    "    # Otherwise, we can route as before\n",
    "    return tools_condition(state)\n",
    "\n",
    "\n",
    "graph_builder.add_conditional_edges(\n",
    "    \"chatbot\",\n",
    "    select_next_node,\n",
    "    {\"human\": \"human\", \"tools\": \"tools\", \"__end__\": \"__end__\"},\n",
    ")"
   ]
  },
  {
   "cell_type": "markdown",
   "id": "00850884",
   "metadata": {},
   "source": [
    "Наконец, добавьте простые направленные ребра и скомпилируйте граф. Эти ребра инструктируют граф **всегда** переходить от узла `a` к узлу `b`, когда `a` завершает выполнение."
   ]
  },
  {
   "cell_type": "code",
   "execution_count": 39,
   "id": "84101737-0048-4635-9f68-45b0c508b6b6",
   "metadata": {},
   "outputs": [],
   "source": [
    "# The rest is the same\n",
    "graph_builder.add_edge(\"tools\", \"chatbot\")\n",
    "graph_builder.add_edge(\"human\", \"chatbot\")\n",
    "graph_builder.add_edge(START, \"chatbot\")\n",
    "memory = MemorySaver()\n",
    "graph = graph_builder.compile(\n",
    "    checkpointer=memory,\n",
    "    # We interrupt before 'human' here instead.\n",
    "    interrupt_before=[\"human\"],\n",
    ")"
   ]
  },
  {
   "cell_type": "markdown",
   "id": "51f77418",
   "metadata": {},
   "source": [
    "Если у вас установлены зависимости визуализации, вы можете увидеть структуру графа ниже"
   ]
  },
  {
   "cell_type": "code",
   "execution_count": 27,
   "id": "b3220ae2-cba0-4447-96d1-eb0be4684e59",
   "metadata": {},
   "outputs": [
    {
     "data": {
      "image/jpeg": "[encoded data removed]",
      "text/plain": [
       "<IPython.core.display.Image object>"
      ]
     },
     "metadata": {},
     "output_type": "display_data"
    }
   ],
   "source": [
    "from IPython.display import Image, display\n",
    "\n",
    "try:\n",
    "    display(Image(graph.get_graph().draw_mermaid_png()))\n",
    "except Exception:\n",
    "    # This requires some extra dependencies and is optional\n",
    "    pass"
   ]
  },
  {
   "cell_type": "markdown",
   "id": "426e47a5",
   "metadata": {},
   "source": [
    "Чат-бот может либо запросить помощь от человека (chatbot->select->human), вызвать инструмент поисковой системы (chatbot->select->action), либо напрямую ответить (chatbot->select->__end__). Как только действие или запрос будет сделан, граф перейдет обратно к узлу `chatbot`, чтобы продолжить операции.\n",
    "\n",
    "Давайте посмотрим, как этот граф работает на практике. Мы запросим помощь эксперта, чтобы проиллюстрировать наш граф."
   ]
  },
  {
   "cell_type": "code",
   "execution_count": 43,
   "id": "c1955d79-a1e4-47d0-ba79-b45bd5752a23",
   "metadata": {},
   "outputs": [
    {
     "name": "stdout",
     "output_type": "stream",
     "text": [
      "================================\u001b[1m Human Message \u001b[0m=================================\n",
      "\n",
      "Мне нужно экспертное знание для создания этого агента ИИ. Не могли бы вы запросить помощь у эксперта для меня?\n",
      "==================================\u001b[1m Ai Message \u001b[0m==================================\n",
      "Tool Calls:\n",
      "  RequestAssistance (bb7bd0b0-28d1-4b3f-940d-52cd1a150feb)\n",
      " Call ID: bb7bd0b0-28d1-4b3f-940d-52cd1a150feb\n",
      "  Args:\n",
      "    request: Мне нужно экспертное знание для создания этого агента ИИ. Не могли бы вы запросить помощь у эксперта для меня?\n"
     ]
    }
   ],
   "source": [
    "user_input = \"Мне нужно экспертное знание для создания этого агента ИИ. Не могли бы вы запросить помощь у эксперта для меня?\"\n",
    "config = {\"configurable\": {\"thread_id\": \"1\"}}\n",
    "# The config is the **second positional argument** to stream() or invoke()!\n",
    "events = graph.stream(\n",
    "    {\"messages\": [(\"user\", user_input)]}, config, stream_mode=\"values\"\n",
    ")\n",
    "for event in events:\n",
    "    if \"messages\" in event:\n",
    "        event[\"messages\"][-1].pretty_print()"
   ]
  },
  {
   "cell_type": "markdown",
   "id": "72e19603",
   "metadata": {},
   "source": [
    "**Обратите внимание:** LLM вызвал инструмент \"`RequestAssistance`\", который мы ему предоставили, и прерывание было установлено. Давайте проверим состояние графа, чтобы подтвердить."
   ]
  },
  {
   "cell_type": "code",
   "execution_count": 44,
   "id": "5320ba05-5696-4194-8278-5385c571264d",
   "metadata": {},
   "outputs": [
    {
     "data": {
      "text/plain": [
       "('human',)"
      ]
     },
     "execution_count": 44,
     "metadata": {},
     "output_type": "execute_result"
    }
   ],
   "source": [
    "snapshot = graph.get_state(config)\n",
    "snapshot.next"
   ]
  },
  {
   "cell_type": "markdown",
   "id": "e99a1315",
   "metadata": {},
   "source": [
    "Состояние графа действительно **прервано** перед узлом `'human'`. Мы можем выступить в роли \"эксперта\" в этом сценарии и вручную обновить состояние, добавив новое сообщение ToolMessage с нашим вводом.\n",
    "\n",
    "Далее ответьте на запрос чат-бота, выполнив следующие действия:\n",
    "1. Создайте `ToolMessage` с нашим ответом. Это будет передано обратно в `chatbot`.\n",
    "2. Вызовите `update_state`, чтобы вручную обновить состояние графа."
   ]
  },
  {
   "cell_type": "code",
   "execution_count": 45,
   "id": "2cbac924-61ce-4282-9b1c-77f9090ea1f5",
   "metadata": {},
   "outputs": [
    {
     "data": {
      "text/plain": [
       "{'configurable': {'thread_id': '1',\n",
       "  'checkpoint_ns': '',\n",
       "  'checkpoint_id': '1ef7a671-048a-6d18-8005-f9301ff04e24'}}"
      ]
     },
     "execution_count": 45,
     "metadata": {},
     "output_type": "execute_result"
    }
   ],
   "source": [
    "ai_message = snapshot.values[\"messages\"][-1]\n",
    "human_response = (\n",
    "    \"Мы, эксперты, здесь, чтобы помочь! \"\n",
    "    \"Мы рекомендуем вам ознакомиться с LangGraph для создания вашего агента.\"\n",
    "    \"Тогда агенты получиться гораздо надежнее и более гибкими, чем простые автономные агенты\"\n",
    ")\n",
    "tool_message = create_response(human_response, ai_message)\n",
    "graph.update_state(config, {\"messages\": [tool_message]})"
   ]
  },
  {
   "cell_type": "markdown",
   "id": "a4bd0cd3",
   "metadata": {},
   "source": [
    "Вы можете проверить состояние, чтобы подтвердить, что наш ответ был добавлен."
   ]
  },
  {
   "cell_type": "code",
   "execution_count": 46,
   "id": "4b986c66-1c65-4da8-a404-db7e28f8364e",
   "metadata": {},
   "outputs": [
    {
     "data": {
      "text/plain": [
       "[HumanMessage(content='Мне нужно экспертное знание для создания этого агента ИИ. Не могли бы вы запросить помощь у эксперта для меня?', id='5abea506-89d7-4e73-ad4c-b9019995b261'),\n",
       " AIMessage(content='Конечно, я могу помочь вам с этим. Пожалуйста, предоставьте мне подробности о том, какие именно знания или навыки вам нужны, и я запрошу помощь у эксперта от вашего имени.', additional_kwargs={'functions_state_id': '2855dd22-0a03-4733-8128-41a3e233edf9'}, response_metadata={'token_usage': Usage(prompt_tokens=193, completion_tokens=47, total_tokens=240), 'model_name': 'GigaChat-Pro:1.0.26.8', 'finish_reason': 'stop'}, id='run-e540ce2f-030f-4e04-8931-53075638e941-0'),\n",
       " HumanMessage(content='Мне нужно экспертное знание для создания этого агента ИИ. Не могли бы вы запросить помощь у эксперта для меня?', id='8d10fbe5-515f-4b38-9c84-55aa729f135f'),\n",
       " AIMessage(content='', additional_kwargs={'function_call': {'name': 'RequestAssistance', 'arguments': {'request': 'Мне нужно экспертное знание для создания этого агента ИИ. Не могли бы вы запросить помощь у эксперта для меня?'}}, 'functions_state_id': '40841907-090e-4d30-a578-755902910ec7'}, response_metadata={'token_usage': Usage(prompt_tokens=290, completion_tokens=53, total_tokens=343), 'model_name': 'GigaChat-Pro:1.0.26.8', 'finish_reason': 'function_call'}, id='run-321d5f09-8663-4b66-b3d3-b50a3f818a14-0', tool_calls=[{'name': 'RequestAssistance', 'args': {'request': 'Мне нужно экспертное знание для создания этого агента ИИ. Не могли бы вы запросить помощь у эксперта для меня?'}, 'id': 'bb7bd0b0-28d1-4b3f-940d-52cd1a150feb', 'type': 'tool_call'}]),\n",
       " ToolMessage(content='Мы, эксперты, здесь, чтобы помочь! Мы рекомендуем вам ознакомиться с LangGraph для создания вашего агента.Тогда агенты получиться гораздо надежнее и более гибкими, чем простые автономные агенты', id='567d24bd-765b-436a-844c-a4491d0cebc7', tool_call_id='bb7bd0b0-28d1-4b3f-940d-52cd1a150feb')]"
      ]
     },
     "execution_count": 46,
     "metadata": {},
     "output_type": "execute_result"
    }
   ],
   "source": [
    "graph.get_state(config).values[\"messages\"]"
   ]
  },
  {
   "cell_type": "markdown",
   "id": "fd7d50f5",
   "metadata": {},
   "source": [
    "Далее **возобновите** граф, вызвав его с `None` в качестве входных данных."
   ]
  },
  {
   "cell_type": "code",
   "execution_count": 49,
   "id": "6b32914d-4d60-491f-8e11-1e6867e38ffd",
   "metadata": {},
   "outputs": [
    {
     "name": "stdout",
     "output_type": "stream",
     "text": [
      "==================================\u001b[1m Ai Message \u001b[0m==================================\n",
      "\n",
      "Эксперты рекомендуют использовать LangGraph для создания вашего агента ИИ. Это поможет сделать его более надежным и гибким.\n"
     ]
    }
   ],
   "source": [
    "events = graph.stream(None, config, stream_mode=\"values\")\n",
    "for event in events:\n",
    "    if \"messages\" in event:\n",
    "        event[\"messages\"][-1].pretty_print()"
   ]
  },
  {
   "cell_type": "markdown",
   "id": "fea85967",
   "metadata": {},
   "source": [
    "**Обратите внимание**, что чат-бот включил обновленное состояние в свой окончательный ответ. Поскольку **все** было создано в контрольных точках, \"эксперт\" в петле мог выполнить обновление в любое время, не влияя на выполнение графа.\n",
    "\n",
    "**Поздравляем!** Теперь вы добавили дополнительный узел в граф помощника, чтобы позволить чат-боту решать самостоятельно, нужно ли прерывать выполнение. Вы сделали это, обновив состояние графа новым полем `ask_human` и изменив логику прерывания при компиляции графа. Это позволяет вам динамически включать человека в петлю, сохраняя полную **память** каждый раз, когда вы выполняете граф.\n",
    "\n",
    "Мы почти закончили с учебником, но есть еще одна концепция, которую мы хотели бы рассмотреть перед завершением, которая связывает `checkpointing` и `state updates`.\n",
    "\n",
    "Код этого раздела воспроизведен ниже для вашего ознакомления.\n",
    "\n",
    "<details>\n",
    "<summary>Полный код</summary>\n",
    "<pre>\n",
    "\n",
    "```python\n",
    "from typing import Annotated\n",
    "\n",
    "from langchain_anthropic import ChatAnthropic\n",
    "from langchain_community.tools.tavily_search import TavilySearchResults\n",
    "from langchain_core.messages import BaseMessage\n",
    "# NOTE: you must use langchain-core >= 0.3 with Pydantic v2\n",
    "from pydantic import BaseModel\n",
    "from typing_extensions import TypedDict\n",
    "\n",
    "from langgraph.checkpoint.memory import MemorySaver\n",
    "from langgraph.graph import StateGraph\n",
    "from langgraph.graph.message import add_messages\n",
    "from langgraph.prebuilt import ToolNode, tools_condition\n",
    "\n",
    "\n",
    "class State(TypedDict):\n",
    "    messages: Annotated[list, add_messages]\n",
    "    # This flag is new\n",
    "    ask_human: bool\n",
    "\n",
    "\n",
    "class RequestAssistance(BaseModel):\n",
    "    \"\"\"Escalate the conversation to an expert. Use this if you are unable to assist directly or if the user requires support beyond your permissions.\n",
    "\n",
    "    To use this function, relay the user's 'request' so the expert can provide the right guidance.\n",
    "    \"\"\"\n",
    "\n",
    "    request: str\n",
    "\n",
    "\n",
    "tool = TavilySearchResults(max_results=2)\n",
    "tools = [tool]\n",
    "llm = ChatAnthropic(model=\"claude-3-haiku-20240307\")\n",
    "# We can bind the llm to a tool definition, a pydantic model, or a json schema\n",
    "llm_with_tools = llm.bind_tools(tools + [RequestAssistance])\n",
    "\n",
    "\n",
    "def chatbot(state: State):\n",
    "    response = llm_with_tools.invoke(state[\"messages\"])\n",
    "    ask_human = False\n",
    "    if (\n",
    "        response.tool_calls\n",
    "        and response.tool_calls[0][\"name\"] == RequestAssistance.__name__\n",
    "    ):\n",
    "        ask_human = True\n",
    "    return {\"messages\": [response], \"ask_human\": ask_human}\n",
    "\n",
    "\n",
    "graph_builder = StateGraph(State)\n",
    "\n",
    "graph_builder.add_node(\"chatbot\", chatbot)\n",
    "graph_builder.add_node(\"tools\", ToolNode(tools=[tool]))\n",
    "\n",
    "\n",
    "def create_response(response: str, ai_message: AIMessage):\n",
    "    return ToolMessage(\n",
    "        content=response,\n",
    "        tool_call_id=ai_message.tool_calls[0][\"id\"],\n",
    "    )\n",
    "\n",
    "\n",
    "def human_node(state: State):\n",
    "    new_messages = []\n",
    "    if not isinstance(state[\"messages\"][-1], ToolMessage):\n",
    "        # Typically, the user will have updated the state during the interrupt.\n",
    "        # If they choose not to, we will include a placeholder ToolMessage to\n",
    "        # let the LLM continue.\n",
    "        new_messages.append(\n",
    "            create_response(\"No response from human.\", state[\"messages\"][-1])\n",
    "        )\n",
    "    return {\n",
    "        # Append the new messages\n",
    "        \"messages\": new_messages,\n",
    "        # Unset the flag\n",
    "        \"ask_human\": False,\n",
    "    }\n",
    "\n",
    "\n",
    "graph_builder.add_node(\"human\", human_node)\n",
    "\n",
    "\n",
    "def select_next_node(state: State):\n",
    "    if state[\"ask_human\"]:\n",
    "        return \"human\"\n",
    "    # Otherwise, we can route as before\n",
    "    return tools_condition(state)\n",
    "\n",
    "\n",
    "graph_builder.add_conditional_edges(\n",
    "    \"chatbot\",\n",
    "    select_next_node,\n",
    "    {\"human\": \"human\", \"tools\": \"tools\", \"__end__\": \"__end__\"},\n",
    ")\n",
    "graph_builder.add_edge(\"tools\", \"chatbot\")\n",
    "graph_builder.add_edge(\"human\", \"chatbot\")\n",
    "graph_builder.set_entry_point(\"chatbot\")\n",
    "memory = MemorySaver()\n",
    "graph = graph_builder.compile(\n",
    "    checkpointer=memory,\n",
    "    interrupt_before=[\"human\"],\n",
    ")\n",
    "```\n",
    "</pre>\n",
    "</details>"
   ]
  },
  {
   "cell_type": "markdown",
   "id": "68a41ff8",
   "metadata": {},
   "source": [
    "## Часть 7: Путешествие во времени\n",
    "\n",
    "В типичном рабочем процессе чат-бота пользователь взаимодействует с ботом один или несколько раз, чтобы выполнить задачу. В предыдущих разделах мы увидели, как добавить память и участие пользователя в цикл, чтобы иметь возможность создавать контрольные точки состояния графа и вручную переопределять состояние для управления будущими ответами.\n",
    "\n",
    "Но что, если вы хотите позволить пользователю начать с предыдущего ответа и \"ответвиться\", чтобы исследовать отдельный исход? Или что, если вы хотите, чтобы пользователи могли \"откатить\" работу вашего помощника, чтобы исправить ошибки или попробовать другую стратегию?\n",
    "\n",
    "Вы можете создать оба этих опыта и многое другое, используя встроенную функцию \"time travel\" LangGraph.\n",
    "\n",
    "В этом разделе вы \"откатите\" свой граф, извлекая контрольную точку с помощью метода `get_state_history` графа. Затем вы сможете возобновить выполнение с этой предыдущей точки времени.\n",
    "\n",
    "Сначала вспомните наш граф чат-бота. Нам не нужно делать **никаких** изменений по сравнению с предыдущим:"
   ]
  },
  {
   "cell_type": "code",
   "execution_count": 2,
   "id": "bb8a02de-a21b-4ef6-a714-7d6e44435e3a",
   "metadata": {},
   "outputs": [],
   "source": [
    "from typing import Annotated, Literal\n",
    "from pydantic import BaseModel\n",
    "from langchain_core.messages import AIMessage, ToolMessage\n",
    "from langgraph.checkpoint.memory import MemorySaver\n",
    "\n",
    "from langchain_core.messages import BaseMessage\n",
    "from typing_extensions import TypedDict\n",
    "\n",
    "from langgraph.graph import StateGraph, START, END\n",
    "from langgraph.graph.message import add_messages\n",
    "from langgraph.prebuilt import ToolNode, tools_condition\n",
    "\n",
    "from dotenv import load_dotenv\n",
    "from pathlib import Path\n",
    "from langchain.chat_models.gigachat import GigaChat\n",
    "import os\n",
    "from langchain_community.tools import DuckDuckGoSearchRun\n",
    "\n",
    "\n",
    "class State(TypedDict):\n",
    "    messages: Annotated[list, add_messages]\n",
    "    # This flag is new\n",
    "    ask_human: bool\n",
    "\n",
    "\n",
    "class RequestAssistance(BaseModel):\n",
    "    \"\"\"Escalate the conversation to an expert. Use this if you are unable to assist directly or if the user requires support beyond your permissions.\n",
    "\n",
    "    To use this function, relay the user's 'request' so the expert can provide the right guidance.\n",
    "    \"\"\"\n",
    "\n",
    "    request: str\n",
    "\n",
    "\n",
    "dotenv_path = Path('./.env')\n",
    "load_dotenv(dotenv_path=dotenv_path)\n",
    "\n",
    "\n",
    "GC_CREDS = os.getenv('GC_CREDS')\n",
    "GC_SCOPE = os.getenv('GC_SCOPE')\n",
    "\n",
    "llm = GigaChat(\n",
    "    credentials=GC_CREDS,\n",
    "    scope=GC_SCOPE,\n",
    "    model=\"GigaChat-Pro\",\n",
    "    verify_ssl_certs=False,\n",
    "    timeout=1200\n",
    "    )\n",
    "\n",
    "tool = DuckDuckGoSearchRun(max_results=2)\n",
    "tools = [tool]\n",
    "\n",
    "\n",
    "llm_with_tools = llm.bind_tools(tools + [RequestAssistance])\n",
    "\n",
    "\n",
    "\n",
    "def chatbot(state: State):\n",
    "    response = llm_with_tools.invoke(state[\"messages\"])\n",
    "    ask_human = False\n",
    "    if (\n",
    "        response.tool_calls\n",
    "        and response.tool_calls[0][\"name\"] == RequestAssistance.__name__\n",
    "    ):\n",
    "        ask_human = True\n",
    "    return {\"messages\": [response], \"ask_human\": ask_human}\n",
    "\n",
    "\n",
    "graph_builder = StateGraph(State)\n",
    "\n",
    "graph_builder.add_node(\"chatbot\", chatbot)\n",
    "graph_builder.add_node(\"tools\", ToolNode(tools=[tool]))\n",
    "\n",
    "\n",
    "def create_response(response: str, ai_message: AIMessage):\n",
    "    return ToolMessage(\n",
    "        content=response,\n",
    "        tool_call_id=ai_message.tool_calls[0][\"id\"],\n",
    "    )\n",
    "\n",
    "\n",
    "def human_node(state: State):\n",
    "    new_messages = []\n",
    "    if not isinstance(state[\"messages\"][-1], ToolMessage):\n",
    "        # Typically, the user will have updated the state during the interrupt.\n",
    "        # If they choose not to, we will include a placeholder ToolMessage to\n",
    "        # let the LLM continue.\n",
    "        new_messages.append(\n",
    "            create_response(\"No response from human.\", state[\"messages\"][-1])\n",
    "        )\n",
    "    return {\n",
    "        # Append the new messages\n",
    "        \"messages\": new_messages,\n",
    "        # Unset the flag\n",
    "        \"ask_human\": False,\n",
    "    }\n",
    "\n",
    "\n",
    "graph_builder.add_node(\"human\", human_node)\n",
    "\n",
    "\n",
    "def select_next_node(state: State) -> Literal[\"human\", \"tools\", \"__end__\"]:\n",
    "    if state[\"ask_human\"]:\n",
    "        return \"human\"\n",
    "    # Otherwise, we can route as before\n",
    "    return tools_condition(state)\n",
    "\n",
    "\n",
    "graph_builder.add_conditional_edges(\n",
    "    \"chatbot\",\n",
    "    select_next_node,\n",
    "    {\"human\": \"human\", \"tools\": \"tools\", \"__end__\": \"__end__\"},\n",
    ")\n",
    "graph_builder.add_edge(\"tools\", \"chatbot\")\n",
    "graph_builder.add_edge(\"human\", \"chatbot\")\n",
    "graph_builder.add_edge(START, \"chatbot\")\n",
    "memory = MemorySaver()\n",
    "graph = graph_builder.compile(\n",
    "    checkpointer=memory,\n",
    "    interrupt_before=[\"human\"],\n",
    ")"
   ]
  },
  {
   "cell_type": "code",
   "execution_count": 29,
   "id": "a7debb4a-2a3a-40b9-a48c-7052ec2c2726",
   "metadata": {},
   "outputs": [
    {
     "data": {
      "image/jpeg": "[encoded data removed]",
      "text/plain": [
       "<IPython.core.display.Image object>"
      ]
     },
     "metadata": {},
     "output_type": "display_data"
    }
   ],
   "source": [
    "from IPython.display import Image, display\n",
    "\n",
    "try:\n",
    "    display(Image(graph.get_graph().draw_mermaid_png()))\n",
    "except Exception:\n",
    "    # This requires some extra dependencies and is optional\n",
    "    pass"
   ]
  },
  {
   "cell_type": "markdown",
   "id": "a4f6d860",
   "metadata": {},
   "source": [
    "Давайте заставим наш граф сделать пару шагов. Каждый шаг будет сохранен в истории состояний:"
   ]
  },
  {
   "cell_type": "code",
   "execution_count": 4,
   "id": "69071b02-c011-4b7f-90b1-8e89e032322d",
   "metadata": {},
   "outputs": [
    {
     "name": "stdout",
     "output_type": "stream",
     "text": [
      "================================\u001b[1m Human Message \u001b[0m=================================\n",
      "\n",
      "Я изучаю LangGraph. Не могла бы ты рассказать мне об этом подробней, из интернета?\n",
      "==================================\u001b[1m Ai Message \u001b[0m==================================\n",
      "Tool Calls:\n",
      "  duckduckgo_search (0c64249b-17c3-493b-89c4-69f2992bc70e)\n",
      " Call ID: 0c64249b-17c3-493b-89c4-69f2992bc70e\n",
      "  Args:\n",
      "    query: LangGraph\n",
      "=================================\u001b[1m Tool Message \u001b[0m=================================\n",
      "Name: duckduckgo_search\n",
      "\n",
      "LangGraph is a library within the LangChain ecosystem that simplifies the development of complex, multi-agent large language model (LLM) applications. Learn how to use LangGraph to create stateful, flexible, and scalable systems with nodes, edges, and state management. LangGraph doesn't enforce best practices like CrewAI does (for example, role-playing or guardrails). So it can lead to poorer results. I would say that CrewAI is a better framework for newbies and common use cases because it helps you get good results quickly and provides guidance to prevent mistakes. LangGraph has the word \"graph\" in the name because it uses nodes and edges to construct an agent. If we're in the phase of the conversation where we want to get the lead's contact information and they ask us \"if we saw the game last night\", we can use a language model to judge if contact information existed in the users response and ... Learn how to use LangGraph.js, a JavaScript library for creating and manipulating complex LLM-based workflows, with this beginner-friendly guide. Follow the steps to build a simple graph that logs \"Hello world!\" and \"Bye world!\", and explore the core concepts of nodes, edges and state. LangGraph: Multi-Agent Workflows. Links. Last week we highlighted LangGraph - a new package (available in both Python and JS) to better enable creation of LLM workflows containing cycles, which are a critical component of most agent runtimes. As a part of the launch, we highlighted two simple runtimes: one that is the equivalent of the ...\n",
      "==================================\u001b[1m Ai Message \u001b[0m==================================\n",
      "\n",
      "LangGraph – это библиотека в экосистеме LangChain, которая упрощает разработку сложных приложений на основе больших языковых моделей (LLM), состоящих из нескольких агентов. Она позволяет создавать состояния, гибкие и масштабируемые системы с использованием узлов, ребер и управления состояниями. Однако она не навязывает лучшие практики, как это делает CrewAI (например, ролевая игра или ограждения). Поэтому она может привести к худшим результатам. Я бы сказал, что CrewAI – лучшая среда для новичков и общих сценариев использования, потому что она помогает быстро получить хорошие результаты и предоставляет руководство, чтобы избежать ошибок. В названии LangGraph есть слово \"граф\", потому что он использует узлы и ребра для создания агента. Если мы находимся на этапе разговора, когда нам нужно получить контактную информацию лида, и они спрашивают нас, видели ли мы игру прошлой ночью, мы можем использовать языковую модель для определения того, содержится ли контактная информация в ответе пользователя и...\n"
     ]
    }
   ],
   "source": [
    "config = {\"configurable\": {\"thread_id\": \"1\"}}\n",
    "events = graph.stream(\n",
    "    {\n",
    "        \"messages\": [\n",
    "            (\"user\", \"Я изучаю LangGraph. Не могла бы ты рассказать мне об этом подробней, из интернета?\")\n",
    "        ]\n",
    "    },\n",
    "    config,\n",
    "    stream_mode=\"values\",\n",
    ")\n",
    "for event in events:\n",
    "    if \"messages\" in event:\n",
    "        event[\"messages\"][-1].pretty_print()"
   ]
  },
  {
   "cell_type": "code",
   "execution_count": 5,
   "id": "acbec099-e5d2-497f-929e-c548d7bcbf77",
   "metadata": {},
   "outputs": [
    {
     "name": "stdout",
     "output_type": "stream",
     "text": [
      "================================\u001b[1m Human Message \u001b[0m=================================\n",
      "\n",
      "Да, это полезно. Может, я создам с его помощью автономного агента!\n",
      "==================================\u001b[1m Ai Message \u001b[0m==================================\n",
      "\n",
      "Звучит интересно! Создание автономного агента может быть сложной, но увлекательной задачей. Если у вас возникнут вопросы в процессе работы, не стесняйтесь обращаться за дополнительной информацией.\n"
     ]
    }
   ],
   "source": [
    "events = graph.stream(\n",
    "    {\n",
    "        \"messages\": [\n",
    "            (\"user\", \"Да, это полезно. Может, я создам с его помощью автономного агента!\")\n",
    "        ]\n",
    "    },\n",
    "    config,\n",
    "    stream_mode=\"values\",\n",
    ")\n",
    "for event in events:\n",
    "    if \"messages\" in event:\n",
    "        event[\"messages\"][-1].pretty_print()"
   ]
  },
  {
   "cell_type": "markdown",
   "id": "8a49f89f",
   "metadata": {},
   "source": [
    "Теперь, когда агент сделал пару шагов, мы можем `воспроизвести` полную историю состояний, чтобы увидеть все, что произошло."
   ]
  },
  {
   "cell_type": "code",
   "execution_count": 9,
   "id": "6c0dbed5-210d-40ad-b002-0bc52ef28fac",
   "metadata": {},
   "outputs": [
    {
     "name": "stdout",
     "output_type": "stream",
     "text": [
      "Num Messages:  7 Next:  ()\n",
      "--------------------------------------------------------------------------------\n",
      "Num Messages:  6 Next:  ('chatbot',)\n",
      "--------------------------------------------------------------------------------\n",
      "Num Messages:  5 Next:  ('__start__',)\n",
      "--------------------------------------------------------------------------------\n",
      "Num Messages:  5 Next:  ()\n",
      "--------------------------------------------------------------------------------\n",
      "Num Messages:  4 Next:  ('chatbot',)\n",
      "--------------------------------------------------------------------------------\n",
      "Num Messages:  3 Next:  ('tools',)\n",
      "--------------------------------------------------------------------------------\n",
      "Num Messages:  2 Next:  ('chatbot',)\n",
      "--------------------------------------------------------------------------------\n",
      "Num Messages:  1 Next:  ('__start__',)\n",
      "--------------------------------------------------------------------------------\n",
      "Num Messages:  1 Next:  ('chatbot',)\n",
      "--------------------------------------------------------------------------------\n",
      "Num Messages:  0 Next:  ('__start__',)\n",
      "--------------------------------------------------------------------------------\n"
     ]
    }
   ],
   "source": [
    "to_replay = None\n",
    "for state in graph.get_state_history(config):\n",
    "    print(\"Num Messages: \", len(state.values[\"messages\"]), \"Next: \", state.next)\n",
    "    print(\"-\" * 80)\n",
    "    if len(state.values[\"messages\"]) == 6:\n",
    "        # We are somewhat arbitrarily selecting a specific state based on the number of chat messages in the state.\n",
    "        to_replay = state"
   ]
  },
  {
   "cell_type": "code",
   "execution_count": 7,
   "id": "7a87e8d0",
   "metadata": {},
   "outputs": [
    {
     "name": "stdout",
     "output_type": "stream",
     "text": [
      "StateSnapshot(values={'messages': []}, next=('__start__',), config={'configurable': {'thread_id': '1', 'checkpoint_ns': '', 'checkpoint_id': '1ef7b300-eb9a-67f8-bfff-ca607a6e6d19'}}, metadata={'source': 'input', 'writes': {'__start__': {'messages': [['user', 'Я изучаю LangGraph. Не могла бы ты рассказать мне об этом подробней, из интернета?']]}}, 'step': -1, 'parents': {}}, created_at='2024-09-25T11:19:40.746951+00:00', parent_config=None, tasks=(PregelTask(id='9a82ed0c-61ff-b2fe-4058-6b3b85defc4a', name='__start__', path=('__pregel_pull', '__start__'), error=None, interrupts=(), state=None),))\n"
     ]
    }
   ],
   "source": [
    "print(state)"
   ]
  },
  {
   "cell_type": "markdown",
   "id": "b704a72e",
   "metadata": {},
   "source": [
    "**Обратите внимание**, что контрольные точки сохраняются для каждого шага графа. Это __вызовы__, вы можете откатиться через всю историю потока. Мы выбрали `to_replay` как состояние для возобновления. Это состояние после узла `chatbot` во втором вызове графа выше.\n",
    "\n",
    "Возобновление с этой точки должно вызвать узел **action** далее."
   ]
  },
  {
   "cell_type": "code",
   "execution_count": 202,
   "id": "de8d5521-8d71-4093-a657-4920c790802f",
   "metadata": {},
   "outputs": [
    {
     "name": "stdout",
     "output_type": "stream",
     "text": [
      "()\n",
      "{'configurable': {'thread_id': '1', 'checkpoint_ns': '', 'checkpoint_id': '1ef775ca-b326-699e-8006-8ca7ec9b9ad3'}}\n"
     ]
    }
   ],
   "source": [
    "print(to_replay.next)\n",
    "print(to_replay.config)"
   ]
  },
  {
   "cell_type": "markdown",
   "id": "ee11f75e",
   "metadata": {},
   "source": [
    "**Обратите внимание**, что конфигурация контрольной точки (`to_replay.config`) содержит **метку времени** `thread_ts`. Предоставление этого значения `thread_ts` говорит контрольной точке LangGraph **загрузить** состояние с этого момента времени. Давайте попробуем это ниже:"
   ]
  },
  {
   "cell_type": "code",
   "execution_count": 205,
   "id": "85f17be3-eaf6-495e-a846-49436916b4ab",
   "metadata": {},
   "outputs": [
    {
     "name": "stdout",
     "output_type": "stream",
     "text": [
      "==================================\u001b[1m Ai Message \u001b[0m==================================\n",
      "\n",
      "Звучит интересно! LangGraph действительно может помочь в создании сложных и многоагентных систем. Если у вас есть конкретные вопросы о том, как начать работу с этим инструментом или какие возможности он предоставляет, я с удовольствием помогу вам разобраться.\n"
     ]
    }
   ],
   "source": [
    "# The `thread_ts` in the `to_replay.config` corresponds to a state we've persisted to our checkpointer.\n",
    "for event in graph.stream(None, to_replay.config, stream_mode=\"values\"):\n",
    "    if \"messages\" in event:\n",
    "        event[\"messages\"][-1].pretty_print()"
   ]
  },
  {
   "cell_type": "markdown",
   "id": "5a595d35",
   "metadata": {},
   "source": [
    "Обратите внимание, что граф возобновил выполнение с узла `**action**`. Вы можете сказать, что это так, поскольку первое значение, напечатанное выше, является ответом от нашего инструмента поисковой системы.\n",
    "\n",
    "**Поздравляем!** Теперь вы использовали обход контрольных точек путешествия во времени в LangGraph. Возможность откатиться и исследовать альтернативные пути открывает мир возможностей для отладки, экспериментов и интерактивных приложений."
   ]
  },
  {
   "cell_type": "markdown",
   "id": "719151b2",
   "metadata": {},
   "source": [
    "## Заключение\n",
    "\n",
    "Поздравляем! Вы завершили вводный учебник и создали чат-бота в LangGraph, который поддерживает вызов инструментов, постоянную память, интерактивность с человеком в петле и даже путешествие во времени!\n",
    "\n",
    "[Документация LangGraph](https://langchain-ai.github.io/langgraph/) — отличный ресурс для более глубокого погружения в возможности библиотеки."
   ]
  }
 ],
 "metadata": {
  "kernelspec": {
   "display_name": "Python 3 (ipykernel)",
   "language": "python",
   "name": "python3"
  },
  "language_info": {
   "codemirror_mode": {
    "name": "ipython",
    "version": 3
   },
   "file_extension": ".py",
   "mimetype": "text/x-python",
   "name": "python",
   "nbconvert_exporter": "python",
   "pygments_lexer": "ipython3",
   "version": "3.9.19"
  }
 },
 "nbformat": 4,
 "nbformat_minor": 5
}
