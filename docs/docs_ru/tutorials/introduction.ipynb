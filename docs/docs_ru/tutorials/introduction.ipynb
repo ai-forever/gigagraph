{
 "cells": [
  {
   "cell_type": "markdown",
   "id": "74306277",
   "metadata": {},
   "source": [
    "# Быстрый Старт\n",
    "В этом кратком руководстве мы создадим чат-бота в LangGraph, который сможет:\n",
    "\n",
    "- Отвечать на распространенные вопросы, выполнив поиск в Интернете.\n",
    "- Сохранять состояния разговора во время вызова агента\n",
    "- Направлять сложные запросы на рассмотрение человеку\n",
    "- Использовать пользовательское состояние для управлением дальнейшим поведением \n",
    "- Перематывать назад и исследовать альтернативные пути разговора\n",
    "\n",
    "\n",
    "Мы начнем с базового чат-бота и постепенно будем добавлять более сложные возможности, попутно знакомя с ключевыми концепциями LangGraph"
   ]
  },
  {
   "cell_type": "code",
   "execution_count": null,
   "outputs": [],
   "source": [
    "!pip install -U gigachain_community gigagraph duckduckgo-search"
   ],
   "metadata": {
    "collapsed": false,
    "pycharm": {
     "is_executing": true
    }
   }
  },
  {
   "cell_type": "code",
   "execution_count": 3,
   "outputs": [],
   "source": [
    "import getpass\n",
    "import os\n",
    "\n",
    "if \"GIGACHAT_CREDENTIALS\" not in os.environ:\n",
    "    os.environ[\"GIGACHAT_CREDENTIALS\"] = getpass.getpass(\"Введите credentials от GigaChat\")\n",
    "\n",
    "if \"GIGACHAT_SCOPE\" not in os.environ:\n",
    "    os.environ[\"GIGACHAT_SCOPE\"] = getpass.getpass(\"Введите scope от GigaChat\")"
   ],
   "metadata": {
    "collapsed": false
   }
  },
  {
   "cell_type": "markdown",
   "id": "b6d81726",
   "metadata": {},
   "source": [
    "## Часть 1. Создайте базового чат-бота\n",
    "Сначала мы создадим простого чат-бота, используя LangGraph. Этот чат-бот будет напрямую отвечать на сообщения пользователей. Несмотря на простоту, он иллюстрирует основные концепции построения с помощью LangGraph. К концу этого раздела у вас будет встроенный элементарный чат-бот.\n",
    "\n",
    "Начните с создания `StateGraph`. Объект `StateGraph` определяет структуру нашего чат-бота как \"state machine\". Мы добавим узлы `nodes` для представления llm и функций, которые может вызывать наш чат-бот, а также ребра `edges`, чтобы указать, как бот должен переходить между этими функциями."
   ]
  },
  {
   "cell_type": "code",
   "execution_count": 8,
   "id": "e58df974-7579-4f25-9d91-66389b94eba2",
   "metadata": {},
   "outputs": [],
   "source": [
    "from typing import Annotated\n",
    "\n",
    "from typing_extensions import TypedDict\n",
    "\n",
    "from langgraph.graph import StateGraph, START, END\n",
    "from langgraph.graph.message import add_messages\n",
    "\n",
    "\n",
    "class State(TypedDict):\n",
    "    # Messages have the type \"list\". The `add_messages` function\n",
    "    # in the annotation defines how this state key should be updated\n",
    "    # (in this case, it appends messages to the list, rather than overwriting them)\n",
    "    messages: Annotated[list, add_messages]\n",
    "\n",
    "\n",
    "graph_builder = StateGraph(State)"
   ]
  },
  {
   "cell_type": "markdown",
   "id": "b150036e",
   "metadata": {},
   "source": [
    "### Примечание\n",
    "\n",
    "Первое, что вы делаете при определении графа, — это определяете **`State`** графа. **`State`** состоит из схемы графа, а также функций-редьюсеров, которые определяют, как применять обновления к состоянию. В нашем примере **`State`** — это **`TypedDict`** с одним ключом: **`messages`**. Ключ **`messages`** аннотирован функцией-редьюсером [**`add_messages`**](https://langchain-ai.github.io/langgraph/reference/graphs/?h=add+messages#add_messages), которая указывает LangGraph добавлять новые сообщения в существующий список, а не перезаписывать его. Ключи состояния без аннотации будут перезаписаны каждым обновлением, сохраняя только последнее значение. Ознакомьтесь с [этим концептуальным руководством](https://langchain-ai.github.io/langgraph/reference/graphs/?h=add+messages#add_messages), чтобы узнать больше о состоянии, редьюсерах и других низкоуровневых концепциях."
   ]
  },
  {
   "cell_type": "markdown",
   "id": "30ad5813",
   "metadata": {},
   "source": [
    "Теперь наш граф знает две вещи:\n",
    "\n",
    "1. Каждый определенный `node` будет получать текущий `State` в качестве входных данных и возвращать значение, которое обновляет это состояние.\n",
    "2. `messages` будут *добавляться* к текущему списку, а не перезаписываться напрямую. Это указывается с помощью предустановленной функции [`add_messages`](https://langchain-ai.github.io/langgraph/reference/graphs/?h=add+messages#add_messages) в синтаксисе `Annotated`.\n",
    "\n",
    "Далее, добавьте узел \"`chatbot`\". Nodes представляют собой единицы графа. Обычно они являются обычными функциями Python."
   ]
  },
  {
   "cell_type": "code",
   "execution_count": 9,
   "id": "bf23eba6",
   "metadata": {},
   "outputs": [],
   "source": [
    "from langchain_community.chat_models.gigachat import GigaChat\n",
    "\n",
    "llm = GigaChat(\n",
    "    model=\"GigaChat-Pro\",\n",
    "    verify_ssl_certs=False,\n",
    "    timeout=1200\n",
    ")\n",
    "\n",
    "\n",
    "def chatbot(state: State):\n",
    "    return {\"messages\": [llm.invoke(state[\"messages\"])]}\n",
    "\n",
    "\n",
    "# The first argument is the unique node name\n",
    "# The second argument is the function or object that will be called whenever\n",
    "# the node is used.\n",
    "graph_builder.add_node(\"chatbot\", chatbot)"
   ]
  },
  {
   "cell_type": "markdown",
   "id": "1e8ff699",
   "metadata": {},
   "source": [
    "**Обратите внимание**, как функция узла `chatbot` принимает текущий `State` в качестве входных данных и возвращает словарь, содержащий обновленный список `messages` под ключом \"messages\". Это базовый шаблон для всех функций узлов LangGraph.\n",
    "\n",
    "Функция `add_messages` в нашем `State` будет добавлять сообщения от llm к уже существующим сообщениям в состоянии.\n",
    "\n",
    "Далее, добавьте `entry` точку. Это указывает нашему графу **откуда начинать работу** каждый раз, когда мы его запускаем."
   ]
  },
  {
   "cell_type": "code",
   "execution_count": 10,
   "id": "e331e10d-ebcf-4144-9bd3-999b4d656dd3",
   "metadata": {},
   "outputs": [],
   "source": [
    "graph_builder.add_edge(START, \"chatbot\")"
   ]
  },
  {
   "cell_type": "markdown",
   "id": "0499c318-d1e6-46fa-a652-8f9e65313355",
   "metadata": {},
   "source": [
    "Аналогично, установите `finish` точку. Это инструктирует граф **\"всякий раз, когда этот узел запускается, можно завершить работу.\"**"
   ]
  },
  {
   "cell_type": "code",
   "execution_count": 11,
   "id": "075f0929-3591-4852-b2d3-eaadde40662d",
   "metadata": {},
   "outputs": [],
   "source": [
    "graph_builder.add_edge(\"chatbot\", END)"
   ]
  },
  {
   "cell_type": "markdown",
   "id": "65a9b88c-2c53-4d95-8eb1-d544a8946f65",
   "metadata": {},
   "source": [
    "Наконец, мы захотим запустить наш граф. Для этого вызовите метод \"`compile()`\" на построителе графа. Это создает \"`CompiledGraph`\", который мы можем использовать для вызова."
   ]
  },
  {
   "cell_type": "code",
   "execution_count": 12,
   "id": "0bb67a01-cf5c-4625-8c07-6e8c0af50fca",
   "metadata": {},
   "outputs": [],
   "source": [
    "graph = graph_builder.compile()"
   ]
  },
  {
   "cell_type": "markdown",
   "id": "0c39407b-d6f6-48a4-b1f6-31fc7f88b275",
   "metadata": {},
   "source": [
    "Вы можете визуализировать граф с помощью метода **`get_graph`** и одного из методов \"draw\", таких как **`draw_ascii`** или **`draw_png`**. Методы **`draw`** требуют дополнительных зависимостей"
   ]
  },
  {
   "cell_type": "code",
   "execution_count": 13,
   "id": "38c1824f",
   "metadata": {},
   "outputs": [
    {
     "data": {
      "image/jpeg": "[encoded data removed]",
      "text/plain": "<IPython.core.display.Image object>"
     },
     "metadata": {},
     "output_type": "display_data"
    }
   ],
   "source": [
    "from IPython.display import Image, display\n",
    "\n",
    "try:\n",
    "    display(Image(graph.get_graph().draw_mermaid_png()))\n",
    "except Exception:\n",
    "    # This requires some extra dependencies and is optional\n",
    "    pass"
   ]
  },
  {
   "cell_type": "markdown",
   "id": "a98097a3-a126-4081-b21e-697ec1185fff",
   "metadata": {},
   "source": [
    "Now let's run the chatbot! \n",
    "\n",
    "**Tip:** You can exit the chat loop at any time by typing \"quit\", \"exit\", or \"q\"."
   ]
  },
  {
   "cell_type": "code",
   "execution_count": 14,
   "id": "7afb4c9a-7404-4e92-9945-36f372015f08",
   "metadata": {},
   "outputs": [
    {
     "name": "stdout",
     "output_type": "stream",
     "text": [
      "User: Привет, меня зовут Артем\n",
      "Assistant: Здравствуйте, Артем! Я генеративная языковая модель от Сбера. Готова ответить на ваши вопросы.\n",
      "User: Кто выиграл Евро-2024?\n",
      "Assistant: Чемпионат Европы по футболу 2024 года пройдёт в Германии с 14 июня по 14 июля. Это будет третий турнир в истории европейского футбола, когда финальная часть чемпионата состоится в одной стране. Ранее такое было в 1960 и 1988 году во Франции и Германии соответственно. В 2024 году первенство континента пройдёт в десяти городах Германии. Матчи турнира примут Берлин, Дортмунд, Дюссельдорф, Франкфурт-на-Майне, Гамбург, Гельзенкирхен, Кёльн, Лейпциг, Мюнхен и Штутгарт. Действующим чемпионом является сборная Италии.\n",
      "User: Как меня зовут?\n",
      "Assistant: Я не могу знать вашего имени, но готова сгенерировать для вас текст по интересующей теме, написать код на Python, стихотворение или рассказ, а также ответить на вопросы и поддерживать беседу.\n",
      "User: \n",
      "Конец Диалога!\n"
     ]
    }
   ],
   "source": [
    "while True:\n",
    "    user_input = input(\"User: \")\n",
    "    print(\"User:\", user_input)\n",
    "    if user_input.lower() in [\"quit\", \"exit\", \"q\", \" \", \"\"]:\n",
    "        print(\"Конец Диалога!\")\n",
    "        break\n",
    "    for event in graph.stream({\"messages\": (\"user\", user_input)}):\n",
    "        for value in event.values():\n",
    "            print(\"Assistant:\", value[\"messages\"][-1].content)"
   ]
  },
  {
   "cell_type": "markdown",
   "id": "7cd6b102",
   "metadata": {},
   "source": [
    "**Поздравляем!** Вы создали свой первый чат-бот с использованием LangGraph. Этот бот может вести базовый разговор, принимая ввод пользователя и генерируя ответы с использованием LLM. Вы можете проверить [LangSmith Trace](https://smith.langchain.com/public/29ab0177-1177-4d25-9341-17ae7d94e0e0/r) для вызова выше по предоставленной ссылке.\n",
    "\n",
    "Однако вы могли заметить, что знания бота ограничены тем, что есть в его обучающих данных. В следующей части мы добавим инструмент веб-поиска, чтобы расширить знания бота и сделать его более способным.\n",
    "\n",
    "Ниже приведен полный код для этого раздела для вашего ознакомления:\n",
    "\n",
    "<details>\n",
    "<summary>Полный код</summary>\n",
    "    <pre>\n",
    "        \n",
    "```python\n",
    "from typing import Annotated\n",
    "\n",
    "from langchain_community.chat_models.gigachat import GigaChat\n",
    "from typing_extensions import TypedDict\n",
    "\n",
    "from langgraph.graph import StateGraph\n",
    "from langgraph.graph.message import add_messages\n",
    "\n",
    "\n",
    "class State(TypedDict):\n",
    "    messages: Annotated[list, add_messages]\n",
    "\n",
    "\n",
    "graph_builder = StateGraph(State)\n",
    "\n",
    "llm = GigaChat(\n",
    "    model=\"GigaChat-Pro\",\n",
    "    verify_ssl_certs=False,\n",
    "    timeout=1200\n",
    ")\n",
    "\n",
    "\n",
    "def chatbot(state: State):\n",
    "    return {\"messages\": [llm.invoke(state[\"messages\"])]}\n",
    "\n",
    "\n",
    "# Первый аргумент — уникальное имя узла\n",
    "# Второй аргумент — функция или объект, который будет вызываться всякий раз,\n",
    "# когда используется узел.\n",
    "graph_builder.add_node(\"chatbot\", chatbot)\n",
    "graph_builder.set_entry_point(\"chatbot\")\n",
    "graph_builder.set_finish_point(\"chatbot\")\n",
    "graph = graph_builder.compile()\n",
    "```\n",
    "\n",
    "</pre>\n",
    "</details>"
   ]
  },
  {
   "cell_type": "markdown",
   "id": "11c82b17",
   "metadata": {},
   "source": [
    "## Часть 2: Улучшение чат-бота с помощью инструментов\n",
    "\n",
    "Чтобы обрабатывать запросы, на которые наш чат-бот не может ответить \"из памяти\", мы интегрируем инструмент веб-поиска. Наш бот сможет использовать этот инструмент для поиска релевантной информации и предоставления более качественных ответов."
   ]
  },
  {
   "cell_type": "code",
   "execution_count": 17,
   "id": "7c6fd09c",
   "metadata": {},
   "outputs": [
    {
     "data": {
      "text/plain": "'Испания обыграла Англию в финале Евро-2024 со счётом 2:1. Таким образом, защитник сборной Испании и мадридского «Реала» Даниэль Карвахаль выиграл Евро-2024, Лигу чемпионов и Ла Лигу в один год. ЕВРО-2024 проходит на 10 немецких аренах мирового уровня. LIVE 14.07.2024 Результаты сборной Испании Article body. ЕВРО-2024 завершился финальным матчем в Берлине, где Испания победила Англию со счетом 2:1. Самое время ... Для тех, кто любит спорт ... Помимо Евро-2024, испанцы играли в финале турнира в 1964, 1984, 2008, 2012 годах. Из этих четырёх матчей в трёх встречах (кроме игры в 1984 году) Испания одерживала победу. ... Кто судил финал ЕВРО-2024? ... единственный, кто выиграл ЕВРО как игрок и тренер (ФРГ 1972, Германия 1996). Правда, в ...'"
     },
     "execution_count": 17,
     "metadata": {},
     "output_type": "execute_result"
    }
   ],
   "source": [
    "from langchain_community.tools import DuckDuckGoSearchRun\n",
    "\n",
    "tool = DuckDuckGoSearchRun(max_results=2)\n",
    "tools = [tool]\n",
    "tool.invoke(\"Кто выиграл Евро-2024 ?\")"
   ]
  },
  {
   "cell_type": "markdown",
   "id": "63efb27a",
   "metadata": {},
   "source": [
    "Результаты представляют собой сводки страниц, которые наш чат-бот может использовать для ответов на вопросы.\n",
    "\n",
    "Далее, мы начнем определять наш граф. Всё нижеследующее **такое же, как в Части 1**, за исключением того, что мы добавили `bind_tools` на наш LLM. Это позволяет LLM знать правильный формат JSON для использования, если он хочет использовать наш поисковый движок."
   ]
  },
  {
   "cell_type": "code",
   "execution_count": 35,
   "id": "dc5af88b-47d2-43bf-9a2c-6c07506b1732",
   "metadata": {},
   "outputs": [],
   "source": [
    "from typing import Annotated\n",
    "\n",
    "from typing_extensions import TypedDict\n",
    "\n",
    "from langgraph.graph import StateGraph, START\n",
    "from langgraph.graph.message import add_messages\n",
    "\n",
    "from langchain_community.chat_models.gigachat import GigaChat\n",
    "\n",
    "\n",
    "class State(TypedDict):\n",
    "    messages: Annotated[list, add_messages]\n",
    "\n",
    "\n",
    "graph_builder = StateGraph(State)\n",
    "\n",
    "llm = GigaChat(\n",
    "    model=\"GigaChat-Pro\",\n",
    "    verify_ssl_certs=False,\n",
    "    timeout=1200\n",
    ")\n",
    "\n",
    "\n",
    "\n",
    "# Modification: tell the LLM which tools it can call\n",
    "llm_with_tools = llm.bind_tools(tools)\n",
    "\n",
    "\n",
    "def chatbot(state: State):\n",
    "    return {\"messages\": [llm_with_tools.invoke(state[\"messages\"])]}\n",
    "\n",
    "\n",
    "graph_builder.add_node(\"chatbot\", chatbot)"
   ]
  },
  {
   "cell_type": "markdown",
   "id": "3ac49da0",
   "metadata": {},
   "source": [
    "Далее нам нужно создать функцию для фактического запуска инструментов, если они вызываются. Мы сделаем это, добавив инструменты в новый узел.\n",
    "\n",
    "Ниже реализован `BasicToolNode`, который проверяет последнее сообщение в состоянии и вызывает инструменты, если сообщение содержит `tool_calls`. Он опирается на поддержку `tool_calling` LLM, которая доступна в Anthropic, OpenAI, Google Gemini и ряде других поставщиков LLM.\n",
    "\n",
    "Позже мы заменим это на предустановленный [ToolNode](https://langchain-ai.github.io/langgraph/reference/prebuilt/#toolnode) LangGraph, чтобы ускорить процесс, но сначала построить его самостоятельно будет поучительно."
   ]
  },
  {
   "cell_type": "code",
   "execution_count": 36,
   "id": "12f1fc14-cd91-4cd4-9f2e-1d007f8beafc",
   "metadata": {},
   "outputs": [],
   "source": [
    "import json\n",
    "\n",
    "\n",
    "class BasicToolNode:\n",
    "    \"\"\"\n",
    "    Класс для создания ноды с функциями\n",
    "    (P.S. Необходим такой Тип ноды, чтобы аналогично LLM, функция возвращала сообщение о её выполнении)\n",
    "    \"\"\"\n",
    "\n",
    "    def __init__(self, tools: list) -> None:\n",
    "        self.tools_by_name = {tool.name: tool for tool in tools}\n",
    "\n",
    "    def __call__(self, inputs: dict): # Метод вызова всех функций, которые запросила модель\n",
    "        if messages := inputs.get(\"messages\", []):\n",
    "            message = messages[-1]\n",
    "        else:\n",
    "            raise ValueError(\"No message found in input\")\n",
    "        outputs = []\n",
    "        for tool_call in message.tool_calls:\n",
    "            tool_result = self.tools_by_name[tool_call[\"name\"]].invoke(\n",
    "                tool_call[\"args\"]\n",
    "            )\n",
    "            outputs.append(\n",
    "                ToolMessage(\n",
    "                    content=json.dumps(tool_result, ensure_ascii=False),\n",
    "                    name=tool_call[\"name\"],\n",
    "                    tool_call_id=tool_call[\"id\"],\n",
    "                )\n",
    "            )\n",
    "        return {\"messages\": outputs}\n",
    "\n",
    "\n",
    "tool_node = BasicToolNode(tools=[tool])\n",
    "graph_builder.add_node(\"tools\", tool_node)"
   ]
  },
  {
   "cell_type": "markdown",
   "id": "6f310fb9",
   "metadata": {},
   "source": [
    "С добавленным `tool node`, мы можем определить `conditional_edges`.\n",
    "\n",
    "Вспомните, что **ребра** направляют поток управления от одного узла к следующему. **Условные ребра** обычно содержат \"if\" операторы для направления к различным узлам в зависимости от текущего состояния графа. Эти функции получают текущее состояние графа и возвращают строку или список строк, указывающих, какие узлы вызывать дальше.\n",
    "\n",
    "Ниже определите функцию маршрутизации под названием `route_tools`, которая проверяет наличие `tool_calls` в выводе чат-бота. Предоставьте эту функцию графу, вызвав `add_conditional_edges`, что сообщает графу, что всякий раз, когда узел `chatbot` завершает работу, нужно проверить эту функцию, чтобы увидеть, куда идти дальше.\n",
    "\n",
    "Условие будет направлять к `tools`, если присутствуют вызовы инструментов, и к \"`__end__`\", если нет.\n",
    "\n",
    "Позже мы заменим это на предустановленный [tools_condition](https://langchain-ai.github.io/langgraph/reference/prebuilt/#tools_condition), чтобы быть более краткими, но сначала реализовав это самостоятельно, мы сделаем вещи более понятными."
   ]
  },
  {
   "cell_type": "code",
   "execution_count": 37,
   "id": "d662df94-66ac-4c6c-92f0-4c93620f1c74",
   "metadata": {},
   "outputs": [],
   "source": [
    "from typing import Literal\n",
    "\n",
    "\n",
    "def route_tools(\n",
    "    state: State,\n",
    ") -> Literal[\"tools\", \"__end__\"]:\n",
    "    \"\"\"\n",
    "    Используйте в conditional_edge для маршрутизации к ToolNode, если последнее сообщение\n",
    "    имеет вызовы инструментов(tool calls). В противном случае маршрутизируйте к __end__\n",
    "\n",
    "    \"\"\"\n",
    "    if isinstance(state, list):\n",
    "        ai_message = state[-1]\n",
    "    elif messages := state.get(\"messages\", []):\n",
    "        ai_message = messages[-1]\n",
    "    else:\n",
    "        raise ValueError(f\"No messages found in input state to tool_edge: {state}\")\n",
    "    if hasattr(ai_message, \"tool_calls\") and len(ai_message.tool_calls) > 0:\n",
    "        return \"tools\"\n",
    "    return \"__end__\"\n",
    "\n",
    "\n",
    "# The `tools_condition` function returns \"tools\" if the chatbot asks to use a tool, and \"__end__\" if\n",
    "# it is fine directly responding. This conditional routing defines the main agent loop.\n",
    "graph_builder.add_conditional_edges(\n",
    "    \"chatbot\",\n",
    "    route_tools,\n",
    "    # The following dictionary lets you tell the graph to interpret the condition's outputs as a specific node\n",
    "    # It defaults to the identity function, but if you\n",
    "    # want to use a node named something else apart from \"tools\",\n",
    "    # You can update the value of the dictionary to something else\n",
    "    # e.g., \"tools\": \"my_tools\"\n",
    "    {\"tools\": \"tools\", \"__end__\": \"__end__\"},\n",
    ")\n",
    "# Any time a tool is called, we return to the chatbot to decide the next step\n",
    "graph_builder.add_edge(\"tools\", \"chatbot\")\n",
    "graph_builder.add_edge(START, \"chatbot\")\n",
    "graph = graph_builder.compile()"
   ]
  },
  {
   "cell_type": "markdown",
   "id": "2537bd5e",
   "metadata": {},
   "source": [
    "**Обратите внимание**, что условные ребра начинаются с одного узла. Это говорит графу: \"всякий раз, когда запускается узел '`chatbot`', перейти к 'tools', если он вызывает инструмент, или завершить цикл, если он отвечает напрямую\".\n",
    "\n",
    "Как и в случае с предустановленным `tools_condition`, наша функция возвращает строку \"`__end__`\", если не было вызовов инструментов. Когда граф переходит к `__end__`, у него больше нет задач для выполнения, и он прекращает выполнение. Поскольку условие может вернуть `__end__`, нам не нужно явно устанавливать `finish_point` на этот раз. Наш граф уже имеет способ завершиться!\n",
    "\n",
    "Давайте визуализируем граф, который мы построили. Следующая функция имеет некоторые дополнительные зависимости для запуска, которые не важны для этого руководства."
   ]
  },
  {
   "cell_type": "code",
   "execution_count": 38,
   "id": "d21da1da",
   "metadata": {},
   "outputs": [
    {
     "data": {
      "image/jpeg": "[encoded data removed]",
      "text/plain": "<IPython.core.display.Image object>"
     },
     "metadata": {},
     "output_type": "display_data"
    }
   ],
   "source": [
    "from IPython.display import Image, display\n",
    "\n",
    "try:\n",
    "    display(Image(graph.get_graph().draw_mermaid_png()))\n",
    "except Exception:\n",
    "    # This requires some extra dependencies and is optional\n",
    "    pass"
   ]
  },
  {
   "cell_type": "code",
   "execution_count": 39,
   "id": "051dc374-67cc-4371-9dd1-221e07593148",
   "metadata": {},
   "outputs": [
    {
     "name": "stdout",
     "output_type": "stream",
     "text": [
      "User: Кто выиграл Евро-2024\n",
      "Assistant: Извините, но я не могу предоставить вам актуальную информацию, поскольку чемпионат Европы по футболу 2024 года ещё не состоялся. Он пройдёт с 14 июня по 14 июля 2024 года в Германии. Соответственно, победитель турнира будет определён только после его завершения.\n",
      "User: Кто выиграл Евро-2024, посмотри в интернете\n",
      "Assistant: \n",
      "Assistant: \"Сборная Испании по футболу выиграла Евро-2024, одолев в захватывающем финале англичан, не сумевших повторить ... Как испанская сборная стала чемпионом Европы — в фоторепортаже «РБК Спорт». Финальный матч Евро-2024 между сборными Испании и Англии состоялся на Олимпийском стадионе в Берлине. Бывший ... Сборная Испании победила в финальном матче Чемпионата Европы по футболу, который проходил в Берлине. Сборная Испании обыграла Англию в финале Евро-2024. Матч завершился со счетом 2:1. Голы за испанцев забили Нико Уильямс и Микель Оярсабаль, за англичан — Коул Палмер. Испания в четвертый раз ... Испанцы выиграли чемпионат Европы по футболу 2024 года, выиграв все матчи турнира: итоги Евро-2024 ... для которой большим достижением стал выход в плей-офф на своем дебютном Евро. В ...\"\n",
      "Assistant: Сборная Испании выиграла Евро-2024. В финале они обыграли англичан со счетом 2:1.\n",
      "User: \n",
      "Конец Диалога!\n"
     ]
    }
   ],
   "source": [
    "from langchain_core.messages import BaseMessage\n",
    "\n",
    "while True:\n",
    "    user_input = input(\"User: \")\n",
    "    print(\"User:\", user_input)\n",
    "    if user_input.lower() in [\"quit\", \"exit\", \"q\", \" \", \"\"]:\n",
    "        print(\"Конец Диалога!\")\n",
    "        break\n",
    "    for event in graph.stream({\"messages\": (\"user\", user_input)}):\n",
    "        for value in event.values():\n",
    "            if isinstance(value[\"messages\"][-1], BaseMessage):\n",
    "                print(\"Assistant:\", value[\"messages\"][-1].content)"
   ]
  },
  {
   "cell_type": "code",
   "execution_count": 41,
   "id": "4b322a5c",
   "metadata": {},
   "outputs": [
    {
     "name": "stdout",
     "output_type": "stream",
     "text": [
      "================================\u001B[1m Human Message \u001B[0m=================================\n",
      "\n",
      "Что такое  LangGraph, посмотри в инернете\n",
      "==================================\u001B[1m Ai Message \u001B[0m==================================\n",
      "Tool Calls:\n",
      "  duckduckgo_search (244e9689-4244-4c41-806d-25c6751bd7c8)\n",
      " Call ID: 244e9689-4244-4c41-806d-25c6751bd7c8\n",
      "  Args:\n",
      "    query: LangGraph\n",
      "=================================\u001B[1m Tool Message \u001B[0m=================================\n",
      "Name: duckduckgo_search\n",
      "\n",
      "\"LangGraph is a library within the LangChain ecosystem that simplifies the development of complex, multi-agent large language model (LLM) applications. Learn how to use LangGraph to create stateful, flexible, and scalable systems with nodes, edges, and state management. LangGraph is a package for creating LLM workflows with cycles and multi-agent designs. Learn what multi-agent means, why it is useful, and see examples of LangGraph applications and comparisons with other frameworks. LangGraph doesn't enforce best practices like CrewAI does (for example, role-playing or guardrails). So it can lead to poorer results. I would say that CrewAI is a better framework for newbies and common use cases because it helps you get good results quickly and provides guidance to prevent mistakes. Learn how to build and manage multi-agent applications with LangGraph, a library within the LangChain ecosystem. This tutorial covers key concepts, graph structures, state management, and examples of chatbot and tool integration. LangGraph is a module built on top of LangChain to better enable creation of cyclical graphs, often needed for agent runtimes. One of the big value props of LangChain is the ability to easily create custom chains, also known as flow engineering. Combining LangGraph with LangChain agents, agents can be both directed and cyclic.\"\n",
      "==================================\u001B[1m Ai Message \u001B[0m==================================\n",
      "\n",
      "LangGraph - это библиотека в экосистеме LangChain, которая упрощает разработку сложных приложений с использованием крупных языковых моделей (LLM). Она позволяет создавать гибкие и масштабируемые системы с узлами, ребрами и управлением состоянием. Эта библиотека предназначена для создания рабочих процессов LLM с циклами и многоагентным дизайном.\n",
      "Goodbye!\n"
     ]
    }
   ],
   "source": [
    "# Цикл для отслеживания состояния\n",
    "\n",
    "while True:\n",
    "    user_input = input(\"User: \")\n",
    "    if user_input.lower() in [\"quit\", \"exit\", \"q\", \" \", \"\"]:\n",
    "        print(\"Goodbye!\")\n",
    "        break\n",
    "    for event in graph.stream({\"messages\": [(\"user\", user_input)]}, stream_mode=\"values\"):\n",
    "        event[\"messages\"][-1].pretty_print()"
   ]
  },
  {
   "cell_type": "markdown",
   "id": "bd6354ec",
   "metadata": {},
   "source": [
    "**Поздравляем!** Вы создали разговорного агента в langgraph, который может использовать поисковую систему для получения обновленной информации, когда это необходимо. Теперь он может обрабатывать более широкий спектр запросов пользователей. Чтобы проверить все шаги, которые только что выполнил ваш агент, ознакомьтесь с этим [LangSmith trace](https://smith.langchain.com/public/24b94adc-3356-4d9f-8f94-813f8004fdbe/r).\n",
    "\n",
    "Наш чат-бот по-прежнему не может запоминать прошлые взаимодействия самостоятельно, что ограничивает его способность вести связные многоходовые разговоры. В следующей части мы добавим **память**, чтобы решить эту проблему.\n",
    "\n",
    "Полный код для графа, который мы создали в этом разделе, воспроизведен ниже, заменив наш `BasicToolNode` на предустановленный [ToolNode](https://langchain-ai.github.io/langgraph/reference/prebuilt/#toolnode) и наш `route_tools` условие на предустановленный [tools_condition](https://langchain-ai.github.io/langgraph/reference/prebuilt/#tools_condition).\n",
    "\n",
    "<details>\n",
    "<summary>Полный код</summary>\n",
    "    <pre>\n",
    "\n",
    "```python\n",
    "from typing import Annotated\n",
    "\n",
    "from langchain_community.tools import DuckDuckGoSearchRun\n",
    "from langchain_community.chat_models.gigachat import GigaChat\n",
    "from langchain_core.messages import BaseMessage\n",
    "from typing_extensions import TypedDict\n",
    "\n",
    "from langgraph.graph import StateGraph\n",
    "from langgraph.graph.message import add_messages\n",
    "from langgraph.prebuilt import ToolNode, tools_condition\n",
    "\n",
    "\n",
    "class State(TypedDict):\n",
    "    messages: Annotated[list, add_messages]\n",
    "\n",
    "\n",
    "graph_builder = StateGraph(State)\n",
    "\n",
    "\n",
    "tool = DuckDuckGoSearchRun(max_results=2)\n",
    "tools = [tool]\n",
    "llm = GigaChat(\n",
    "    model=\"GigaChat-Pro\",\n",
    "    verify_ssl_certs=False,\n",
    "    timeout=1200\n",
    ")\n",
    "\n",
    "# Modification: tell the LLM which tools it can call\n",
    "llm_with_tools = llm.bind_tools(tools)\n",
    "\n",
    "\n",
    "def chatbot(state: State):\n",
    "    return {\"messages\": [llm_with_tools.invoke(state[\"messages\"])]}\n",
    "\n",
    "\n",
    "graph_builder.add_node(\"chatbot\", chatbot)\n",
    "\n",
    "tool_node = ToolNode(tools=[tool])\n",
    "graph_builder.add_node(\"tools\", tool_node)\n",
    "\n",
    "graph_builder.add_conditional_edges(\n",
    "    \"chatbot\",\n",
    "    tools_condition,\n",
    ")\n",
    "# Any time a tool is called, we return to the chatbot to decide the next step\n",
    "graph_builder.add_edge(\"tools\", \"chatbot\")\n",
    "graph_builder.set_entry_point(\"chatbot\")\n",
    "graph = graph_builder.compile()\n",
    "```\n",
    "\n",
    "</pre>\n",
    "</details>"
   ]
  },
  {
   "cell_type": "markdown",
   "id": "bb740183",
   "metadata": {},
   "source": [
    "## Часть 3: Добавление памяти в чат-бота\n",
    "\n",
    "Наш чат-бот теперь может использовать инструменты для ответов на вопросы пользователей, но он не запоминает контекст предыдущих взаимодействий. Это ограничивает его способность вести связные многошаговые разговоры.\n",
    "\n",
    "LangGraph решает эту проблему через **создание контрольных точек**. Если вы предоставите `checkpointer` при компиляции графа и `thread_id` при вызове вашего графа, LangGraph автоматически сохраняет состояние после каждого шага. Когда вы снова вызываете граф, используя тот же `thread_id`, граф загружает свое сохраненное состояние, позволяя чат-боту продолжить с того места, где он остановился.\n",
    "\n",
    "Мы увидим позже, что **создание контрольных точек** намного мощнее, чем простое запоминание чата — оно позволяет сохранять и возобновлять сложное состояние в любое время для восстановления ошибок, работы с человеком в цикле, путешествий во времени и многого другого. Но прежде чем мы забежим слишком далеко вперед, давайте добавим создание контрольных точек, чтобы включить многоходовые разговоры.\n",
    "\n",
    "Для начала создайте `MemorySaver` checkpointer."
   ]
  },
  {
   "cell_type": "code",
   "execution_count": 42,
   "id": "6baafdf6-6803-4305-9381-9dc970468a4d",
   "metadata": {},
   "outputs": [],
   "source": [
    "from langgraph.checkpoint.memory import MemorySaver\n",
    "\n",
    "memory = MemorySaver()"
   ]
  },
  {
   "cell_type": "markdown",
   "id": "7b1ee043",
   "metadata": {},
   "source": [
    "**Обратите внимание**, что мы используем `MemorySaver checkpointer`. Это удобно для нашего руководства (всё сохраняется в памяти). В производственном приложении вы, вероятно, захотите изменить это на использование `SqliteSaver` или `PostgresSaver` и подключиться к своей собственной базе данных.\n",
    "\n",
    "Далее определим граф. Теперь, когда вы уже создали свой собственный `BasicToolNode`, мы заменим его на предустановленный `ToolNode` и `tools_condition` из LangGraph, так как они делают некоторые хорошие вещи, такие как параллельное выполнение API. Кроме того, всё остальное скопировано из Части 2."
   ]
  },
  {
   "cell_type": "code",
   "execution_count": 43,
   "id": "e6a51f1e-00de-4701-8931-de8cf19294ae",
   "metadata": {},
   "outputs": [],
   "source": [
    "from typing import Annotated\n",
    "\n",
    "from langchain_core.messages import BaseMessage\n",
    "from typing_extensions import TypedDict\n",
    "\n",
    "from langgraph.graph import StateGraph, START, END\n",
    "from langgraph.graph.message import add_messages\n",
    "from langgraph.prebuilt import ToolNode, tools_condition\n",
    "from langchain_community.tools import DuckDuckGoSearchRun\n",
    "from langchain_community.chat_models.gigachat import GigaChat\n",
    "\n",
    "class State(TypedDict):\n",
    "    messages: Annotated[list, add_messages]\n",
    "\n",
    "\n",
    "graph_builder = StateGraph(State)\n",
    "\n",
    "llm = GigaChat(\n",
    "    model=\"GigaChat-Pro\",\n",
    "    verify_ssl_certs=False,\n",
    "    timeout=1200\n",
    ")\n",
    "\n",
    "\n",
    "tool = DuckDuckGoSearchRun(max_results=2)\n",
    "tools = [tool]\n",
    "\n",
    "\n",
    "llm_with_tools = llm.bind_tools(tools)\n",
    "\n",
    "\n",
    "def chatbot(state: State):\n",
    "    return {\"messages\": [llm_with_tools.invoke(state[\"messages\"])]}\n",
    "\n",
    "\n",
    "graph_builder.add_node(\"chatbot\", chatbot)\n",
    "\n",
    "tool_node = ToolNode(tools=[tool])\n",
    "graph_builder.add_node(\"tools\", tool_node)\n",
    "\n",
    "graph_builder.add_conditional_edges(\n",
    "    \"chatbot\",\n",
    "    tools_condition,\n",
    ")\n",
    "# Any time a tool is called, we return to the chatbot to decide the next step\n",
    "graph_builder.add_edge(\"tools\", \"chatbot\")\n",
    "graph_builder.add_edge(START, \"chatbot\")"
   ]
  },
  {
   "cell_type": "markdown",
   "id": "f1222e68",
   "metadata": {},
   "source": [
    "Наконец, скомпилируйте граф с предоставленным `checkpointer`"
   ]
  },
  {
   "cell_type": "code",
   "execution_count": 44,
   "id": "a06548bf-81fa-4436-b4c1-f68601fb4187",
   "metadata": {},
   "outputs": [],
   "source": [
    "graph = graph_builder.compile(checkpointer=memory)"
   ]
  },
  {
   "cell_type": "markdown",
   "id": "db2cba31",
   "metadata": {},
   "source": [
    "Обратите внимание, что связность графа не изменилась с Части 2. Все, что мы делаем, это сохраняем состояние (`State`) по мере того, как граф проходит через каждый узел."
   ]
  },
  {
   "cell_type": "code",
   "execution_count": 45,
   "id": "761d15fb-d5e2-4d50-a630-126d77e77294",
   "metadata": {},
   "outputs": [
    {
     "data": {
      "image/jpeg": "[encoded data removed]",
      "text/plain": "<IPython.core.display.Image object>"
     },
     "metadata": {},
     "output_type": "display_data"
    }
   ],
   "source": [
    "from IPython.display import Image, display\n",
    "\n",
    "try:\n",
    "    display(Image(graph.get_graph().draw_mermaid_png()))\n",
    "except Exception:\n",
    "    # This requires some extra dependencies and is optional\n",
    "    pass"
   ]
  },
  {
   "cell_type": "markdown",
   "id": "755f3abb",
   "metadata": {},
   "source": [
    "Теперь вы можете взаимодействовать с вашим ботом! Сначала выберите `thread_id`, который будет использоваться в качестве ключа для этого диалога."
   ]
  },
  {
   "cell_type": "code",
   "execution_count": 46,
   "id": "be7b5abb-04ef-4d53-83d1-d4d3139cc43a",
   "metadata": {},
   "outputs": [],
   "source": [
    "config = {\"configurable\": {\"thread_id\": \"1\"}}"
   ]
  },
  {
   "cell_type": "markdown",
   "id": "d0b1a5ee-7fa2-475c-a9db-749694b90ba9",
   "metadata": {},
   "source": [
    "Next, call your chat bot."
   ]
  },
  {
   "cell_type": "code",
   "execution_count": 47,
   "id": "dba1b168-f8e0-496d-9bd6-37198fb4776e",
   "metadata": {},
   "outputs": [
    {
     "name": "stdout",
     "output_type": "stream",
     "text": [
      "================================\u001B[1m Human Message \u001B[0m=================================\n",
      "\n",
      "Привет) Меня зовут Артём!\n",
      "==================================\u001B[1m Ai Message \u001B[0m==================================\n",
      "\n",
      "Здравствуйте, Артём! Я генеративная языковая модель, созданная разработчиками Сбера. Готова ответить на ваши вопросы.\n"
     ]
    }
   ],
   "source": [
    "user_input = \"Привет) Меня зовут Артём!\"\n",
    "\n",
    "# The config is the **second positional argument** to stream() or invoke()!\n",
    "events = graph.stream(\n",
    "    {\"messages\": [(\"user\", user_input)]}, config, stream_mode=\"values\"\n",
    ")\n",
    "for event in events:\n",
    "    event[\"messages\"][-1].pretty_print()"
   ]
  },
  {
   "cell_type": "markdown",
   "id": "fd4dda4f",
   "metadata": {},
   "source": [
    "**Примечание:** Конфигурация была предоставлена как **второй позиционный аргумент** при вызове нашего графа. Важно отметить, что она **не** вложена в входные данные графа (`{'messages': []}`).\n",
    "\n",
    "Давайте зададим продолжение: проверьте, помнит ли он ваше имя."
   ]
  },
  {
   "cell_type": "code",
   "execution_count": 48,
   "id": "f5447778-53d7-47f3-801b-f47bcf2185a0",
   "metadata": {},
   "outputs": [
    {
     "name": "stdout",
     "output_type": "stream",
     "text": [
      "================================\u001B[1m Human Message \u001B[0m=================================\n",
      "\n",
      "Как меня зовут?\n",
      "==================================\u001B[1m Ai Message \u001B[0m==================================\n",
      "\n",
      "Вас зовут Артём.\n"
     ]
    }
   ],
   "source": [
    "user_input = \"Как меня зовут?\"\n",
    "\n",
    "# The config is the **second positional argument** to stream() or invoke()!\n",
    "events = graph.stream(\n",
    "    {\"messages\": [(\"user\", user_input)]}, config, stream_mode=\"values\"\n",
    ")\n",
    "for event in events:\n",
    "    event[\"messages\"][-1].pretty_print()"
   ]
  },
  {
   "cell_type": "code",
   "execution_count": 50,
   "id": "877ff8ee",
   "metadata": {},
   "outputs": [
    {
     "name": "stdout",
     "output_type": "stream",
     "text": [
      "================================\u001B[1m Human Message \u001B[0m=================================\n",
      "\n",
      "Кто выиграл евро-2024, посмотри в интернете\n",
      "==================================\u001B[1m Ai Message \u001B[0m==================================\n",
      "Tool Calls:\n",
      "  duckduckgo_search (84f03ac5-7b45-4410-bab4-2a7feca6dde2)\n",
      " Call ID: 84f03ac5-7b45-4410-bab4-2a7feca6dde2\n",
      "  Args:\n",
      "    query: кто выиграл евро-2024?\n",
      "=================================\u001B[1m Tool Message \u001B[0m=================================\n",
      "Name: duckduckgo_search\n",
      "\n",
      "Испания обыграла Англию в финале Евро-2024 со счётом 2:1. Таким образом, защитник сборной Испании и мадридского «Реала» Даниэль Карвахаль выиграл Евро-2024, Лигу чемпионов и Ла Лигу в один год. ЕВРО-2024 проходит на 10 немецких аренах мирового уровня. LIVE 14.07.2024 Результаты сборной Испании Сборная Испании по футболу выиграла Евро-2024, одолев в захватывающем финале англичан, не сумевших повторить ... Article body. ЕВРО-2024 завершился финальным матчем в Берлине, где Испания победила Англию со счетом 2:1. Самое время ... 192. 15 июля, 00:10. Испания — абсолютный чемпион! Евро выиграла самая достойная команда. Испания обыграла ...\n",
      "==================================\u001B[1m Ai Message \u001B[0m==================================\n",
      "\n",
      "Согласно источнику, Испания выиграла Евро-2024, обыграв в финале Англию.\n",
      "================================\u001B[1m Human Message \u001B[0m=================================\n",
      "\n",
      "Как меня зовут?\n",
      "==================================\u001B[1m Ai Message \u001B[0m==================================\n",
      "\n",
      "Вас зовут Артём.\n",
      "Конец диалога!\n"
     ]
    }
   ],
   "source": [
    "# Цикл для отслеживания состояния\n",
    "\n",
    "from langchain_core.messages import BaseMessage\n",
    "config = {\"configurable\": {\"thread_id\": \"1\"}}\n",
    "\n",
    "while True:\n",
    "    user_input = input(\"User: \")\n",
    "    if user_input.lower() in [\"quit\", \"exit\", \"q\", \" \", \"\"]:\n",
    "        print(\"Конец диалога!\")\n",
    "        break\n",
    "    for event in graph.stream({\"messages\": [(\"user\", user_input)]}, config, stream_mode=\"values\"):\n",
    "        event[\"messages\"][-1].pretty_print()"
   ]
  },
  {
   "cell_type": "markdown",
   "id": "4d3f4ac5",
   "metadata": {},
   "source": [
    "**Обратите внимание**, что мы не используем внешний список для памяти: всё обрабатывается с помощью `checkpointer`! Вы можете изучить полный ход выполнения в этом [LangSmith trace](https://smith.langchain.com/public/48387889-c002-47a8-9f6a-1f6b298db64b/r), чтобы увидеть, что происходит.\n",
    "\n",
    "Не верите мне? Попробуйте это с другой конфигурацией."
   ]
  },
  {
   "cell_type": "code",
   "execution_count": 52,
   "id": "4527cf9a-b191-4bde-858a-e33a74a48c55",
   "metadata": {},
   "outputs": [
    {
     "name": "stdout",
     "output_type": "stream",
     "text": [
      "================================\u001B[1m Human Message \u001B[0m=================================\n",
      "\n",
      "Как меня зовут?\n",
      "==================================\u001B[1m Ai Message \u001B[0m==================================\n",
      "\n",
      "Я не могу знать вашего имени, ведь я всего лишь нейросеть. Но если вы расскажете мне, то я постараюсь запомнить.\n"
     ]
    }
   ],
   "source": [
    "# The only difference is we change the `thread_id` here to \"2\" instead of \"1\"\n",
    "events = graph.stream(\n",
    "    {\"messages\": [(\"user\", \"Как меня зовут?\")]},\n",
    "    {\"configurable\": {\"thread_id\": \"2\"}},\n",
    "    stream_mode=\"values\",\n",
    ")\n",
    "for event in events:\n",
    "    event[\"messages\"][-1].pretty_print()"
   ]
  },
  {
   "cell_type": "markdown",
   "id": "99f346dc",
   "metadata": {},
   "source": [
    "**Обратите внимание**, что **единственное** изменение, которое мы сделали, — это модификация `thread_id` в конфигурации. Сравните этот вызов с [трассой LangSmith](https://smith.langchain.com/public/4647adf6-3835-4ce3-ba39-26ed4f167411/r).\n",
    "\n",
    "К настоящему моменту мы создали несколько контрольных точек в двух разных потоках. Но что входит в контрольную точку? Чтобы проверить `состояние` графа для заданной конфигурации в любой момент времени, вызовите `get_state(config)`."
   ]
  },
  {
   "cell_type": "code",
   "execution_count": 53,
   "id": "0be77c25-1423-4f2d-9b2d-28530cc761a4",
   "metadata": {},
   "outputs": [
    {
     "data": {
      "text/plain": "StateSnapshot(values={'messages': [HumanMessage(content='Привет) Меня зовут Артём!', id='a3992c31-45c7-4f28-af78-ef902ea6a103'), AIMessage(content='Здравствуйте, Артём! Я генеративная языковая модель, созданная разработчиками Сбера. Готова ответить на ваши вопросы.', response_metadata={'token_usage': Usage(prompt_tokens=92, completion_tokens=36, total_tokens=128), 'model_name': 'GigaChat-Pro:2.2.25.3', 'finish_reason': 'stop'}, id='run-211683d9-ca7c-4aa7-b8a0-cd1c57ae9e54-0'), HumanMessage(content='Как меня зовут?', id='1519c732-3297-4507-a7e3-7657e7eae74c'), AIMessage(content='Вас зовут Артём.', response_metadata={'token_usage': Usage(prompt_tokens=140, completion_tokens=10, total_tokens=150), 'model_name': 'GigaChat-Pro:2.2.25.3', 'finish_reason': 'stop'}, id='run-bd5b0538-373a-45e4-aac1-9b54d36cd665-0'), HumanMessage(content='Кто выиграл евро-2024?', id='427c3c32-4588-450d-a072-0a467238c908'), AIMessage(content='Извините, но я не могу предсказать будущее.', response_metadata={'token_usage': Usage(prompt_tokens=166, completion_tokens=14, total_tokens=180), 'model_name': 'GigaChat-Pro:2.2.25.3', 'finish_reason': 'stop'}, id='run-2001d882-884c-41cf-af01-5d4024bceba6-0'), HumanMessage(content='Кто выиграл евро-2024, посмотри в интернете', id='f334adc5-dfea-49a5-884e-8824ed9732ba'), AIMessage(content='', additional_kwargs={'function_call': {'name': 'duckduckgo_search', 'arguments': {'query': 'кто выиграл евро-2024?'}}}, response_metadata={'token_usage': Usage(prompt_tokens=201, completion_tokens=25, total_tokens=226), 'model_name': 'GigaChat-Pro:2.2.25.3', 'finish_reason': 'function_call'}, id='run-0fc3c0b2-3c1d-468c-a1dd-2781b35c0c2e-0', tool_calls=[{'name': 'duckduckgo_search', 'args': {'query': 'кто выиграл евро-2024?'}, 'id': '84f03ac5-7b45-4410-bab4-2a7feca6dde2', 'type': 'tool_call'}]), ToolMessage(content='Испания обыграла Англию в финале Евро-2024 со счётом 2:1. Таким образом, защитник сборной Испании и мадридского «Реала» Даниэль Карвахаль выиграл Евро-2024, Лигу чемпионов и Ла Лигу в один год. ЕВРО-2024 проходит на 10 немецких аренах мирового уровня. LIVE 14.07.2024 Результаты сборной Испании Сборная Испании по футболу выиграла Евро-2024, одолев в захватывающем финале англичан, не сумевших повторить ... Article body. ЕВРО-2024 завершился финальным матчем в Берлине, где Испания победила Англию со счетом 2:1. Самое время ... 192. 15 июля, 00:10. Испания — абсолютный чемпион! Евро выиграла самая достойная команда. Испания обыграла ...', name='duckduckgo_search', id='82c6fbd1-98b0-4805-b832-96e1b632ce0f', tool_call_id='84f03ac5-7b45-4410-bab4-2a7feca6dde2'), AIMessage(content='Согласно источнику, Испания выиграла Евро-2024, обыграв в финале Англию.', response_metadata={'token_usage': Usage(prompt_tokens=461, completion_tokens=28, total_tokens=489), 'model_name': 'GigaChat-Pro:2.2.25.3', 'finish_reason': 'stop'}, id='run-8d97e769-1263-445d-9caa-e7da62d0c00c-0'), HumanMessage(content='Как меня зовут?', id='3b2df551-6fea-4a15-883e-9fb645974684'), AIMessage(content='Вас зовут Артём.', response_metadata={'token_usage': Usage(prompt_tokens=501, completion_tokens=10, total_tokens=511), 'model_name': 'GigaChat-Pro:2.2.25.3', 'finish_reason': 'stop'}, id='run-f07534e9-59e5-4d59-838c-0d493d8daa21-0')]}, next=(), config={'configurable': {'thread_id': '1', 'checkpoint_ns': '', 'checkpoint_id': '1ef89b1d-95bd-65a0-800f-e3882430da29'}}, metadata={'source': 'loop', 'writes': {'chatbot': {'messages': [AIMessage(content='Вас зовут Артём.', response_metadata={'token_usage': Usage(prompt_tokens=501, completion_tokens=10, total_tokens=511), 'model_name': 'GigaChat-Pro:2.2.25.3', 'finish_reason': 'stop'}, id='run-f07534e9-59e5-4d59-838c-0d493d8daa21-0')]}}, 'step': 15, 'parents': {}}, created_at='2024-10-13T22:24:02.066557+00:00', parent_config={'configurable': {'thread_id': '1', 'checkpoint_ns': '', 'checkpoint_id': '1ef89b1d-8bef-66d6-800e-60217f4c9ca4'}}, tasks=())"
     },
     "execution_count": 53,
     "metadata": {},
     "output_type": "execute_result"
    }
   ],
   "source": [
    "snapshot = graph.get_state(config)\n",
    "snapshot"
   ]
  },
  {
   "cell_type": "markdown",
   "id": "2a3e6e51",
   "metadata": {},
   "source": [
    "поскольку граф завершил этот ход, `next` пуст. Если вы извлекаете состояние из вызова графа, next сообщает, какой узел будет выполняться следующим"
   ]
  },
  {
   "cell_type": "code",
   "execution_count": 54,
   "id": "c106bd09-f155-4e15-9120-c60c834106e5",
   "metadata": {},
   "outputs": [
    {
     "data": {
      "text/plain": "()"
     },
     "execution_count": 54,
     "metadata": {},
     "output_type": "execute_result"
    }
   ],
   "source": [
    "snapshot.next  # (since the graph ended this turn, `next` is empty. If you fetch a state from within a graph invocation, next tells which node will execute next)"
   ]
  },
  {
   "cell_type": "markdown",
   "id": "e1640520",
   "metadata": {},
   "source": [
    "Снимок выше содержит текущие значения состояния, соответствующую конфигурацию и узел `next` для обработки. В нашем случае граф достиг состояния `__end__`, поэтому `next` пуст.\n",
    "\n",
    "**Поздравляем!** Ваш чат-бот теперь может поддерживать состояние разговора между сессиями благодаря системе контрольных точек LangGraph. Это открывает захватывающие возможности для более естественных, контекстных взаимодействий. Контрольные точки LangGraph даже обрабатывают **произвольно сложные состояния графа**, что гораздо более выразительно и мощно, чем простое хранение памяти чата.\n",
    "\n",
    "В следующей части мы добавим человеческий надзор в нашего бота, чтобы обрабатывать ситуации, когда ему может потребоваться руководство или проверка перед продолжением.\n",
    "\n",
    "Ознакомьтесь с фрагментом кода ниже, чтобы просмотреть наш граф из этого раздела.\n",
    "\n",
    "<details>\n",
    "<summary>Полный код</summary>\n",
    "<pre>\n",
    "\n",
    "```python\n",
    "from typing import Annotated\n",
    "\n",
    "from langchain_community.chat_models.gigachat import GigaChat\n",
    "from langchain_community.tools import DuckDuckGoSearchRun\n",
    "from langchain_core.messages import BaseMessage\n",
    "from typing_extensions import TypedDict\n",
    "\n",
    "from langgraph.checkpoint.memory import MemorySaver\n",
    "from langgraph.graph import StateGraph\n",
    "from langgraph.graph.message import add_messages\n",
    "from langgraph.prebuilt import ToolNode\n",
    "\n",
    "\n",
    "class State(TypedDict):\n",
    "    messages: Annotated[list, add_messages]\n",
    "\n",
    "\n",
    "graph_builder = StateGraph(State)\n",
    "\n",
    "\n",
    "tool = DuckDuckGoSearchRun(max_results=2)\n",
    "tools = [tool]\n",
    "llm = GigaChat(\n",
    "    model=\"GigaChat-Pro\",\n",
    "    verify_ssl_certs=False,\n",
    "    timeout=1200\n",
    ")\n",
    "llm_with_tools = llm.bind_tools(tools)\n",
    "\n",
    "\n",
    "def chatbot(state: State):\n",
    "    return {\"messages\": [llm_with_tools.invoke(state[\"messages\"])]}\n",
    "\n",
    "\n",
    "graph_builder.add_node(\"chatbot\", chatbot)\n",
    "\n",
    "tool_node = ToolNode(tools=[tool])\n",
    "graph_builder.add_node(\"tools\", tool_node)\n",
    "\n",
    "graph_builder.add_conditional_edges(\n",
    "    \"chatbot\",\n",
    "    tools_condition,\n",
    ")\n",
    "graph_builder.add_edge(\"tools\", \"chatbot\")\n",
    "graph_builder.set_entry_point(\"chatbot\")\n",
    "graph = graph_builder.compile(checkpointer=memory)\n",
    "```\n",
    "</pre>\n",
    "</details>"
   ]
  },
  {
   "cell_type": "markdown",
   "id": "0cdeefcb",
   "metadata": {},
   "source": [
    "## Часть 4: Участие пользователя в цикле\n",
    "\n",
    "Агенты могут быть ненадежными и могут потребовать человеческого вмешательства для успешного выполнения задач. Аналогично, для некоторых действий вы можете захотеть потребовать человеческого одобрения перед запуском, чтобы убедиться, что все работает так, как задумано.\n",
    "\n",
    "LangGraph поддерживает рабочие процессы `human-in-the-loop` несколькими способами. В этом разделе мы будем использовать функциональность `interrupt_before` LangGraph, чтобы всегда прерывать работу узла инструмента.\n",
    "\n",
    "Сначала начните с нашего существующего кода. Ниже приведен код из части 3."
   ]
  },
  {
   "cell_type": "code",
   "execution_count": 55,
   "id": "5a81608a-373a-4339-b1c6-65b73a92b983",
   "metadata": {},
   "outputs": [],
   "source": [
    "from typing import Annotated\n",
    "\n",
    "from typing_extensions import TypedDict\n",
    "from langgraph.checkpoint.memory import MemorySaver\n",
    "\n",
    "from langgraph.graph import StateGraph, START\n",
    "from langgraph.graph.message import add_messages\n",
    "from langgraph.prebuilt import ToolNode, tools_condition\n",
    "\n",
    "from langchain_community.chat_models.gigachat import GigaChat\n",
    "from langchain_community.tools import DuckDuckGoSearchRun\n",
    "\n",
    "memory = MemorySaver()\n",
    "\n",
    "class State(TypedDict):\n",
    "    messages: Annotated[list, add_messages]\n",
    "\n",
    "\n",
    "graph_builder = StateGraph(State)\n",
    "\n",
    "llm = GigaChat(\n",
    "    model=\"GigaChat-Pro\",\n",
    "    verify_ssl_certs=False,\n",
    "    timeout=1200\n",
    ")\n",
    "\n",
    "tool = DuckDuckGoSearchRun(max_results=2)\n",
    "tools = [tool]\n",
    "\n",
    "\n",
    "# Modification: tell the LLM which tools it can call\n",
    "llm_with_tools = llm.bind_tools(tools)\n",
    "\n",
    "\n",
    "def chatbot(state: State):\n",
    "    return {\"messages\": [llm_with_tools.invoke(state[\"messages\"])]}\n",
    "\n",
    "\n",
    "graph_builder.add_node(\"chatbot\", chatbot)\n",
    "\n",
    "tool_node = ToolNode(tools=[tool])\n",
    "graph_builder.add_node(\"tools\", tool_node)\n",
    "\n",
    "graph_builder.add_conditional_edges(\n",
    "    \"chatbot\",\n",
    "    tools_condition,\n",
    ")\n",
    "graph_builder.add_edge(\"tools\", \"chatbot\")\n",
    "graph_builder.add_edge(START, \"chatbot\")"
   ]
  },
  {
   "cell_type": "markdown",
   "id": "97fef20e",
   "metadata": {},
   "source": [
    "Теперь скомпилируйте граф, указав `interrupt_before` для узла `tools`."
   ]
  },
  {
   "cell_type": "code",
   "execution_count": 56,
   "id": "b0883e32-1a39-4ce9-ae32-bbd66708fd84",
   "metadata": {},
   "outputs": [],
   "source": [
    "graph = graph_builder.compile(\n",
    "    checkpointer=memory,\n",
    "    # This is new!\n",
    "    interrupt_before=[\"tools\"], # Прерывать до \n",
    "    # Note: can also interrupt __after__ tools, if desired.\n",
    "    # interrupt_after=[\"tools\"] # Прерывать после \n",
    ")"
   ]
  },
  {
   "cell_type": "code",
   "execution_count": 57,
   "id": "9f318020-ab7e-415b-a5e2-eddec6d9f3a6",
   "metadata": {},
   "outputs": [
    {
     "name": "stdout",
     "output_type": "stream",
     "text": [
      "================================\u001B[1m Human Message \u001B[0m=================================\n",
      "\n",
      "Я изучаю LangGraph. Не могла бы ты рассказать мне об этом подробней, из интернета?\n",
      "==================================\u001B[1m Ai Message \u001B[0m==================================\n",
      "Tool Calls:\n",
      "  duckduckgo_search (8e741f9f-2e0e-4913-b121-afc759b9fed9)\n",
      " Call ID: 8e741f9f-2e0e-4913-b121-afc759b9fed9\n",
      "  Args:\n",
      "    query: LangGraph\n"
     ]
    }
   ],
   "source": [
    "user_input = \"Я изучаю LangGraph. Не могла бы ты рассказать мне об этом подробней, из интернета?\"\n",
    "config = {\"configurable\": {\"thread_id\": \"1\"}}\n",
    "# The config is the **second positional argument** to stream() or invoke()!\n",
    "events = graph.stream(\n",
    "    {\"messages\": [(\"user\", user_input)]}, config, stream_mode=\"values\"\n",
    ")\n",
    "for event in events:\n",
    "    if \"messages\" in event:\n",
    "        event[\"messages\"][-1].pretty_print()"
   ]
  },
  {
   "cell_type": "markdown",
   "id": "4bb05a4d",
   "metadata": {},
   "source": [
    "Давайте проверим состояние графа, чтобы убедиться, что он работает."
   ]
  },
  {
   "cell_type": "code",
   "execution_count": 58,
   "id": "9bb7af46-9b4f-4bb1-b8b9-e9ddf7dbc82c",
   "metadata": {},
   "outputs": [
    {
     "data": {
      "text/plain": "('tools',)"
     },
     "execution_count": 58,
     "metadata": {},
     "output_type": "execute_result"
    }
   ],
   "source": [
    "snapshot = graph.get_state(config)\n",
    "snapshot.next"
   ]
  },
  {
   "cell_type": "markdown",
   "id": "01b3f2ac",
   "metadata": {},
   "source": [
    "**Обратите внимание**, что в отличие от прошлого раза, узел \"next\" установлен на **'tools'**. Мы здесь прервались! Давайте проверим вызов инструмента."
   ]
  },
  {
   "cell_type": "code",
   "execution_count": 59,
   "id": "b5120763",
   "metadata": {},
   "outputs": [
    {
     "data": {
      "text/plain": "{'messages': [HumanMessage(content='Я изучаю LangGraph. Не могла бы ты рассказать мне об этом подробней, из интернета?', id='f399d822-84a4-4a28-bb47-cdd5d0d6630e'),\n  AIMessage(content='', additional_kwargs={'function_call': {'name': 'duckduckgo_search', 'arguments': {'query': 'LangGraph'}}}, response_metadata={'token_usage': Usage(prompt_tokens=102, completion_tokens=18, total_tokens=120), 'model_name': 'GigaChat-Pro:2.2.25.3', 'finish_reason': 'function_call'}, id='run-f64e4566-1c73-4103-a27d-51a2695a6655-0', tool_calls=[{'name': 'duckduckgo_search', 'args': {'query': 'LangGraph'}, 'id': '8e741f9f-2e0e-4913-b121-afc759b9fed9', 'type': 'tool_call'}])]}"
     },
     "execution_count": 59,
     "metadata": {},
     "output_type": "execute_result"
    }
   ],
   "source": [
    "snapshot.values"
   ]
  },
  {
   "cell_type": "code",
   "execution_count": 60,
   "id": "3facda0a-e6ad-4b28-b627-753ad8c90c15",
   "metadata": {},
   "outputs": [
    {
     "data": {
      "text/plain": "[{'name': 'duckduckgo_search',\n  'args': {'query': 'LangGraph'},\n  'id': '8e741f9f-2e0e-4913-b121-afc759b9fed9',\n  'type': 'tool_call'}]"
     },
     "execution_count": 60,
     "metadata": {},
     "output_type": "execute_result"
    }
   ],
   "source": [
    "existing_message = snapshot.values[\"messages\"][-1]\n",
    "existing_message.tool_calls"
   ]
  },
  {
   "cell_type": "markdown",
   "id": "f3b2bc27",
   "metadata": {},
   "source": [
    "Этот запрос кажется разумным. Здесь нечего фильтровать. Простейшее, что может сделать человек, — это просто позволить графу продолжить выполнение. Давайте сделаем это ниже.\n",
    "\n",
    "Далее, продолжим граф! Передача `None` позволит графу продолжить с того места, где он остановился, без добавления чего-либо нового в состояние."
   ]
  },
  {
   "cell_type": "code",
   "execution_count": 61,
   "id": "effb95d9-b7d5-40c5-9253-253d193b23b2",
   "metadata": {},
   "outputs": [
    {
     "name": "stdout",
     "output_type": "stream",
     "text": [
      "==================================\u001B[1m Ai Message \u001B[0m==================================\n",
      "Tool Calls:\n",
      "  duckduckgo_search (8e741f9f-2e0e-4913-b121-afc759b9fed9)\n",
      " Call ID: 8e741f9f-2e0e-4913-b121-afc759b9fed9\n",
      "  Args:\n",
      "    query: LangGraph\n",
      "=================================\u001B[1m Tool Message \u001B[0m=================================\n",
      "Name: duckduckgo_search\n",
      "\n",
      "LangGraph is a library within the LangChain ecosystem that simplifies the development of complex, multi-agent large language model (LLM) applications. Learn how to use LangGraph to create stateful, flexible, and scalable systems with nodes, edges, and state management. LangGraph is a package for creating LLM workflows with cycles and multi-agent designs. Learn what multi-agent means, why it is useful, and see examples of LangGraph applications and comparisons with other frameworks. LangGraph doesn't enforce best practices like CrewAI does (for example, role-playing or guardrails). So it can lead to poorer results. I would say that CrewAI is a better framework for newbies and common use cases because it helps you get good results quickly and provides guidance to prevent mistakes. Learn how to build and manage multi-agent applications with LangGraph, a library within the LangChain ecosystem. This tutorial covers key concepts, graph structures, state management, and examples of chatbot and tool integration. LangGraph is a module built on top of LangChain to better enable creation of cyclical graphs, often needed for agent runtimes. One of the big value props of LangChain is the ability to easily create custom chains, also known as flow engineering. Combining LangGraph with LangChain agents, agents can be both directed and cyclic.\n",
      "==================================\u001B[1m Ai Message \u001B[0m==================================\n",
      "\n",
      "LangGraph - это библиотека в экосистеме LangChain, которая упрощает разработку сложных приложений с использованием больших языковых моделей (LLM) с несколькими агентами. Она позволяет создавать гибкие и масштабируемые системы с узлами, ребрами и управлением состоянием. LangGraph - это пакет для создания рабочих процессов LLM с циклами и многоагентным дизайном. Он не навязывает лучшие практики, как это делает CrewAI, поэтому может привести к худшим результатам. CrewAI лучше подходит для новичков и общих сценариев использования, поскольку помогает быстро получить хорошие результаты и предоставляет рекомендации для предотвращения ошибок. Изучите, как создавать и управлять многоагентными приложениями с помощью LangGraph, библиотеки в экосистеме LangChain. Этот учебник охватывает ключевые концепции, структуры графов, управление состоянием и примеры интеграции чат-ботов и инструментов.\n"
     ]
    }
   ],
   "source": [
    "# `None` will append nothing new to the current state, letting it resume as if it had never been interrupted\n",
    "events = graph.stream(None, config, stream_mode=\"values\")\n",
    "for event in events:\n",
    "    if \"messages\" in event:\n",
    "        event[\"messages\"][-1].pretty_print()"
   ]
  },
  {
   "cell_type": "markdown",
   "id": "aca2483b",
   "metadata": {},
   "source": [
    "Ознакомьтесь с [LangSmith trace](https://smith.langchain.com/public/6a9012c0-bfa2-4fba-8dce-961d233f9512/r) этого вызова, чтобы увидеть точное выполненное в этом вызове задание. Обратите внимание, что состояние загружается на первом шаге, чтобы ваш чат-бот мог продолжить с того места, где он остановился.\n",
    "\n",
    "**Поздравляем!** Вы использовали `interrupt`, чтобы добавить человека в петлю выполнения вашего чат-бота, позволяя человеческому надзору и вмешательству, когда это необходимо. Это открывает потенциал пользовательских интерфейсов, которые вы можете создать с помощью своих систем ИИ. Поскольку мы уже добавили **checkpointer**, граф может быть приостановлен **на неопределенный срок** и возобновлен в любое время, как будто ничего не произошло.\n",
    "\n",
    "Далее мы рассмотрим, как дополнительно настроить поведение бота с помощью пользовательских обновлений состояния.\n",
    "\n",
    "Ниже приведен код, который вы использовали в этом разделе. Единственное отличие от предыдущих частей — это добавление аргумента `interrupt_before`.\n",
    "\n",
    "<details>\n",
    "<summary>Полный код</summary>\n",
    "<pre>\n",
    "\n",
    "```python\n",
    "from typing import Annotated\n",
    "\n",
    "from langchain_community.chat_models.gigachat import GigaChat\n",
    "from langchain_community.tools import DuckDuckGoSearchRun\n",
    "from langchain_core.messages import BaseMessage\n",
    "from typing_extensions import TypedDict\n",
    "\n",
    "from langgraph.checkpoint.memory import MemorySaver\n",
    "from langgraph.graph import StateGraph\n",
    "from langgraph.graph.message import add_messages\n",
    "from langgraph.prebuilt import ToolNode, tools_condition\n",
    "\n",
    "\n",
    "class State(TypedDict):\n",
    "    messages: Annotated[list, add_messages]\n",
    "\n",
    "\n",
    "graph_builder = StateGraph(State)\n",
    "\n",
    "\n",
    "tool = DuckDuckGoSearchRun(max_results=2)\n",
    "tools = [tool]\n",
    "llm = GigaChat(\n",
    "    model=\"GigaChat-Pro\",\n",
    "    verify_ssl_certs=False,\n",
    "    timeout=1200\n",
    ")\n",
    "llm_with_tools = llm.bind_tools(tools)\n",
    "\n",
    "\n",
    "def chatbot(state: State):\n",
    "    return {\"messages\": [llm_with_tools.invoke(state[\"messages\"])]}\n",
    "\n",
    "\n",
    "graph_builder.add_node(\"chatbot\", chatbot)\n",
    "\n",
    "tool_node = ToolNode(tools=[tool])\n",
    "graph_builder.add_node(\"tools\", tool_node)\n",
    "\n",
    "graph_builder.add_conditional_edges(\n",
    "    \"chatbot\",\n",
    "    tools_condition,\n",
    ")\n",
    "graph_builder.add_edge(\"tools\", \"chatbot\")\n",
    "graph_builder.set_entry_point(\"chatbot\")\n",
    "\n",
    "memory = MemorySaver()\n",
    "graph = graph_builder.compile(\n",
    "    checkpointer=memory,\n",
    "    # Это новое!\n",
    "    interrupt_before=[\"tools\"],\n",
    "    # Примечание: можно также прерывать __после__ действий, если это необходимо.\n",
    "    # interrupt_after=[\"tools\"]\n",
    ")\n",
    "```\n",
    "</pre>\n",
    "</details>"
   ]
  },
  {
   "cell_type": "markdown",
   "id": "aa7e2f8b",
   "metadata": {},
   "source": [
    "## Часть 5: Ручное обновление состояния\n",
    "\n",
    "В предыдущем разделе мы показали, как прерывать граф, чтобы человек мог проверить его действия. Это позволяет человеку `читать` состояние, но если он захочет изменить курс агента, ему потребуется `запись` доступа.\n",
    "\n",
    "К счастью, LangGraph позволяет вам **вручную обновлять состояние**! Обновление состояния позволяет вам контролировать траекторию агента, изменяя его действия (даже изменяя прошлое!). Эта возможность особенно полезна, когда вы хотите исправить ошибки агента, исследовать альтернативные пути или направить агента к определенной цели.\n",
    "\n",
    "Ниже мы покажем, как обновить контрольную точку состояния. Как и раньше, сначала определите свой граф. Мы будем использовать точно такой же граф, как и раньше."
   ]
  },
  {
   "cell_type": "code",
   "execution_count": 62,
   "id": "faa345c6-38a2-42e8-9035-9cf56f7bb5b1",
   "metadata": {},
   "outputs": [],
   "source": [
    "from typing import Annotated\n",
    "\n",
    "from typing_extensions import TypedDict\n",
    "from langgraph.checkpoint.memory import MemorySaver\n",
    "\n",
    "from langgraph.graph import StateGraph, START\n",
    "from langgraph.graph.message import add_messages\n",
    "from langgraph.prebuilt import ToolNode, tools_condition\n",
    "\n",
    "\n",
    "from langchain.chat_models.gigachat import GigaChat\n",
    "from langchain_community.tools import DuckDuckGoSearchRun\n",
    "\n",
    "class State(TypedDict):\n",
    "    messages: Annotated[list, add_messages]\n",
    "\n",
    "\n",
    "graph_builder = StateGraph(State)\n",
    "\n",
    "llm = GigaChat(\n",
    "    model=\"GigaChat-Pro\",\n",
    "    verify_ssl_certs=False,\n",
    "    timeout=1200\n",
    ")\n",
    "\n",
    "tool = DuckDuckGoSearchRun(max_results=2)\n",
    "tools = [tool]\n",
    "\n",
    "\n",
    "# Modification: tell the LLM which tools it can call\n",
    "llm_with_tools = llm.bind_tools(tools)\n",
    "\n",
    "\n",
    "def chatbot(state: State):\n",
    "    return {\"messages\": [llm_with_tools.invoke(state[\"messages\"])]}\n",
    "\n",
    "\n",
    "graph_builder.add_node(\"chatbot\", chatbot)\n",
    "\n",
    "tool_node = ToolNode(tools=[tool])\n",
    "graph_builder.add_node(\"tools\", tool_node)\n",
    "\n",
    "graph_builder.add_conditional_edges(\n",
    "    \"chatbot\",\n",
    "    tools_condition,\n",
    ")\n",
    "graph_builder.add_edge(\"tools\", \"chatbot\")\n",
    "graph_builder.add_edge(START, \"chatbot\")\n",
    "\n",
    "memory = MemorySaver()\n",
    "graph = graph_builder.compile(\n",
    "    checkpointer=memory,\n",
    "    # This is new!\n",
    "    interrupt_before=[\"tools\"],\n",
    "    # Note: can also interrupt **after** actions, if desired.\n",
    "    # interrupt_after=[\"tools\"]\n",
    ")\n",
    "\n",
    "user_input = \"Я изучаю LangGraph. Не могла бы ты рассказать мне об этом подробней, из интернета?\"\n",
    "config = {\"configurable\": {\"thread_id\": \"1\"}}\n",
    "# The config is the **second positional argument** to stream() or invoke()!\n",
    "events = graph.stream({\"messages\": [(\"user\", user_input)]}, config)\n",
    "for event in events:\n",
    "    if \"messages\" in event:\n",
    "        event[\"messages\"][-1].pretty_print()"
   ]
  },
  {
   "cell_type": "code",
   "execution_count": 63,
   "id": "a6b3bcae-dd04-49da-a4ef-e05634657faf",
   "metadata": {},
   "outputs": [
    {
     "name": "stdout",
     "output_type": "stream",
     "text": [
      "==================================\u001B[1m Ai Message \u001B[0m==================================\n",
      "Tool Calls:\n",
      "  duckduckgo_search (e3593b35-ea69-48c0-9e4d-4fef0c4778d7)\n",
      " Call ID: e3593b35-ea69-48c0-9e4d-4fef0c4778d7\n",
      "  Args:\n",
      "    query: LangGraph\n"
     ]
    }
   ],
   "source": [
    "snapshot = graph.get_state(config)\n",
    "existing_message = snapshot.values[\"messages\"][-1]\n",
    "existing_message.pretty_print()"
   ]
  },
  {
   "cell_type": "markdown",
   "id": "dd342848",
   "metadata": {},
   "source": [
    "Пока что все это — _точное повторение_ предыдущего раздела. LLM просто запросил использовать инструмент поисковой системы, и наш граф был прерван. Если мы продолжим, как раньше, инструмент будет вызван для поиска в интернете.\n",
    "\n",
    "Но что, если пользователь захочет вмешаться? Что, если мы считаем, что чат-боту не нужно использовать инструмент?\n",
    "\n",
    "Давайте напрямую предоставим правильный ответ!"
   ]
  },
  {
   "cell_type": "code",
   "execution_count": 67,
   "id": "6a44bedc-ea91-4c22-976c-98b3d5a5e4a7",
   "metadata": {},
   "outputs": [
    {
     "name": "stdout",
     "output_type": "stream",
     "text": [
      "==================================\u001B[1m Ai Message \u001B[0m==================================\n",
      "\n",
      "LangGraph - это мармелад\n",
      "\n",
      "\n",
      "Last 2 messages;\n",
      "[ToolMessage(content='LangGraph - это мармелад', id='12d49fa0-9ffd-4cd3-989a-c7680338f85f', tool_call_id='e3593b35-ea69-48c0-9e4d-4fef0c4778d7'), AIMessage(content='LangGraph - это мармелад', id='37c2d342-6bc7-4c81-86a8-2d8acb25a6fe')]\n"
     ]
    }
   ],
   "source": [
    "from langchain_core.messages import AIMessage, ToolMessage\n",
    "\n",
    "answer = (\n",
    "    \"LangGraph - это мармелад\"\n",
    ")\n",
    "new_messages = [\n",
    "    # The LLM API expects some ToolMessage to match its tool call. We'll satisfy that here.\n",
    "    ToolMessage(content=answer, tool_call_id=existing_message.tool_calls[0][\"id\"]), # Как буд-то ответ получен от вызванного tool\n",
    "    # And then directly \"put words in the LLM's mouth\" by populating its response.\n",
    "    AIMessage(content=answer),\n",
    "]\n",
    "\n",
    "new_messages[-1].pretty_print()\n",
    "graph.update_state( # Обновляем состояние графа, заменяя ответ от tool , тем что решил пользователь\n",
    "    # Which state to update\n",
    "    config,\n",
    "    # The updated values to provide. The messages in our `State` are \"append-only\", meaning this will be appended\n",
    "    # to the existing state. We will review how to update existing messages in the next section!\n",
    "    {\"messages\": new_messages},\n",
    ")\n",
    "\n",
    "print(\"\\n\\nLast 2 messages;\")\n",
    "print(graph.get_state(config).values[\"messages\"][-2:])"
   ]
  },
  {
   "cell_type": "markdown",
   "id": "ddca4ccb",
   "metadata": {},
   "source": [
    "Теперь граф завершен, так как мы предоставили окончательное сообщение с ответом! Поскольку обновления состояния имитируют шаг графа, они даже генерируют соответствующие trace. Проверьте [LangSmith trace](https://smith.langchain.com/public/c45207bb-bd26-4c9a-b631-928bbeebfbcb/r) вызова `update_state` выше, чтобы увидеть, что происходит.\n",
    "\n",
    "**Обратите внимание**, что наши новые сообщения _добавляются_ к уже существующим сообщениям в состоянии. Помните, как мы определили тип `State`?\n",
    "\n",
    "```python\n",
    "class State(TypedDict):\n",
    "    messages: Annotated[list, add_messages]\n",
    "```\n",
    "\n",
    "Мы аннотировали `messages` с помощью предустановленной функции `add_messages`. Это инструктирует граф всегда добавлять значения к существующему списку, а не перезаписывать список напрямую. Та же логика применяется здесь, поэтому сообщения, которые мы передали в `update_state`, были добавлены таким же образом!\n",
    "\n",
    "Функция `update_state` работает так, как будто она является одним из узлов вашего графа! По умолчанию операция обновления использует узел, который был выполнен последним, но вы можете указать его вручную ниже. Давайте добавим обновление и скажем графу обрабатывать его так, как будто оно пришло от \"chatbot\"."
   ]
  },
  {
   "cell_type": "code",
   "execution_count": 68,
   "id": "d16d95c3-b465-42ac-8015-26b669d45d1f",
   "metadata": {},
   "outputs": [
    {
     "data": {
      "text/plain": "{'configurable': {'thread_id': '1',\n  'checkpoint_ns': '',\n  'checkpoint_id': '1ef89b2c-cbbc-6458-8005-ab8a7bdd5da5'}}"
     },
     "execution_count": 68,
     "metadata": {},
     "output_type": "execute_result"
    }
   ],
   "source": [
    "graph.update_state(\n",
    "    config,\n",
    "    {\"messages\": [AIMessage(content=\"Я диванный эксперт в области ИИ!\")]},\n",
    "    # Which node for this function to act as. It will automatically continue\n",
    "    # processing as if this node just ran.\n",
    "    as_node=\"chatbot\",\n",
    ")"
   ]
  },
  {
   "cell_type": "markdown",
   "id": "2ed63980",
   "metadata": {},
   "source": [
    "Ознакомьтесь с [trace LangSmith](https://smith.langchain.com/public/ce83989f-6e49-4bdd-bcd5-f54ca55c8d00/r/30b1406a-ae5b-4e9e-9fe5-032be6efb92e) для этого вызова обновления по предоставленной ссылке. **Обратите внимание** на trace, что граф продолжается в ребро `tools_condition`. Мы только что сказали графу обрабатывать обновление `as_node=\"chatbot\"`. Если мы будем следовать диаграмме ниже и начнем с узла `chatbot`, мы естественно окажемся в ребре `tools_condition`, а затем в `__end__`, так как наше обновленное сообщение не содержит вызовов инструментов."
   ]
  },
  {
   "cell_type": "code",
   "execution_count": 69,
   "id": "f4009ba6-dc0b-4216-ab0c-fbb104616f73",
   "metadata": {},
   "outputs": [
    {
     "data": {
      "image/jpeg": "[encoded data removed]",
      "text/plain": "<IPython.core.display.Image object>"
     },
     "metadata": {},
     "output_type": "display_data"
    }
   ],
   "source": [
    "from IPython.display import Image, display\n",
    "\n",
    "try:\n",
    "    display(Image(graph.get_graph().draw_mermaid_png()))\n",
    "except Exception:\n",
    "    # This requires some extra dependencies and is optional\n",
    "    pass"
   ]
  },
  {
   "cell_type": "markdown",
   "id": "e6990d60",
   "metadata": {},
   "source": [
    "Проверьте текущее состояние, как и раньше, чтобы подтвердить, что контрольная точка отражает наши ручные обновления."
   ]
  },
  {
   "cell_type": "code",
   "execution_count": 70,
   "id": "d420e813-a8c7-415d-ab31-5298d42491e4",
   "metadata": {},
   "outputs": [
    {
     "name": "stdout",
     "output_type": "stream",
     "text": [
      "[ToolMessage(content='LangGraph - это мармелад', id='12d49fa0-9ffd-4cd3-989a-c7680338f85f', tool_call_id='e3593b35-ea69-48c0-9e4d-4fef0c4778d7'), AIMessage(content='LangGraph - это мармелад', id='37c2d342-6bc7-4c81-86a8-2d8acb25a6fe'), AIMessage(content='Я диванный эксперт в области ИИ!', id='30eeb218-df6e-4934-8a1c-eacb0839a349')]\n",
      "()\n"
     ]
    }
   ],
   "source": [
    "snapshot = graph.get_state(config)\n",
    "print(snapshot.values[\"messages\"][-3:])\n",
    "print(snapshot.next)"
   ]
  },
  {
   "cell_type": "markdown",
   "id": "7c32ded3",
   "metadata": {},
   "source": [
    "**Обратите внимание**: что мы продолжаем добавлять сообщения AIMessage в state. Поскольку мы действуем как `chatbot` и отвечаем сообщением AIMessage, которое не содержит `tool_calls`, граф знает, что он вошел в завершенное состояние (`next` пуст).\n",
    "\n",
    "#### Что делать, если вы хотите **перезаписать** существующие сообщения?\n",
    "\n",
    "Функция [`add_messages`](https://langchain-ai.github.io/langgraph/reference/graphs/?h=add+messages#add_messages), которую мы использовали для аннотирования состояния графа выше, контролирует, как обновляются сообщения. Эта функция проверяет любые идентификаторы сообщений в новом списке `messages`. Если ID совпадает с сообщением в существующем состоянии, [`add_messages`](https://langchain-ai.github.io/langgraph/reference/graphs/?h=add+messages#add_messages) перезаписывает существующее сообщение новым содержимым.\n",
    "\n",
    "В качестве примера давайте обновим вызов инструмента, чтобы убедиться, что мы получаем хорошие результаты от нашего поисковика! Сначала начните новый поток:"
   ]
  },
  {
   "cell_type": "code",
   "execution_count": 71,
   "id": "9fc99c7e-b61d-4aec-9c62-042798185ec3",
   "metadata": {},
   "outputs": [
    {
     "name": "stdout",
     "output_type": "stream",
     "text": [
      "================================\u001B[1m Human Message \u001B[0m=================================\n",
      "\n",
      "Я изучаю LangGraph. Не могла бы ты рассказать мне об этом подробней, из интернета?\n",
      "==================================\u001B[1m Ai Message \u001B[0m==================================\n",
      "Tool Calls:\n",
      "  duckduckgo_search (4c50b1b0-b30e-4a66-84f8-3a1b007b5a11)\n",
      " Call ID: 4c50b1b0-b30e-4a66-84f8-3a1b007b5a11\n",
      "  Args:\n",
      "    query: LangGraph\n"
     ]
    }
   ],
   "source": [
    "user_input = \"Я изучаю LangGraph. Не могла бы ты рассказать мне об этом подробней, из интернета?\"\n",
    "config = {\"configurable\": {\"thread_id\": \"2\"}}  # we'll use thread_id = 2 here\n",
    "events = graph.stream(\n",
    "    {\"messages\": [(\"user\", user_input)]}, config, stream_mode=\"values\"\n",
    ")\n",
    "for event in events:\n",
    "    if \"messages\" in event:\n",
    "        event[\"messages\"][-1].pretty_print()"
   ]
  },
  {
   "cell_type": "markdown",
   "id": "0ad28672",
   "metadata": {},
   "source": [
    "**Далее**, давайте обновим вызов инструмента для нашего агента. Возможно, мы хотим найти конкретные практические кейсы с использованием подхода human-in-the-loop."
   ]
  },
  {
   "cell_type": "code",
   "execution_count": 72,
   "id": "7215533a-b7e2-4b2d-bc1d-5122b1d06b8b",
   "metadata": {},
   "outputs": [
    {
     "name": "stdout",
     "output_type": "stream",
     "text": [
      "Original\n",
      "Message ID run-83ecdfad-a527-4860-8e4e-e4b4c233f6ee-0\n",
      "{'name': 'duckduckgo_search', 'args': {'query': 'LangGraph'}, 'id': '4c50b1b0-b30e-4a66-84f8-3a1b007b5a11', 'type': 'tool_call'}\n",
      "Updated\n",
      "{'name': 'duckduckgo_search', 'args': {'query': 'LangGraph human-in-the-loop workflow'}, 'id': '4c50b1b0-b30e-4a66-84f8-3a1b007b5a11', 'type': 'tool_call'}\n",
      "Message ID run-83ecdfad-a527-4860-8e4e-e4b4c233f6ee-0\n",
      "\n",
      "\n",
      "Tool calls\n"
     ]
    },
    {
     "data": {
      "text/plain": "[{'name': 'duckduckgo_search',\n  'args': {'query': 'LangGraph human-in-the-loop workflow'},\n  'id': '4c50b1b0-b30e-4a66-84f8-3a1b007b5a11',\n  'type': 'tool_call'}]"
     },
     "execution_count": 72,
     "metadata": {},
     "output_type": "execute_result"
    }
   ],
   "source": [
    "from langchain_core.messages import AIMessage\n",
    "\n",
    "snapshot = graph.get_state(config)\n",
    "existing_message = snapshot.values[\"messages\"][-1]\n",
    "print(\"Original\")\n",
    "print(\"Message ID\", existing_message.id)\n",
    "print(existing_message.tool_calls[0])\n",
    "new_tool_call = existing_message.tool_calls[0].copy()\n",
    "new_tool_call[\"args\"][\"query\"] = \"LangGraph human-in-the-loop workflow\"\n",
    "new_message = AIMessage(\n",
    "    content=existing_message.content,\n",
    "    tool_calls=[new_tool_call],\n",
    "    # Important! The ID is how LangGraph knows to REPLACE the message in the state rather than APPEND this messages\n",
    "    id=existing_message.id,\n",
    ")\n",
    "\n",
    "print(\"Updated\")\n",
    "print(new_message.tool_calls[0])\n",
    "print(\"Message ID\", new_message.id)\n",
    "graph.update_state(config, {\"messages\": [new_message]})\n",
    "\n",
    "print(\"\\n\\nTool calls\")\n",
    "graph.get_state(config).values[\"messages\"][-1].tool_calls"
   ]
  },
  {
   "cell_type": "markdown",
   "id": "2fd57d31",
   "metadata": {},
   "source": [
    "**Обратите внимание**, что мы изменили вызов инструмента ИИ, чтобы искать \"LangGraph human-in-the-loop workflow\" вместо простого \"LangGraph\".\n",
    "\n",
    "Ознакомьтесь с [трассировкой LangSmith](https://smith.langchain.com/public/cd7c09a6-758d-41d4-8de1-64ab838b2338/r), чтобы увидеть вызов обновления состояния — вы можете увидеть, что наше новое сообщение успешно обновило предыдущее сообщение ИИ.\n",
    "\n",
    "Возобновите граф, передавая входные данные `None` и существующую конфигурацию."
   ]
  },
  {
   "cell_type": "code",
   "execution_count": 73,
   "id": "03a09bfc-3d90-4e54-878f-22e3cb28a418",
   "metadata": {},
   "outputs": [
    {
     "name": "stdout",
     "output_type": "stream",
     "text": [
      "==================================\u001B[1m Ai Message \u001B[0m==================================\n",
      "Tool Calls:\n",
      "  duckduckgo_search (4c50b1b0-b30e-4a66-84f8-3a1b007b5a11)\n",
      " Call ID: 4c50b1b0-b30e-4a66-84f8-3a1b007b5a11\n",
      "  Args:\n",
      "    query: LangGraph human-in-the-loop workflow\n",
      "=================================\u001B[1m Tool Message \u001B[0m=================================\n",
      "Name: duckduckgo_search\n",
      "\n",
      "In this video, I'll show you how to handle persistence with LangGraph, enabling a unique Human-in-the-Loop workflow. This approach allows a human to grant an... Adding human-in-the-loop interactions. We've done an excellent job creating a tool to answer questions. However, in many cases, it's beneficial to keep a human in the loop to approve proposed actions or provide additional feedback. Let's add a step where we can collect feedback from a human before returning the final result to the user. TD;LR Key Takeaways : Human in the Loop (HITL) is crucial for maintaining AI accuracy and preventing errors. LangGraph.js is a tool designed to implement HITL in AI workflows. Whether through interrupts or the strategic management of persistence, humans ensure that AI systems remain flexible, ethical, and responsive to real-world needs. By leveraging LangGraph's persistence features, developers can create AI systems that perform optimally and maintain a balance between autonomy and human oversight. Additionally, LangGraph includes built-in persistence, enabling advanced human-in-the-loop and memory features. LangGraph is inspired by Pregel and Apache Beam. The public interface draws inspiration from NetworkX. LangGraph is built by LangChain Inc, the creators of LangChain, but can be used without LangChain. To learn more about LangGraph ...\n",
      "==================================\u001B[1m Ai Message \u001B[0m==================================\n",
      "\n",
      "LangGraph – это инструмент, предназначенный для внедрения взаимодействия с человеком (Human-in-the-Loop, HITL) в рабочие процессы искусственного интеллекта. Он был создан компанией LangChain Inc., разработчиками LangChain. \n",
      "\n",
      "LangGraph предоставляет возможности для сохранения состояния и памяти, что позволяет системам искусственного интеллекта оптимально функционировать и поддерживать баланс между автономией и человеческим контролем. \n",
      "\n",
      "Этот инструмент вдохновлен Pregel и Apache Beam, а его публичный интерфейс основан на NetworkX. В LangGraph включена встроенная поддержка сохранения состояния, что позволяет использовать продвинутые функции HITL и памяти. \n",
      "\n",
      "Введение HITL в рабочие процессы ИИ важно для поддержания точности ИИ и предотвращения ошибок. Это достигается за счет включения человека в процесс принятия решений или предоставления дополнительной обратной связи. \n",
      "\n",
      "Таким образом, LangGraph представляет собой мощный инструмент для создания систем искусственного интеллекта, которые могут адаптироваться к изменяющимся условиям реального мира, оставаясь при этом этичными и отзывчивыми.\n"
     ]
    }
   ],
   "source": [
    "events = graph.stream(None, config, stream_mode=\"values\")\n",
    "for event in events:\n",
    "    if \"messages\" in event:\n",
    "        event[\"messages\"][-1].pretty_print()"
   ]
  },
  {
   "cell_type": "markdown",
   "id": "fafd170c",
   "metadata": {},
   "source": [
    "Ознакомьтесь с [trace](https://smith.langchain.com/public/2d633326-14ad-4248-a391-2757d01851c4/r/6464f2f2-edb4-4ef3-8f48-ee4e249f2ad0), чтобы увидеть вызов инструмента и последующий ответ LLM. **Обратите внимание**, что теперь граф запрашивает поисковую систему, используя наш обновленный термин запроса — мы смогли вручную переопределить поиск LLM здесь!\n",
    "\n",
    "Все это отражено в контрольной точке памяти графа, что означает, что если мы продолжим разговор, он вспомнит все _измененное_ состояние."
   ]
  },
  {
   "cell_type": "code",
   "execution_count": 74,
   "id": "11d5b934-6d8b-4f52-a3bc-b3daa7207e00",
   "metadata": {},
   "outputs": [
    {
     "name": "stdout",
     "output_type": "stream",
     "text": [
      "================================\u001B[1m Human Message \u001B[0m=================================\n",
      "\n",
      "Напомни, что я изучаю?\n",
      "==================================\u001B[1m Ai Message \u001B[0m==================================\n",
      "\n",
      "Вы изучаете LangGraph.\n"
     ]
    }
   ],
   "source": [
    "events = graph.stream(\n",
    "    {\n",
    "        \"messages\": (\n",
    "            \"user\",\n",
    "            \"Напомни, что я изучаю?\",\n",
    "        )\n",
    "    },\n",
    "    config,\n",
    "    stream_mode=\"values\",\n",
    ")\n",
    "for event in events:\n",
    "    if \"messages\" in event:\n",
    "        event[\"messages\"][-1].pretty_print()"
   ]
  },
  {
   "cell_type": "markdown",
   "id": "1818ad02",
   "metadata": {},
   "source": [
    "**Поздравляем!** Вы использовали `interrupt_before` и `update_state`, чтобы вручную изменять состояние как часть human-in-the-loop. Прерывания и модификации состояния позволяют вам контролировать, как ведет себя агент. В сочетании с постоянным созданием контрольных точек это означает, что вы можете `приостановить` действие и `возобновить` его в любой момент.\n",
    "\n",
    "Код графа для этого раздела идентичен предыдущим. Ключевые фрагменты, которые нужно запомнить, — это добавить `.compile(..., interrupt_before=[...])` (или `interrupt_after`), если вы хотите явно приостановить граф всякий раз, когда он достигает узла. Затем вы можете использовать `update_state`, чтобы изменить контрольную точку и контролировать, как граф должен продолжить работу."
   ]
  },
  {
   "cell_type": "markdown",
   "id": "ec52beaf",
   "metadata": {},
   "source": [
    "## Часть 6: Кастомный `State`\n",
    "\n",
    "До сих пор мы полагались на простое `State` (это просто список сообщений!). Вы можете продвинуться далеко с этим простым `State`, но если вы хотите определить сложное поведение, не полагаясь на список сообщений, вы можете добавить дополнительные поля в `State`. В этом разделе мы расширим нашего чат-бота новым узлом, чтобы проиллюстрировать это.\n",
    "\n",
    "В примерах выше мы включали человека детерминированно: граф __всегда__ прерывался, когда вызывался инструмент. Предположим, мы хотим, чтобы наш чат-бот имел возможность полагаться на человека.\n",
    "\n",
    "Один из способов сделать это — создать проходной узел \"human\", перед которым граф всегда будет останавливаться. Мы будем выполнять этот узел только в том случае, если LLM вызовет инструмент \"human\". Для удобства мы добавим флаг \"ask_human\" в состояние нашего графа, который будет равен 1,  если LLM захочет вызвать этот инструмент.\n",
    "\n",
    "Ниже определите этот новый граф с обновленным `State`."
   ]
  },
  {
   "cell_type": "code",
   "execution_count": 75,
   "id": "3cf7e042-1718-4625-ae30-a9917f595449",
   "metadata": {},
   "outputs": [],
   "source": [
    "from typing import Annotated\n",
    "\n",
    "from typing_extensions import TypedDict\n",
    "\n",
    "from langgraph.checkpoint.memory import MemorySaver\n",
    "from langgraph.graph.message import add_messages\n",
    "\n",
    "\n",
    "class State(TypedDict):\n",
    "    messages: Annotated[list, add_messages]\n",
    "    # This flag is new\n",
    "    ask_human: bool"
   ]
  },
  {
   "cell_type": "markdown",
   "id": "28379f8a",
   "metadata": {},
   "source": [
    "Далее определите схему, чтобы показать модели, чтобы она могла решить запросить помощь."
   ]
  },
  {
   "cell_type": "code",
   "execution_count": 89,
   "id": "e5192e54-6a28-42fe-a8a7-62d45d61f994",
   "metadata": {},
   "outputs": [],
   "source": [
    "# NOTE: you must use langchain-core >= 0.3 with Pydantic v2\n",
    "# from pydantic import BaseModel\n",
    "from langchain_core.pydantic_v1 import BaseModel\n",
    "\n",
    "class RequestAssistance(BaseModel):\n",
    "    \"\"\"\n",
    "    Переведите разговор на уровень эксперта. Используйте это, если вы не можете помочь напрямую или если пользователю требуется помощь эксперта, выходящая за рамки ваших разрешений.\n",
    "    Чтобы использовать эту функцию, передайте запрос пользователя, чтобы эксперт мог предоставить правильные рекомендации.\n",
    "    \"\"\"\n",
    "\n",
    "    request: str"
   ]
  },
  {
   "cell_type": "markdown",
   "id": "7ddee807",
   "metadata": {},
   "source": [
    "Далее определите узел чат-бота. Основное изменение здесь — включить флаг `ask_human`, если мы увидим, что чат-бот вызвал флаг `RequestAssistance`."
   ]
  },
  {
   "cell_type": "code",
   "execution_count": 90,
   "id": "fa59b266-14e5-4c75-8b3d-54fac28e8290",
   "metadata": {},
   "outputs": [],
   "source": [
    "from typing import Annotated\n",
    "\n",
    "from langchain_core.messages import BaseMessage\n",
    "from typing_extensions import TypedDict\n",
    "\n",
    "from langgraph.graph import StateGraph, START, END\n",
    "from langgraph.graph.message import add_messages\n",
    "from langgraph.prebuilt import ToolNode, tools_condition\n",
    "\n",
    "from langchain_community.chat_models.gigachat import GigaChat\n",
    "import os\n",
    "from langchain_community.tools import DuckDuckGoSearchRun\n",
    "\n",
    "graph_builder = StateGraph(State)\n",
    "\n",
    "llm = GigaChat(\n",
    "    model=\"GigaChat-Pro\",\n",
    "    verify_ssl_certs=False,\n",
    "    timeout=1200\n",
    ")\n",
    "\n",
    "tool = DuckDuckGoSearchRun(max_results=2)\n",
    "tools = [tool]\n",
    "\n",
    "\n",
    "llm_with_tools = llm.bind_tools(tools + [RequestAssistance])\n",
    "\n",
    "\n",
    "def chatbot(state: State):\n",
    "    response = llm_with_tools.invoke(state[\"messages\"])\n",
    "    ask_human = False\n",
    "    if (\n",
    "        response.tool_calls\n",
    "        and response.tool_calls[0][\"name\"] == RequestAssistance.__name__\n",
    "    ):\n",
    "        ask_human = True\n",
    "    return {\"messages\": [response], \"ask_human\": ask_human}"
   ]
  },
  {
   "cell_type": "markdown",
   "id": "e2266eee",
   "metadata": {},
   "source": [
    "Далее создадим `graph builder` и добавим узлы чат-бота и инструментов в граф, как и раньше."
   ]
  },
  {
   "cell_type": "code",
   "execution_count": 91,
   "id": "3f4464d2-288b-4689-aaf0-329a55dcb85c",
   "metadata": {},
   "outputs": [],
   "source": [
    "graph_builder = StateGraph(State)\n",
    "\n",
    "graph_builder.add_node(\"chatbot\", chatbot)\n",
    "graph_builder.add_node(\"tools\", ToolNode(tools=[tool]))"
   ]
  },
  {
   "cell_type": "markdown",
   "id": "e84d7d3d",
   "metadata": {},
   "source": [
    "Далее создайте узел \"human\". Эта функциональная `node` в нашем графе вызовет прерывание. Если человек __не__ обновит состояние во время `interrupt`, он вставит сообщение \"От эксперта нет ответа.\", чтобы LLM знал, что пользователь был запрошен, но не ответил. Этот узел также снимает флаг `ask_human`, чтобы граф знал, что не нужно возвращаться к этому узлу, если дальнейшие запросы не будут сделаны."
   ]
  },
  {
   "cell_type": "code",
   "execution_count": 92,
   "id": "1d70b5a4-ce50-47dc-aa43-ffb5c48c46fc",
   "metadata": {},
   "outputs": [],
   "source": [
    "from langchain_core.messages import AIMessage, ToolMessage\n",
    "\n",
    "\n",
    "def create_response(response: str, ai_message: AIMessage):\n",
    "    return ToolMessage(\n",
    "        content=response,\n",
    "        tool_call_id=ai_message.tool_calls[0][\"id\"],\n",
    "    )\n",
    "\n",
    "\n",
    "def human_node(state: State):\n",
    "    new_messages = []\n",
    "    if not isinstance(state[\"messages\"][-1], ToolMessage):\n",
    "        # Typically, the user will have updated the state during the interrupt.\n",
    "        # If they choose not to, we will include a placeholder ToolMessage to\n",
    "        # let the LLM continue.\n",
    "        new_messages.append(\n",
    "            create_response(\"От эксперта нет ответа.\", state[\"messages\"][-1])\n",
    "        )\n",
    "    return {\n",
    "        # Append the new messages\n",
    "        \"messages\": new_messages,\n",
    "        # Unset the flag\n",
    "        \"ask_human\": False,\n",
    "    }\n",
    "\n",
    "\n",
    "graph_builder.add_node(\"human\", human_node)"
   ]
  },
  {
   "cell_type": "markdown",
   "id": "64375d46",
   "metadata": {},
   "source": [
    "Далее определите условную логику. Функция `select_next_node` направит к узлу `human`, если флаг установлен. В противном случае она позволит предустановленной функции `tools_condition` выбрать следующий узел.\n",
    "\n",
    "Напомним, что функция `tools_condition` просто проверяет, ответил ли `chatbot` какими-либо `tool_calls` в своем ответном сообщении. Если да, она направляет к узлу `action`. В противном случае она завершает граф."
   ]
  },
  {
   "cell_type": "code",
   "execution_count": 93,
   "id": "586a0d07-8303-47f4-b3cf-3bdd043e762b",
   "metadata": {},
   "outputs": [],
   "source": [
    "def select_next_node(state: State):\n",
    "    if state[\"ask_human\"]:\n",
    "        return \"human\"\n",
    "    # Otherwise, we can route as before\n",
    "    return tools_condition(state)\n",
    "\n",
    "\n",
    "graph_builder.add_conditional_edges(\n",
    "    \"chatbot\",\n",
    "    select_next_node,\n",
    "    {\"human\": \"human\", \"tools\": \"tools\", \"__end__\": \"__end__\"},\n",
    ")"
   ]
  },
  {
   "cell_type": "markdown",
   "id": "00850884",
   "metadata": {},
   "source": [
    "Наконец, добавьте простые направленные ребра и скомпилируйте граф. Эти ребра инструктируют граф **всегда** переходить от узла `a` к узлу `b`, когда `a` завершает выполнение."
   ]
  },
  {
   "cell_type": "code",
   "execution_count": 94,
   "id": "84101737-0048-4635-9f68-45b0c508b6b6",
   "metadata": {},
   "outputs": [],
   "source": [
    "# The rest is the same\n",
    "graph_builder.add_edge(\"tools\", \"chatbot\")\n",
    "graph_builder.add_edge(\"human\", \"chatbot\")\n",
    "graph_builder.add_edge(START, \"chatbot\")\n",
    "memory = MemorySaver()\n",
    "graph = graph_builder.compile(\n",
    "    checkpointer=memory,\n",
    "    # We interrupt before 'human' here instead.\n",
    "    interrupt_before=[\"human\"],\n",
    ")"
   ]
  },
  {
   "cell_type": "markdown",
   "id": "51f77418",
   "metadata": {},
   "source": [
    "Если у вас установлены зависимости визуализации, вы можете увидеть структуру графа ниже"
   ]
  },
  {
   "cell_type": "code",
   "execution_count": 95,
   "id": "b3220ae2-cba0-4447-96d1-eb0be4684e59",
   "metadata": {},
   "outputs": [
    {
     "data": {
      "image/jpeg": "[encoded data removed]",
      "text/plain": "<IPython.core.display.Image object>"
     },
     "metadata": {},
     "output_type": "display_data"
    }
   ],
   "source": [
    "from IPython.display import Image, display\n",
    "\n",
    "try:\n",
    "    display(Image(graph.get_graph().draw_mermaid_png()))\n",
    "except Exception:\n",
    "    # This requires some extra dependencies and is optional\n",
    "    pass"
   ]
  },
  {
   "cell_type": "markdown",
   "id": "426e47a5",
   "metadata": {},
   "source": [
    "Чат-бот может либо запросить помощь от человека (chatbot->select->human), вызвать инструмент поисковой системы (chatbot->select->action), либо напрямую ответить (chatbot->select->__end__). Как только действие или запрос будет сделан, граф перейдет обратно к узлу `chatbot`, чтобы продолжить операции.\n",
    "\n",
    "Давайте посмотрим, как этот граф работает на практике. Мы запросим помощь эксперта, чтобы проиллюстрировать наш граф."
   ]
  },
  {
   "cell_type": "code",
   "execution_count": 97,
   "id": "c1955d79-a1e4-47d0-ba79-b45bd5752a23",
   "metadata": {},
   "outputs": [
    {
     "name": "stdout",
     "output_type": "stream",
     "text": [
      "================================\u001B[1m Human Message \u001B[0m=================================\n",
      "\n",
      "Мне нужно экспертное знание для создания этого агента ИИ. Не могли бы вы запросить помощь у эксперта для меня?\n",
      "==================================\u001B[1m Ai Message \u001B[0m==================================\n",
      "Tool Calls:\n",
      "  RequestAssistance (d60f4a0f-2b7a-4df7-89f6-d2ec59eedd7f)\n",
      " Call ID: d60f4a0f-2b7a-4df7-89f6-d2ec59eedd7f\n",
      "  Args:\n",
      "    request: Мне нужно экспертное знание для создания этого агента ИИ. Не могли бы вы запросить помощь у эксперта для меня?\n"
     ]
    }
   ],
   "source": [
    "user_input = \"Мне нужно экспертное знание для создания этого агента ИИ. Не могли бы вы запросить помощь у эксперта для меня?\"\n",
    "config = {\"configurable\": {\"thread_id\": \"1\"}}\n",
    "# The config is the **second positional argument** to stream() or invoke()!\n",
    "events = graph.stream(\n",
    "    {\"messages\": [(\"user\", user_input)]}, config, stream_mode=\"values\"\n",
    ")\n",
    "for event in events:\n",
    "    if \"messages\" in event:\n",
    "        event[\"messages\"][-1].pretty_print()"
   ]
  },
  {
   "cell_type": "markdown",
   "id": "72e19603",
   "metadata": {},
   "source": [
    "**Обратите внимание:** LLM вызвал инструмент \"`RequestAssistance`\", который мы ему предоставили, и прерывание было установлено. Давайте проверим состояние графа, чтобы подтвердить."
   ]
  },
  {
   "cell_type": "code",
   "execution_count": 98,
   "id": "5320ba05-5696-4194-8278-5385c571264d",
   "metadata": {},
   "outputs": [
    {
     "data": {
      "text/plain": "('human',)"
     },
     "execution_count": 98,
     "metadata": {},
     "output_type": "execute_result"
    }
   ],
   "source": [
    "snapshot = graph.get_state(config)\n",
    "snapshot.next"
   ]
  },
  {
   "cell_type": "markdown",
   "id": "e99a1315",
   "metadata": {},
   "source": [
    "Состояние графа действительно **прервано** перед узлом `'human'`. Мы можем выступить в роли \"эксперта\" в этом сценарии и вручную обновить состояние, добавив новое сообщение ToolMessage с нашим вводом.\n",
    "\n",
    "Далее ответьте на запрос чат-бота, выполнив следующие действия:\n",
    "1. Создайте `ToolMessage` с нашим ответом. Это будет передано обратно в `chatbot`.\n",
    "2. Вызовите `update_state`, чтобы вручную обновить состояние графа."
   ]
  },
  {
   "cell_type": "code",
   "execution_count": 99,
   "id": "2cbac924-61ce-4282-9b1c-77f9090ea1f5",
   "metadata": {},
   "outputs": [
    {
     "data": {
      "text/plain": "{'configurable': {'thread_id': '1',\n  'checkpoint_ns': '',\n  'checkpoint_id': '1ef89b57-c8e2-6e82-8005-68d4c3e4b4f3'}}"
     },
     "execution_count": 99,
     "metadata": {},
     "output_type": "execute_result"
    }
   ],
   "source": [
    "ai_message = snapshot.values[\"messages\"][-1]\n",
    "human_response = (\n",
    "    \"Мы, эксперты, здесь, чтобы помочь! \"\n",
    "    \"Мы рекомендуем вам ознакомиться с LangGraph для создания вашего агента.\"\n",
    "    \"Тогда агенты получиться гораздо надежнее и более гибкими, чем простые автономные агенты\"\n",
    ")\n",
    "tool_message = create_response(human_response, ai_message)\n",
    "graph.update_state(config, {\"messages\": [tool_message]})"
   ]
  },
  {
   "cell_type": "markdown",
   "id": "a4bd0cd3",
   "metadata": {},
   "source": [
    "Вы можете проверить состояние, чтобы подтвердить, что наш ответ был добавлен."
   ]
  },
  {
   "cell_type": "code",
   "execution_count": 100,
   "id": "4b986c66-1c65-4da8-a404-db7e28f8364e",
   "metadata": {},
   "outputs": [
    {
     "data": {
      "text/plain": "[HumanMessage(content='Мне нужно экспертное знание для создания этого агента ИИ. Не могли бы вы запросить помощь у эксперта для меня?', id='65c812e5-7a9c-4a84-a4ea-84670f40d46b'),\n AIMessage(content='Конечно, я могу помочь с этим. Не могли бы Вы предоставить мне подробности Вашего проекта и конкретные области экспертизы, которые Вам необходимы?', response_metadata={'token_usage': Usage(prompt_tokens=187, completion_tokens=33, total_tokens=220), 'model_name': 'GigaChat-Pro:2.2.25.3', 'finish_reason': 'stop'}, id='run-b07335bf-cac4-4d5a-8b5d-3aa658f9ddb1-0'),\n HumanMessage(content='Мне нужно экспертное знание для создания этого агента ИИ. Не могли бы вы запросить помощь у эксперта для меня?', id='958b686e-8f6c-4dc3-8da4-b2b101f45535'),\n AIMessage(content='', additional_kwargs={'function_call': {'name': 'RequestAssistance', 'arguments': {'request': 'Мне нужно экспертное знание для создания этого агента ИИ. Не могли бы вы запросить помощь у эксперта для меня?'}}}, response_metadata={'token_usage': Usage(prompt_tokens=254, completion_tokens=40, total_tokens=294), 'model_name': 'GigaChat-Pro:2.2.25.3', 'finish_reason': 'function_call'}, id='run-01f7a927-55b5-4974-9503-e49063458308-0', tool_calls=[{'name': 'RequestAssistance', 'args': {'request': 'Мне нужно экспертное знание для создания этого агента ИИ. Не могли бы вы запросить помощь у эксперта для меня?'}, 'id': 'd60f4a0f-2b7a-4df7-89f6-d2ec59eedd7f', 'type': 'tool_call'}]),\n ToolMessage(content='Мы, эксперты, здесь, чтобы помочь! Мы рекомендуем вам ознакомиться с LangGraph для создания вашего агента.Тогда агенты получиться гораздо надежнее и более гибкими, чем простые автономные агенты', id='4cbcad95-3b47-4d37-802f-e85d7efc8dfc', tool_call_id='d60f4a0f-2b7a-4df7-89f6-d2ec59eedd7f')]"
     },
     "execution_count": 100,
     "metadata": {},
     "output_type": "execute_result"
    }
   ],
   "source": [
    "graph.get_state(config).values[\"messages\"]"
   ]
  },
  {
   "cell_type": "markdown",
   "id": "fd7d50f5",
   "metadata": {},
   "source": [
    "Далее **возобновите** граф, вызвав его с `None` в качестве входных данных."
   ]
  },
  {
   "cell_type": "code",
   "execution_count": 101,
   "id": "6b32914d-4d60-491f-8e11-1e6867e38ffd",
   "metadata": {},
   "outputs": [
    {
     "name": "stdout",
     "output_type": "stream",
     "text": [
      "=================================\u001B[1m Tool Message \u001B[0m=================================\n",
      "\n",
      "Мы, эксперты, здесь, чтобы помочь! Мы рекомендуем вам ознакомиться с LangGraph для создания вашего агента.Тогда агенты получиться гораздо надежнее и более гибкими, чем простые автономные агенты\n",
      "=================================\u001B[1m Tool Message \u001B[0m=================================\n",
      "\n",
      "Мы, эксперты, здесь, чтобы помочь! Мы рекомендуем вам ознакомиться с LangGraph для создания вашего агента.Тогда агенты получиться гораздо надежнее и более гибкими, чем простые автономные агенты\n",
      "==================================\u001B[1m Ai Message \u001B[0m==================================\n",
      "\n",
      "Эксперт рекомендует использовать LangGraph для создания Вашего агента ИИ. Это сделает агентов более надежными и гибкими.\n"
     ]
    }
   ],
   "source": [
    "events = graph.stream(None, config, stream_mode=\"values\")\n",
    "for event in events:\n",
    "    if \"messages\" in event:\n",
    "        event[\"messages\"][-1].pretty_print()"
   ]
  },
  {
   "cell_type": "markdown",
   "id": "fea85967",
   "metadata": {},
   "source": [
    "**Обратите внимание**, что чат-бот включил обновленное состояние в свой окончательный ответ. Поскольку **все** было создано в контрольных точках, \"эксперт\" в петле мог выполнить обновление в любое время, не влияя на выполнение графа.\n",
    "\n",
    "**Поздравляем!** Теперь вы добавили дополнительный узел в граф помощника, чтобы позволить чат-боту решать самостоятельно, нужно ли прерывать выполнение. Вы сделали это, обновив состояние графа новым полем `ask_human` и изменив логику прерывания при компиляции графа. Это позволяет вам динамически включать человека в петлю, сохраняя полную **память** каждый раз, когда вы выполняете граф.\n",
    "\n",
    "Мы почти закончили с учебником, но есть еще одна концепция, которую мы хотели бы рассмотреть перед завершением, которая связывает `checkpointing` и `state updates`.\n",
    "\n",
    "Код этого раздела воспроизведен ниже для вашего ознакомления.\n",
    "\n",
    "<details>\n",
    "<summary>Полный код</summary>\n",
    "<pre>\n",
    "\n",
    "```python\n",
    "from typing import Annotated\n",
    "\n",
    "from langchain_community.chat_models.gigachat import GigaChat\n",
    "from langchain_community.tools import DuckDuckGoSearchRun\n",
    "from langchain_core.messages import BaseMessage\n",
    "from langchain_core.pydantic_v1 import BaseModel\n",
    "from typing_extensions import TypedDict\n",
    "\n",
    "from langgraph.checkpoint.memory import MemorySaver\n",
    "from langgraph.graph import StateGraph\n",
    "from langgraph.graph.message import add_messages\n",
    "from langgraph.prebuilt import ToolNode, tools_condition\n",
    "\n",
    "\n",
    "class State(TypedDict):\n",
    "    messages: Annotated[list, add_messages]\n",
    "    # This flag is new\n",
    "    ask_human: bool\n",
    "\n",
    "\n",
    "class RequestAssistance(BaseModel):\n",
    "    \"\"\"\n",
    "    Переведите разговор на уровень эксперта. Используйте это, если вы не можете помочь напрямую или если пользователю требуется помощь эксперта, выходящая за рамки ваших разрешений.\n",
    "    Чтобы использовать эту функцию, передайте запрос пользователя, чтобы эксперт мог предоставить правильные рекомендации.\n",
    "    \"\"\"\n",
    "\n",
    "    request: str\n",
    "\n",
    "\n",
    "tool = DuckDuckGoSearchRun(max_results=2)\n",
    "tools = [tool]\n",
    "\n",
    "llm = GigaChat(\n",
    "    model=\"GigaChat-Pro\",\n",
    "    verify_ssl_certs=False,\n",
    "    timeout=1200\n",
    ")\n",
    "# We can bind the llm to a tool definition, a pydantic model, or a json schema\n",
    "llm_with_tools = llm.bind_tools(tools + [RequestAssistance])\n",
    "\n",
    "\n",
    "def chatbot(state: State):\n",
    "    response = llm_with_tools.invoke(state[\"messages\"])\n",
    "    ask_human = False\n",
    "    if (\n",
    "        response.tool_calls\n",
    "        and response.tool_calls[0][\"name\"] == RequestAssistance.__name__\n",
    "    ):\n",
    "        ask_human = True\n",
    "    return {\"messages\": [response], \"ask_human\": ask_human}\n",
    "\n",
    "\n",
    "graph_builder = StateGraph(State)\n",
    "\n",
    "graph_builder.add_node(\"chatbot\", chatbot)\n",
    "graph_builder.add_node(\"tools\", ToolNode(tools=[tool]))\n",
    "\n",
    "\n",
    "def create_response(response: str, ai_message: AIMessage):\n",
    "    return ToolMessage(\n",
    "        content=response,\n",
    "        tool_call_id=ai_message.tool_calls[0][\"id\"],\n",
    "    )\n",
    "\n",
    "\n",
    "def human_node(state: State):\n",
    "    new_messages = []\n",
    "    if not isinstance(state[\"messages\"][-1], ToolMessage):\n",
    "        # Typically, the user will have updated the state during the interrupt.\n",
    "        # If they choose not to, we will include a placeholder ToolMessage to\n",
    "        # let the LLM continue.\n",
    "        new_messages.append(\n",
    "            create_response(\"No response from human.\", state[\"messages\"][-1])\n",
    "        )\n",
    "    return {\n",
    "        # Append the new messages\n",
    "        \"messages\": new_messages,\n",
    "        # Unset the flag\n",
    "        \"ask_human\": False,\n",
    "    }\n",
    "\n",
    "\n",
    "graph_builder.add_node(\"human\", human_node)\n",
    "\n",
    "\n",
    "def select_next_node(state: State):\n",
    "    if state[\"ask_human\"]:\n",
    "        return \"human\"\n",
    "    # Otherwise, we can route as before\n",
    "    return tools_condition(state)\n",
    "\n",
    "\n",
    "graph_builder.add_conditional_edges(\n",
    "    \"chatbot\",\n",
    "    select_next_node,\n",
    "    {\"human\": \"human\", \"tools\": \"tools\", \"__end__\": \"__end__\"},\n",
    ")\n",
    "graph_builder.add_edge(\"tools\", \"chatbot\")\n",
    "graph_builder.add_edge(\"human\", \"chatbot\")\n",
    "graph_builder.set_entry_point(\"chatbot\")\n",
    "memory = MemorySaver()\n",
    "graph = graph_builder.compile(\n",
    "    checkpointer=memory,\n",
    "    interrupt_before=[\"human\"],\n",
    ")\n",
    "```\n",
    "</pre>\n",
    "</details>"
   ]
  },
  {
   "cell_type": "markdown",
   "id": "68a41ff8",
   "metadata": {},
   "source": [
    "## Часть 7: Путешествие во времени\n",
    "\n",
    "В типичном рабочем процессе чат-бота пользователь взаимодействует с ботом один или несколько раз, чтобы выполнить задачу. В предыдущих разделах мы увидели, как добавить память и участие пользователя в цикл, чтобы иметь возможность создавать контрольные точки состояния графа и вручную переопределять состояние для управления будущими ответами.\n",
    "\n",
    "Но что, если вы хотите позволить пользователю начать с предыдущего ответа и \"ответвиться\", чтобы исследовать отдельный исход? Или что, если вы хотите, чтобы пользователи могли \"откатить\" работу вашего помощника, чтобы исправить ошибки или попробовать другую стратегию?\n",
    "\n",
    "Вы можете создать оба этих опыта и многое другое, используя встроенную функцию \"time travel\" LangGraph.\n",
    "\n",
    "В этом разделе вы \"откатите\" свой граф, извлекая контрольную точку с помощью метода `get_state_history` графа. Затем вы сможете возобновить выполнение с этой предыдущей точки времени.\n",
    "\n",
    "Сначала вспомните наш граф чат-бота. Нам не нужно делать **никаких** изменений по сравнению с предыдущим:"
   ]
  },
  {
   "cell_type": "code",
   "execution_count": 113,
   "id": "bb8a02de-a21b-4ef6-a714-7d6e44435e3a",
   "metadata": {},
   "outputs": [],
   "source": [
    "from typing import Annotated, Literal\n",
    "from langchain_core.pydantic_v1 import BaseModel\n",
    "from langchain_core.messages import AIMessage, ToolMessage\n",
    "from langgraph.checkpoint.memory import MemorySaver\n",
    "\n",
    "from langchain_core.messages import BaseMessage\n",
    "from typing_extensions import TypedDict\n",
    "\n",
    "from langgraph.graph import StateGraph, START, END\n",
    "from langgraph.graph.message import add_messages\n",
    "from langgraph.prebuilt import ToolNode, tools_condition\n",
    "\n",
    "from langchain_community.chat_models.gigachat import GigaChat\n",
    "from langchain_community.tools import DuckDuckGoSearchRun\n",
    "\n",
    "\n",
    "class State(TypedDict):\n",
    "    messages: Annotated[list, add_messages]\n",
    "    # This flag is new\n",
    "    ask_human: bool\n",
    "\n",
    "\n",
    "class RequestAssistance(BaseModel):\n",
    "    \"\"\"\n",
    "    Переведите разговор на уровень эксперта. Используйте это, если вы не можете помочь напрямую или если пользователю требуется помощь эксперта, выходящая за рамки ваших разрешений.\n",
    "    Чтобы использовать эту функцию, передайте запрос пользователя, чтобы эксперт мог предоставить правильные рекомендации.\n",
    "    \"\"\"\n",
    "\n",
    "    request: str\n",
    "\n",
    "\n",
    "llm = GigaChat(\n",
    "    model=\"GigaChat-Pro\",\n",
    "    verify_ssl_certs=False,\n",
    "    timeout=1200\n",
    ")\n",
    "\n",
    "tool = DuckDuckGoSearchRun(max_results=2)\n",
    "tools = [tool]\n",
    "\n",
    "\n",
    "llm_with_tools = llm.bind_tools(tools + [RequestAssistance])\n",
    "\n",
    "\n",
    "\n",
    "def chatbot(state: State):\n",
    "    response = llm_with_tools.invoke(state[\"messages\"])\n",
    "    ask_human = False\n",
    "    if (\n",
    "        response.tool_calls\n",
    "        and response.tool_calls[0][\"name\"] == RequestAssistance.__name__\n",
    "    ):\n",
    "        ask_human = True\n",
    "    return {\"messages\": [response], \"ask_human\": ask_human}\n",
    "\n",
    "\n",
    "graph_builder = StateGraph(State)\n",
    "\n",
    "graph_builder.add_node(\"chatbot\", chatbot)\n",
    "graph_builder.add_node(\"tools\", ToolNode(tools=[tool]))\n",
    "\n",
    "\n",
    "def create_response(response: str, ai_message: AIMessage):\n",
    "    return ToolMessage(\n",
    "        content=response,\n",
    "        tool_call_id=ai_message.tool_calls[0][\"id\"],\n",
    "    )\n",
    "\n",
    "\n",
    "def human_node(state: State):\n",
    "    new_messages = []\n",
    "    if not isinstance(state[\"messages\"][-1], ToolMessage):\n",
    "        # Typically, the user will have updated the state during the interrupt.\n",
    "        # If they choose not to, we will include a placeholder ToolMessage to\n",
    "        # let the LLM continue.\n",
    "        new_messages.append(\n",
    "            create_response(\"No response from human.\", state[\"messages\"][-1])\n",
    "        )\n",
    "    return {\n",
    "        # Append the new messages\n",
    "        \"messages\": new_messages,\n",
    "        # Unset the flag\n",
    "        \"ask_human\": False,\n",
    "    }\n",
    "\n",
    "\n",
    "graph_builder.add_node(\"human\", human_node)\n",
    "\n",
    "\n",
    "def select_next_node(state: State) -> Literal[\"human\", \"tools\", \"__end__\"]:\n",
    "    if state[\"ask_human\"]:\n",
    "        return \"human\"\n",
    "    # Otherwise, we can route as before\n",
    "    return tools_condition(state)\n",
    "\n",
    "\n",
    "graph_builder.add_conditional_edges(\n",
    "    \"chatbot\",\n",
    "    select_next_node,\n",
    "    {\"human\": \"human\", \"tools\": \"tools\", \"__end__\": \"__end__\"},\n",
    ")\n",
    "graph_builder.add_edge(\"tools\", \"chatbot\")\n",
    "graph_builder.add_edge(\"human\", \"chatbot\")\n",
    "graph_builder.add_edge(START, \"chatbot\")\n",
    "memory = MemorySaver()\n",
    "graph = graph_builder.compile(\n",
    "    checkpointer=memory,\n",
    "    interrupt_before=[\"human\"],\n",
    ")"
   ]
  },
  {
   "cell_type": "code",
   "execution_count": 114,
   "id": "a7debb4a-2a3a-40b9-a48c-7052ec2c2726",
   "metadata": {},
   "outputs": [
    {
     "data": {
      "image/jpeg": "[encoded data removed]",
      "text/plain": "<IPython.core.display.Image object>"
     },
     "metadata": {},
     "output_type": "display_data"
    }
   ],
   "source": [
    "from IPython.display import Image, display\n",
    "\n",
    "try:\n",
    "    display(Image(graph.get_graph().draw_mermaid_png()))\n",
    "except Exception:\n",
    "    # This requires some extra dependencies and is optional\n",
    "    pass"
   ]
  },
  {
   "cell_type": "markdown",
   "id": "a4f6d860",
   "metadata": {},
   "source": [
    "Давайте заставим наш граф сделать пару шагов. Каждый шаг будет сохранен в истории состояний:"
   ]
  },
  {
   "cell_type": "code",
   "execution_count": 115,
   "id": "69071b02-c011-4b7f-90b1-8e89e032322d",
   "metadata": {},
   "outputs": [
    {
     "name": "stdout",
     "output_type": "stream",
     "text": [
      "================================\u001B[1m Human Message \u001B[0m=================================\n",
      "\n",
      "Я изучаю LangGraph. Не могла бы ты рассказать мне об этом подробней, из интернета?\n",
      "==================================\u001B[1m Ai Message \u001B[0m==================================\n",
      "Tool Calls:\n",
      "  duckduckgo_search (f3990d40-71bd-46b7-abdb-2bfc4d8aaf98)\n",
      " Call ID: f3990d40-71bd-46b7-abdb-2bfc4d8aaf98\n",
      "  Args:\n",
      "    query: LangGraph\n",
      "=================================\u001B[1m Tool Message \u001B[0m=================================\n",
      "Name: duckduckgo_search\n",
      "\n",
      "LangGraph is a library within the LangChain ecosystem that simplifies the development of complex, multi-agent large language model (LLM) applications. Learn how to use LangGraph to create stateful, flexible, and scalable systems with nodes, edges, and state management. LangGraph doesn't enforce best practices like CrewAI does (for example, role-playing or guardrails). So it can lead to poorer results. I would say that CrewAI is a better framework for newbies and common use cases because it helps you get good results quickly and provides guidance to prevent mistakes. LangGraph is a framework for creating stateful, multi-actor applications with LLMs, using cycles, controllability, and persistence. Learn how to use LangGraph with LangChain, LangSmith, and Anthropic tools to build agent and multi-agent workflows. LangGraph has the word \"graph\" in the name because it uses nodes and edges to construct an agent. If we're in the phase of the conversation where we want to get the lead's contact information and they ask us \"if we saw the game last night\", we can use a language model to judge if contact information existed in the users response and ... Learn how to build and manage multi-agent applications with LangGraph, a library within the LangChain ecosystem. This tutorial covers key concepts, graph structures, state management, and examples of chatbot and tool integration.\n",
      "==================================\u001B[1m Ai Message \u001B[0m==================================\n",
      "\n",
      "LangGraph - это библиотека в экосистеме LangChain, которая упрощает разработку сложных приложений с крупными моделями языка (LLM). Она позволяет создавать составные, многоагентные приложения с использованием узлов, ребер и управления состоянием. Однако стоит отметить, что LangGraph не навязывает лучшие практики, как это делает CrewAI, например, ролевую игру или ограничения. Поэтому результаты могут быть хуже. Я бы сказала, что CrewAI является более подходящей для новичков и общих сценариев использования, поскольку он помогает быстро получить хорошие результаты и предоставляет руководства для предотвращения ошибок. LangGraph - это инструмент для создания составных, масштабируемых систем с агентами и многоагентными рабочими процессами. Он используется вместе с LangChain, LangSmith и инструментами Anthropic. LangGraph называется так из-за того, что он использует узлы и ребра для построения агентов. Если мы находимся на этапе разговора, где нам нужно получить контактную информацию лида, и они спрашивают нас, смотрели ли мы игру вчера вечером, мы можем использовать языковую модель для определения, содержится ли контактная информация в ответе пользователя... Изучите, как создавать и управлять многоагентными приложениями с помощью LangGraph, библиотеки в экосистеме LangChain. Этот учебник охватывает ключевые концепции, структуры графов, управление состоянием и примеры интеграции чат-ботов и инструментов.\n"
     ]
    }
   ],
   "source": [
    "config = {\"configurable\": {\"thread_id\": \"1\"}}\n",
    "events = graph.stream(\n",
    "    {\n",
    "        \"messages\": [\n",
    "            (\"user\", \"Я изучаю LangGraph. Не могла бы ты рассказать мне об этом подробней, из интернета?\")\n",
    "        ]\n",
    "    },\n",
    "    config,\n",
    "    stream_mode=\"values\",\n",
    ")\n",
    "for event in events:\n",
    "    if \"messages\" in event:\n",
    "        event[\"messages\"][-1].pretty_print()"
   ]
  },
  {
   "cell_type": "code",
   "execution_count": 116,
   "id": "acbec099-e5d2-497f-929e-c548d7bcbf77",
   "metadata": {},
   "outputs": [
    {
     "name": "stdout",
     "output_type": "stream",
     "text": [
      "================================\u001B[1m Human Message \u001B[0m=================================\n",
      "\n",
      "Да, это полезно. Может, я создам с его помощью автономного агента! Посмотри в интернете уроки, как это делать\n",
      "==================================\u001B[1m Ai Message \u001B[0m==================================\n",
      "Tool Calls:\n",
      "  duckduckgo_search (75d706b9-2faf-4414-acab-82caf7a2098d)\n",
      " Call ID: 75d706b9-2faf-4414-acab-82caf7a2098d\n",
      "  Args:\n",
      "    query: создание автономного агента с помощью LangGraph\n",
      "=================================\u001B[1m Tool Message \u001B[0m=================================\n",
      "Name: duckduckgo_search\n",
      "\n",
      "In the fast-paced world of artificial intelligence creating advanced systems that can dynamically retrieve and generate information is becoming increasingly In the swiftly advancing field of artificial intelligence creating systems capable of dynamically retrieving and generating information has become Прямой: поиск статей, цитирующих отобранные работы, с помощью Google Scholar. На этом этапе было найдено 39 дополнительных статей. 3.3 Статистика собранных статей. Всего было собрано 106 статей. Произошел огромный всплеск приложений, использующих агенты кодирования ИИ. С ростом качества LLM и снижением стоимости выводов, это только становится Прежде чем мы углубимся в создание нашего агента llm, давайте поймем, что такое rag и почему это важно. RAG, или генерация с расширенным поиском, представляет собой гибридный подход, сочетающий ...\n",
      "==================================\u001B[1m Ai Message \u001B[0m==================================\n",
      "\n",
      "К сожалению, я не могу найти конкретные уроки по созданию автономных агентов с помощью LangGraph. Однако, я нашел информацию о том, как создавать агентов LLM и о важности RAG (гибридного подхода к генерации с расширенным поиском) в этой области. Если вам нужна дополнительная помощь, я могу предоставить больше информации или помочь с другими вопросами.\n"
     ]
    }
   ],
   "source": [
    "events = graph.stream(\n",
    "    {\n",
    "        \"messages\": [\n",
    "            (\"user\", \"Да, это полезно. Может, я создам с его помощью автономного агента! Посмотри в интернете уроки, как это делать\")\n",
    "        ]\n",
    "    },\n",
    "    config,\n",
    "    stream_mode=\"values\",\n",
    ")\n",
    "for event in events:\n",
    "    if \"messages\" in event:\n",
    "        event[\"messages\"][-1].pretty_print()"
   ]
  },
  {
   "cell_type": "markdown",
   "id": "8a49f89f",
   "metadata": {},
   "source": [
    "Теперь, когда агент сделал пару шагов, мы можем `воспроизвести` полную историю состояний, чтобы увидеть все, что произошло."
   ]
  },
  {
   "cell_type": "code",
   "execution_count": 117,
   "id": "6c0dbed5-210d-40ad-b002-0bc52ef28fac",
   "metadata": {},
   "outputs": [
    {
     "name": "stdout",
     "output_type": "stream",
     "text": [
      "Num Messages:  8 Next:  ()\n",
      "--------------------------------------------------------------------------------\n",
      "Num Messages:  7 Next:  ('chatbot',)\n",
      "--------------------------------------------------------------------------------\n",
      "Num Messages:  6 Next:  ('tools',)\n",
      "--------------------------------------------------------------------------------\n",
      "Num Messages:  5 Next:  ('chatbot',)\n",
      "--------------------------------------------------------------------------------\n",
      "Num Messages:  4 Next:  ('__start__',)\n",
      "--------------------------------------------------------------------------------\n",
      "Num Messages:  4 Next:  ()\n",
      "--------------------------------------------------------------------------------\n",
      "Num Messages:  3 Next:  ('chatbot',)\n",
      "--------------------------------------------------------------------------------\n",
      "Num Messages:  2 Next:  ('tools',)\n",
      "--------------------------------------------------------------------------------\n",
      "Num Messages:  1 Next:  ('chatbot',)\n",
      "--------------------------------------------------------------------------------\n",
      "Num Messages:  0 Next:  ('__start__',)\n",
      "--------------------------------------------------------------------------------\n"
     ]
    }
   ],
   "source": [
    "to_replay = None\n",
    "for state in graph.get_state_history(config):\n",
    "    print(\"Num Messages: \", len(state.values[\"messages\"]), \"Next: \", state.next)\n",
    "    print(\"-\" * 80)\n",
    "    if len(state.values[\"messages\"]) == 6:\n",
    "        # We are somewhat arbitrarily selecting a specific state based on the number of chat messages in the state.\n",
    "        to_replay = state"
   ]
  },
  {
   "cell_type": "code",
   "execution_count": 118,
   "id": "7a87e8d0",
   "metadata": {},
   "outputs": [
    {
     "name": "stdout",
     "output_type": "stream",
     "text": [
      "StateSnapshot(values={'messages': []}, next=('__start__',), config={'configurable': {'thread_id': '1', 'checkpoint_ns': '', 'checkpoint_id': '1ef89b66-3506-6f42-bfff-37025a3b043c'}}, metadata={'source': 'input', 'writes': {'__start__': {'messages': [['user', 'Я изучаю LangGraph. Не могла бы ты рассказать мне об этом подробней, из интернета?']]}}, 'step': -1, 'parents': {}}, created_at='2024-10-13T22:56:31.504355+00:00', parent_config=None, tasks=(PregelTask(id='68081c09-5c25-38eb-a794-f49e441ba89e', name='__start__', path=('__pregel_pull', '__start__'), error=None, interrupts=(), state=None),))\n"
     ]
    }
   ],
   "source": [
    "print(state)"
   ]
  },
  {
   "cell_type": "markdown",
   "id": "b704a72e",
   "metadata": {},
   "source": [
    "**Обратите внимание**, что контрольные точки сохраняются для каждого шага графа. Это __вызовы__, вы можете откатиться через всю историю потока. Мы выбрали `to_replay` как состояние для возобновления. Это состояние после узла `chatbot` во втором вызове графа выше.\n",
    "\n",
    "Возобновление с этой точки должно вызвать узел **action** далее."
   ]
  },
  {
   "cell_type": "code",
   "execution_count": 119,
   "id": "de8d5521-8d71-4093-a657-4920c790802f",
   "metadata": {},
   "outputs": [
    {
     "name": "stdout",
     "output_type": "stream",
     "text": [
      "('tools',)\n",
      "{'configurable': {'thread_id': '1', 'checkpoint_ns': '', 'checkpoint_id': '1ef89b66-e57f-60ea-8006-321db6f5505b'}}\n"
     ]
    }
   ],
   "source": [
    "print(to_replay.next)\n",
    "print(to_replay.config)"
   ]
  },
  {
   "cell_type": "markdown",
   "id": "ee11f75e",
   "metadata": {},
   "source": [
    "**Обратите внимание**, что конфигурация контрольной точки (`to_replay.config`) содержит **метку времени** `thread_ts`. Предоставление этого значения `thread_ts` говорит контрольной точке LangGraph **загрузить** состояние с этого момента времени. Давайте попробуем это ниже:"
   ]
  },
  {
   "cell_type": "code",
   "execution_count": 120,
   "id": "85f17be3-eaf6-495e-a846-49436916b4ab",
   "metadata": {},
   "outputs": [
    {
     "name": "stdout",
     "output_type": "stream",
     "text": [
      "==================================\u001B[1m Ai Message \u001B[0m==================================\n",
      "Tool Calls:\n",
      "  duckduckgo_search (75d706b9-2faf-4414-acab-82caf7a2098d)\n",
      " Call ID: 75d706b9-2faf-4414-acab-82caf7a2098d\n",
      "  Args:\n",
      "    query: создание автономного агента с помощью LangGraph\n",
      "=================================\u001B[1m Tool Message \u001B[0m=================================\n",
      "Name: duckduckgo_search\n",
      "\n",
      "In the fast-paced world of artificial intelligence creating advanced systems that can dynamically retrieve and generate information is becoming increasingly In the swiftly advancing field of artificial intelligence creating systems capable of dynamically retrieving and generating information has become В быстро меняющемся мире искусственного интеллекта создание передовых систем, способных динамически извлекать и генерировать информацию, становится все более актуальным. Прямой: поиск статей, цитирующих отобранные работы, с помощью Google Scholar. На этом этапе было найдено 39 дополнительных статей. 3.3 Статистика собранных статей. Всего было собрано 106 статей. Создание агентов LLM для RAG с нуля и за его пределами: подробное руководство. LLM, такие как GPT-3, GPT-4 и их аналоги с открытым исходным кодом, часто не справляются с поиском актуальной информации и ...\n",
      "==================================\u001B[1m Ai Message \u001B[0m==================================\n",
      "\n",
      "К сожалению, я не могу найти уроки по созданию автономных агентов с помощью LangGraph. Однако, я нашел общую информацию о создании передовых систем в области искусственного интеллекта, которые могут динамически извлекать и генерировать информацию. Если вам нужна более конкретная информация или помощь в других вопросах, пожалуйста, дайте мне знать!\n"
     ]
    }
   ],
   "source": [
    "# The `thread_ts` in the `to_replay.config` corresponds to a state we've persisted to our checkpointer.\n",
    "for event in graph.stream(None, to_replay.config, stream_mode=\"values\"):\n",
    "    if \"messages\" in event:\n",
    "        event[\"messages\"][-1].pretty_print()"
   ]
  },
  {
   "cell_type": "markdown",
   "id": "5a595d35",
   "metadata": {},
   "source": [
    "Обратите внимание, что граф возобновил выполнение с узла `**action**`. Вы можете сказать, что это так, поскольку первое значение, напечатанное выше, является ответом от нашего инструмента поисковой системы.\n",
    "\n",
    "**Поздравляем!** Теперь вы использовали обход контрольных точек путешествия во времени в LangGraph. Возможность откатиться и исследовать альтернативные пути открывает мир возможностей для отладки, экспериментов и интерактивных приложений."
   ]
  },
  {
   "cell_type": "markdown",
   "id": "719151b2",
   "metadata": {},
   "source": [
    "## Заключение\n",
    "\n",
    "Поздравляем! Вы завершили вводный учебник и создали чат-бота в LangGraph, который поддерживает вызов инструментов, постоянную память, интерактивность с человеком в петле и даже путешествие во времени!\n",
    "\n",
    "[Документация LangGraph](https://langchain-ai.github.io/langgraph/) — отличный ресурс для более глубокого погружения в возможности библиотеки."
   ]
  }
 ],
 "metadata": {
  "kernelspec": {
   "display_name": "Python 3 (ipykernel)",
   "language": "python",
   "name": "python3"
  },
  "language_info": {
   "codemirror_mode": {
    "name": "ipython",
    "version": 3
   },
   "file_extension": ".py",
   "mimetype": "text/x-python",
   "name": "python",
   "nbconvert_exporter": "python",
   "pygments_lexer": "ipython3",
   "version": "3.9.19"
  }
 },
 "nbformat": 4,
 "nbformat_minor": 5
}
