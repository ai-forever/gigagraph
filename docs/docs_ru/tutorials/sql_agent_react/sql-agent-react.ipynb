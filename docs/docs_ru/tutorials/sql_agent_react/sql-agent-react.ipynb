{
 "cells": [
  {
   "cell_type": "markdown",
   "source": [
    "# Агент работающий с SQL базами данных (ReAct)\n",
    "В этом ноутбуке мы построим SQL агента, который будет:\n",
    "1. Получать доступные таблицы в базе данных\n",
    "2. Выбирать какие таблицы релевантны к запросу пользователя и получать их схему\n",
    "3. Строить SQL-запрос к нужным таблицам (при построении SQL-запроса улучшаем его отдельным агентом с промптом)\n",
    "4. Если на 2 шаге агент недополучил таблицы, агент не сможет сделать валидный 3-запрос и может вернуться на шаг 2\n",
    "5. После успешного построения SQL запроса, включаем human-in-the-loop и просим обратную связь от человека насчет ответа от llm, здесь llm может на свое усмотрение вернутся обратно на 2 или 3 шаг\n",
    "6. Если обратной связи нет, выводим ответ\n",
    "\n",
    "Мы построим такой граф. Ниже описаны каждые его ноды\n",
    "![](graph.png)"
   ],
   "metadata": {
    "collapsed": false
   }
  },
  {
   "cell_type": "markdown",
   "source": [
    "## Настраиваем окружение\n",
    "Настроим переменные окружения для GigaChatz`"
   ],
   "metadata": {
    "collapsed": false
   }
  },
  {
   "cell_type": "code",
   "execution_count": 100,
   "metadata": {
    "collapsed": true
   },
   "outputs": [],
   "source": [
    "import os\n",
    "\n",
    "os.environ[\"GIGACHAT_USER\"] = \"юзер\"\n",
    "os.environ[\"GIGACHAT_PASSWORD\"] = \"пароль\"\n",
    "os.environ[\"GIGACHAT_BASE_URL\"] = \"https://beta.saluteai.sberdevices.ru/v1\""
   ]
  },
  {
   "cell_type": "markdown",
   "source": [
    "# Настраиваем базу данных\n",
    "Для этого ноутбука мы создадим базу данных SQLite. SQLite — это легковесная база данных, которую легко настроить и использовать. Мы будем загружать базу данных `chinook`, которая является примером базы данных, для цифрового магазина с музыкальными треками.\n",
    "Более подробную информацию о этой базе данных можно найти [здесь](https://www.sqlitetutorial.net/sqlite-sample-database/)."
   ],
   "metadata": {
    "collapsed": false
   }
  },
  {
   "cell_type": "code",
   "execution_count": 101,
   "outputs": [
    {
     "name": "stdout",
     "output_type": "stream",
     "text": [
      "File downloaded and saved as Chinook.db\n"
     ]
    }
   ],
   "source": [
    "import requests\n",
    "\n",
    "url = \"https://storage.googleapis.com/benchmarks-artifacts/chinook/Chinook.db\"\n",
    "\n",
    "response = requests.get(url)\n",
    "\n",
    "if response.status_code == 200:\n",
    "    # Open a local file in binary write mode\n",
    "    with open(\"Chinook.db\", \"wb\") as file:\n",
    "        # Write the content of the response (the file) to the local file\n",
    "        file.write(response.content)\n",
    "    print(\"File downloaded and saved as Chinook.db\")\n",
    "else:\n",
    "    print(f\"Failed to download the file. Status code: {response.status_code}\")"
   ],
   "metadata": {
    "collapsed": false
   }
  },
  {
   "cell_type": "markdown",
   "source": [
    "Мы будем использовать удобную обёртку для работы с SQL-базами данных, доступную в пакете `gigachain_community`, чтобы взаимодействовать с базой данных. Обёртка предоставляет простой интерфейс для выполнения SQL-запросов и получения результатов."
   ],
   "metadata": {
    "collapsed": false
   }
  },
  {
   "cell_type": "code",
   "execution_count": null,
   "outputs": [],
   "source": [
    "!pip install gigagraph gigachain-community"
   ],
   "metadata": {
    "collapsed": false,
    "pycharm": {
     "is_executing": true
    }
   }
  },
  {
   "cell_type": "markdown",
   "source": [
    "Проверяем работу базы данных"
   ],
   "metadata": {
    "collapsed": false
   }
  },
  {
   "cell_type": "code",
   "execution_count": 102,
   "outputs": [
    {
     "name": "stdout",
     "output_type": "stream",
     "text": [
      "sqlite\n",
      "['Album', 'Artist', 'Customer', 'Employee', 'Genre', 'Invoice', 'InvoiceLine', 'MediaType', 'Playlist', 'PlaylistTrack', 'Track']\n"
     ]
    },
    {
     "data": {
      "text/plain": "\"[(1, 'AC/DC'), (2, 'Accept'), (3, 'Aerosmith'), (4, 'Alanis Morissette'), (5, 'Alice In Chains'), (6, 'Antônio Carlos Jobim'), (7, 'Apocalyptica'), (8, 'Audioslave'), (9, 'BackBeat'), (10, 'Billy Cobham')]\""
     },
     "execution_count": 102,
     "metadata": {},
     "output_type": "execute_result"
    }
   ],
   "source": [
    "from langchain_community.utilities import SQLDatabase\n",
    "\n",
    "db = SQLDatabase.from_uri(\"sqlite:///Chinook.db\")\n",
    "print(db.dialect)\n",
    "print(db.get_usable_table_names())\n",
    "db.run(\"SELECT * FROM Artist LIMIT 10;\")"
   ],
   "metadata": {
    "collapsed": false
   }
  },
  {
   "cell_type": "code",
   "execution_count": 103,
   "outputs": [],
   "source": [
    "from langchain_community.chat_models import GigaChat\n",
    "llm = GigaChat(\n",
    "    verify_ssl_certs=False,\n",
    "    timeout=6000,\n",
    "    model=\"GigaChat-Pro\",\n",
    "    streaming=False,\n",
    ")\n"
   ],
   "metadata": {
    "collapsed": false
   }
  },
  {
   "cell_type": "markdown",
   "source": [
    "## Определяем промпт\n",
    "### Инструкции для ReAct агента\n",
    "Это по сути тот же промпт для ReAct агента за исключением того, что мы в него добавим поддержку,\n",
    "обратной связи от человека"
   ],
   "metadata": {
    "collapsed": false
   }
  },
  {
   "cell_type": "code",
   "execution_count": 104,
   "outputs": [],
   "source": [
    "REACT_FORMAT_INSTRUCTIONS = \"\"\"\n",
    "За один запрос ты можешь выполнить одну функцию\n",
    "Question: *изначальный вопрос пользователя*\n",
    "\n",
    "Используй следующий формат:\n",
    "-----\n",
    "[Начало цикла]\n",
    "Thought: Введи здесь Мысль, что ты должен сделать\n",
    "Action: [название функции, должно быть из списка [{tool_names}]]\n",
    "Action Input: [параметры для функции]\n",
    "Observation: Результат выполнения функции\n",
    "[Конец цикла]\n",
    "------\n",
    "Цикл с вопросами может выполняться N раз Thought -> Action -> Action Input -> Observation\n",
    "Если в результате выполнения функции ты не получил финальный ответ, выполни цикл еще раз\n",
    "Когда ты знаешь окончательный ответ ты должен написать\n",
    "-----\n",
    "Thought: Теперь я знаю окончательный ответ\n",
    "Final Answer: окончательный ответ на исходный вопрос\n",
    "-----\n",
    "\n",
    "Если у человека после твоего окончательного ответа возник вопрос (Human), возвращайся в начало цикла\n",
    "\"\"\""
   ],
   "metadata": {
    "collapsed": false
   }
  },
  {
   "cell_type": "markdown",
   "source": [
    "### Определяем остальные части\n",
    "Тут инструкции для работы с SQL и план действий для агента"
   ],
   "metadata": {
    "collapsed": false
   }
  },
  {
   "cell_type": "code",
   "execution_count": 105,
   "outputs": [],
   "source": [
    "from langchain_core.prompts import MessagesPlaceholder, ChatPromptTemplate\n",
    "\n",
    "SQL_PREFIX = \"\"\"Ты специалист по SQL базам данных.\n",
    "Получив входной вопрос (\"Question\"), создай синтаксически правильный запрос {dialect} для выполнения, затем посмотри на результаты запроса и верни ответ.\n",
    "Если пользователь не указывает конкретное количество примеров, которые он хочет получить, ОБЯЗАТЕЛЬНО ограничивай свой запрос максимумом {top_k} результатов (LIMIT).\n",
    "Ты можешь упорядочить результаты по релевантной колонке, чтобы вернуть наиболее интересные примеры из базы данных.\n",
    "Никогда не запрашивай все колонки из конкретной таблицы, запрашивай только релевантные колонки, учитывая вопрос.\n",
    "НЕ делай никаких DML-заявлений (INSERT, UPDATE, DELETE, DROP и т.д.) в базе данных.\n",
    "\n",
    "Всегда свой ответ выводи с помощью Final Answer. Пример: Final Answer: твой ответ\n",
    "Если вопрос, не связан с базой данных, верни свой ответ в Final Answer! Пример: Final Answer: твой ответ\n",
    "\n",
    "У тебя есть инструменты для взаимодействия с базой данных.\n",
    "Используй только приведенные ниже инструменты. Используй только информацию, возвращенную приведенными ниже инструментами, чтобы составить свой окончательный ответ.\n",
    "У тебя есть набор следующих инструментов:\n",
    "\"\"\"\n",
    "\n",
    "template = \"\\n\\n\".join(\n",
    "    [\n",
    "        SQL_PREFIX,\n",
    "        \"{tools}\",\n",
    "        REACT_FORMAT_INSTRUCTIONS,\n",
    "        \"\"\"Question: \"{input}\"\n",
    "Thought: Ты должен следовать следующим шагам:\n",
    "1. посмотреть на таблицы в базе данных, чтобы увидеть, что я могу запросить.\n",
    "2. Затем тебе следует запросить схему ВСЕХ РЕЛЕВАТНЫХ таблиц, которые будут участвовать в запросе\n",
    "3. Написать запрос.\n",
    "\"\"\",\n",
    "    ]\n",
    ")\n",
    "prompt = ChatPromptTemplate.from_messages(\n",
    "    [\n",
    "        (\"system\", template),\n",
    "        (\n",
    "            \"user\",\n",
    "            \"Начинаем!\",\n",
    "        ),\n",
    "        MessagesPlaceholder(\"messages\"),\n",
    "    ]\n",
    ")"
   ],
   "metadata": {
    "collapsed": false
   }
  },
  {
   "cell_type": "markdown",
   "source": [
    " ## Определяем инструменты\n",
    "Мы определим несколько инструментов, которые агент будет использовать для взаимодействия с базой данных.\n",
    "\n",
    "1. `list_tables_tool`: Получить доступные таблицы из базы данных\n",
    "2. `get_schema_tool`: Получить DDL для таблицы\n",
    "3. `sql_db_query`: Выполнить запрос и получить результаты ИЛИ вернуть сообщение об ошибке, если запрос не выполнен\n",
    "\n",
    "Эти инструменты мы возьмем из `SQLDatabaseToolkit`, которые доступны в пакете `gigachain_community`."
   ],
   "metadata": {
    "collapsed": false
   }
  },
  {
   "cell_type": "code",
   "execution_count": 106,
   "outputs": [],
   "source": [
    "from langchain_community.agent_toolkits import SQLDatabaseToolkit\n",
    "toolkit = SQLDatabaseToolkit(db=db, llm=llm)\n",
    "tools = toolkit.get_tools()"
   ],
   "metadata": {
    "collapsed": false
   }
  },
  {
   "cell_type": "markdown",
   "source": [
    "Убираем лишний инструмент, предназначенный для улучшения SQL запросов.\n",
    "Мы будем улучшать SQL отдельной нодой после вызова инструмента выполения SQL. Это улучшает логику агента,\n",
    "так как мы будем меньше забивать историю сообщений"
   ],
   "metadata": {
    "collapsed": false
   }
  },
  {
   "cell_type": "code",
   "execution_count": 107,
   "outputs": [],
   "source": [
    "tools = [tool for tool in tools if tool.name != \"sql_db_query_checker\"]"
   ],
   "metadata": {
    "collapsed": false
   }
  },
  {
   "cell_type": "markdown",
   "source": [
    "Проверяем тулы"
   ],
   "metadata": {
    "collapsed": false
   }
  },
  {
   "cell_type": "code",
   "execution_count": 108,
   "outputs": [
    {
     "name": "stdout",
     "output_type": "stream",
     "text": [
      "['Album', 'Artist', 'Customer', 'Employee', 'Genre', 'Invoice', 'InvoiceLine', 'MediaType', 'Playlist', 'PlaylistTrack', 'Track']\n",
      "CREATE TABLE \"Artist\" (\"ArtistId\" INTEGER NOT NULL, \"Name\" NVARCHAR(120), PRIMARY KEY (\"ArtistId\"))/*3 rows from Artist table:ArtistIdName1AC/DC2Accept3Aerosmith*/\n"
     ]
    }
   ],
   "source": [
    "list_tables_tool = next(tool for tool in tools if tool.name == \"sql_db_list_tables\")\n",
    "get_schema_tool = next(tool for tool in tools if tool.name == \"sql_db_schema\")\n",
    "\n",
    "print(list_tables_tool.invoke(\"\"))\n",
    "\n",
    "print(get_schema_tool.invoke(\"[\\\"Artist\\\"]\"))"
   ],
   "metadata": {
    "collapsed": false
   }
  },
  {
   "cell_type": "markdown",
   "source": [
    "Исходя из инструментов частично заполним промпт"
   ],
   "metadata": {
    "collapsed": false
   }
  },
  {
   "cell_type": "code",
   "execution_count": 109,
   "outputs": [],
   "source": [
    "from langchain.tools.render import render_text_description\n",
    "prompt = prompt.partial(\n",
    "    tools=render_text_description(list(tools)),\n",
    "    tool_names=\", \".join([t.name for t in tools]),\n",
    "    dialect=toolkit.dialect,\n",
    "    top_k=10,\n",
    ")"
   ],
   "metadata": {
    "collapsed": false
   }
  },
  {
   "cell_type": "code",
   "execution_count": 110,
   "outputs": [],
   "source": [
    "llm_with_stop = llm.bind(stop=[\"Observation\"])"
   ],
   "metadata": {
    "collapsed": false
   }
  },
  {
   "cell_type": "markdown",
   "source": [
    "## Определяем граф\n",
    "### Определяем State"
   ],
   "metadata": {
    "collapsed": false
   }
  },
  {
   "cell_type": "code",
   "execution_count": 111,
   "outputs": [],
   "source": [
    "from typing import TypedDict, Annotated, Union, Optional\n",
    "from langgraph.graph.message import AnyMessage, add_messages\n",
    "from langchain_core.agents import AgentAction, AgentFinish, AgentStep\n",
    "\n",
    "\n",
    "# Define the state for the agent\n",
    "class State(TypedDict):\n",
    "    messages: Annotated[list[AnyMessage], add_messages]\n",
    "    input: str\n",
    "    steps: list[Union[AgentAction, AgentFinish, AgentStep]]\n",
    "    human: Optional[str]"
   ],
   "metadata": {
    "collapsed": false
   }
  },
  {
   "cell_type": "markdown",
   "source": [
    "### Определяем ноды графа\n",
    "#### Нода первого шага\n",
    "Здесь мы получаем имена таблиц в базе данных и из них делаем few-shot, чтобы гигачат начал лучше работать в шаблоне ReAct."
   ],
   "metadata": {
    "collapsed": false
   }
  },
  {
   "cell_type": "code",
   "execution_count": 112,
   "outputs": [],
   "source": [
    "from langchain.agents.output_parsers import ReActSingleInputOutputParser\n",
    "from langchain_core.messages import AIMessage\n",
    "\n",
    "parser = ReActSingleInputOutputParser()\n",
    "\n",
    "\n",
    "def first_tool_call(state: State) -> dict[str, list[AIMessage]]:\n",
    "    message = AIMessage(\n",
    "        content=\"Action: sql_db_list_tables\\n\" + \"Action Input: {}\",\n",
    "    )\n",
    "    return {\"messages\": [message], \"steps\": [parser.invoke(message)]}"
   ],
   "metadata": {
    "collapsed": false
   }
  },
  {
   "cell_type": "markdown",
   "source": [
    "#### Нода агента\n",
    "Здесь мы вызываем llm\n",
    "!!! ОСТОРОЖНО !!!: здесь внедрена логика повторного шага, если llm вернула не валидный ответ. Её в идеале нужно перейти с выходом из графа\n",
    "если llm не может вернуть валидный ответ спустя n-попыток"
   ],
   "metadata": {
    "collapsed": false
   }
  },
  {
   "cell_type": "code",
   "execution_count": 113,
   "outputs": [],
   "source": [
    "from langchain_core.messages import HumanMessage\n",
    "from langchain_core.exceptions import OutputParserException\n",
    "\n",
    "tool_map = {tool.name: tool for tool in tools}\n",
    "agent = prompt | llm_with_stop\n",
    "\n",
    "def call_agent(state: State):\n",
    "    step = None\n",
    "    parsing_messages = []\n",
    "    count = 0\n",
    "    while step is None:\n",
    "        message = agent.invoke(\n",
    "            {**state, **{\"messages\": (state[\"messages\"] + parsing_messages)}}\n",
    "        )\n",
    "        parsing_messages = []\n",
    "        parsing_messages.append(message)\n",
    "        count += 1\n",
    "        try:\n",
    "            step = parser.invoke(message)\n",
    "        except OutputParserException as e:\n",
    "            if count >= 5:\n",
    "                raise Exception(\"Превышен retry\")\n",
    "            parsing_messages.append(HumanMessage(content=e.observation))\n",
    "            print(\"restep!\")\n",
    "            print(message.content)\n",
    "    return {\n",
    "        \"messages\": [message],\n",
    "        \"steps\": state[\"steps\"] + [step],\n",
    "        \"human\": None,\n",
    "    }"
   ],
   "metadata": {
    "collapsed": false
   }
  },
  {
   "cell_type": "markdown",
   "source": [
    "#### Нода вызова инструментов\n",
    "Здесь мы вызываем нужные инструменты"
   ],
   "metadata": {
    "collapsed": false
   }
  },
  {
   "cell_type": "code",
   "execution_count": 114,
   "outputs": [],
   "source": [
    "def call_tools(state: State):\n",
    "    last_step = state[\"steps\"][-1]\n",
    "    tool = tool_map[last_step.tool]\n",
    "    result = tool.invoke(last_step.tool_input)\n",
    "    return {\n",
    "        \"messages\": HumanMessage(content=f\"Observation: {result}\\nЧто дальше?\"),\n",
    "        \"steps\": state[\"steps\"] + [AgentStep(action=last_step, observation=result)],\n",
    "    }"
   ],
   "metadata": {
    "collapsed": false
   }
  },
  {
   "cell_type": "markdown",
   "source": [
    "#### Нода улучшения SQL-запроса"
   ],
   "metadata": {
    "collapsed": false
   }
  },
  {
   "cell_type": "code",
   "execution_count": 115,
   "outputs": [],
   "source": [
    "import re\n",
    "import json\n",
    "\n",
    "query_check_system = \"\"\"Ты являешься экспертом по SQL, который внимателен к деталям.\n",
    "Дважды проверь запрос SQLite на наличие распространённых ошибок, включая:\n",
    "- Использование NOT IN с NULL-значениями\n",
    "- Использование UNION, когда следовало использовать UNION ALL\n",
    "- Использование BETWEEN для исключительных диапазонов\n",
    "- Несоответствие типов данных в предикатах\n",
    "- Правильное экранирование идентификаторов\n",
    "- Использование правильного количества аргументов для функций\n",
    "- Приведение к правильному типу данных\n",
    "- Использование правильных столбцов для соединений\n",
    "- YEAR функции в SQLITE нет, используй strftime\n",
    "- ОБЯЗАТЕЛЬНО Используй в названии колонок символ `. Пример: SELECT `название колонки`\n",
    "- ОБЯЗАТЕЛЬНО делай Alias с помощью AS. Пример: from `table` as t\n",
    "- ОБЯЗАТЕЛЬНО ограничивай запрос с помощью LIMIT до количества {top_k} штук. Пример: LIMIT {top_k}\n",
    "\n",
    "Если обнаружены какие-либо из вышеперечисленных ошибок, перепиши запрос. Если ошибок нет, просто воспроизведи оригинальный запрос.\n",
    "\n",
    "После этой проверки ты вызовешь соответствующий инструмент для выполнения запроса.\n",
    "\n",
    "SQL-запрос пользователя: {sql}\n",
    "\n",
    "Верни SQL запрос в формате JSON\n",
    "Пример:\n",
    "{{\"sql\": \"твой sql запрос\"}}\"\"\"\n",
    "\n",
    "query_check_prompt = ChatPromptTemplate.from_messages(\n",
    "    [(\"system\", query_check_system), (\"placeholder\", \"{messages}\")]\n",
    ").partial(top_k=10)\n",
    "query_check = query_check_prompt | llm.bind(model=\"GigaChat-Pro\")\n",
    "\n",
    "\n",
    "def model_check_query(state: State):\n",
    "    \"\"\"\n",
    "    Use this tool to double-check if your query is correct before executing it.\n",
    "    \"\"\"\n",
    "    response = query_check.invoke({\"sql\": state[\"steps\"][-1].tool_input})\n",
    "    sql = json.loads(response.content)[\"sql\"]\n",
    "    state[\"steps\"][-1].tool_input = sql\n",
    "    state[\"messages\"][-1].content = re.sub(\n",
    "        r\"Action Input:.*\",\n",
    "        f\"Action Input: {sql}\",\n",
    "        state[\"messages\"][-1].content,\n",
    "        1,\n",
    "        re.DOTALL,\n",
    "    )\n",
    "    return state"
   ],
   "metadata": {
    "collapsed": false
   }
  },
  {
   "cell_type": "markdown",
   "source": [
    "#### Нода обратной связи от человека"
   ],
   "metadata": {
    "collapsed": false
   }
  },
  {
   "cell_type": "code",
   "execution_count": 121,
   "outputs": [],
   "source": [
    "def human_feedback(state: State):\n",
    "    human = input(\"Вопросы (если нет пиши no)? \")\n",
    "    if human == \"no\" or not human:\n",
    "        human = None\n",
    "    return {\n",
    "        \"human\": human,\n",
    "        \"messages\": HumanMessage(content=f\"Human: \\\"{human}\\\"\"),\n",
    "    }"
   ],
   "metadata": {
    "collapsed": false
   }
  },
  {
   "cell_type": "markdown",
   "source": [
    "### Настраиваем ноды и их связки между собой"
   ],
   "metadata": {
    "collapsed": false
   }
  },
  {
   "cell_type": "code",
   "execution_count": 122,
   "outputs": [],
   "source": [
    "from langgraph.graph import StateGraph\n",
    "from typing import Literal\n",
    "\n",
    "from langgraph.constants import START\n",
    "\n",
    "workflow = StateGraph(State)\n",
    "\n",
    "workflow.add_node(\"first_tool_call\", first_tool_call)\n",
    "workflow.add_node(\"call_tools\", call_tools)\n",
    "workflow.add_node(\"call_agent\", call_agent)\n",
    "workflow.add_node(\"model_check_query\", model_check_query)\n",
    "workflow.add_node(\"human_feedback\", human_feedback)\n",
    "\n",
    "\n",
    "def should_continue(\n",
    "    state: State,\n",
    ") -> Literal[\"human_feedback\", \"model_check_query\", \"call_tools\"]:\n",
    "    last_step = state[\"steps\"][-1]\n",
    "    if isinstance(last_step, AgentFinish):\n",
    "        return \"human_feedback\"\n",
    "    elif last_step.tool == \"sql_db_query\":\n",
    "        return \"model_check_query\"\n",
    "    else:\n",
    "        return \"call_tools\"\n",
    "\n",
    "\n",
    "# Specify the edges between the nodes\n",
    "workflow.add_edge(START, \"first_tool_call\")\n",
    "workflow.add_edge(\"first_tool_call\", \"call_tools\")\n",
    "workflow.add_edge(\"call_tools\", \"call_agent\")\n",
    "workflow.add_edge(\"model_check_query\", \"call_tools\")\n",
    "workflow.add_conditional_edges(\n",
    "    \"call_agent\",\n",
    "    should_continue,\n",
    ")\n",
    "\n",
    "\n",
    "def human_continue(state) -> Literal[\"call_agent\", \"__end__\"]:\n",
    "    return \"__end__\" if state[\"human\"] is None else \"call_agent\"\n",
    "\n",
    "\n",
    "workflow.add_conditional_edges(\n",
    "    \"human_feedback\",\n",
    "    human_continue,\n",
    ")\n",
    "\n",
    "# Compile the workflow into a runnable\n",
    "app = workflow.compile()"
   ],
   "metadata": {
    "collapsed": false
   }
  },
  {
   "cell_type": "code",
   "execution_count": 38,
   "outputs": [
    {
     "data": {
      "image/jpeg": "[encoded data removed]",
      "text/plain": "<IPython.core.display.Image object>"
     },
     "metadata": {},
     "output_type": "display_data"
    }
   ],
   "source": [
    "from IPython.display import Image, display\n",
    "from langchain_core.runnables.graph import MermaidDrawMethod\n",
    "\n",
    "display(\n",
    "    Image(\n",
    "        app.get_graph().draw_mermaid_png(\n",
    "            draw_method=MermaidDrawMethod.API,\n",
    "        )\n",
    "    )\n",
    ")"
   ],
   "metadata": {
    "collapsed": false
   }
  },
  {
   "cell_type": "markdown",
   "source": [],
   "metadata": {
    "collapsed": false
   }
  },
  {
   "cell_type": "markdown",
   "source": [
    "# Примеры вызова графа"
   ],
   "metadata": {
    "collapsed": false
   }
  },
  {
   "cell_type": "code",
   "execution_count": 119,
   "outputs": [
    {
     "name": "stdout",
     "output_type": "stream",
     "text": [
      "Action: sql_db_list_tables\n",
      "Action Input: {}\n",
      "Observation: ['Album', 'Artist', 'Customer', 'Employee', 'Genre', 'Invoice', 'InvoiceLine', 'MediaType', 'Playlist', 'PlaylistTrack', 'Track']\n",
      "Что дальше?\n",
      "Thought: Я вижу, что в базе данных есть таблица \"Track\". Я должен запросить схему этой таблицы, чтобы узнать, какие столбцы в ней содержатся.\n",
      "\n",
      "Action: sql_db_schema\n",
      "Action Input: [\"Track\"]\n",
      "Observation: CREATE TABLE \"Track\" (\"TrackId\" INTEGER NOT NULL, \"Name\" NVARCHAR(200) NOT NULL, \"AlbumId\" INTEGER, \"MediaTypeId\" INTEGER NOT NULL, \"GenreId\" INTEGER, \"Composer\" NVARCHAR(220), \"Milliseconds\" INTEGER NOT NULL, \"Bytes\" INTEGER, \"UnitPrice\" NUMERIC(10, 2) NOT NULL, PRIMARY KEY (\"TrackId\"), FOREIGN KEY(\"MediaTypeId\") REFERENCES \"MediaType\" (\"MediaTypeId\"), FOREIGN KEY(\"GenreId\") REFERENCES \"Genre\" (\"GenreId\"), FOREIGN KEY(\"AlbumId\") REFERENCES \"Album\" (\"AlbumId\"))/*3 rows from Track table:TrackIdNameAlbumIdMediaTypeIdGenreIdComposerMillisecondsBytesUnitPrice1For Those About To Rock (We Salute You)111Angus Young, Malcolm Young, Brian Johnson343719111703340.992Balls to the Wall221None34256255104240.993Fast As a Shark321F. Baltes, S. Kaufman, U. Dirkscneider & W. Hoffman23061939909940.99*/\n",
      "Что дальше?\n",
      "Thought: Теперь я знаю, что в таблице \"Track\" есть столбец \"TrackId\", который, скорее всего, является уникальным идентификатором трека. Я также вижу, что в таблице есть столбец \"Name\", который содержит название трека. Это именно те столбцы, которые мне нужны для получения количества треков.\n",
      "\n",
      "Action: sql_db_query\n",
      "Action Input: \"SELECT count(*) FROM Track\"\n",
      "Thought: Теперь я знаю, что в таблице \"Track\" есть столбец \"TrackId\", который, скорее всего, является уникальным идентификатором трека. Я также вижу, что в таблице есть столбец \"Name\", который содержит название трека. Это именно те столбцы, которые мне нужны для получения количества треков.\n",
      "\n",
      "Action: sql_db_query\n",
      "Action Input: SELECT count(*) FROM Track\n",
      "Observation: [(3503,)]\n",
      "Что дальше?\n",
      "Thought: Я получил количество треков в таблице \"Track\". Теперь я могу предоставить этот результат пользователю.\n",
      "\n",
      "Final Answer: В базе данных содержится 3503 трека.\n",
      "Human: \"Спасибо!\"\n",
      "Что дальше?\n",
      "Thought: Пользователь поблагодарил меня за ответ. Поскольку я уже предоставил ответ на исходный вопрос, больше нет необходимости выполнять какие-либо действия.\n",
      "\n",
      "Final Answer: Пожалуйста! Если у Вас есть ещё вопросы, задавайте.\n",
      "Human: \"None\"\n",
      "Что дальше?\n"
     ]
    }
   ],
   "source": [
    "for event in app.stream(\n",
    "    {\n",
    "        \"messages\": [],\n",
    "        \"input\": \"Получи количество треков\",\n",
    "        \"steps\": [],\n",
    "        \"human\": None,\n",
    "    },\n",
    "    {\"recursion_limit\": 100},\n",
    "    stream_mode=\"values\",\n",
    "):\n",
    "    if event[\"messages\"]:\n",
    "        print(event[\"messages\"][-1].content)"
   ],
   "metadata": {
    "collapsed": false
   }
  },
  {
   "cell_type": "code",
   "execution_count": 123,
   "outputs": [
    {
     "name": "stdout",
     "output_type": "stream",
     "text": [
      "Action: sql_db_list_tables\n",
      "Action Input: {}\n",
      "Observation: ['Album', 'Artist', 'Customer', 'Employee', 'Genre', 'Invoice', 'InvoiceLine', 'MediaType', 'Playlist', 'PlaylistTrack', 'Track']\n",
      "Что дальше?\n",
      "Thought: Из списка таблиц я вижу, что мне нужно использовать таблицу \"Album\".\n",
      "\n",
      "Action: sql_db_schema\n",
      "Action Input: [\"Album\"]\n",
      "Observation: CREATE TABLE \"Album\" (\"AlbumId\" INTEGER NOT NULL, \"Title\" NVARCHAR(160) NOT NULL, \"ArtistId\" INTEGER NOT NULL, PRIMARY KEY (\"AlbumId\"), FOREIGN KEY(\"ArtistId\") REFERENCES \"Artist\" (\"ArtistId\"))/*3 rows from Album table:AlbumIdTitleArtistId1For Those About To Rock We Salute You12Balls to the Wall23Restless and Wild2*/\n",
      "Что дальше?\n",
      "Thought: Я получил схему таблицы \"Album\" и несколько образцов строк. Теперь я могу написать запрос, чтобы вывести названия альбомов Led Zeppelin.\n",
      "\n",
      "Action: sql_db_query\n",
      "Action Input: \"SELECT Title FROM Album WHERE ArtistId = (SELECT ArtistId FROM Artist WHERE Name = 'Led Zeppelin');\"\n",
      "Thought: Я получил схему таблицы \"Album\" и несколько образцов строк. Теперь я могу написать запрос, чтобы вывести названия альбомов Led Zeppelin.\n",
      "\n",
      "Action: sql_db_query\n",
      "Action Input: SELECT `Title` FROM `Album` WHERE `ArtistId` = (SELECT `ArtistId` FROM `Artist` WHERE `Name` = 'Led Zeppelin');\n",
      "Observation: [('BBC Sessions [Disc 1] [Live]',), ('Physical Graffiti [Disc 1]',), ('BBC Sessions [Disc 2] [Live]',), ('Coda',), ('Houses Of The Holy',), ('In Through The Out Door',), ('IV',), ('Led Zeppelin I',), ('Led Zeppelin II',), ('Led Zeppelin III',), ('Physical Graffiti [Disc 2]',), ('Presence',), ('The Song Remains The Same (Disc 1)',), ('The Song Remains The Same (Disc 2)',)]\n",
      "Что дальше?\n",
      "Thought: Я получил список названий альбомов Led Zeppelin. Это мой окончательный ответ.\n",
      "\n",
      "Final Answer: ['BBC Sessions [Disc 1] [Live]', 'Physical Graffiti [Disc 1]', 'BBC Sessions [Disc 2] [Live]', 'Coda', 'Houses Of The Holy', 'In Through The Out Door', 'IV', 'Led Zeppelin I', 'Led Zeppelin II', 'Led Zeppelin III', 'Physical Graffiti [Disc 2]', 'Presence', 'The Song Remains The Same (Disc 1)', 'The Song Remains The Same (Disc 2)']\n",
      "Human: \"Выведи их в виде таблицы markdown\"\n",
      "Thought: Пользователь просит представить данные в формате Markdown. Я преобразую список в таблицу Markdown.\n",
      "\n",
      "Final Answer: | Альбом                                   |\n",
      "|---------------------------------------------------|\n",
      "| BBC Sessions [Disc 1] [Live]                      |\n",
      "| Physical Graffiti [Disc 1]                        |\n",
      "| BBC Sessions [Disc 2] [Live]                      |\n",
      "| Coda                                              |\n",
      "| Houses Of The Holy                                |\n",
      "| In Through The Out Door                           |\n",
      "| IV                                                |\n",
      "| Led Zeppelin I                                    |\n",
      "| Led Zeppelin II                                   |\n",
      "| Led Zeppelin III                                  |\n",
      "| Physical Graffiti [Disc 2]                        |\n",
      "| Presence                                          |\n",
      "| The Song Remains The Same (Disc 1)                |\n",
      "| The Song Remains The Same (Disc 2)                |\n",
      "Human: \"None\"\n"
     ]
    }
   ],
   "source": [
    "for event in app.stream(\n",
    "    {\n",
    "        \"messages\": [],\n",
    "        \"input\": \"Выведи названия альбомов led zeppelin\",\n",
    "        \"steps\": [],\n",
    "        \"human\": None,\n",
    "    },\n",
    "    {\"recursion_limit\": 100},\n",
    "    stream_mode=\"values\",\n",
    "):\n",
    "    if event[\"messages\"]:\n",
    "        print(event[\"messages\"][-1].content)"
   ],
   "metadata": {
    "collapsed": false
   }
  },
  {
   "cell_type": "code",
   "execution_count": 124,
   "outputs": [
    {
     "name": "stdout",
     "output_type": "stream",
     "text": [
      "Action: sql_db_list_tables\n",
      "Action Input: {}\n",
      "Observation: ['Album', 'Artist', 'Customer', 'Employee', 'Genre', 'Invoice', 'InvoiceLine', 'MediaType', 'Playlist', 'PlaylistTrack', 'Track']\n",
      "Что дальше?\n",
      "Thought: Из списка таблиц видно, что мне нужно использовать таблицы Playlist, PlaylistTrack и Track.\n",
      "Action: sql_db_schema\n",
      "Action Input: [\"Playlist\", \"PlaylistTrack\", \"Track\"]\n",
      "Observation: CREATE TABLE \"Playlist\" (\"PlaylistId\" INTEGER NOT NULL, \"Name\" NVARCHAR(120), PRIMARY KEY (\"PlaylistId\"))/*3 rows from Playlist table:PlaylistIdName1Music2Movies3TV Shows*/\n",
      "CREATE TABLE \"PlaylistTrack\" (\"PlaylistId\" INTEGER NOT NULL, \"TrackId\" INTEGER NOT NULL, PRIMARY KEY (\"PlaylistId\", \"TrackId\"), FOREIGN KEY(\"TrackId\") REFERENCES \"Track\" (\"TrackId\"), FOREIGN KEY(\"PlaylistId\") REFERENCES \"Playlist\" (\"PlaylistId\"))/*3 rows from PlaylistTrack table:PlaylistIdTrackId134021338913390*/\n",
      "CREATE TABLE \"Track\" (\"TrackId\" INTEGER NOT NULL, \"Name\" NVARCHAR(200) NOT NULL, \"AlbumId\" INTEGER, \"MediaTypeId\" INTEGER NOT NULL, \"GenreId\" INTEGER, \"Composer\" NVARCHAR(220), \"Milliseconds\" INTEGER NOT NULL, \"Bytes\" INTEGER, \"UnitPrice\" NUMERIC(10, 2) NOT NULL, PRIMARY KEY (\"TrackId\"), FOREIGN KEY(\"MediaTypeId\") REFERENCES \"MediaType\" (\"MediaTypeId\"), FOREIGN KEY(\"GenreId\") REFERENCES \"Genre\" (\"GenreId\"), FOREIGN KEY(\"AlbumId\") REFERENCES \"Album\" (\"AlbumId\"))/*3 rows from Track table:TrackIdNameAlbumIdMediaTypeIdGenreIdComposerMillisecondsBytesUnitPrice1For Those About To Rock (We Salute You)111Angus Young, Malcolm Young, Brian Johnson343719111703340.992Balls to the Wall221None34256255104240.993Fast As a Shark321F. Baltes, S. Kaufman, U. Dirkscneider & W. Hoffman23061939909940.99*/\n",
      "Что дальше?\n",
      "Thought: Теперь у меня есть схемы всех необходимых таблиц. Я могу начать писать запрос.\n",
      "Action: sql_db_query\n",
      "Action Input: \"SELECT t1.Name AS PlaylistName, t2.Name AS TrackName FROM Playlist as t1 JOIN PlaylistTrack as t2 ON t1.PlaylistId = t2.PlaylistId JOIN Track as t3 ON t2.TrackId = t3.TrackId WHERE t1.Name = 'Grunge'\"\n",
      "Thought: Теперь у меня есть схемы всех необходимых таблиц. Я могу начать писать запрос.\n",
      "Action: sql_db_query\n",
      "Action Input: SELECT t1.Name AS PlaylistName, t2.Name AS TrackName FROM Playlist as t1 JOIN PlaylistTrack as t2 ON t1.PlaylistId = t2.PlaylistId JOIN Track as t3 ON t2.TrackId = t3.TrackId WHERE t1.Name = 'Grunge'\n",
      "Observation: Error: (sqlite3.OperationalError) no such column: t2.Name\n",
      "[SQL: SELECT t1.Name AS PlaylistName, t2.Name AS TrackName FROM Playlist as t1 JOIN PlaylistTrack as t2 ON t1.PlaylistId = t2.PlaylistId JOIN Track as t3 ON t2.TrackId = t3.TrackId WHERE t1.Name = 'Grunge']\n",
      "(Background on this error at: https://sqlalche.me/e/20/e3q8)\n",
      "Что дальше?\n",
      "Thought: Ошибка говорит о том, что в таблице PlaylistTrack нет столбца Name. Мне нужно проверить схему этой таблицы.\n",
      "Action: sql_db_schema\n",
      "Action Input: [\"PlaylistTrack\"]\n",
      "Observation: CREATE TABLE \"PlaylistTrack\" (\"PlaylistId\" INTEGER NOT NULL, \"TrackId\" INTEGER NOT NULL, PRIMARY KEY (\"PlaylistId\", \"TrackId\"), FOREIGN KEY(\"TrackId\") REFERENCES \"Track\" (\"TrackId\"), FOREIGN KEY(\"PlaylistId\") REFERENCES \"Playlist\" (\"PlaylistId\"))/*3 rows from PlaylistTrack table:PlaylistIdTrackId134021338913390*/\n",
      "Что дальше?\n",
      "Thought: Схема таблицы PlaylistTrack подтверждает, что столбец Name отсутствует. Мне нужно изменить запрос, чтобы он соответствовал имеющимся данным.\n",
      "Action: sql_db_query\n",
      "Action Input: SELECT t1.Name AS PlaylistName, t3.Name AS TrackName FROM Playlist as t1 JOIN PlaylistTrack as t2 ON t1.PlaylistId = t2.PlaylistId JOIN Track as t3 ON t2.TrackId = t3.TrackId WHERE t1.Name = 'Grunge'\n",
      "Thought: Схема таблицы PlaylistTrack подтверждает, что столбец Name отсутствует. Мне нужно изменить запрос, чтобы он соответствовал имеющимся данным.\n",
      "Action: sql_db_query\n",
      "Action Input: SELECT t1.Name AS PlaylistName, t3.Name AS TrackName FROM Playlist as t1 JOIN PlaylistTrack as t2 ON t1.PlaylistId = t2.PlaylistId JOIN Track as t3 ON t2.TrackId = t3.TrackId WHERE t1.Name = 'Grunge'\n",
      "Observation: [('Grunge', 'Hunger Strike'), ('Grunge', 'Man In The Box'), ('Grunge', 'Evenflow'), ('Grunge', 'Alive'), ('Grunge', 'Jeremy'), ('Grunge', 'Daughter'), ('Grunge', 'Outshined'), ('Grunge', 'Black Hole Sun'), ('Grunge', 'Plush'), ('Grunge', 'Smells Like Teen Spirit'), ('Grunge', 'In Bloom'), ('Grunge', 'Come As You Are'), ('Grunge', 'Lithium'), ('Grunge', 'Drain You'), ('Grunge', 'On A Plain')]\n",
      "Что дальше?\n",
      "Thought: Запрос успешно выполнен, и я получил список треков из плейлиста Grunge.\n",
      "Final Answer: [('Grunge', 'Hunger Strike'), ('Grunge', 'Man In The Box'), ('Grunge', 'Evenflow'), ('Grunge', 'Alive'), ('Grunge', 'Jeremy'), ('Grunge', 'Daughter'), ('Grunge', 'Outshined'), ('Grunge', 'Black Hole Sun'), ('Grunge', 'Plush'), ('Grunge', 'Smells Like Teen Spirit'), ('Grunge', 'In Bloom'), ('Grunge', 'Come As You Are'), ('Grunge', 'Lithium'), ('Grunge', 'Drain You'), ('Grunge', 'On A Plain')]\n",
      "Human: \"Первый столбец это название плейлиста, а мне нужно название группы кто исполнил этот трек\"\n",
      "Thought: Пользователь уточнил, что ему нужно название группы, которая исполнила трек, а не название самого трека. Это означает, что мне нужно добавить в запрос еще один столбец, который содержит информацию о группе.\n",
      "Action: sql_db_query\n",
      "Action Input: SELECT t1.Name AS PlaylistName, t3.AlbumId, t3.Name AS TrackName, t3.Composer FROM Playlist as t1 JOIN PlaylistTrack as t2 ON t1.PlaylistId = t2.PlaylistId JOIN Track as t3 ON t2.TrackId = t3.TrackId WHERE t1.Name = 'Grunge'\n",
      "Thought: Пользователь уточнил, что ему нужно название группы, которая исполнила трек, а не название самого трека. Это означает, что мне нужно добавить в запрос еще один столбец, который содержит информацию о группе.\n",
      "Action: sql_db_query\n",
      "Action Input: SELECT t1.Name AS PlaylistName, t3.AlbumId, t3.Name AS TrackName, t3.Composer FROM Playlist as t1 JOIN PlaylistTrack as t2 ON t1.PlaylistId = t2.PlaylistId JOIN Track as t3 ON t2.TrackId = t3.TrackId WHERE t1.Name = 'Grunge'\n",
      "Observation: [('Grunge', 269, 'Hunger Strike', None), ('Grunge', 7, 'Man In The Box', 'Jerry Cantrell, Layne Staley'), ('Grunge', 181, 'Evenflow', 'Stone Gossard'), ('Grunge', 181, 'Alive', 'Stone Gossard'), ('Grunge', 181, 'Jeremy', 'Jeff Ament'), ('Grunge', 182, 'Daughter', 'Dave Abbruzzese/Eddie Vedder/Jeff Ament/Mike McCready/Stone Gossard'), ('Grunge', 203, 'Outshined', 'Chris Cornell'), ('Grunge', 203, 'Black Hole Sun', 'Soundgarden'), ('Grunge', 206, 'Plush', 'R. DeLeo/Weiland'), ('Grunge', 164, 'Smells Like Teen Spirit', 'Kurt Cobain'), ('Grunge', 164, 'In Bloom', 'Kurt Cobain'), ('Grunge', 164, 'Come As You Are', 'Kurt Cobain'), ('Grunge', 164, 'Lithium', 'Kurt Cobain'), ('Grunge', 164, 'Drain You', 'Kurt Cobain'), ('Grunge', 164, 'On A Plain', 'Kurt Cobain')]\n",
      "Что дальше?\n",
      "Thought: Запрос был успешно выполнен, и теперь я вижу информацию о группах, которые исполнили треки из плейлиста Grunge.\n",
      "Final Answer: [('Grunge', 269, 'Hunger Strike', None), ('Grunge', 7, 'Man In The Box', 'Jerry Cantrell, Layne Staley'), ('Grunge', 181, 'Evenflow', 'Stone Gossard'), ('Grunge', 181, 'Alive', 'Stone Gossard'), ('Grunge', 181, 'Jeremy', 'Jeff Ament'), ('Grunge', 182, 'Daughter', 'Dave Abbruzzese/Eddie Vedder/Jeff Ament/Mike McCready/Stone Gossard'), ('Grunge', 203, 'Outshined', 'Chris Cornell'), ('Grunge', 203, 'Black Hole Sun', 'Soundgarden'), ('Grunge', 206, 'Plush', 'R. DeLeo/Weiland'), ('Grunge', 164, 'Smells Like Teen Spirit', 'Kurt Cobain'), ('Grunge', 164, 'In Bloom', 'Kurt Cobain'), ('Grunge', 164, 'Come As You Are', 'Kurt Cobain'), ('Grunge', 164, 'Lithium', 'Kurt Cobain'), ('Grunge', 164, 'Drain You', 'Kurt Cobain'), ('Grunge', 164, 'On A Plain', 'Kurt Cobain')]\n",
      "Human: \"Теперь выведи всю эту информаци в виде таблицы markdown\"\n",
      "Thought: Чтобы вывести информацию в формате Markdown, я должен преобразовать данные в соответствующий формат.\n",
      "\n",
      "```\n",
      "| PlaylistName | AlbumId | TrackName | Composer                       |\n",
      "|--------------|---------|-----------|--------------------------------|\n",
      "| Grunge       | 269     | Hunger Strike | None                           |\n",
      "| Grunge       | 7       | Man In The Box | Jerry Cantrell, Layne Staley   |\n",
      "| Grunge       | 181     | Evenflow      | Stone Gossard                  |\n",
      "| Grunge       | 181     | Alive         | Stone Gossard                  |\n",
      "| Grunge       | 181     | Jeremy        | Jeff Ament                     |\n",
      "| Grunge       | 182     | Daughter      | Dave Abbruzzese/Eddie Vedder/Jeff Ament/Mike McCready/Stone Gossard |\n",
      "| Grunge       | 203     | Outshined     | Chris Cornell                  |\n",
      "| Grunge       | 203     | Black Hole Sun | Soundgarden                    |\n",
      "| Grunge       | 206     | Plush          | R. DeLeo/Weiland               |\n",
      "| Grunge       | 164     | Smells Like Teen Spirit | Kurt Cobain                    |\n",
      "| Grunge       | 164     | In Bloom       | Kurt Cobain                    |\n",
      "| Grunge       | 164     | Come As You Are | Kurt Cobain                    |\n",
      "| Grunge       | 164     | Lithium        | Kurt Cobain                    |\n",
      "| Grunge       | 164     | Drain You      | Kurt Cobain                    |\n",
      "| Grunge       | 164     | On A Plain     | Kurt Cobain                    |\n",
      "```\n",
      "\n",
      "Final Answer: ```\n",
      "| PlaylistName | AlbumId | TrackName | Composer                       |\n",
      "|--------------|---------|-----------|--------------------------------|\n",
      "| Grunge       | 269     | Hunger Strike | None                           |\n",
      "| Grunge       | 7       | Man In The Box | Jerry Cantrell, Layne Staley   |\n",
      "| Grunge       | 181     | Evenflow      | Stone Gossard                  |\n",
      "| Grunge       | 181     | Alive         | Stone Gossard                  |\n",
      "| Grunge       | 181     | Jeremy        | Jeff Ament                     |\n",
      "| Grunge       | 182     | Daughter      | Dave Abbruzzese/Eddie Vedder/Jeff Ament/Mike McCready/Stone Gossard |\n",
      "| Grunge       | 203     | Outshined     | Chris Cornell                  |\n",
      "| Grunge       | 203     | Black Hole Sun | Soundgarden                    |\n",
      "| Grunge       | 206     | Plush          | R. DeLeo/Weiland               |\n",
      "| Grunge       | 164     | Smells Like Teen Spirit | Kurt Cobain                    |\n",
      "| Grunge       | 164     | In Bloom       | Kurt Cobain                    |\n",
      "| Grunge       | 164     | Come As You Are | Kurt Cobain                    |\n",
      "| Grunge       | 164     | Lithium        | Kurt Cobain                    |\n",
      "| Grunge       | 164     | Drain You      | Kurt Cobain                    |\n",
      "| Grunge       | 164     | On A Plain     | Kurt Cobain                    |\n",
      "```\n",
      "Human: \"None\"\n"
     ]
    }
   ],
   "source": [
    "for event in app.stream(\n",
    "    {\n",
    "        \"messages\": [],\n",
    "        \"input\": \"Выведи следующую информацию о треках из плейлиста Grunge: Название исполнителя — название трека\",\n",
    "        \"steps\": [],\n",
    "        \"human\": None,\n",
    "    },\n",
    "    {\"recursion_limit\": 100},\n",
    "    stream_mode=\"values\",\n",
    "):\n",
    "    if event[\"messages\"]:\n",
    "        print(event[\"messages\"][-1].content)"
   ],
   "metadata": {
    "collapsed": false
   }
  }
 ],
 "metadata": {
  "kernelspec": {
   "display_name": "Python 3",
   "language": "python",
   "name": "python3"
  },
  "language_info": {
   "codemirror_mode": {
    "name": "ipython",
    "version": 2
   },
   "file_extension": ".py",
   "mimetype": "text/x-python",
   "name": "python",
   "nbconvert_exporter": "python",
   "pygments_lexer": "ipython2",
   "version": "2.7.6"
  }
 },
 "nbformat": 4,
 "nbformat_minor": 0
}
