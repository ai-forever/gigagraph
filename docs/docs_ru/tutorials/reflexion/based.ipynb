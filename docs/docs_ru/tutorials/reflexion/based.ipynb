{
 "cells": [
  {
   "cell_type": "markdown",
   "metadata": {
    "collapsed": false
   },
   "source": [
    "# Reflexion\n",
    "\n",
    "В данном ноутбуке [Reflexion](https://arxiv.org/abs/2303.11366) мы сделаем граф, который будет отвечать на вопрос, улучшая его итеративно.\n",
    "У нас будет 3 главных компонента:\n",
    "\n",
    "1. Агент, отвечающий на вопрос, с самокритикой своих ответов\n",
    "2. Поиск информации в интернете для улучшения ответов и решения критики\n",
    "3. Временная память, которая будет хранить критику прошлого ответа (1)\n",
    "\n",
    "![reflexion diagram](./img/reflexion.png)\n",
    "\n",
    "Если хотите пропустить инициализацию всех нод и посмотреть результат -> [секция Построение графа](#Построение-графа) below.\n",
    "## Инициализация"
   ]
  },
  {
   "cell_type": "code",
   "execution_count": null,
   "metadata": {
    "collapsed": false
   },
   "outputs": [],
   "source": [
    "# %pip install -U --quiet  gigachain gigagraph\n",
    "# %pip install -U --quiet duckduckgo-search"
   ]
  },
  {
   "cell_type": "code",
   "execution_count": 1,
   "metadata": {
    "collapsed": true
   },
   "outputs": [],
   "source": [
    "import datetime\n",
    "from typing import List, Sequence, TypedDict\n",
    "\n",
    "from langchain_community.chat_models import GigaChat\n",
    "from langchain_core.messages import (\n",
    "    AIMessage,\n",
    "    BaseMessage,\n",
    "    HumanMessage,\n",
    ")\n",
    "from langchain_core.output_parsers.gigachat_functions import (\n",
    "    PydanticOutputFunctionsParser,\n",
    ")\n",
    "from langchain_core.prompts import ChatPromptTemplate, MessagesPlaceholder\n",
    "from langchain_core.pydantic_v1 import BaseModel, Field\n",
    "from langsmith import traceable\n",
    "from search_tools import create_search_tool\n",
    "\n",
    "from langgraph.prebuilt.tool_executor import ToolExecutor, ToolInvocation"
   ]
  },
  {
   "cell_type": "code",
   "execution_count": 2,
   "metadata": {
    "collapsed": false
   },
   "outputs": [],
   "source": [
    "llm = GigaChat(\n",
    "    ## Тут ваши данные для входа\n",
    "    profanity_check=False,\n",
    "    verify_ssl_certs=False,\n",
    "    timeout=600,\n",
    "    model=\"GigaChat-Pro\",\n",
    "    top_p=0.8,\n",
    ")"
   ]
  },
  {
   "cell_type": "markdown",
   "metadata": {
    "collapsed": false
   },
   "source": [
    "## Агенты\n",
    "Главными компонентами у нас являются, агенты, которые отвечают на вопрос исходя из своих знаний и информации из интернета, постоянно критикующие свои ответы и улучщающие их итеративно.\n",
    "Наши компоненты:\n",
    "1. Инструменты поиска в интернете\n",
    "2. Изначальный агент ответчик, создающий ответ из своих знаний (и пишущий критику на свои ответы)\n",
    "3. Ревьювер: дополняет ответ (и критикует дополнения) исходя из новой полученной информации\n",
    "\n",
    "Сначала объявим инструменты поиска\n",
    "\n",
    "#### Объявление инструментов поиска\n"
   ]
  },
  {
   "cell_type": "code",
   "execution_count": 3,
   "metadata": {
    "collapsed": false
   },
   "outputs": [],
   "source": [
    "tool_executor = ToolExecutor([create_search_tool(llm)])"
   ]
  },
  {
   "cell_type": "markdown",
   "metadata": {
    "collapsed": false
   },
   "source": [
    "Инструменты вызываются в контексте графа. Создаем функцию, которая принимает контекст и ищет исходя из него информацию."
   ]
  },
  {
   "cell_type": "code",
   "execution_count": 4,
   "metadata": {
    "collapsed": false
   },
   "outputs": [],
   "source": [
    "def execute_tools(state: List[BaseMessage]) -> List[BaseMessage]:\n",
    "    messages = state[\"messages\"]\n",
    "    tool_invocation: AIMessage = messages[-1]\n",
    "    tool_invocations = []\n",
    "    for query in tool_invocation.additional_kwargs[\"function_call\"][\"arguments\"][\n",
    "        \"search_queries\"\n",
    "    ][:]:\n",
    "        tool_invocations.append(\n",
    "            ToolInvocation(\n",
    "                tool=\"search_engine\",\n",
    "                tool_input=query,\n",
    "            )\n",
    "        )\n",
    "\n",
    "    outputs = tool_executor.batch(tool_invocations)\n",
    "    arguments = tool_invocation.additional_kwargs[\"function_call\"][\"arguments\"]\n",
    "    reflection = arguments[\"reflection\"]\n",
    "    search_results = []\n",
    "    for output, invocation in zip(outputs, tool_invocations):\n",
    "        search_results.append(\n",
    "            f\"\"\"Поисковой запрос: \"{invocation.tool_input}\"\\n\\n\\n{output}\\n\"\"\"  # noqa\n",
    "        )\n",
    "    search_results = \"\\n\".join(search_results)\n",
    "    result = f\"\"\"Вопрос: \"{state[\"question\"]}\"\n",
    "Ответ:\n",
    "---\n",
    "{arguments['answer']}\n",
    "---\n",
    "Критика: \"{reflection}\"\n",
    "\n",
    "Добавь в ответ новую информацию, ответь на критику и напиши дополнительную важную информацию из результатов поиска ниже:\n",
    "* Ответ должен отвечать на критику, добавь в него важную информацию из результатов поиска\n",
    "* Покритикуй свой новый ответ и создай новые поисковые запросы\n",
    "\n",
    "Результаты поиска:\n",
    "---\n",
    "{search_results}\n",
    "---\n",
    "\n",
    "Добавь в ответ новую информацию, ответь на критику и напиши дополнительную важную информацию из результатов поиска выше\n",
    "Используй функцию ReviseAnswer.\n",
    "\"\"\"  # noqa\n",
    "    return {\n",
    "        \"messages\": [HumanMessage(content=result)],\n",
    "        \"iteration\": state[\"iteration\"] + 1,\n",
    "        \"question\": state[\"question\"],\n",
    "    }"
   ]
  },
  {
   "cell_type": "markdown",
   "metadata": {
    "collapsed": false
   },
   "source": [
    "### Изначальный ответчик"
   ]
  },
  {
   "cell_type": "code",
   "execution_count": 5,
   "metadata": {
    "collapsed": false
   },
   "outputs": [],
   "source": [
    "actor_prompt_template = ChatPromptTemplate.from_messages(\n",
    "    [\n",
    "        (\n",
    "            \"system\",\n",
    "            \"\"\"Ты бот эксперт-исследователь. Ты помогаешь пользователю в его исследованиях.\n",
    "Текущее время: {time}\n",
    "\n",
    "1. {first_instruction}\n",
    "2. Постоянно размышляй и критикуй свои мысли.\n",
    "3. Рекомендуй поисковые запросы для получения нужной информации.\"\"\",\n",
    "        ),\n",
    "        MessagesPlaceholder(variable_name=\"messages\"),\n",
    "    ]\n",
    ").partial(\n",
    "    time=lambda: datetime.datetime.now().isoformat(),\n",
    ")"
   ]
  },
  {
   "cell_type": "code",
   "execution_count": 6,
   "metadata": {
    "collapsed": false
   },
   "outputs": [],
   "source": [
    "class AnswerQuestion(BaseModel):\n",
    "    \"\"\"Функция ответа на вопрос пользователя.\n",
    "    Возвращает результаты поиска по твоим поисковым запросам. Дополни ответ исходя из них\n",
    "    \"\"\"\n",
    "\n",
    "    answer: str = Field(description=\"Развернутый ответ на вопрос пользователя\")\n",
    "    reflection: str = Field(\n",
    "        description=\"Критика твоего текущего ответа. Что в нем можно дополнить?\"\n",
    "    )\n",
    "    search_queries: List[str] = Field(\n",
    "        description=\"1–3 поисковых запроса, которые позволят решить критику и дополнить твой текущий ответ\"  # noqa\n",
    "    )\n",
    "\n",
    "\n",
    "initial_answer_chain = actor_prompt_template.partial(\n",
    "    first_instruction=\"Дай развернутый ответ на вопрос пользователя с помощью функции AnswerQuestion.\"\n",
    ") | llm.bind_tools(tools=[AnswerQuestion], tool_choice=\"AnswerQuestion\")\n",
    "validator = PydanticOutputFunctionsParser(pydantic_schema=AnswerQuestion)"
   ]
  },
  {
   "cell_type": "markdown",
   "metadata": {
    "collapsed": false
   },
   "source": [
    "### Важно\n",
    "Хочу заметить, что это очень полезный класс, позволяющий заполнять аргументы функции, если гигачат их пропустил.\n",
    "А он пока что любит пропускать некоторые аргументы, даже если они указаны как required"
   ]
  },
  {
   "cell_type": "code",
   "execution_count": null,
   "metadata": {
    "collapsed": false
   },
   "outputs": [],
   "source": [
    "class ResponderWithRetries:\n",
    "    def __init__(self, runnable, validator):\n",
    "        self.runnable = runnable\n",
    "        self.validator = validator\n",
    "\n",
    "    @traceable\n",
    "    def respond(self, state):\n",
    "        response = []\n",
    "        messages = state[\"messages\"]\n",
    "        for attempt in range(5):\n",
    "            try:\n",
    "                response = self.runnable.invoke({\"messages\": state[\"messages\"]})\n",
    "                self.validator.invoke(response)\n",
    "                return {\n",
    "                    \"messages\": messages + [response],\n",
    "                    \"iteration\": state[\"iteration\"] + 1,\n",
    "                    \"references\": state[\"references\"]\n",
    "                    + response.additional_kwargs[\"function_call\"][\"arguments\"].get(\n",
    "                        \"references\", []\n",
    "                    ),\n",
    "                }\n",
    "            except Exception as e:\n",
    "                message = HumanMessage(content=repr(e))\n",
    "                if response.response_metadata[\"finish_reason\"] != \"error\":\n",
    "                    state[\"messages\"] += [message]\n",
    "        return {\n",
    "            \"messages\": messages + [response],\n",
    "            \"iteration\": state[\"iteration\"] + 1,\n",
    "        }"
   ]
  },
  {
   "cell_type": "code",
   "execution_count": 7,
   "metadata": {
    "collapsed": false
   },
   "outputs": [],
   "source": [
    "first_responder = ResponderWithRetries(\n",
    "    runnable=initial_answer_chain, validator=validator\n",
    ")"
   ]
  },
  {
   "cell_type": "markdown",
   "metadata": {
    "collapsed": false
   },
   "source": [
    "Пример работы"
   ]
  },
  {
   "cell_type": "code",
   "execution_count": 18,
   "metadata": {
    "collapsed": false
   },
   "outputs": [
    {
     "name": "stderr",
     "output_type": "stream",
     "text": [
      "Giga generation stopped with reason: function_call\n",
      "Giga generation stopped with reason: function_call\n"
     ]
    },
    {
     "data": {
      "text/plain": [
       "{'answer': 'Для победы над глобальным потеплением необходимо принять комплекс мер, включающих снижение выбросов парниковых газов, увеличение зеленых насаждений, разработку и внедрение возобновляемых источников энергии, повышение энергоэффективности и многое другое.',\n",
       " 'reflection': 'Хотя ответ общий, он не предлагает конкретных стратегий или планов действий. Нужно более подробно описать, какие именно шаги нужно предпринять для борьбы с глобальным потеплением.',\n",
       " 'search_queries': ['меры по борьбе с глобальным потеплением',\n",
       "  'стратегии снижения выбросов парниковых газов',\n",
       "  'развитие возобновляемых источников энергии']}"
      ]
     },
     "execution_count": 18,
     "metadata": {},
     "output_type": "execute_result"
    }
   ],
   "source": [
    "example_question = \"Как победить глобальное потепление\"\n",
    "state = {\n",
    "    'messages': [HumanMessage(content=example_question)],\n",
    "    'references': [],\n",
    "    'iteration': 0,\n",
    "    \"question\": example_question\n",
    "}\n",
    "state = {**state, **first_responder.respond(state)}\n",
    "state['messages'][-1].additional_kwargs['function_call']['arguments']"
   ]
  },
  {
   "cell_type": "markdown",
   "metadata": {
    "collapsed": false
   },
   "source": [
    "### Ревьювер"
   ]
  },
  {
   "cell_type": "code",
   "execution_count": 19,
   "metadata": {
    "collapsed": false
   },
   "outputs": [],
   "source": [
    "revise_instructions = \"\"\"Дополни существующий ответ, ответь на критику с помощью функции ReviseAnswer.\n",
    "* Перепиши ответ, отвечая на свою критику, добавь информацию из результатов поиска ниже\n",
    "* Покритикуй свой новый дополненный ответ и создай новые поисковые запросы\n",
    "\"\"\"  # noqa\n",
    "\n",
    "\n",
    "# Расширяем функцию ответа на вопрос, для того, чтобы мы могли добавлять источники к ответам\n",
    "class ReviseAnswer(AnswerQuestion):\n",
    "    \"\"\"Функция ответа на вопрос пользователя. Дополни предыдущий ответ, ответь на критику.\n",
    "    Сделай новую критику своего дополненного ответа и создай новые ссылки.\n",
    "    Возвращает результаты поиска. Дополни дальше свой ответ исходя из них\"\"\"\n",
    "\n",
    "    answer: str = Field(description=\"Новый ответ на вопрос пользователя\")\n",
    "    reflection: str = Field(\n",
    "        description=\"Критика нового ответа. Что в нем можно дополнить?\"\n",
    "    )\n",
    "    search_queries: List[str] = Field(\n",
    "        description=\"1–3 поисковых запроса, которые позволят решить критику и дополнить твой новый ответ\"  # noqa\n",
    "    )\n",
    "    references: List[str] = Field(\n",
    "        description=\"Ссылки на источники информации, которые ты использовал в своем ответе.\"\n",
    "    )\n",
    "\n",
    "\n",
    "revision_chain = actor_prompt_template.partial(\n",
    "    first_instruction=revise_instructions\n",
    ") | llm.bind_tools(tools=[ReviseAnswer], tool_choice=\"ReviseAnswer\")\n",
    "revision_validator = PydanticOutputFunctionsParser(pydantic_schema=ReviseAnswer)\n",
    "\n",
    "revisor = ResponderWithRetries(runnable=revision_chain, validator=revision_validator)"
   ]
  },
  {
   "cell_type": "code",
   "execution_count": 20,
   "metadata": {
    "collapsed": false
   },
   "outputs": [
    {
     "name": "stderr",
     "output_type": "stream",
     "text": [
      "Giga generation stopped with reason: function_call\n",
      "Giga generation stopped with reason: function_call\n"
     ]
    },
    {
     "data": {
      "text/plain": [
       "{'answer': 'Чтобы победить глобальное потепление, необходим комплексный подход, включающий сокращение выбросов парниковых газов, увеличение зеленых насаждений, развитие и внедрение возобновляемых источников энергии, повышение энергоэффективности и многое другое. В частности, правительства принимают политики для подготовки к экономическим потрясениям, связанным с изменением климата, включая требование доступа граждан к страхованию от пожаров и раскрытие информации банками о потенциальном влиянии изменения климата на их инвестиции. Также важны стратегии мониторинга и сокращения выбросов парниковых газов, таких как использование энергоэффективности, возобновляемых источников энергии, снижение выбросов метана и других подходов. Администрация Байдена-Харриса выпустила стратегию мониторинга парниковых газов, которая включает использование различных инструментов анализа и данных для учета выбросов парниковых газов. С развитием возобновляемых источников энергии, глобальная вместимость увеличилась на 50% в 2023 году, преимущественно за счет солнечной фотоэлектрической энергии.',\n",
       " 'references': ['https://www.nationalgeographic.com/environment/article/global-warming-solutions',\n",
       "  'https://world101.cfr.org/global-era-issues/climate-change/how-do-governments-combat-climate-change',\n",
       "  'https://ourworldindata.org/sdgs/climate-action',\n",
       "  'https://www.whitehouse.gov/briefing-room/statements-releases/2023/04/20/fact-sheet-president-biden-to-catalyze-global-climate-action-through-the-major-economies-forum-on-energy-and-climate/',\n",
       "  'https://www.epa.gov/climateleadership/ghg-reduction-programs-strategies',\n",
       "  'https://climate.mit.edu/explainers/mitigation-and-adaptation',\n",
       "  'https://www.noaa.gov/news-release/biden-harris-administration-releases-greenhouse-gas-monitoring-strategy',\n",
       "  'https://www.transportation.gov/priorities/climate-and-sustainability/greenhouse-gas-analysis-resources-and-tools',\n",
       "  'https://www.ibm.com/blog/renewable-energy-history/',\n",
       "  'https://www.britannica.com/science/renewable-energy',\n",
       "  'https://www.weforum.org/agenda/2024/02/renewables-energy-capacity-demand-growth/',\n",
       "  'https://www.nature.com/articles/d41586-023-02510-y'],\n",
       " 'reflection': 'Этот ответ предоставляет более подробную информацию о мерах, принимаемых для борьбы с глобальным потеплением, включая стратегии сокращения выбросов парниковых газов и развитие возобновляемых источников энергии. Однако стоит упомянуть, что хотя использование возобновляемых источников энергии растет, оно все еще составляет меньшую часть общего потребления энергии. Также важно учитывать индивидуальные усилия каждого человека в борьбе с изменением климата.',\n",
       " 'search_queries': ['индивидуальные действия против глобального потепления',\n",
       "  'возможности для уменьшения влияния изменения климата на уровне отдельного человека']}"
      ]
     },
     "execution_count": 20,
     "metadata": {},
     "output_type": "execute_result"
    }
   ],
   "source": [
    "state = {**state, **execute_tools(state)}\n",
    "state = {**state, **revisor.respond(state)}\n",
    "state['messages'][-1].additional_kwargs['function_call']['arguments']"
   ]
  },
  {
   "cell_type": "markdown",
   "metadata": {
    "collapsed": false
   },
   "source": [
    "## Построение графа\n",
    "Соединяем между собой все компоненты"
   ]
  },
  {
   "cell_type": "code",
   "execution_count": 21,
   "metadata": {
    "collapsed": false
   },
   "outputs": [],
   "source": [
    "from langgraph.graph import END, StateGraph\n",
    "\n",
    "\n",
    "class AgentState(TypedDict):\n",
    "    messages: Sequence[BaseMessage]\n",
    "    iteration: int\n",
    "    question: str\n",
    "    references: list[str]\n",
    "\n",
    "\n",
    "MAX_ITERATIONS = 6\n",
    "builder = StateGraph(AgentState)\n",
    "builder.add_node(\"draft\", first_responder.respond)\n",
    "builder.add_node(\"execute_tools\", execute_tools)\n",
    "builder.add_node(\"revise\", revisor.respond)\n",
    "# draft -> execute_tools\n",
    "builder.add_edge(\"draft\", \"execute_tools\")\n",
    "# execute_tools -> revise\n",
    "builder.add_edge(\"execute_tools\", \"revise\")\n",
    "\n",
    "# Define looping logic:\n",
    "\n",
    "\n",
    "def event_loop(state) -> str:\n",
    "    # in our case, we'll just stop after N plans\n",
    "    if state[\"iteration\"] > MAX_ITERATIONS:\n",
    "        return END\n",
    "    return \"execute_tools\"\n",
    "\n",
    "\n",
    "# revise -> execute_tools OR end\n",
    "builder.add_conditional_edges(\"revise\", event_loop)\n",
    "builder.set_entry_point(\"draft\")\n",
    "graph = builder.compile()"
   ]
  },
  {
   "cell_type": "code",
   "execution_count": null,
   "metadata": {
    "collapsed": false
   },
   "outputs": [],
   "source": [
    "import sys\n",
    "\n",
    "stdout = sys.stdout\n",
    "# reload(sys)\n",
    "sys.setdefaultencoding('utf-8')\n",
    "sys.stdout = stdout"
   ]
  },
  {
   "cell_type": "code",
   "execution_count": 25,
   "metadata": {
    "collapsed": false
   },
   "outputs": [
    {
     "name": "stderr",
     "output_type": "stream",
     "text": [
      "Giga generation stopped with reason: function_call\n"
     ]
    },
    {
     "name": "stdout",
     "output_type": "stream",
     "text": [
      "## 1. draft\n",
      "Ответ: Для победы над глобальным потеплением необходимо снизить выбросы парниковых газов, внедрять экологически чистые технологии, повысить энергоэффективность и использовать возобновляемые источники энергии. Также важно провести масштабную кампанию по просвещению населения о проблемах экологии и важности снижения углеродного следа. Но это только начало - чем больше людей будет вовлечено в процесс борьбы с глобальным потеплением, тем лучше.\n",
      "Критика: Хотя ответ кажется полным, но он не указывает на конкретные действия или меры, которые могут быть предприняты отдельными людьми или организациями. Может быть, стоит добавить информацию о том, как каждый человек может внести свой вклад в борьбу с глобальным потеплением.\n",
      "Что будем искать: ['как уменьшить свой углеродный след', 'экологические привычки', 'возобновляемые источники энергии']\n",
      "---\n",
      "## 2. execute_tools\n",
      "Произошел поиск\n",
      "---\n"
     ]
    },
    {
     "name": "stderr",
     "output_type": "stream",
     "text": [
      "Giga generation stopped with reason: function_call\n"
     ]
    },
    {
     "name": "stdout",
     "output_type": "stream",
     "text": [
      "## 3. revise\n",
      "Ответ: Для победы над глобальным потеплением необходимо внедрить различные стратегии, включая снижение выбросов парниковых газов, повышение энергоэффективности, использование возобновляемых источников энергии и проведение кампании по экологическому просвещению. Кроме того, каждый человек может внести свой вклад в борьбу с глобальным потеплением, снизив свой углеродный след. Для этого можно сократить потребление воды, использовать меньше пластика, компостировать пищевые отходы, использовать общественный транспорт вместо автомобиля, повышать энергоэффективность дома и использовать возобновляемые источники энергии. Все эти меры помогают снизить нагрузку на окружающую среду и способствуют борьбе с глобальным потеплением.\n",
      "Критика: Мой новый ответ включает информацию о конкретных действиях, которые могут быть предприняты для борьбы с глобальным потеплением, и подчеркивает важность каждого человека в этом процессе. Он также содержит ссылки на источники, подтверждающие представленные утверждения.\n",
      "Что будем искать: ['конкретные действия против глобального потепления', 'снижение углеродного следа']\n",
      "---\n",
      "## 4. execute_tools\n",
      "Произошел поиск\n",
      "---\n"
     ]
    },
    {
     "name": "stderr",
     "output_type": "stream",
     "text": [
      "Giga generation stopped with reason: error\n"
     ]
    },
    {
     "name": "stdout",
     "output_type": "stream",
     "text": [
      "content='' response_metadata={'token_usage': Usage(prompt_tokens=2049, completion_tokens=562, total_tokens=2611), 'model_name': 'GigaChat-Pro:2.2.25.3', 'finish_reason': 'error'}\n"
     ]
    },
    {
     "name": "stderr",
     "output_type": "stream",
     "text": [
      "Giga generation stopped with reason: function_call\n"
     ]
    },
    {
     "name": "stdout",
     "output_type": "stream",
     "text": [
      "## 5. revise\n",
      "Ответ: Для победы над глобальным потеплением необходимо внедрить различные стратегии, включая снижение выбросов парниковых газов, повышение энергоэффективности, использование возобновляемых источников энергии и проведение кампании по экологическому просвещению. Важными мерами для каждого человека являются снижение потребления воды, использование меньше пластика, компостирование пищевых отходов, использование общественного транспорта вместо автомобиля, повышение энергоэффективности дома и использование возобновляемых источников энергии. Согласно Всемирному экономическому форуму, эффективными шагами в борьбе с глобальным потеплением являются переход от использования ископаемого топлива к возобновляемым источникам энергии, а также увеличение производства возобновляемой энергии и энергоэффективности к 2030 году. Кроме того, как сообщает Агентство по охране окружающей среды США, было принято решение о постепенном снижении производства и потребления ГФУ в США на 85% в течение следующих 15 лет. Это лишь несколько примеров мер, предпринимаемых для борьбы с глобальным потеплением, но все они требуют совместных усилий со стороны правительств, корпораций и отдельных людей.\n",
      "Критика: Ответ обновлен и теперь включает конкретные действия и инициативы, предпринимаемые на глобальном уровне для борьбы с глобальным потеплением. Однако стоит учесть, что вопрос предполагает поиск путей победы над глобальным потеплением, а не только описание текущих мер. Возможно, следует добавить информацию о потенциальных прорывах в области технологий или научных открытий, которые могли бы помочь достичь этой цели.\n",
      "Что будем искать: ['технологические прорывы в борьбе с глобальным потеплением', 'научные открытия для победы над глобальным потеплением']\n",
      "---\n",
      "## 6. execute_tools\n",
      "Произошел поиск\n",
      "---\n"
     ]
    },
    {
     "name": "stderr",
     "output_type": "stream",
     "text": [
      "Giga generation stopped with reason: function_call\n",
      "Giga generation stopped with reason: function_call\n"
     ]
    },
    {
     "name": "stdout",
     "output_type": "stream",
     "text": [
      "## 7. revise\n",
      "Ответ: Для победы над глобальным потеплением необходимо внедрить различные стратегии, включая снижение выбросов парниковых газов, повышение энергоэффективности, использование возобновляемых источников энергии и проведение кампании по экологическому просвещению. Важными мерами для каждого человека являются снижение потребления воды, использование меньше пластика, компостирование пищевых отходов, использование общественного транспорта вместо автомобиля, повышение энергоэффективности дома и использование возобновляемых источников энергии. Согласно Всемирному экономическому форуму, эффективными шагами в борьбе с глобальным потеплением являются переход от использования ископаемого топлива к возобновляемым источникам энергии, а также увеличение производства возобновляемой энергии и энергоэффективности к 2030 году. Также как сообщает Агентство по охране окружающей среды США, было принято решение о постепенном снижении производства и потребления ГФУ в США на 85% в течение следующих 15 лет. Среди технологических прорывов можно отметить быстрый рост продаж гибридных моделей и электромобилей компанией BYD, которая в 2023 году продала больше таких автомобилей, чем Tesla. Согласно отчету Всемирного экономического форума, ключевыми технологиями для адаптации к изменению климата являются искусственный интеллект, дроны, наблюдение за Землей, передовое компьютерное моделирование, Интернет вещей и виртуальная и дополненная реальность. Климатологи, такие как Майкл Манн из Гарварда, выигрывают суды против своих критиков, показывая научную надежность исследований глобального потепления. Однако, несмотря на эти усилия, некоторые ученые высказывают опасения, что Земля уже могла пройти критическую точку в 1,5 ° C глобального потепления. Ускорение глобального потепления также связывается с увеличением ясности неба, что позволяет большему количеству солнечного тепла достигать Земли.\n",
      "Критика: Хотя ответ был обновлен и включены примеры технологических прорывов и научные открытия, стоит больше углубиться в потенциальные последствия прохождения критической точки в 1,5 ° C глобального потепления, а также рассмотреть возможные решения для смягчения этих последствий. Более подробно описать как эти технологии и методы могут быть внедрены на практике и какие препятствия могут возникнуть.\n",
      "Что будем искать: ['последствия прохождения критической точки в 1,5 ° C глобального потепления', 'внедрение технологических решений для борьбы с глобальным потеплением', 'препятствия для внедрения технологических решений']\n",
      "---\n",
      "## 8. __end__\n",
      "Произошел поиск\n",
      "---\n"
     ]
    }
   ],
   "source": [
    "question = \"Как победить глобальное потепление?\"\n",
    "events = graph.stream(\n",
    "    {\n",
    "        \"messages\": [HumanMessage(content=question)],\n",
    "        \"iteration\": 0,\n",
    "        \"question\": question,\n",
    "        \"references\": [],\n",
    "    }\n",
    ")\n",
    "for i, step in enumerate(events):\n",
    "    node, output = next(iter(step.items()))\n",
    "    print(f\"## {i+1}. {node}\")\n",
    "    if node in [\"draft\", \"revise\"]:\n",
    "        args = output[\"messages\"][-1].additional_kwargs[\"function_call\"][\"arguments\"]\n",
    "        print(f\"Ответ: {args['answer']}\")\n",
    "        print(f\"Критика: {args['reflection']}\")\n",
    "        print(f\"Что будем искать: {args['search_queries']}\")\n",
    "    else:\n",
    "        print(\"Произошел поиск\")\n",
    "    print(\"---\")"
   ]
  },
  {
   "cell_type": "code",
   "execution_count": 26,
   "metadata": {
    "collapsed": false
   },
   "outputs": [
    {
     "name": "stdout",
     "output_type": "stream",
     "text": [
      "Для победы над глобальным потеплением необходимо внедрить различные стратегии, включая снижение выбросов парниковых газов, повышение энергоэффективности, использование возобновляемых источников энергии и проведение кампании по экологическому просвещению. Важными мерами для каждого человека являются снижение потребления воды, использование меньше пластика, компостирование пищевых отходов, использование общественного транспорта вместо автомобиля, повышение энергоэффективности дома и использование возобновляемых источников энергии. Согласно Всемирному экономическому форуму, эффективными шагами в борьбе с глобальным потеплением являются переход от использования ископаемого топлива к возобновляемым источникам энергии, а также увеличение производства возобновляемой энергии и энергоэффективности к 2030 году. Также как сообщает Агентство по охране окружающей среды США, было принято решение о постепенном снижении производства и потребления ГФУ в США на 85% в течение следующих 15 лет. Среди технологических прорывов можно отметить быстрый рост продаж гибридных моделей и электромобилей компанией BYD, которая в 2023 году продала больше таких автомобилей, чем Tesla. Согласно отчету Всемирного экономического форума, ключевыми технологиями для адаптации к изменению климата являются искусственный интеллект, дроны, наблюдение за Землей, передовое компьютерное моделирование, Интернет вещей и виртуальная и дополненная реальность. Климатологи, такие как Майкл Манн из Гарварда, выигрывают суды против своих критиков, показывая научную надежность исследований глобального потепления. Однако, несмотря на эти усилия, некоторые ученые высказывают опасения, что Земля уже могла пройти критическую точку в 1,5 ° C глобального потепления. Ускорение глобального потепления также связывается с увеличением ясности неба, что позволяет большему количеству солнечного тепла достигать Земли.\n",
      "Parade\n",
      "National Geographic\n",
      "https://www.weforum.org/agenda/2024/01/10-actions-to-change-the-climate-course/\n",
      "https://world101.cfr.org/global-era-issues/climate-change/how-do-governments-combat-climate-change\n",
      "https://www.epa.gov/climate-change/climate-change-regulatory-actions-and-initiatives\n",
      "https://www.technologyreview.com/2024/01/11/1086412/three-climate-technologies-breaking-through-in-2024/\n",
      "https://www.weforum.org/agenda/2024/02/ai-climate-adaptation-technologies/\n",
      "https://unfccc.int/news/how-climate-technology-is-being-ramped-up\n",
      "https://www.reuters.com/business/environment/can-technology-solve-global-climate-crisis-2023-12-02/\n",
      "https://www.garvardx.org/course/HarvardX15CSDS.1x_1/week/week2/lecture/102342\n",
      "https://www.theguardian.com/environment/2024/jan/20/global-warming-earth-has-already-passed-critical-15c-threshold\n"
     ]
    }
   ],
   "source": [
    "args = step[END][\"messages\"][-1].additional_kwargs[\"function_call\"][\"arguments\"]\n",
    "print(f\"{args['answer']}\")\n",
    "print(\"\\n\".join(step[END][\"references\"]))"
   ]
  },
  {
   "cell_type": "markdown",
   "metadata": {
    "collapsed": false
   },
   "source": [
    "## Выводы\n",
    "1. Агент жертвует временем выполнения в пользу качества и полноты ответа.\n",
    "2. Критика позволяет направлять агента, для поиска нужной информации и формирования ответа"
   ]
  }
 ],
 "metadata": {
  "kernelspec": {
   "display_name": "Python 3",
   "language": "python",
   "name": "python3"
  },
  "language_info": {
   "codemirror_mode": {
    "name": "ipython",
    "version": 2
   },
   "file_extension": ".py",
   "mimetype": "text/x-python",
   "name": "python",
   "nbconvert_exporter": "python",
   "pygments_lexer": "ipython2",
   "version": "2.7.6"
  }
 },
 "nbformat": 4,
 "nbformat_minor": 0
}
