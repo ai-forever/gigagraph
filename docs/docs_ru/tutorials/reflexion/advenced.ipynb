{
 "cells": [
  {
   "cell_type": "markdown",
   "metadata": {
    "collapsed": false
   },
   "source": [
    "# GigaReflexion\n",
    "В этом ноутбуке создадим граф, который расширяет уже существующий ноутбук [reflexion](../reflexion_giga/reflexion.ipynb)\n",
    "\n",
    "Это по сути агент, который итеративно улучшает ответ на вопрос пользователя, с помощью критики,\n",
    "поиска в интернете ответов на критику и обновления ответа исходя из результатов поиска.\n",
    "\n",
    "В этом ноутбук есть 4 компонента:\n",
    "1. [Цепочка, которая отвечает на вопрос пользователя](#Первоначальный-ответ-на-вопрос-пользователя)\n",
    "2. Цепочка, которая критикует ответ сгенерированный на шаге 1 и предлагает поисковые запросы для решения критики\n",
    "3. Поиск в интернете в гугле с выгрузкой страниц и поиск релятивных кусков текста с помощью embedding'ов\n",
    "4. Цепочка, которая обновляет ответ исходя из результатов поиска\n",
    "\n",
    "В данной реализации генерация ответов занимает 10-20 минут, что не очень подходит для применения в работе, но\n",
    "внизу напишу свои мысли, как это можно ускорить до 1-3 минуты для применения данного агента в бизнес-кейсах\n",
    "\n",
    "Далее внизу будет настройка всей цепочки, для просмотра итоговой работы графа — [сюда](#Построение-графа)"
   ]
  },
  {
   "cell_type": "markdown",
   "metadata": {
    "collapsed": false
   },
   "source": [
    "## Настройка ключей / LLM"
   ]
  },
  {
   "cell_type": "code",
   "execution_count": null,
   "metadata": {
    "collapsed": false
   },
   "outputs": [],
   "source": [
    "% pip install chromadb gigachain"
   ]
  },
  {
   "cell_type": "code",
   "execution_count": 1,
   "metadata": {
    "collapsed": false
   },
   "outputs": [],
   "source": [
    "import os\n",
    "\n",
    "os.environ[\"GOOGLE_API_KEY\"] = \"<ключ к гугл поиску>\"\n",
    "os.environ[\"GOOGLE_CSE_ID\"] = \"<cse id гугл поиску>\"\n",
    "os.environ[\"OPENAI_API_KEY\"] = \"<ключ к open ai>\""
   ]
  },
  {
   "cell_type": "markdown",
   "metadata": {
    "collapsed": false
   },
   "source": [
    "Здесь можно заметить, что я выношу температуру и top_p, как configurable_fields.\n",
    "Почему? Потому что, допустим для поиска в интернете используются цепочки перевода, которым нужна температура 0.\n",
    "А вот остальным цепочкам я ставлю температуру 1 или top_p=0.6, как в 3 цепочке.\n",
    "То есть мы используем один llm объект, а каждая цепочка может параметры настроить под себя"
   ]
  },
  {
   "cell_type": "code",
   "execution_count": 2,
   "metadata": {
    "collapsed": true
   },
   "outputs": [],
   "source": [
    "from langchain_community.chat_models.gigachat import GigaChat\n",
    "from langchain_core.runnables import ConfigurableField\n",
    "\n",
    "llm = GigaChat(\n",
    "    verify_ssl_certs=False,\n",
    "    timeout=6000,\n",
    "    model=\"GigaChat-Pro\",\n",
    "    temperature=1,\n",
    "    top_p=None\n",
    ").configurable_fields(\n",
    "    temperature=ConfigurableField(\n",
    "        id=\"llm_temperature\",\n",
    "        name=\"LLM Temperature\",\n",
    "        description=\"The temperature of the LLM\",\n",
    "    ),\n",
    "    top_p=ConfigurableField(\n",
    "        id=\"llm_top_p\",\n",
    "        name=\"LLM Top P\",\n",
    "    )\n",
    ")"
   ]
  },
  {
   "cell_type": "markdown",
   "metadata": {
    "collapsed": false
   },
   "source": [
    "## Цепочки\n",
    "### Первоначальный ответ на вопрос пользователя"
   ]
  },
  {
   "cell_type": "code",
   "execution_count": 3,
   "metadata": {
    "collapsed": false
   },
   "outputs": [],
   "source": [
    "from langchain_core.prompts import ChatPromptTemplate\n",
    "\n",
    "prompt = ChatPromptTemplate.from_messages(\n",
    "    [\n",
    "        (\n",
    "            \"system\",\n",
    "            \"\"\"Ты бот эксперт-исследователь. Ты помогаешь пользователю в его исследованиях.\n",
    "Если тебя просят получить последние новости, то возвращай \"NEED_INFO\"\n",
    "Ответь на вопрос.\n",
    "\n",
    "Вопрос пользователя: \"{question}\"\n",
    "\n",
    "Твои действия:\n",
    "1. Прочитай мой вопрос\n",
    "2. Подумай как лучше всего ответить на него\n",
    "3. Дай короткий ответ из 2-4 предложений.\n",
    "\n",
    "Ответ: \"\"\",\n",
    "        )\n",
    "    ]\n",
    ")\n",
    "\n",
    "answer_chain = prompt | llm\n",
    "\n",
    "\n",
    "def answer_respond(state):\n",
    "    return {\"current_answer\": answer_chain.invoke(state).content, \"iteration\": state[\"iteration\"] + 1}"
   ]
  },
  {
   "cell_type": "markdown",
   "metadata": {
    "collapsed": false
   },
   "source": [
    "#### Тестируем её работу"
   ]
  },
  {
   "cell_type": "code",
   "execution_count": 177,
   "metadata": {
    "collapsed": false
   },
   "outputs": [
    {
     "data": {
      "text/plain": "'Глобальное потепление - серьезная проблема, требующая комплексного подхода. Необходимо уменьшить выбросы парниковых газов, сократив использование ископаемого топлива и увеличив использование возобновляемых источников энергии. Также важно увеличить энергоэффективность и озеленение городов. Кроме того, необходимо развивать экологическое образование и повышать осведомленность общества о проблеме глобального потепления.'"
     },
     "execution_count": 177,
     "metadata": {},
     "output_type": "execute_result"
    }
   ],
   "source": [
    "state = {\n",
    "    \"messages\": [],\n",
    "    \"iteration\": 1,\n",
    "    \"question\": \"Как победить глобальное потепление?\",\n",
    "    \"current_answer\": \"\",\n",
    "    \"reflection\": \"\",\n",
    "    \"search_queries\": [],\n",
    "    \"search_results\": {},\n",
    "    \"downloaded_urls\": set(),\n",
    "    \"finish\": False,\n",
    "    \"lang\": \"en\"\n",
    "}\n",
    "new_state = answer_respond(state)\n",
    "state = {**state, **new_state}\n",
    "state['current_answer']"
   ]
  },
  {
   "cell_type": "markdown",
   "metadata": {
    "collapsed": false
   },
   "source": [
    "### Критика текущего ответа из state\n",
    "*Важно*\n",
    "Хочу заметить, что ниже очень полезный класс, позволяющий заполнять аргументы функции, если гигачат их пропустил.\n",
    "А он пока что любит пропускать некоторые аргументы, даже если они указаны как required"
   ]
  },
  {
   "cell_type": "code",
   "execution_count": 4,
   "metadata": {
    "collapsed": false
   },
   "outputs": [],
   "source": [
    "from langchain_core.messages import HumanMessage\n",
    "from langsmith import traceable\n",
    "\n",
    "\n",
    "class ResponderWithRetries:\n",
    "    def __init__(self, runnable, validator):\n",
    "        self.runnable = runnable\n",
    "        self.validator = validator\n",
    "\n",
    "    @traceable\n",
    "    def respond(self, state):\n",
    "        response = []\n",
    "        messages = state[\"messages\"]\n",
    "        for attempt in range(5):\n",
    "            try:\n",
    "                response = self.runnable.invoke(state)\n",
    "                self.validator.invoke(response)\n",
    "                args = response.additional_kwargs[\"function_call\"][\"arguments\"]\n",
    "                current_answer = state[\"current_answer\"]\n",
    "                if current_answer == \"NEED_INFO\":\n",
    "                    current_answer = \"      \"\n",
    "                return {\n",
    "                    \"messages\": messages + [response],\n",
    "                    \"iteration\": state[\"iteration\"] + 1,\n",
    "                    \"current_answer\": current_answer,\n",
    "                    **args,\n",
    "                }\n",
    "            except Exception as e:\n",
    "                message = HumanMessage(content=repr(e))\n",
    "                if response.response_metadata[\"finish_reason\"] != \"error\":\n",
    "                    state[\"messages\"] += [message]\n",
    "        return {\n",
    "            \"messages\": messages + [response],\n",
    "            \"iteration\": state[\"iteration\"] + 1,\n",
    "        }"
   ]
  },
  {
   "cell_type": "code",
   "execution_count": 5,
   "metadata": {
    "collapsed": false
   },
   "outputs": [],
   "source": [
    "from typing import List\n",
    "\n",
    "from langchain_core.output_parsers.gigachat_functions import (\n",
    "    PydanticOutputFunctionsParser,\n",
    ")\n",
    "from pydantic.v1 import BaseModel, Field\n",
    "\n",
    "reflection_template = ChatPromptTemplate.from_messages(\n",
    "    [\n",
    "        (\n",
    "            \"system\",\n",
    "            \"\"\"Ты опытный критик.\n",
    "Как разносторонняя личность, ты все ставишь под сомнение, и критикуешь всё.\n",
    "Не стесняйся в выражениях и не сдерживай себя.\n",
    "Текущая дата: {time}\n",
    "\n",
    "Что ты должен сделать:\n",
    "1. Прочитать мой ответ\n",
    "2. Хорошенько подумай над ним\n",
    "3. Подумай что с ним не так\n",
    "4. Напиши свою критику\n",
    "5. Порекомендуй поисковые запросы для решения критики\n",
    "\n",
    "Вопрос: \"{question}\"\n",
    "Мой ответ: \"{current_answer}\"\n",
    "{search_results}\n",
    "\"\"\",\n",
    "        ),\n",
    "    ]\n",
    ").partial(time=lambda: \"17.03.2014\", search_results=\"\")\n",
    "\n",
    "\n",
    "class ReflectAnswer(BaseModel):\n",
    "    \"\"\"Функция критики моего ответа.\"\"\"\n",
    "\n",
    "    reflection: str = Field(\n",
    "        description=\"Критика моего ответа. Что в нем можно дополнить?\"\n",
    "    )\n",
    "    search_queries: List[str] = Field(\n",
    "        description=\"1–3 поисковых запроса, которые позволят решить критику и дополнить мой текущий ответ\"  # noqa\n",
    "    )\n",
    "\n",
    "\n",
    "initial_answer_chain = reflection_template | llm.default.bind_tools(\n",
    "    tools=[ReflectAnswer], tool_choice=\"ReflectAnswer\"\n",
    ")\n",
    "validator = PydanticOutputFunctionsParser(pydantic_schema=ReflectAnswer)\n",
    "\n",
    "reflection_responder = ResponderWithRetries(\n",
    "    runnable=initial_answer_chain, validator=validator\n",
    ")\n",
    "\n",
    "\n",
    "def reflect_respond(state):\n",
    "    return reflection_responder.respond(state)\n"
   ]
  },
  {
   "cell_type": "markdown",
   "metadata": {
    "collapsed": false
   },
   "source": [
    "#### Тестируем её работу"
   ]
  },
  {
   "cell_type": "code",
   "execution_count": 180,
   "metadata": {
    "collapsed": false
   },
   "outputs": [
    {
     "data": {
      "text/plain": "{'reflection': 'Твой ответ слишком общий и не предлагает конкретных решений. Как насчет предложения мер по адаптации к изменению климата?',\n 'search_queries': ['меры по адаптации к изменению климата',\n  'конкретные действия для борьбы с глобальным потеплением']}"
     },
     "execution_count": 180,
     "metadata": {},
     "output_type": "execute_result"
    }
   ],
   "source": [
    "state = {**state, **reflection_responder.respond(state)}\n",
    "state[\"messages\"][-1].additional_kwargs[\"function_call\"][\"arguments\"]"
   ]
  },
  {
   "cell_type": "markdown",
   "metadata": {
    "collapsed": false
   },
   "source": [
    "### Поиск в интернете\n",
    "В данном блоке мы ищем информацию в гугле, с помощью поисковых запросов, которые мы получили из предыдущего компонента.\n",
    "Также тут переводятся поисковые запросы на английский язык, для получения ещё большего количества информации, и\n",
    "результаты поиска переводятся обратно на русский, чтобы можно было использовать найденную информацию для лучшего\n",
    "формирования ответа. (тут можно конечно по-экспериментировать)\n",
    "Перевод включается если в state, мы указали lang=en\n",
    "Хочу заметить, что мы в state графа, храним уже скачанные страницы,\n",
    "поэтому мы не используем дублирующую информацию для расширения ответа.\n",
    "Но возможно стоит хранить всю информацию, выгруженную с веб-страниц, просто удаляя куски, которые использовали в векторной БД"
   ]
  },
  {
   "cell_type": "code",
   "execution_count": 6,
   "metadata": {
    "collapsed": false
   },
   "outputs": [],
   "source": [
    "from prompts import translate_to_english_prompt, translate_to_russian_prompt\n",
    "\n",
    "translator_to_english = translate_to_english_prompt | llm | (lambda message: message.content)\n",
    "translator_russian = (\n",
    "    translate_to_russian_prompt | llm | (lambda message: message.content)\n",
    ")"
   ]
  },
  {
   "cell_type": "code",
   "execution_count": 7,
   "metadata": {
    "collapsed": false
   },
   "outputs": [],
   "source": [
    "import re\n",
    "\n",
    "from langchain_community.embeddings.openai import OpenAIEmbeddings\n",
    "from langchain_community.utilities.google_search import GoogleSearchAPIWrapper\n",
    "from langchain_community.vectorstores.chroma import Chroma\n",
    "from web_retriever import GigaWebResearchRetriever\n",
    "\n",
    "\n",
    "def search(query, downloaded_urls):\n",
    "    \"\"\"\n",
    "    Поиск информации в гугле по поисковому запросу, с выгрузкой страниц\n",
    "    и поиска релятивных кусков с помощью embedding'ов\n",
    "    \"\"\"\n",
    "    vectorstore_public = Chroma(\n",
    "        collection_name=\"web\",\n",
    "        embedding_function=OpenAIEmbeddings(),\n",
    "    )\n",
    "\n",
    "    search = GoogleSearchAPIWrapper()\n",
    "\n",
    "    # Initialize\n",
    "    web_retriever = GigaWebResearchRetriever.from_llm(\n",
    "        vectorstore=vectorstore_public,\n",
    "        llm=llm,\n",
    "        search=search,\n",
    "        num_search_results=10,\n",
    "        verify_ssl=False,\n",
    "    )\n",
    "    web_retriever.retrieve_kwargs = {\"k\": 4}\n",
    "    web_retriever.download_num = 5\n",
    "    web_retriever.url_database = list(downloaded_urls)\n",
    "    docs = web_retriever.get_relevant_documents(query)\n",
    "    vectorstore_public.delete_collection()\n",
    "    return docs\n",
    "\n",
    "\n",
    "def execute_tools(state):\n",
    "    \"\"\"Ищем по поисковым запросом нужную информацию\"\"\"\n",
    "    search_queries = state[\"search_queries\"]\n",
    "    # Переводим запросы на английский, если в state язык поиска указан \"en\"\n",
    "    if state[\"lang\"] == \"en\":\n",
    "        translated = translator_to_english.with_config(llm_temperature=0.01).batch(\n",
    "            [{\"text\": q} for q in search_queries]\n",
    "        )\n",
    "    else:\n",
    "        translated = search_queries\n",
    "    results = []\n",
    "    downloaded_urls = state[\"downloaded_urls\"]\n",
    "    for i, q in enumerate(translated):\n",
    "        docs = search(q, downloaded_urls)\n",
    "        downloaded_urls |= {doc.metadata[\"source\"] for doc in docs}\n",
    "        results.append(docs)\n",
    "    # Исключаем уже найденные ранее куски информации\n",
    "    vectorstore = Chroma(\n",
    "        collection_name=\"web1\",\n",
    "        embedding_function=OpenAIEmbeddings(),\n",
    "    )\n",
    "    search_results = []\n",
    "    for result, search_query in zip(results, search_queries):\n",
    "        for doc in result:\n",
    "            similar = vectorstore.similarity_search_with_score(doc.page_content)\n",
    "            f = similar[0][1] if len(similar) > 0 else 1\n",
    "            if f > 0.01:\n",
    "                doc.metadata[\"query\"] = search_query\n",
    "                vectorstore.add_documents(documents=[doc])\n",
    "                search_results.append(doc)\n",
    "    # Переводим информацию обратно на русский, если искали на английском\n",
    "    if state[\"lang\"] == \"en\":\n",
    "        translated = translator_russian.with_config(llm_temperature=0.01).batch(\n",
    "            [doc.page_content for doc in search_results]\n",
    "        )\n",
    "        for trans, doc in zip(translated, search_results):\n",
    "            doc.page_content = trans\n",
    "    # Формируем словарь запросов, которые мы нашли\n",
    "    search_map = {}\n",
    "    for result in search_results:\n",
    "        search_map.setdefault(result.metadata[\"query\"], [])\n",
    "        search_map[result.metadata[\"query\"]].append(result)\n",
    "    # Формируем словарь результатов поиска\n",
    "    result_map = {}\n",
    "    for query in search_map.keys():\n",
    "        result_string = f\"Поисковой запрос: {query}\\n\\n\"\n",
    "        search_items = []\n",
    "        char_count = len(result_string)\n",
    "        for item in search_map[query]:\n",
    "            content = re.sub(\"\\n+\", \"\\n\", item.page_content)\n",
    "            search_item = f\"\"\"Заголовок: \"{item.metadata['title']}\"\\nСодержание: \"{content}\"\\nСсылка: \"{item.metadata['source']}\"\\n\"\"\"\n",
    "            char_count += len(search_item) + 1\n",
    "            search_items.append(search_item)\n",
    "        result_string += \"\\n\".join(search_items) + \"\\n\\n\\n\"\n",
    "        result_map[query] = result_string\n",
    "    return {\"search_results\": result_map, \"downloaded_urls\": downloaded_urls}"
   ]
  },
  {
   "cell_type": "markdown",
   "metadata": {
    "collapsed": false
   },
   "source": [
    "#### Тестируем работу"
   ]
  },
  {
   "cell_type": "code",
   "execution_count": 8,
   "metadata": {
    "collapsed": false
   },
   "outputs": [],
   "source": [
    "import warnings\n",
    "\n",
    "# Убираем warnings, которые возникают из-за того, что мы грузим страницы\n",
    "# не через SSL (чтобы ноутбук не расплылся)\n",
    "warnings.filterwarnings('ignore')"
   ]
  },
  {
   "cell_type": "code",
   "execution_count": 186,
   "metadata": {
    "collapsed": false
   },
   "outputs": [
    {
     "name": "stderr",
     "output_type": "stream",
     "text": [
      "Fetching pages: 100%|##########| 5/5 [00:03<00:00,  1.53it/s]\n",
      "Fetching pages: 100%|##########| 5/5 [00:01<00:00,  2.65it/s]\n"
     ]
    },
    {
     "name": "stdout",
     "output_type": "stream",
     "text": [
      "Поисковой запрос: меры по адаптации к изменению климата\n",
      "\n",
      "Заголовок: \"What is climate change adaptation? - Grantham Research Institute on climate change and the environment\"\n",
      "Содержание: \"Какие существуют меры адаптации?\n",
      "Меры адаптации могут быть запланированы заранее или приняты реагированием. Страны с низким уровнем дохода и определенные группы населения в них, как правило, более уязвимы к рискам, связанным с изменением климата, чем развитые страны, и некоторые меры адаптации - такие как увеличение доступа к образовательным и медицинским учреждениям - будут совпадать с существующими программами развития. Существует также значительное совпадение между мерами по адаптации к изменению климата и снижению рисков, связанных с стихийными бедствиями (СРБ), и политиками - в частности, Рамочной программой Сендая по снижению рисков, связанных со стихийными бедствиями.\n",
      "Однако адаптация выходит за рамки существующих подходов к развитию и включает меры по устранению дополнительных рисков, непосредственно вызванных изменением климата - как будущих рисков, которые изменятся в результате меняющегося климата, так и текущих рисков. Действия могут включать внесение масштабных изменений в инфраструктуру, таких как строительство защитных сооружений для предотвращения повышения уровня моря, и улучшение качества дорожного покрытия, чтобы оно могло выдерживать более высокие температуры. Это также может включать учет будущих рисков при проектировании текущей инфраструктуры, чтобы избежать \"запирания\" будущей уязвимости и подверженности рискам. Могут применяться и природные подходы, такие как сохранение и восстановление лесов, болот и мангровых зарослей, улучшение плодородия почвы и ландшафтный дизайн для управления пожарами, которые также приносят пользу окружающей природе.\"\n",
      "Ссылка: \"https://www.lse.ac.uk/granthaminstitute/explainers/what-is-climate-change-adaptation/\"\n",
      "\n",
      "Заголовок: \"What is climate change adaptation? - Grantham Research Institute on climate change and the environment\"\n",
      "Содержание: \"## Адаптация как глобальный политический ответ\n",
      "Парижское соглашение по изменению климата содержит глобальную цель в области адаптации:\n",
      "\"улучшить способность к приспособлению и устойчивости; снизить уязвимость, с учетом\n",
      "целей устойчивого развития; и обеспечение адекватного\n",
      "адаптационного ответа в контексте цели удержания среднего глобального\n",
      "потепления значительно ниже 2°C и продолжения усилий по удержанию его ниже 1,5°C\". Кроме того, Цель в области устойчивого развития (ЦУР) 13\n",
      "по вопросам изменения климата включает в себя задачу укрепления\n",
      "устойчивости и способности к адаптации к стихийным бедствиям, связанным с климатом, во всех странах, а вопросы адаптации и устойчивости пронизывают другие ЦУР и связанные с ними целевые показатели.  \n",
      "В 2019 году на Саммите ООН по климатическим действиям был сделан призыв к повышению амбиций в области адаптации и устойчивости. Инициированный Египтом и Великобританией, он включает в себя цель придать \"равную и повышенную срочность\" повестке дня в области адаптации.\"\n",
      "Ссылка: \"https://www.lse.ac.uk/granthaminstitute/explainers/what-is-climate-change-adaptation/\"\n",
      "\n",
      "Заголовок: \"What is climate change adaptation? - Grantham Research Institute on climate change and the environment\"\n",
      "Содержание: \"Дома » Объяснения » Адаптация к изменению климата » Что такое адаптация к изменению климата?\n",
      "# Что такое адаптация к изменению климата?\n",
      "15 января 2021 г.\n",
      "Люди на протяжении всей истории приспосабливались к своей среде, разрабатывая практики, культуры и средства к существованию, соответствующие местным условиям, - от средиземноморской сиесты до вьетнамской практики строительства домов на сваях для защиты от муссонных дождей. Однако изменение климата поднимает возможность того, что существующие общества столкнутся с климатическими сдвигами (изменение температуры, частота штормов, наводнения и другие факторы), к которым предыдущий опыт их не подготовил. По мере повышения средних глобальных температур воздействие изменения климата и связанные с ним потери и ущерб, вероятно, будут увеличиваться быстрее и более непредсказуемо.\n",
      "Адаптация направлена на снижение рисков, связанных с изменением климата, а также на использование любых связанных с этим возможностей там, где это возможно. Это одна из двух основных политических стратегий в ответ на изменение климата, другая - сокращение выбросов парниковых газов для устранения первопричин. Оба подхода необходимы, поскольку даже если выбросы резко сократятся в ближайшие десять лет, дальнейшее потепление теперь неизбежно, и потребуется адаптация к уже запущенным климатическим изменениям.\"\n",
      "Ссылка: \"https://www.lse.ac.uk/granthaminstitute/explainers/what-is-climate-change-adaptation/\"\n",
      "\n",
      "Заголовок: \"Adaptation options — Discover the key services, thematic features and tools of Climate-ADAPT\"\n",
      "Содержание: \"* Окно инноваций в области климата\n",
      "  * ECONADAPT - Набор инструментов\n",
      "  * Платформа Европейских природных мер по удержанию воды (NWRM)\n",
      "  * Портал знаний по адаптации в рамках РКИК ООН\n",
      "  * Зелено-голубая городская сетка: каталог мер по адаптации\n",
      "  * weADAPT\n",
      "  * Атлас городской природы\n",
      "  * OPPLA - Информационный хаб для природоохранных решений\n",
      "## Изучение вариантов адаптации\n",
      "### Релевантная плитка\n",
      "Климатическое воздействие\n",
      "Все климатические воздействия Засухи Экстремальные температуры Затопление Льд и снег Подъем уровня моря Бури Нехватка воды Общее\n",
      "Сектор\n",
      "Все секторы адаптации Сельское хозяйство Биоразнообразие Здания Бизнес и промышленность Прибрежные районы Культурное наследие Снижение риска стихийных бедствий Энергетика Финансирование Лесное хозяйство Здравоохранение ИТ Землепользование Планирование морского рыболовства Горные районы Туризм Транспорт Водное хозяйство Городское Общее\n",
      "Тип Ключевой Меры\n",
      "Все типы ключевых мер A1: Инструменты политики A2: Управление и планирование A3: Координация, сотрудничество и сети B1: Финансовые инструменты стимулирования B2: Страхование и инструменты разделения рисков C1: Серые варианты C2: Технологические варианты D1: Зеленые варианты D2: Синие варианты E1: Информация и повышение осведомленности E2: Наращивание потенциала, наделение полномочиями и практики образа жизни\"\n",
      "Ссылка: \"https://climate-adapt.eea.europa.eu/en/knowledge/adaptation-information/adaptation-options/index_html\"\n"
     ]
    }
   ],
   "source": [
    "state = {**state, **execute_tools(state)}\n",
    "print(state['search_results'][\"меры по адаптации к изменению климата\"].strip())"
   ]
  },
  {
   "cell_type": "markdown",
   "metadata": {
    "collapsed": false
   },
   "source": [
    "### Цепочка обновления ответа\n",
    "Здесь мы по каждому поисковому запросу генерируем мини ответ.\n",
    "После этого объединяем эти ответы со старым ответом и подменяем current_answer на новый ответ."
   ]
  },
  {
   "cell_type": "code",
   "execution_count": 9,
   "metadata": {
    "collapsed": false
   },
   "outputs": [],
   "source": [
    "prompt = ChatPromptTemplate.from_messages(\n",
    "    [\n",
    "        (\n",
    "            \"system\",\n",
    "            \"\"\"Ты — expert researcher.\n",
    "\n",
    "1. Прочитай ответ\n",
    "2. Внимательно прочитай информацию из интернета\n",
    "3. Напиши 2-3 предложения, отвечающих на критику, используя важную информацию из интернета\n",
    "\"\"\",  # noqa\n",
    "        ),\n",
    "        (\n",
    "            \"user\",\n",
    "            \"\"\"Вопрос пользователя: \"{question}\"\n",
    "Ответ: \"{current_answer}\"\n",
    "Критика: \"{reflection}\"\n",
    "Информация из интернета: \"{search_results}\"\n",
    "Ответ на критику: \"\"\",\n",
    "        ),\n",
    "    ]\n",
    ")\n",
    "prompt2 = ChatPromptTemplate.from_messages(\n",
    "    [\n",
    "        (\n",
    "            \"system\",\n",
    "            \"\"\"Ты — expert researcher.\n",
    "\n",
    "1. Прочитай ответ\n",
    "2. Внимательно прочитай информацию из интернета\n",
    "3. Допиши ответ, используя информацию из интернета\n",
    "\"\"\",  # noqa\n",
    "        ),\n",
    "        (\n",
    "            \"user\",\n",
    "            \"\"\"Вопрос пользователя: \"{question}\"\n",
    "Ответ: \"{current_answer}\"\n",
    "Критика: \"{reflection}\"\n",
    "Информация из интернета: \"{search_results}\"\n",
    "Обновленный ответ: \"\"\",\n",
    "        ),\n",
    "    ]\n",
    ")\n",
    "\n",
    "revise_chain = prompt | llm.with_retry()\n",
    "revise_chain2 = prompt2 | llm\n",
    "\n",
    "\n",
    "def revise_respond(state):\n",
    "    answers = revise_chain.with_config(llm_top_p=0.8, llm_temperature=None).batch(\n",
    "        [\n",
    "            {\n",
    "                **state,\n",
    "                **{\n",
    "                    \"search_results\": result.strip(),\n",
    "                    \"current_answer\": state[\"current_answer\"],\n",
    "                    \"reflection\": query + \"?\",\n",
    "                },\n",
    "            }\n",
    "            for query, result in state[\"search_results\"].items()\n",
    "        ]\n",
    "    )\n",
    "    answers = [\n",
    "        re.sub(\n",
    "            r\"^ответ на критику:?\\s?\",\n",
    "            \"\",\n",
    "            answer.content,\n",
    "            0,\n",
    "            re.MULTILINE | re.IGNORECASE,\n",
    "        ).strip(\"\\\"'\")\n",
    "        for answer in answers\n",
    "    ]\n",
    "    new_answer = \"\"\n",
    "    retries = 0\n",
    "    # Проверяем насколько сильно модель обрезала ответ\n",
    "    while (len(new_answer) + 1) / (len(state[\"current_answer\"]) + 1) < 0.75:\n",
    "        print(\"combine answer\")\n",
    "        retries += 1\n",
    "        new_answer = revise_chain2.with_config(llm_top_p=0.6, llm_temperature=None).invoke(\n",
    "            {**state, **{\"search_results\": \"\\n\".join(answers)}}\n",
    "        ).content\n",
    "        # Если модель постоянно уменьшает ответ отдаем на финиш\n",
    "        if retries > 10:\n",
    "            return {\"finish\": True, \"current_answer\": state[\"current_answer\"]}\n",
    "    return {\"current_answer\": new_answer, \"iteration\": state[\"iteration\"] + 1}"
   ]
  },
  {
   "cell_type": "markdown",
   "metadata": {
    "collapsed": false
   },
   "source": [
    "#### Тестируем работу"
   ]
  },
  {
   "cell_type": "code",
   "execution_count": 188,
   "metadata": {
    "collapsed": false
   },
   "outputs": [
    {
     "name": "stdout",
     "output_type": "stream",
     "text": [
      "combine answer\n",
      "Для победы над глобальным потеплением требуется комплексный подход. Важными мерами являются сокращение выбросов парниковых газов путем снижения использования ископаемого топлива и увеличения использования возобновляемых источников энергии, повышение энергоэффективности и озеленение городов. Однако, помимо этого, необходимо также принимать меры по адаптации к уже запущенным климатическим изменениям. Это может включать внесение масштабных изменений в инфраструктуру, учет будущих рисков при проектировании текущей инфраструктуры, а также применение природных подходов, таких как сохранение и восстановление лесов, болот и мангровых зарослей.\n",
      "\n",
      "В индивидуальном плане каждый человек может внести свой вклад в борьбу с глобальным потеплением. Например, можно использовать свой голос в качестве потребителя, клиента, члена избирателей и активного гражданина, присоединиться к социальным движениям или кампаниям, связанным с экологической деятельностью, перейти на растительную диету, использовать возобновляемые источники энергии в своем доме, ходить пешком, ездить на велосипеде или использовать общественный транспорт вместо автомобиля, а также перейти на электромобиль. Все эти действия помогут сократить выбросы парниковых газов и улучшить общую ситуацию с изменением климата.\n"
     ]
    }
   ],
   "source": [
    "state = {**state, **revise_respond(state)}\n",
    "print(state[\"current_answer\"])"
   ]
  },
  {
   "cell_type": "markdown",
   "metadata": {
    "collapsed": false
   },
   "source": [
    "# Построение графа\n",
    "Соединяем все компоненты"
   ]
  },
  {
   "cell_type": "code",
   "execution_count": 10,
   "metadata": {
    "collapsed": false
   },
   "outputs": [],
   "source": [
    "from typing import Dict, List, Literal, Sequence, Set, TypedDict\n",
    "\n",
    "from langchain_core.messages import BaseMessage\n",
    "\n",
    "from langgraph.graph import END, StateGraph\n",
    "\n",
    "\n",
    "class AgentState(TypedDict):\n",
    "    messages: Sequence[BaseMessage]\n",
    "    iteration: int\n",
    "    question: str\n",
    "    current_answer: str\n",
    "    reflection: str\n",
    "    search_queries: List[str]\n",
    "    search_results: Dict[str, str]\n",
    "    downloaded_urls: Set[str]\n",
    "    finish: bool\n",
    "    lang: Literal[\"ru\", \"en\"]\n",
    "\n",
    "\n",
    "MAX_ITERATIONS = 8\n",
    "builder = StateGraph(AgentState)\n",
    "builder.add_node(\"draft\", answer_respond)\n",
    "builder.add_node(\"reflect\", reflect_respond)\n",
    "builder.add_node(\"search\", execute_tools)\n",
    "builder.add_node(\"revise\", revise_respond)\n",
    "\n",
    "builder.add_edge(\"draft\", \"reflect\")\n",
    "builder.add_edge(\"reflect\", \"search\")\n",
    "builder.add_edge(\"search\", \"revise\")\n",
    "\n",
    "# Define looping logic:\n",
    "\n",
    "\n",
    "def event_loop(state) -> str:\n",
    "    # in our case, we'll just stop after N plans\n",
    "    if state[\"finish\"] or state[\"iteration\"] > MAX_ITERATIONS:\n",
    "        return END\n",
    "    return \"reflect\"\n",
    "\n",
    "\n",
    "builder.add_conditional_edges(\"revise\", event_loop)\n",
    "builder.set_entry_point(\"draft\")\n",
    "graph = builder.compile()"
   ]
  },
  {
   "cell_type": "markdown",
   "metadata": {
    "collapsed": false
   },
   "source": [
    "# Пример работы\n",
    "Проверяем, как улучшается ответ с 5 итераций"
   ]
  },
  {
   "cell_type": "code",
   "execution_count": 14,
   "metadata": {
    "collapsed": false
   },
   "outputs": [],
   "source": [
    "question = \"Выиграет ли Дональд Трамп на выборах 2024?\"\n",
    "\n",
    "events = graph.stream(\n",
    "    {\n",
    "        \"messages\": [],\n",
    "        \"iteration\": 0,\n",
    "        \"question\": question,\n",
    "        \"current_answer\": \"\",\n",
    "        \"reflection\": \"\",\n",
    "        \"search_queries\": [],\n",
    "        \"search_results\": {},\n",
    "        \"downloaded_urls\": set(),\n",
    "        \"finish\": False,\n",
    "        \"lang\": \"en\"\n",
    "    },\n",
    "    {\"recursion_limit\": 100},\n",
    ")"
   ]
  },
  {
   "cell_type": "code",
   "execution_count": 15,
   "metadata": {
    "collapsed": false
   },
   "outputs": [
    {
     "name": "stdout",
     "output_type": "stream",
     "text": [
      "## 1. draft\n",
      "Ответ: NEED_INFO\n",
      "---\n"
     ]
    },
    {
     "name": "stderr",
     "output_type": "stream",
     "text": [
      "Giga generation stopped with reason: function_call\n"
     ]
    },
    {
     "name": "stdout",
     "output_type": "stream",
     "text": [
      "## 2. reflect\n",
      "Критика: Твой ответ не содержит никакой информации или мнения о том, выиграет ли Дональд Трамп на выборах 2024 года.\n",
      "Что будем искать: ['выборы США 2024', 'Дональд Трамп прогнозы выборов']\n",
      "---\n"
     ]
    },
    {
     "name": "stderr",
     "output_type": "stream",
     "text": [
      "Fetching pages: 100%|##########| 5/5 [00:02<00:00,  2.34it/s]\n",
      "Fetching pages: 100%|##########| 5/5 [00:03<00:00,  1.41it/s]\n",
      "Number of requested results 4 is greater than number of elements in index 1, updating n_results = 1\n",
      "Number of requested results 4 is greater than number of elements in index 2, updating n_results = 2\n",
      "Number of requested results 4 is greater than number of elements in index 3, updating n_results = 3\n"
     ]
    },
    {
     "name": "stdout",
     "output_type": "stream",
     "text": [
      "## 3. search\n",
      "Произошел поиск\n",
      "---\n",
      "combine answer\n",
      "## 4. revise\n",
      "Ответ: Выиграет ли Дональд Трамп на выборах 2024 года? Ответ на этот вопрос зависит от многих факторов. Согласно данным из интернета, Дональд Трамп имеет высокую поддержку среди республиканцев - 67%. Исторически сильные лидеры обычно выигрывают номинации своих партий. Однако, в ключевых штатах, таких как Айова и Нью-Гэмпшир, поддержка Трампа ниже 50%, что оставляет возможность для других кандидатов получить поддержку. Опросы показывают, что потенциальный матч между Трампом и Байденом будет очень близким, и точный исход остается неизвестным из-за погрешности опросов.\n",
      "---\n"
     ]
    },
    {
     "name": "stderr",
     "output_type": "stream",
     "text": [
      "Giga generation stopped with reason: function_call\n"
     ]
    },
    {
     "name": "stdout",
     "output_type": "stream",
     "text": [
      "## 5. reflect\n",
      "Критика: Ответ кажется довольно поверхностным и не учитывает многие факторы, которые могут повлиять на исход выборов. Например, он не рассматривает возможные изменения в политической ситуации или экономические факторы.\n",
      "Что будем искать: ['Какие факторы могут повлиять на исход выборов 2024 года?', 'Какие экономические факторы могут повлиять на выборы 2024 года?']\n",
      "---\n"
     ]
    },
    {
     "name": "stderr",
     "output_type": "stream",
     "text": [
      "Fetching pages: 100%|##########| 5/5 [00:02<00:00,  2.20it/s]\n",
      "Fetching pages: 100%|##########| 5/5 [00:02<00:00,  2.50it/s]\n"
     ]
    },
    {
     "name": "stdout",
     "output_type": "stream",
     "text": [
      "## 6. search\n",
      "Произошел поиск\n",
      "---\n",
      "combine answer\n",
      "## 7. revise\n",
      "Ответ: Выиграет ли Дональд Трамп на выборах 2024 года? Ответ на этот вопрос зависит от множества факторов. Согласно данным из интернета, Дональд Трамп имеет высокую поддержку среди республиканцев - 67%. Исторически сильные лидеры обычно выигрывают номинации своих партий. Однако, в ключевых штатах, таких как Айова и Нью-Гэмпшир, поддержка Трампа ниже 50%, что оставляет возможность для других кандидатов получить поддержку. Опросы показывают, что потенциальный матч между Трампом и Байденом будет очень близким, и точный исход остается неизвестным из-за погрешности опросов.\n",
      "\n",
      "Существуют различные факторы, которые могут повлиять на исход выборов 2024 года. Это включает уровень поддержки Дональда Трампа среди республиканцев, его популярность в ключевых штатах, таких как Айова и Нью-Гэмпшир, и возможное влияние решения Верховного суда США относительно абортов на молодых латиноамериканских избирателей. Также важно учитывать, как дезинформация, распространяемая через социальные сети, может влиять на политические настроения и поведение при голосовании латиноамериканцев.\n",
      "\n",
      "Экономические факторы, такие как решения Федеральной резервной системы (ФРС) и экономический рост, инфляция и безработица, также могут оказать влияние на выборы 2024 года. Согласно модели профессора Рэя Фаира из Йельского университета, экономика оказывает значительное влияние на результаты выборов. Если экономика сильна, это может способствовать победе демократов, однако устойчивая, но снижающаяся инфляция также дает шанс на победу республиканцам. Малые изменения в экономике могут оказать существенное влияние на результаты выборов, что ставит ФРС в сложное положение.\n",
      "---\n"
     ]
    },
    {
     "name": "stderr",
     "output_type": "stream",
     "text": [
      "Giga generation stopped with reason: function_call\n"
     ]
    },
    {
     "name": "stdout",
     "output_type": "stream",
     "text": [
      "## 8. reflect\n",
      "Критика: Твой ответ содержит полезную информацию, но она несколько устарела. Есть новые события и тенденции, которые следует учесть. Например, недавние решения Верховного суда и изменения в экономике.\n",
      "Что будем искать: ['Последние события, влияющие на выборы 2024', 'Изменения в экономике и их влияние на выборы']\n",
      "---\n"
     ]
    },
    {
     "name": "stderr",
     "output_type": "stream",
     "text": [
      "Fetching pages: 100%|##########| 5/5 [00:02<00:00,  1.77it/s]\n",
      "Fetching pages: 100%|##########| 5/5 [00:01<00:00,  3.23it/s]\n"
     ]
    },
    {
     "name": "stdout",
     "output_type": "stream",
     "text": [
      "## 9. search\n",
      "Произошел поиск\n",
      "---\n",
      "combine answer\n",
      "## 10. revise\n",
      "Ответ: Выиграет ли Дональд Трамп на выборах 2024 года? Ответ на этот вопрос зависит от множества факторов. Согласно последним данным, Дональд Трамп продолжает сохранять высокую поддержку среди республиканцев - около 67%. Однако, в ключевых штатах, таких как Айова и Нью-Гэмпшир, его поддержка ниже 50%, что оставляет возможность для других кандидатов получить поддержку. Потенциальный матч между Трампом и Байденом, согласно опросам, будет очень близким, и точный исход остается неизвестным из-за погрешности опросов.\n",
      "\n",
      "Существует множество факторов, которые могут повлиять на исход выборов 2024 года. Это включает уровень поддержки Дональда Трампа среди республиканцев, его популярность в ключевых штатах, таких как Айова и Нью-Гэмпшир, и возможное влияние решения Верховного суда США относительно абортов на молодых латиноамериканских избирателей. Также важно учитывать, как дезинформация, распространяемая через социальные сети, может влиять на политические настроения и поведение при голосовании латиноамериканцев.\n",
      "\n",
      "Экономические факторы, такие как решения Федеральной резервной системы (ФРС) и экономический рост, инфляция и безработица, также могут оказать влияние на выборы 2024 года. Согласно модели профессора Рэя Фаира из Йельского университета, экономика оказывает значительное влияние на результаты выборов. Если экономика сильна, это может способствовать победе демократов, однако устойчивая, но снижающаяся инфляция также дает шанс на победу республиканцам. Малые изменения в экономике могут оказать существенное влияние на результаты выборов, что ставит ФРС в сложное положение.\n",
      "\n",
      "Недавние события, влияющие на выборы 2024 года, включают усиление кампании Байдена по вопросам права на аборт во Флориде, где запрет штата связывают с Трампом. Планируемое родительство планирует увеличить финансирование демократов в Северной Каролине на 10 миллионов долларов, используя доступ к абортам в качестве ключевого вопроса. В Пенсильвании проводятся первичные выборы, где особое внимание привлекает конкурс между представителем Санмерой Ли и другими кандидатами. Президент Байден подчеркнул инвестиции в борьбу с изменением климата, выделив 7 миллиардов долларов на проекты в области солнечной энергии. Испытание Трампа связано с обыденностью зала суда, где он стремится создать образ величия и ощущения власти. Наконец, протесты между Израилем и Газой могут оказать влияние на Демократическую партию, особенно учитывая исторические столкновения между полицией и демонстрантами на национальной съезде демократов в 1968 году.\n",
      "---\n"
     ]
    },
    {
     "name": "stderr",
     "output_type": "stream",
     "text": [
      "Giga generation stopped with reason: function_call\n"
     ]
    },
    {
     "name": "stdout",
     "output_type": "stream",
     "text": [
      "## 11. reflect\n",
      "Критика: Твой ответ содержит много полезной информации, но он слишком общий и теоретический. Он не учитывает конкретные факторы, которые могут повлиять на исход выборов 2024 года. Например, недавние скандалы, связанные с Трампом, или изменение общественного мнения о нем. Также было бы полезно рассмотреть, как новые технологии и социальные медиа могут повлиять на результаты выборов.\n",
      "Что будем искать: ['Последние скандалы, связанные с Трампом', 'Изменение общественного мнения о Трампе', 'Влияние новых технологий и социальных медиа на выборы']\n",
      "---\n"
     ]
    },
    {
     "name": "stderr",
     "output_type": "stream",
     "text": [
      "Fetching pages: 100%|##########| 5/5 [00:02<00:00,  1.74it/s]\n",
      "Fetching pages:  80%|########  | 4/5 [00:02<00:00,  1.65it/s]Error fetching https://www.newyorker.com/news/our-columnists/public-opinion-about-trumps-criminality-is-shifting-a-bit with attempt 1/2: . Retrying...\n",
      "Fetching pages: 100%|##########| 5/5 [00:08<00:00,  1.72s/it]\n",
      "Fetching pages:  20%|##        | 1/5 [00:01<00:07,  1.88s/it]Error fetching https://www.princeton.edu/~fujiwara/papers/SocialMediaAndElections.pdf with attempt 1/2: . Retrying...\n",
      "Error fetching https://www.accc.gov.au/system/files/ACCC+commissioned+report+-+The+impact+of+digital+platforms+on+news+and+journalistic+content,+Centre+for+Media+Transition+(2).pdf with attempt 1/2: . Retrying...\n",
      "Error fetching https://www.princeton.edu/~fujiwara/papers/SocialMediaAndElections.pdf after 2 retries.\n",
      "Fetching pages:  40%|####      | 2/5 [00:08<00:13,  4.38s/it]Error fetching https://www.accc.gov.au/system/files/ACCC+commissioned+report+-+The+impact+of+digital+platforms+on+news+and+journalistic+content,+Centre+for+Media+Transition+(2).pdf after 2 retries.\n",
      "Fetching pages: 100%|##########| 5/5 [00:11<00:00,  2.34s/it]\n"
     ]
    },
    {
     "name": "stdout",
     "output_type": "stream",
     "text": [
      "## 12. search\n",
      "Произошел поиск\n",
      "---\n",
      "combine answer\n",
      "## 13. revise\n",
      "Ответ: Выиграет ли Дональд Трамп на выборах 2024 года? Ответ на этот вопрос зависит от множества факторов. Согласно последним данным, Дональд Трамп продолжает сохранять высокую поддержку среди республиканцев - около 67%. Однако, в ключевых штатах, таких как Айова и Нью-Гэмпшир, его поддержка ниже 50%, что оставляет возможность для других кандидатов получить поддержку. Потенциальный матч между Трампом и Байденом, согласно опросам, будет очень близким, и точный исход остается неизвестным из-за погрешности опросов.\n",
      "\n",
      "Существует множество факторов, которые могут повлиять на исход выборов 2024 года. Это включает уровень поддержки Дональда Трампа среди республиканцев, его популярность в ключевых штатах, таких как Айова и Нью-Гэмпшир, и возможное влияние решения Верховного суда США относительно абортов на молодых латиноамериканских избирателей. Также важно учитывать, как дезинформация, распространяемая через социальные сети, может влиять на политические настроения и поведение при голосовании латиноамериканцев.\n",
      "\n",
      "Экономические факторы, такие как решения Федеральной резервной системы (ФРС) и экономический рост, инфляция и безработица, также могут оказать влияние на выборы 2024 года. Согласно модели профессора Рэя Фаира из Йельского университета, экономика оказывает значительное влияние на результаты выборов. Если экономика сильна, это может способствовать победе демократов, однако устойчивая, но снижающаяся инфляция также дает шанс на победу республиканцам. Малые изменения в экономике могут оказать существенное влияние на результаты выборов, что ставит ФРС в сложное положение.\n",
      "\n",
      "Недавние события, влияющие на выборы 2024 года, включают усиление кампании Байдена по вопросам права на аборт во Флориде, где запрет штата связывают с Трампом. Планируемое родительство планирует увеличить финансирование демократов в Северной Каролине на 10 миллионов долларов, используя доступ к абортам в качестве ключевого вопроса. В Пенсильвании проводятся первичные выборы, где особое внимание привлекает конкурс между представителем Санмерой Ли и другими кандидатами. Президент Байден подчеркнул инвестиции в борьбу с изменением климата, выделив 7 миллиардов долларов на проекты в области солнечной энергии. Испытание Трампа связано с обыденностью зала суда, где он стремится создать образ величия и ощущения власти. Наконец, протесты между Израилем и Газой могут оказать влияние на Демократическую партию, особенно учитывая исторические столкновения между полицией и демонстрантами на национальной съезде демократов в 1968 году.\n",
      "\n",
      "Однако, последние скандалы, связанные с Трампом, могут повлиять на его шансы на победу. Он обвиняется в финансовой афере со стороны Генерального прокурора Нью-Йорка Летиции Джеймс, а также в использовании своего положения для изменения повестки дня и привлечения внимания к своим действиям. Общественное мнение о Трампе постепенно меняется, особенно среди менее партийных избирателей. Новые технологии и социальные медиа также могут оказать влияние на результаты выборов, включая манипуляцию данными голосования, социальными медиа и использование дипфейков.\n",
      "---\n",
      "## 14. __end__\n",
      "---\n"
     ]
    }
   ],
   "source": [
    "# Удаляем старые данные из хрома, которые возможно сохранились в ноутбуке\n",
    "Chroma(\n",
    "    collection_name=\"web\",\n",
    "    embedding_function=OpenAIEmbeddings(),\n",
    ").delete_collection()\n",
    "Chroma(\n",
    "    collection_name=\"web1\",\n",
    "    embedding_function=OpenAIEmbeddings(),\n",
    ").delete_collection()\n",
    "# Запускаем граф\n",
    "for i, step in enumerate(events):\n",
    "    node, output = next(iter(step.items()))\n",
    "    print(f\"## {i+1}. {node}\")\n",
    "    if node == \"draft\":\n",
    "        print(f\"Ответ: {output['current_answer']}\")\n",
    "    if node == \"reflect\":\n",
    "        print(f\"Критика: {output['reflection']}\")\n",
    "        print(f\"Что будем искать: {output['search_queries']}\")\n",
    "    if node == \"search\":\n",
    "        print(\"Произошел поиск\")\n",
    "    if node == \"revise\":\n",
    "        print(f\"Ответ: {output['current_answer']}\")\n",
    "\n",
    "    print(\"---\")\n"
   ]
  },
  {
   "cell_type": "code",
   "execution_count": 16,
   "metadata": {
    "collapsed": false
   },
   "outputs": [
    {
     "name": "stdout",
     "output_type": "stream",
     "text": [
      "Выиграет ли Дональд Трамп на выборах 2024 года? Ответ на этот вопрос зависит от множества факторов. Согласно последним данным, Дональд Трамп продолжает сохранять высокую поддержку среди республиканцев - около 67%. Однако, в ключевых штатах, таких как Айова и Нью-Гэмпшир, его поддержка ниже 50%, что оставляет возможность для других кандидатов получить поддержку. Потенциальный матч между Трампом и Байденом, согласно опросам, будет очень близким, и точный исход остается неизвестным из-за погрешности опросов.\n",
      "\n",
      "Существует множество факторов, которые могут повлиять на исход выборов 2024 года. Это включает уровень поддержки Дональда Трампа среди республиканцев, его популярность в ключевых штатах, таких как Айова и Нью-Гэмпшир, и возможное влияние решения Верховного суда США относительно абортов на молодых латиноамериканских избирателей. Также важно учитывать, как дезинформация, распространяемая через социальные сети, может влиять на политические настроения и поведение при голосовании латиноамериканцев.\n",
      "\n",
      "Экономические факторы, такие как решения Федеральной резервной системы (ФРС) и экономический рост, инфляция и безработица, также могут оказать влияние на выборы 2024 года. Согласно модели профессора Рэя Фаира из Йельского университета, экономика оказывает значительное влияние на результаты выборов. Если экономика сильна, это может способствовать победе демократов, однако устойчивая, но снижающаяся инфляция также дает шанс на победу республиканцам. Малые изменения в экономике могут оказать существенное влияние на результаты выборов, что ставит ФРС в сложное положение.\n",
      "\n",
      "Недавние события, влияющие на выборы 2024 года, включают усиление кампании Байдена по вопросам права на аборт во Флориде, где запрет штата связывают с Трампом. Планируемое родительство планирует увеличить финансирование демократов в Северной Каролине на 10 миллионов долларов, используя доступ к абортам в качестве ключевого вопроса. В Пенсильвании проводятся первичные выборы, где особое внимание привлекает конкурс между представителем Санмерой Ли и другими кандидатами. Президент Байден подчеркнул инвестиции в борьбу с изменением климата, выделив 7 миллиардов долларов на проекты в области солнечной энергии. Испытание Трампа связано с обыденностью зала суда, где он стремится создать образ величия и ощущения власти. Наконец, протесты между Израилем и Газой могут оказать влияние на Демократическую партию, особенно учитывая исторические столкновения между полицией и демонстрантами на национальной съезде демократов в 1968 году.\n",
      "\n",
      "Однако, последние скандалы, связанные с Трампом, могут повлиять на его шансы на победу. Он обвиняется в финансовой афере со стороны Генерального прокурора Нью-Йорка Летиции Джеймс, а также в использовании своего положения для изменения повестки дня и привлечения внимания к своим действиям. Общественное мнение о Трампе постепенно меняется, особенно среди менее партийных избирателей. Новые технологии и социальные медиа также могут оказать влияние на результаты выборов, включая манипуляцию данными голосования, социальными медиа и использование дипфейков.\n"
     ]
    }
   ],
   "source": [
    "print(f\"{step[END]['current_answer']}\")"
   ]
  },
  {
   "cell_type": "markdown",
   "metadata": {
    "collapsed": false
   },
   "source": [
    "# Выводы\n",
    "Из этого графа, можно построить ответы на вопросы по уже заготовленной векторной БД. Большую часть времени для формирования ответа занимает выгрузка страниц из гугла, их перевод. Если бы это делала rag-система, то время формирования ответа бы ускорилось.\n",
    "+ Можно использовать более легкие версии гигачата для формирования ответа"
   ]
  }
 ],
 "metadata": {
  "kernelspec": {
   "display_name": "Python 3",
   "language": "python",
   "name": "python3"
  },
  "language_info": {
   "codemirror_mode": {
    "name": "ipython",
    "version": 2
   },
   "file_extension": ".py",
   "mimetype": "text/x-python",
   "name": "python",
   "nbconvert_exporter": "python",
   "pygments_lexer": "ipython2",
   "version": "2.7.6"
  }
 },
 "nbformat": 4,
 "nbformat_minor": 0
}
